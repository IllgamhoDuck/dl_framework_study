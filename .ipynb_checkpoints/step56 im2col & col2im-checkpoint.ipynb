{
 "cells": [
  {
   "cell_type": "markdown",
   "metadata": {},
   "source": [
    "# im2col\n",
    "\n",
    "We learned about the archietecture of CNN<br>\n",
    "\n",
    "But if we implement with `for loop`, it will slow down the process.<br>\n",
    "So more efficiently we use `im2col` - **image to column**"
   ]
  },
  {
   "cell_type": "markdown",
   "metadata": {},
   "source": [
    "### Tensor Product\n",
    "\n",
    "Called as multiply-accumulate operation.<br>\n",
    "At numpy we can use 2 functions for tensor product\n",
    "\n",
    "- np.tensordot\n",
    "- np.einsum\n",
    "\n",
    "### Matrix Product\n",
    "\n",
    "**We will use this for convolution.** It use more memory but we can use the benefit of optimized matrix product of matrix library.\n",
    "\n",
    "- `3D Tensor block` - $Channel \\times H \\times W$\n",
    "- `Kernel block` - $Channel \\times KH \\times KW$\n",
    "\n",
    "$(C \\times H \\times W) \\otimes (C \\times KH \\times KW) \\rightarrow  (1 \\times OH \\times OW)$\n",
    "\n",
    "We have to split **Input (3D Tensor Block)** to $OH \\times OW$ number of $C \\times KH \\times KW$ size block\n",
    "\n",
    "---\n",
    "\n",
    "$C \\times H \\times W \\rightarrow (OH*OW \\times C*KH*KW)$"
   ]
  },
  {
   "cell_type": "markdown",
   "metadata": {},
   "source": [
    "## `im2col_array`"
   ]
  },
  {
   "cell_type": "code",
   "execution_count": 2,
   "metadata": {},
   "outputs": [],
   "source": [
    "from dezero.utils import pair, get_conv_outsize\n",
    "from dezero import cuda\n",
    "\n",
    "import numpy as np\n",
    "\n",
    "def im2col_array(img, kernel_size, stride, pad, to_matrix=True):\n",
    "    N, C, H, W = img.shape\n",
    "    KH, KW = pair(kernel_size)\n",
    "    SH, SW = pair(stride)\n",
    "    PH, PW = pair(pad)\n",
    "    \n",
    "    OH = get_conv_outsize(H, KH, SH, PH)\n",
    "    OW = get_conv_outsize(W, KW, SW, PW)\n",
    "    \n",
    "    xp = cuda.get_array_module(img)\n",
    "    if xp != np:\n",
    "        col = _im2col_gpu(img, kernel_size, stride, pad)\n",
    "    else:\n",
    "        img = np.pad(img,\n",
    "                    ((0, 0),  (0, 0), (PH, PH + SH - 1), (PW, PW + SW - 1)),\n",
    "                    mode = 'constant', constant_value=(0,))\n",
    "        col = np.ndarray((N, C, KH, KW, OH, OW), dtype=img.dtype)\n",
    "        \n",
    "        for j in range(KH):\n",
    "            j_lim = j + SH * OH\n",
    "            for i in range(KW):\n",
    "                i_lin = i + SW * OW\n",
    "                col[:, :, j, i, :, :] = img[:, :, j:j_lim:SH, i:i_lim:SW]\n",
    "                \n",
    "    if to_matrix:\n",
    "        # transpose((0, 4, 5, 1, 2, 3)) : (N, C, KH, KW, OH, OW) -> (N, OH, OW, C, KH, KW)\n",
    "        # reshape(N * OH *  OW, -1) : (N, OH, OW, C, KH, KW) -> (N*OH*OW, C*KH*KW)\n",
    "        col = col.transpose((0, 4, 5, 1, 2, 3)).reshape(N * OH * OW, -1)\n",
    "\n",
    "    return col"
   ]
  },
  {
   "cell_type": "markdown",
   "metadata": {},
   "source": [
    "### 🙂 What is going here :)?"
   ]
  },
  {
   "cell_type": "code",
   "execution_count": 23,
   "metadata": {},
   "outputs": [
    {
     "name": "stdout",
     "output_type": "stream",
     "text": [
      "5 5\n"
     ]
    }
   ],
   "source": [
    "H, W = 4, 4\n",
    "KH, KW = 2, 2\n",
    "SH, SW = 1, 1\n",
    "PH, PW = 1, 1\n",
    "\n",
    "OH = get_conv_outsize(H, KH, SH, PH)\n",
    "OW = get_conv_outsize(W, KW, SW, PW)\n",
    "\n",
    "print(OH, OW)"
   ]
  },
  {
   "cell_type": "code",
   "execution_count": 24,
   "metadata": {},
   "outputs": [
    {
     "name": "stdout",
     "output_type": "stream",
     "text": [
      "(2, 2, 5, 5)\n"
     ]
    }
   ],
   "source": [
    "img = np.array([[1, 2, 3, 4],\n",
    "                 [5, 6, 7, 8],\n",
    "                 [9, 10, 11, 12],\n",
    "                 [13, 14, 15, 16]])\n",
    "\n",
    "col = np.ndarray((KH, KW, OH, OW))\n",
    "print(col.shape)"
   ]
  },
  {
   "cell_type": "code",
   "execution_count": 25,
   "metadata": {},
   "outputs": [
    {
     "data": {
      "text/plain": [
       "array([[ 0,  0,  0,  0,  0,  0],\n",
       "       [ 0,  1,  2,  3,  4,  0],\n",
       "       [ 0,  5,  6,  7,  8,  0],\n",
       "       [ 0,  9, 10, 11, 12,  0],\n",
       "       [ 0, 13, 14, 15, 16,  0],\n",
       "       [ 0,  0,  0,  0,  0,  0]])"
      ]
     },
     "execution_count": 25,
     "metadata": {},
     "output_type": "execute_result"
    }
   ],
   "source": [
    "img = np.pad(img,\n",
    "                     ((PH, PH + SH - 1), (PW, PW + SW - 1)),\n",
    "                     mode='constant', constant_values=(0,))\n",
    "img"
   ]
  },
  {
   "cell_type": "code",
   "execution_count": 26,
   "metadata": {},
   "outputs": [
    {
     "data": {
      "text/plain": [
       "array([[[[ 0.,  0.,  0.,  0.,  0.],\n",
       "         [ 0.,  1.,  2.,  3.,  4.],\n",
       "         [ 0.,  5.,  6.,  7.,  8.],\n",
       "         [ 0.,  9., 10., 11., 12.],\n",
       "         [ 0., 13., 14., 15., 16.]],\n",
       "\n",
       "        [[ 0.,  0.,  0.,  0.,  0.],\n",
       "         [ 1.,  2.,  3.,  4.,  0.],\n",
       "         [ 5.,  6.,  7.,  8.,  0.],\n",
       "         [ 9., 10., 11., 12.,  0.],\n",
       "         [13., 14., 15., 16.,  0.]]],\n",
       "\n",
       "\n",
       "       [[[ 0.,  1.,  2.,  3.,  4.],\n",
       "         [ 0.,  5.,  6.,  7.,  8.],\n",
       "         [ 0.,  9., 10., 11., 12.],\n",
       "         [ 0., 13., 14., 15., 16.],\n",
       "         [ 0.,  0.,  0.,  0.,  0.]],\n",
       "\n",
       "        [[ 1.,  2.,  3.,  4.,  0.],\n",
       "         [ 5.,  6.,  7.,  8.,  0.],\n",
       "         [ 9., 10., 11., 12.,  0.],\n",
       "         [13., 14., 15., 16.,  0.],\n",
       "         [ 0.,  0.,  0.,  0.,  0.]]]])"
      ]
     },
     "execution_count": 26,
     "metadata": {},
     "output_type": "execute_result"
    }
   ],
   "source": [
    "for j in range(KH):\n",
    "    j_lim = j + SH * OH\n",
    "    for i in  range(KW):\n",
    "        i_lim = i + SW * OW\n",
    "        col[j, i, :, :] = img[j:j_lim:SH, i:i_lim:SW]\n",
    "col"
   ]
  },
  {
   "cell_type": "code",
   "execution_count": 27,
   "metadata": {},
   "outputs": [
    {
     "data": {
      "text/plain": [
       "array([[[[ 0.,  0.],\n",
       "         [ 0.,  1.]],\n",
       "\n",
       "        [[ 0.,  0.],\n",
       "         [ 1.,  2.]],\n",
       "\n",
       "        [[ 0.,  0.],\n",
       "         [ 2.,  3.]],\n",
       "\n",
       "        [[ 0.,  0.],\n",
       "         [ 3.,  4.]],\n",
       "\n",
       "        [[ 0.,  0.],\n",
       "         [ 4.,  0.]]],\n",
       "\n",
       "\n",
       "       [[[ 0.,  1.],\n",
       "         [ 0.,  5.]],\n",
       "\n",
       "        [[ 1.,  2.],\n",
       "         [ 5.,  6.]],\n",
       "\n",
       "        [[ 2.,  3.],\n",
       "         [ 6.,  7.]],\n",
       "\n",
       "        [[ 3.,  4.],\n",
       "         [ 7.,  8.]],\n",
       "\n",
       "        [[ 4.,  0.],\n",
       "         [ 8.,  0.]]],\n",
       "\n",
       "\n",
       "       [[[ 0.,  5.],\n",
       "         [ 0.,  9.]],\n",
       "\n",
       "        [[ 5.,  6.],\n",
       "         [ 9., 10.]],\n",
       "\n",
       "        [[ 6.,  7.],\n",
       "         [10., 11.]],\n",
       "\n",
       "        [[ 7.,  8.],\n",
       "         [11., 12.]],\n",
       "\n",
       "        [[ 8.,  0.],\n",
       "         [12.,  0.]]],\n",
       "\n",
       "\n",
       "       [[[ 0.,  9.],\n",
       "         [ 0., 13.]],\n",
       "\n",
       "        [[ 9., 10.],\n",
       "         [13., 14.]],\n",
       "\n",
       "        [[10., 11.],\n",
       "         [14., 15.]],\n",
       "\n",
       "        [[11., 12.],\n",
       "         [15., 16.]],\n",
       "\n",
       "        [[12.,  0.],\n",
       "         [16.,  0.]]],\n",
       "\n",
       "\n",
       "       [[[ 0., 13.],\n",
       "         [ 0.,  0.]],\n",
       "\n",
       "        [[13., 14.],\n",
       "         [ 0.,  0.]],\n",
       "\n",
       "        [[14., 15.],\n",
       "         [ 0.,  0.]],\n",
       "\n",
       "        [[15., 16.],\n",
       "         [ 0.,  0.]],\n",
       "\n",
       "        [[16.,  0.],\n",
       "         [ 0.,  0.]]]])"
      ]
     },
     "execution_count": 27,
     "metadata": {},
     "output_type": "execute_result"
    }
   ],
   "source": [
    "col = col.transpose((2, 3, 0, 1))\n",
    "col"
   ]
  },
  {
   "cell_type": "code",
   "execution_count": 28,
   "metadata": {},
   "outputs": [
    {
     "data": {
      "text/plain": [
       "array([[ 0.,  0.,  0.,  1.],\n",
       "       [ 0.,  0.,  1.,  2.],\n",
       "       [ 0.,  0.,  2.,  3.],\n",
       "       [ 0.,  0.,  3.,  4.],\n",
       "       [ 0.,  0.,  4.,  0.],\n",
       "       [ 0.,  1.,  0.,  5.],\n",
       "       [ 1.,  2.,  5.,  6.],\n",
       "       [ 2.,  3.,  6.,  7.],\n",
       "       [ 3.,  4.,  7.,  8.],\n",
       "       [ 4.,  0.,  8.,  0.],\n",
       "       [ 0.,  5.,  0.,  9.],\n",
       "       [ 5.,  6.,  9., 10.],\n",
       "       [ 6.,  7., 10., 11.],\n",
       "       [ 7.,  8., 11., 12.],\n",
       "       [ 8.,  0., 12.,  0.],\n",
       "       [ 0.,  9.,  0., 13.],\n",
       "       [ 9., 10., 13., 14.],\n",
       "       [10., 11., 14., 15.],\n",
       "       [11., 12., 15., 16.],\n",
       "       [12.,  0., 16.,  0.],\n",
       "       [ 0., 13.,  0.,  0.],\n",
       "       [13., 14.,  0.,  0.],\n",
       "       [14., 15.,  0.,  0.],\n",
       "       [15., 16.,  0.,  0.],\n",
       "       [16.,  0.,  0.,  0.]])"
      ]
     },
     "execution_count": 28,
     "metadata": {},
     "output_type": "execute_result"
    }
   ],
   "source": [
    "col = col.reshape(OH * OW, -1)\n",
    "col"
   ]
  },
  {
   "cell_type": "markdown",
   "metadata": {},
   "source": [
    "#### 🙂 `np.pad` for **4D Tensor**"
   ]
  },
  {
   "cell_type": "code",
   "execution_count": 9,
   "metadata": {},
   "outputs": [
    {
     "data": {
      "text/plain": [
       "array([[[[0., 0., 0., 0., 0., 0., 0.],\n",
       "         [0., 0., 0., 0., 0., 0., 0.],\n",
       "         [0., 0., 1., 1., 0., 0., 0.],\n",
       "         [0., 0., 1., 1., 0., 0., 0.],\n",
       "         [0., 0., 0., 0., 0., 0., 0.],\n",
       "         [0., 0., 0., 0., 0., 0., 0.],\n",
       "         [0., 0., 0., 0., 0., 0., 0.]],\n",
       "\n",
       "        [[0., 0., 0., 0., 0., 0., 0.],\n",
       "         [0., 0., 0., 0., 0., 0., 0.],\n",
       "         [0., 0., 1., 1., 0., 0., 0.],\n",
       "         [0., 0., 1., 1., 0., 0., 0.],\n",
       "         [0., 0., 0., 0., 0., 0., 0.],\n",
       "         [0., 0., 0., 0., 0., 0., 0.],\n",
       "         [0., 0., 0., 0., 0., 0., 0.]]],\n",
       "\n",
       "\n",
       "       [[[0., 0., 0., 0., 0., 0., 0.],\n",
       "         [0., 0., 0., 0., 0., 0., 0.],\n",
       "         [0., 0., 1., 1., 0., 0., 0.],\n",
       "         [0., 0., 1., 1., 0., 0., 0.],\n",
       "         [0., 0., 0., 0., 0., 0., 0.],\n",
       "         [0., 0., 0., 0., 0., 0., 0.],\n",
       "         [0., 0., 0., 0., 0., 0., 0.]],\n",
       "\n",
       "        [[0., 0., 0., 0., 0., 0., 0.],\n",
       "         [0., 0., 0., 0., 0., 0., 0.],\n",
       "         [0., 0., 1., 1., 0., 0., 0.],\n",
       "         [0., 0., 1., 1., 0., 0., 0.],\n",
       "         [0., 0., 0., 0., 0., 0., 0.],\n",
       "         [0., 0., 0., 0., 0., 0., 0.],\n",
       "         [0., 0., 0., 0., 0., 0., 0.]]]])"
      ]
     },
     "execution_count": 9,
     "metadata": {},
     "output_type": "execute_result"
    }
   ],
   "source": [
    "test_img = np.ones((2, 2, 2, 2))\n",
    "PH = PW = 2\n",
    "SH = SW = 2\n",
    "\n",
    "np.pad(test_img, ((0, 0), (0, 0), (PH, PH + SH - 1), (PW, PW + SW - 1)),\n",
    "      mode='constant', constant_values=(0,))"
   ]
  },
  {
   "cell_type": "markdown",
   "metadata": {},
   "source": [
    "#### 🙂 Why `np.pad(img, ((0, 0),  (0, 0), (PH, PH + SH - 1), (PW, PW + SW - 1)`\n",
    "\n",
    "The height of input size is `KH + (SH * (OH - 1))` but we can see max size of `j_lim` is `KH - 1 + SH * OH`.<br>\n",
    "- normal - `KH + SH * OH - SH` \n",
    "- j_lim - `KH + SH * OH - 1`\n",
    "---\n",
    "- difference - `SH - 1`\n",
    "\n",
    "\n",
    "So `j_lim` is bigger than normal about `SH - 1`.<br>\n",
    "So normally `np.pad` should be `((0, 0),  (0, 0), (PH, PH), (PW, PW))`<br>\n",
    "but we add `SH - 1` and `SW - 1` for each height and width.\n",
    "\n",
    "-> **((0, 0),  (0, 0), (PH, PH + `SH - 1`), (PW, PW + `SW - 1`))**"
   ]
  },
  {
   "cell_type": "markdown",
   "metadata": {},
   "source": [
    "#### 🙂 Difference between `np.array` and `np.ndarray`"
   ]
  },
  {
   "cell_type": "code",
   "execution_count": 16,
   "metadata": {},
   "outputs": [
    {
     "data": {
      "text/plain": [
       "array([2, 2, 2])"
      ]
     },
     "execution_count": 16,
     "metadata": {},
     "output_type": "execute_result"
    }
   ],
   "source": [
    "np.array((2, 2, 2))"
   ]
  },
  {
   "cell_type": "code",
   "execution_count": 10,
   "metadata": {},
   "outputs": [
    {
     "data": {
      "text/plain": [
       "array([[[0.0e+000, 0.0e+000],\n",
       "        [0.0e+000, 0.0e+000]],\n",
       "\n",
       "       [[9.9e-324, 1.5e-323],\n",
       "        [9.9e-324, 1.5e-323]]])"
      ]
     },
     "execution_count": 10,
     "metadata": {},
     "output_type": "execute_result"
    }
   ],
   "source": [
    "np.ndarray((2, 2, 2))"
   ]
  },
  {
   "cell_type": "markdown",
   "metadata": {},
   "source": [
    "#### 🙂 Array indexing `[:::]`"
   ]
  },
  {
   "cell_type": "code",
   "execution_count": 15,
   "metadata": {},
   "outputs": [
    {
     "data": {
      "text/plain": [
       "array([1, 3, 5])"
      ]
     },
     "execution_count": 15,
     "metadata": {},
     "output_type": "execute_result"
    }
   ],
   "source": [
    "np.array([1, 2, 3, 4, 5, 6, 7])[0:-1:2]"
   ]
  },
  {
   "cell_type": "markdown",
   "metadata": {},
   "source": [
    "#### 🙂 Why `j_lim = j + SH * OH` & `i_lim = i + SW * OW`\n",
    "\n",
    "> Our goal is **(N, C, H, W)** -> **(N, C, KH, KW, OH, OW)**\n",
    "\n",
    "We are going to fill `OH*OW` number of blocks at once!<br>\n",
    "Each block has `C*KH*KW` elements and we will loop through `KH` and `KW`.\n",
    "\n",
    "So `OH*OW` number of blocks will be filled through **height - j** and **row - i** respectively.<br>\n",
    "For each `j and i` of `OH*OW` number of blocks we have to loop `OH*OW` times at **original input tensor**!<br>\n",
    "\n",
    "If we fill value for height `j` for each block there are `OH` number of blocks for height<br>\n",
    "so `j + SH * OH` will be the last block's limit index of the **original input tensor**!<br>\n",
    "`i` will work the same as `j`.\n",
    "\n",
    "---\n",
    "\n",
    "If we say we have 4*4 shape block and stride is 2 and OH is 2!\n",
    "- `j = 0` - **j_im** is **4**\n",
    "    - So `j:j_lim:SH` is `0:4:2` -> **0, 2**\n",
    "- `j = 1` - **j_im** is **5**\n",
    "    - So `j:j_lim:SH` is `1:5:2` -> **1, 3**\n",
    "\n",
    "---\n",
    "\n",
    "So we get `j_lim = j + SH * OH` & `i_lim = i + SW * OW` for the `last block`'s **limit index** for height and width :)"
   ]
  },
  {
   "cell_type": "markdown",
   "metadata": {},
   "source": [
    "## `_im2col_gpu`\n",
    "\n",
    "### cupy.ElementwiseKernel\n",
    "\n",
    "- in_params (str) – Input argument list.\n",
    "- out_params (str) – Output argument list.\n",
    "- operation (str) – The body in the loop written in CUDA-C/C++.\n",
    "- name (str) – Name of the kernel function. It should be set for readability of the performance profiling."
   ]
  },
  {
   "cell_type": "code",
   "execution_count": 37,
   "metadata": {},
   "outputs": [],
   "source": [
    "def _im2col_gpu(img, kernel_size, stride, pad):\n",
    "    \"\"\"img2col function for GPU\n",
    "    \n",
    "    This code is ported form chainer:\n",
    "    https://github.com/chainer/chainer/blob/v6.4.0/chainer/utils/conv.py\n",
    "    \"\"\"\n",
    "    n, c, h, w = img.shape\n",
    "    kh, kw = pair(kernel_size)\n",
    "    sy, sx = pair(stride)\n",
    "    ph, pw = pair(pad)\n",
    "    \n",
    "    out_h = get_conv_outsize(h, kh, sy, ph)\n",
    "    out_w = get_conv_outsize(w, kw, sx, pw)\n",
    "    \n",
    "    dy, dx = 1, 1\n",
    "    col = cuda.cupy.empty((n, c, kh, kw, out_h, out_w), dtype=img.dtype)\n",
    "    \n",
    "    cuda.cupy.ElementwiseKernel(\n",
    "        'raw T img, int32 h, int32 w, int32 out_h, int32 out_w,'\n",
    "        'int32 kh, int32 kw, int32 sy, int32 sx, int32 ph, int32 pw,'\n",
    "        'int32 dy, int32 dx',\n",
    "        'T col',\n",
    "        '''\n",
    "            int c0 = i / (kh * kw * out_h * out_w);\n",
    "            int ky = i / (kw * out_h * out_w) % kh;\n",
    "            int kx = i / (out_h * out_w) % kw;\n",
    "            int out_y = i / out_w % out_h;\n",
    "            int out_x = i % out_w;\n",
    "            int in_y = ky * dy + out_y * sy - ph;\n",
    "            int in_x = kx * dx + out_x * sx - pw;\n",
    "            if (in_y >= 0 && in_y < h && in_x >= 0 && in_x < w){\n",
    "                col = img[in_x + w * (in_y + h * c0)]\n",
    "            } else {\n",
    "                col = 0;\n",
    "            }\n",
    "        ''',\n",
    "        'im2col')(img.reduced_view(),\n",
    "                 h, w, out_h, out_w, kh, kw, sy, sx, ph, pw, dy, dx, col)\n",
    "    \n",
    "    return col"
   ]
  },
  {
   "cell_type": "code",
   "execution_count": 79,
   "metadata": {},
   "outputs": [
    {
     "data": {
      "text/plain": [
       "array([ 1,  2,  3,  4,  5,  6,  7,  8,  9, 10, 11, 12, 13, 14, 15, 16])"
      ]
     },
     "execution_count": 79,
     "metadata": {},
     "output_type": "execute_result"
    }
   ],
   "source": [
    "import cupy as cp\n",
    "\n",
    "img = cp.array([[1, 2, 3, 4],\n",
    "                 [5, 6, 7, 8],\n",
    "                 [9, 10, 11, 12],\n",
    "                 [13, 14, 15, 16]])\n",
    "\n",
    "img.reduced_view()"
   ]
  },
  {
   "cell_type": "code",
   "execution_count": 80,
   "metadata": {},
   "outputs": [],
   "source": [
    "kernel_size = 2\n",
    "stride = 2\n",
    "pad = 1\n",
    "\n",
    "h, w = img.shape\n",
    "kh, kw = pair(kernel_size)\n",
    "sy, sx = pair(stride)\n",
    "ph, pw = pair(pad)\n",
    "\n",
    "out_h = get_conv_outsize(h, kh, sy, ph)\n",
    "out_w = get_conv_outsize(w, kw, sx, pw)\n",
    "\n",
    "dy, dx = 1, 1\n",
    "col = cuda.cupy.empty((kh, kw, out_h, out_w), dtype=img.dtype)"
   ]
  },
  {
   "cell_type": "code",
   "execution_count": 81,
   "metadata": {},
   "outputs": [
    {
     "data": {
      "text/plain": [
       "(3, 3)"
      ]
     },
     "execution_count": 81,
     "metadata": {},
     "output_type": "execute_result"
    }
   ],
   "source": [
    "out_h, out_w"
   ]
  },
  {
   "cell_type": "code",
   "execution_count": 82,
   "metadata": {},
   "outputs": [
    {
     "data": {
      "text/plain": [
       "(2, 2, 3, 3)"
      ]
     },
     "execution_count": 82,
     "metadata": {},
     "output_type": "execute_result"
    }
   ],
   "source": [
    "col.shape"
   ]
  },
  {
   "cell_type": "code",
   "execution_count": 83,
   "metadata": {},
   "outputs": [
    {
     "data": {
      "text/plain": [
       "36"
      ]
     },
     "execution_count": 83,
     "metadata": {},
     "output_type": "execute_result"
    }
   ],
   "source": [
    "col = col.reshape(-1)\n",
    "col_len = len(col)\n",
    "col_len"
   ]
  },
  {
   "cell_type": "code",
   "execution_count": 84,
   "metadata": {},
   "outputs": [
    {
     "data": {
      "text/plain": [
       "array([ 0,  0,  0,  0,  0,  0,  1,  2,  3,  4,  0,  5,  6,  7,  8,  0,  9,\n",
       "       10, 11, 12,  0, 13, 14, 15, 16,  0,  0,  0,  0,  0,  0,  0,  0,  0,\n",
       "        0,  0])"
      ]
     },
     "execution_count": 84,
     "metadata": {},
     "output_type": "execute_result"
    }
   ],
   "source": [
    "col"
   ]
  },
  {
   "cell_type": "code",
   "execution_count": 85,
   "metadata": {},
   "outputs": [
    {
     "data": {
      "text/plain": [
       "array([ 1,  2,  3,  4,  5,  6,  7,  8,  9, 10, 11, 12, 13, 14, 15, 16])"
      ]
     },
     "execution_count": 85,
     "metadata": {},
     "output_type": "execute_result"
    }
   ],
   "source": [
    "reduced_img = img.reduced_view()\n",
    "reduced_img"
   ]
  },
  {
   "cell_type": "markdown",
   "metadata": {},
   "source": [
    "When we write the `CUDA C/C++` Version code as `Python` it looks the following"
   ]
  },
  {
   "cell_type": "code",
   "execution_count": 86,
   "metadata": {},
   "outputs": [
    {
     "data": {
      "text/plain": [
       "array([ 0,  0,  0,  0,  6,  8,  0, 14, 16,  0,  0,  0,  5,  7,  0, 13, 15,\n",
       "        0,  0,  2,  4,  0, 10, 12,  0,  0,  0,  1,  3,  0,  9, 11,  0,  0,\n",
       "        0,  0])"
      ]
     },
     "execution_count": 86,
     "metadata": {},
     "output_type": "execute_result"
    }
   ],
   "source": [
    "for i in range(col_len):\n",
    "\n",
    "    c0 = i // (kh * kw * out_h * out_w)\n",
    "    ky = i // (kw * out_h * out_w) % kh\n",
    "    kx = i // (out_h * out_w) % kw\n",
    "\n",
    "    out_y = i // out_w % out_h\n",
    "    out_x = i % out_w\n",
    "\n",
    "    in_y = ky * dy + out_y * sy - ph\n",
    "    in_x = kx * dx + out_x * sx - pw\n",
    "\n",
    "    if in_y >= 0 and in_y < h and in_x >= 0 and in_x < w:\n",
    "        col[i] = reduced_img[in_x + w * (in_y + h * c0)]\n",
    "    else:\n",
    "        col[i] = 0\n",
    "col"
   ]
  },
  {
   "cell_type": "code",
   "execution_count": 87,
   "metadata": {},
   "outputs": [
    {
     "data": {
      "text/plain": [
       "array([[ 0,  0,  0,  1],\n",
       "       [ 0,  0,  2,  3],\n",
       "       [ 0,  0,  4,  0],\n",
       "       [ 0,  5,  0,  9],\n",
       "       [ 6,  7, 10, 11],\n",
       "       [ 8,  0, 12,  0],\n",
       "       [ 0, 13,  0,  0],\n",
       "       [14, 15,  0,  0],\n",
       "       [16,  0,  0,  0]])"
      ]
     },
     "execution_count": 87,
     "metadata": {},
     "output_type": "execute_result"
    }
   ],
   "source": [
    "col.reshape(2, 2, 3, 3).transpose(2, 3, 0, 1).reshape(out_h*out_w, kh*kw)"
   ]
  },
  {
   "cell_type": "markdown",
   "metadata": {},
   "source": [
    "### Compare with cpu calculation"
   ]
  },
  {
   "cell_type": "code",
   "execution_count": 91,
   "metadata": {},
   "outputs": [
    {
     "data": {
      "text/plain": [
       "array([[ 0,  0,  0,  0,  0,  0,  0],\n",
       "       [ 0,  1,  2,  3,  4,  0,  0],\n",
       "       [ 0,  5,  6,  7,  8,  0,  0],\n",
       "       [ 0,  9, 10, 11, 12,  0,  0],\n",
       "       [ 0, 13, 14, 15, 16,  0,  0],\n",
       "       [ 0,  0,  0,  0,  0,  0,  0],\n",
       "       [ 0,  0,  0,  0,  0,  0,  0]])"
      ]
     },
     "execution_count": 91,
     "metadata": {},
     "output_type": "execute_result"
    }
   ],
   "source": [
    "img = np.array([[1, 2, 3, 4],\n",
    "                 [5, 6, 7, 8],\n",
    "                 [9, 10, 11, 12],\n",
    "                 [13, 14, 15, 16]])\n",
    "\n",
    "img = np.pad(img,\n",
    "                     ((ph, ph + sy - 1), (pw, pw + sx - 1)),\n",
    "                     mode='constant', constant_values=(0,))\n",
    "img"
   ]
  },
  {
   "cell_type": "code",
   "execution_count": 92,
   "metadata": {},
   "outputs": [
    {
     "name": "stdout",
     "output_type": "stream",
     "text": [
      "(2, 2, 3, 3)\n"
     ]
    }
   ],
   "source": [
    "col = np.ndarray((kh, kw, out_h, out_w))\n",
    "print(col.shape)"
   ]
  },
  {
   "cell_type": "code",
   "execution_count": 93,
   "metadata": {},
   "outputs": [
    {
     "data": {
      "text/plain": [
       "array([[ 0.,  0.,  0.,  1.],\n",
       "       [ 0.,  0.,  2.,  3.],\n",
       "       [ 0.,  0.,  4.,  0.],\n",
       "       [ 0.,  5.,  0.,  9.],\n",
       "       [ 6.,  7., 10., 11.],\n",
       "       [ 8.,  0., 12.,  0.],\n",
       "       [ 0., 13.,  0.,  0.],\n",
       "       [14., 15.,  0.,  0.],\n",
       "       [16.,  0.,  0.,  0.]])"
      ]
     },
     "execution_count": 93,
     "metadata": {},
     "output_type": "execute_result"
    }
   ],
   "source": [
    "for j in range(kh):\n",
    "    j_lim = j + sy * out_h\n",
    "    \n",
    "    for i in  range(kw):\n",
    "        i_lim = i + sx * out_w\n",
    "\n",
    "        col[j, i, :, :] = img[j:j_lim:sy, i:i_lim:sx]\n",
    "        \n",
    "col.transpose((2, 3, 0, 1)).reshape(out_h * out_w, -1)"
   ]
  },
  {
   "cell_type": "markdown",
   "metadata": {},
   "source": [
    "works the same :)!"
   ]
  },
  {
   "cell_type": "markdown",
   "metadata": {},
   "source": [
    "### Looking inside of calculation"
   ]
  },
  {
   "cell_type": "code",
   "execution_count": 157,
   "metadata": {},
   "outputs": [
    {
     "data": {
      "text/plain": [
       "array([ 1,  2,  3,  4,  5,  6,  7,  8,  9, 10, 11, 12, 13, 14, 15, 16])"
      ]
     },
     "execution_count": 157,
     "metadata": {},
     "output_type": "execute_result"
    }
   ],
   "source": [
    "import cupy as cp\n",
    "\n",
    "img = cp.array([[1, 2, 3, 4],\n",
    "                 [5, 6, 7, 8],\n",
    "                 [9, 10, 11, 12],\n",
    "                 [13, 14, 15, 16]])\n",
    "\n",
    "img.reduced_view()"
   ]
  },
  {
   "cell_type": "code",
   "execution_count": 158,
   "metadata": {},
   "outputs": [],
   "source": [
    "kernel_size = 2\n",
    "stride = 2\n",
    "pad = 1\n",
    "\n",
    "h, w = img.shape\n",
    "kh, kw = pair(kernel_size)\n",
    "sy, sx = pair(stride)\n",
    "ph, pw = pair(pad)\n",
    "\n",
    "out_h = get_conv_outsize(h, kh, sy, ph)\n",
    "out_w = get_conv_outsize(w, kw, sx, pw)\n",
    "\n",
    "dy, dx = 1, 1\n",
    "col = cuda.cupy.empty((kh, kw, out_h, out_w), dtype=img.dtype)"
   ]
  },
  {
   "cell_type": "markdown",
   "metadata": {},
   "source": [
    "**col loop** is movie through the following step\n",
    "1. out_w\n",
    "2. out_h\n",
    "3. kw\n",
    "4. kh\n",
    "\n",
    "---\n",
    "\n",
    "and further\n",
    "\n",
    "5. c\n",
    "6. n"
   ]
  },
  {
   "cell_type": "markdown",
   "metadata": {},
   "source": [
    "**`col tensor flatten i` to `col tensor index` mapping**\n",
    "\n",
    "- i -> `(n, c, kh, kw, out_h, out_w)`"
   ]
  },
  {
   "cell_type": "code",
   "execution_count": 188,
   "metadata": {},
   "outputs": [],
   "source": [
    "i = 0"
   ]
  },
  {
   "cell_type": "code",
   "execution_count": 189,
   "metadata": {},
   "outputs": [
    {
     "data": {
      "text/plain": [
       "0"
      ]
     },
     "execution_count": 189,
     "metadata": {},
     "output_type": "execute_result"
    }
   ],
   "source": [
    "# N, channel index\n",
    "# for example R : 0 G : 1 B : 2 \n",
    "c0 = i // (kh * kw * out_h * out_w)\n",
    "c0"
   ]
  },
  {
   "cell_type": "code",
   "execution_count": 190,
   "metadata": {},
   "outputs": [
    {
     "data": {
      "text/plain": [
       "0"
      ]
     },
     "execution_count": 190,
     "metadata": {},
     "output_type": "execute_result"
    }
   ],
   "source": [
    "# height index\n",
    "ky = i // (kw * out_h * out_w) % kh\n",
    "ky"
   ]
  },
  {
   "cell_type": "code",
   "execution_count": 191,
   "metadata": {},
   "outputs": [
    {
     "data": {
      "text/plain": [
       "0"
      ]
     },
     "execution_count": 191,
     "metadata": {},
     "output_type": "execute_result"
    }
   ],
   "source": [
    "# width index\n",
    "kx = i // (out_h * out_w) % kw\n",
    "kx"
   ]
  },
  {
   "cell_type": "code",
   "execution_count": 192,
   "metadata": {},
   "outputs": [
    {
     "data": {
      "text/plain": [
       "0"
      ]
     },
     "execution_count": 192,
     "metadata": {},
     "output_type": "execute_result"
    }
   ],
   "source": [
    "# col block index at h\n",
    "out_y = i // out_w % out_h\n",
    "out_y"
   ]
  },
  {
   "cell_type": "code",
   "execution_count": 193,
   "metadata": {},
   "outputs": [
    {
     "data": {
      "text/plain": [
       "0"
      ]
     },
     "execution_count": 193,
     "metadata": {},
     "output_type": "execute_result"
    }
   ],
   "source": [
    "# col block index at w\n",
    "out_x = i % out_w\n",
    "out_x"
   ]
  },
  {
   "cell_type": "markdown",
   "metadata": {},
   "source": [
    "We can know that if `i = 19` the **col tensor index is** - (n, 0, 1, 0, 0, 1)"
   ]
  },
  {
   "cell_type": "markdown",
   "metadata": {},
   "source": [
    "**`col tensor index` to `input tensor index` mapping**\n",
    "\n",
    "- We substract `ph` and `pw` because the standard of 0 is located at **original tensor** not **padded tensor**\n",
    "- If we pad **1** then **padded tensor** index start from **-1**\n",
    "- If we pad **3** then **padded tensor** index start from **-3**\n",
    "\n",
    "```python\n",
    "    if in_y >= 0 and in_y < h and in_x >= 0 and in_x < w:\n",
    "        \"-> when the index in_x and in_y is not at padded region we get the value from original!\"\n",
    "        col[i] = reduced_img[in_x + w * (in_y + h * c0)]\n",
    "    else:\n",
    "        \"padded value 0!\"\n",
    "        col[i] = 0\n",
    "```"
   ]
  },
  {
   "cell_type": "code",
   "execution_count": 194,
   "metadata": {},
   "outputs": [
    {
     "data": {
      "text/plain": [
       "-1"
      ]
     },
     "execution_count": 194,
     "metadata": {},
     "output_type": "execute_result"
    }
   ],
   "source": [
    "# input tensor index at h\n",
    "in_y = ky * dy + out_y * sy - ph\n",
    "in_y"
   ]
  },
  {
   "cell_type": "code",
   "execution_count": 195,
   "metadata": {},
   "outputs": [
    {
     "data": {
      "text/plain": [
       "-1"
      ]
     },
     "execution_count": 195,
     "metadata": {},
     "output_type": "execute_result"
    }
   ],
   "source": [
    "# input tensor index at w\n",
    "in_x = kx * dx + out_x * sx - pw\n",
    "in_x"
   ]
  },
  {
   "cell_type": "code",
   "execution_count": 197,
   "metadata": {},
   "outputs": [
    {
     "data": {
      "text/plain": [
       "-5"
      ]
     },
     "execution_count": 197,
     "metadata": {},
     "output_type": "execute_result"
    }
   ],
   "source": [
    "in_x + w * (in_y + h * c0)"
   ]
  },
  {
   "cell_type": "markdown",
   "metadata": {},
   "source": [
    "### `c0` covers (n, c) both!\n",
    "\n",
    "```python\n",
    "reduced_img[in_x + w * in_y + w * h * c0]\n",
    "- w index : in_x\n",
    "- h index : w * in_y\n",
    "- n, c index : w * h * c0\n",
    "    \n",
    "-> reduced_img[in_x + w * (in_y + h * c0)]\n",
    "\n",
    "```"
   ]
  },
  {
   "cell_type": "code",
   "execution_count": 218,
   "metadata": {},
   "outputs": [
    {
     "name": "stdout",
     "output_type": "stream",
     "text": [
      "i :  0,    in_x : -1,    in_y : -1,       col[i] = 0\n",
      "i :  1,    in_x :  1,    in_y : -1,       col[i] = 0\n",
      "i :  2,    in_x :  3,    in_y : -1,       col[i] = 0\n",
      "i :  3,    in_x : -1,    in_y :  1,       col[i] = 0\n",
      "i :  4,    in_x :  1,    in_y :  1,       col[i] = 6\n",
      "i :  5,    in_x :  3,    in_y :  1,       col[i] = 8\n",
      "i :  6,    in_x : -1,    in_y :  3,       col[i] = 0\n",
      "i :  7,    in_x :  1,    in_y :  3,       col[i] = 14\n",
      "i :  8,    in_x :  3,    in_y :  3,       col[i] = 16\n",
      "i :  9,    in_x :  0,    in_y : -1,       col[i] = 0\n",
      "i : 10,    in_x :  2,    in_y : -1,       col[i] = 0\n",
      "i : 11,    in_x :  4,    in_y : -1,       col[i] = 0\n",
      "i : 12,    in_x :  0,    in_y :  1,       col[i] = 5\n",
      "i : 13,    in_x :  2,    in_y :  1,       col[i] = 7\n",
      "i : 14,    in_x :  4,    in_y :  1,       col[i] = 0\n",
      "i : 15,    in_x :  0,    in_y :  3,       col[i] = 13\n",
      "i : 16,    in_x :  2,    in_y :  3,       col[i] = 15\n",
      "i : 17,    in_x :  4,    in_y :  3,       col[i] = 0\n",
      "i : 18,    in_x : -1,    in_y :  0,       col[i] = 0\n",
      "i : 19,    in_x :  1,    in_y :  0,       col[i] = 2\n",
      "i : 20,    in_x :  3,    in_y :  0,       col[i] = 4\n",
      "i : 21,    in_x : -1,    in_y :  2,       col[i] = 0\n",
      "i : 22,    in_x :  1,    in_y :  2,       col[i] = 10\n",
      "i : 23,    in_x :  3,    in_y :  2,       col[i] = 12\n",
      "i : 24,    in_x : -1,    in_y :  4,       col[i] = 0\n",
      "i : 25,    in_x :  1,    in_y :  4,       col[i] = 0\n",
      "i : 26,    in_x :  3,    in_y :  4,       col[i] = 0\n",
      "i : 27,    in_x :  0,    in_y :  0,       col[i] = 1\n",
      "i : 28,    in_x :  2,    in_y :  0,       col[i] = 3\n",
      "i : 29,    in_x :  4,    in_y :  0,       col[i] = 0\n",
      "i : 30,    in_x :  0,    in_y :  2,       col[i] = 9\n",
      "i : 31,    in_x :  2,    in_y :  2,       col[i] = 11\n"
     ]
    }
   ],
   "source": [
    "for i in range(32):\n",
    "    c0 = i // (kh * kw * out_h * out_w)\n",
    "    ky = i // (kw * out_h * out_w) % kh\n",
    "    kx = i // (out_h * out_w) % kw\n",
    "\n",
    "    out_y = i // out_w % out_h\n",
    "    out_x = i % out_w\n",
    "\n",
    "    in_y = ky * dy + out_y * sy - ph\n",
    "    in_x = kx * dx + out_x * sx - pw\n",
    "    \n",
    "    if in_y >= 0 and in_y < h and in_x >= 0 and in_x < w:\n",
    "        col[i] = reduced_img[in_x + w * (in_y + h * c0)]\n",
    "    else:\n",
    "        col[i] = 0\n",
    "        \n",
    "    print(f'i : {i:2},    in_x : {in_x:2},    in_y : {in_y:2},       col[i] = {col[i]}')"
   ]
  },
  {
   "cell_type": "code",
   "execution_count": 201,
   "metadata": {},
   "outputs": [
    {
     "data": {
      "text/plain": [
       "36"
      ]
     },
     "execution_count": 201,
     "metadata": {},
     "output_type": "execute_result"
    }
   ],
   "source": [
    "col = col.reshape(-1)\n",
    "col_len = len(col)\n",
    "col_len"
   ]
  },
  {
   "cell_type": "code",
   "execution_count": 151,
   "metadata": {},
   "outputs": [
    {
     "data": {
      "text/plain": [
       "array([ 1,  2,  3,  4,  5,  6,  7,  8,  9, 10, 11, 12, 13, 14, 15, 16])"
      ]
     },
     "execution_count": 151,
     "metadata": {},
     "output_type": "execute_result"
    }
   ],
   "source": [
    "reduced_img = img.reduced_view()\n",
    "reduced_img"
   ]
  },
  {
   "cell_type": "code",
   "execution_count": 152,
   "metadata": {},
   "outputs": [
    {
     "data": {
      "text/plain": [
       "array([ 0,  0,  0,  0,  6,  8,  0, 14, 16,  0,  0,  0,  5,  7,  0, 13, 15,\n",
       "        0,  0,  2,  4,  0, 10, 12,  0,  0,  0,  1,  3,  0,  9, 11,  0,  0,\n",
       "        0,  0])"
      ]
     },
     "execution_count": 152,
     "metadata": {},
     "output_type": "execute_result"
    }
   ],
   "source": [
    "for i in range(col_len):\n",
    "\n",
    "    c0 = i // (kh * kw * out_h * out_w)\n",
    "    ky = i // (kw * out_h * out_w) % kh\n",
    "    kx = i // (out_h * out_w) % kw\n",
    "\n",
    "    out_y = i // out_w % out_h\n",
    "    out_x = i % out_w\n",
    "\n",
    "    in_y = ky * dy + out_y * sy - ph\n",
    "    in_x = kx * dx + out_x * sx - pw\n",
    "\n",
    "    if in_y >= 0 and in_y < h and in_x >= 0 and in_x < w:\n",
    "        col[i] = reduced_img[in_x + w * (in_y + h * c0)]\n",
    "    else:\n",
    "        col[i] = 0\n",
    "\n",
    "col"
   ]
  },
  {
   "cell_type": "code",
   "execution_count": 153,
   "metadata": {
    "scrolled": true
   },
   "outputs": [
    {
     "data": {
      "text/plain": [
       "array([[ 0,  0,  0,  1],\n",
       "       [ 0,  0,  2,  3],\n",
       "       [ 0,  0,  4,  0],\n",
       "       [ 0,  5,  0,  9],\n",
       "       [ 6,  7, 10, 11],\n",
       "       [ 8,  0, 12,  0],\n",
       "       [ 0, 13,  0,  0],\n",
       "       [14, 15,  0,  0],\n",
       "       [16,  0,  0,  0]])"
      ]
     },
     "execution_count": 153,
     "metadata": {},
     "output_type": "execute_result"
    }
   ],
   "source": [
    "col.reshape(2, 2, 3, 3).transpose(2, 3, 0, 1).reshape(out_h*out_w, kh*kw)"
   ]
  },
  {
   "cell_type": "markdown",
   "metadata": {},
   "source": [
    "## `col2im_array`"
   ]
  },
  {
   "cell_type": "code",
   "execution_count": 1,
   "metadata": {},
   "outputs": [],
   "source": [
    "def col2im_array(col, img_shape, kernel_size, stride, pad, to_matrix=True):\n",
    "    N, C, H, W = img_shape\n",
    "    KH, KW = pair(kernel_size)\n",
    "    SH, SW = pair(stride)\n",
    "    PH, PW = pair(pad)\n",
    "    \n",
    "    OH = get_conv_outsize(H, KH, SH, PH)\n",
    "    OW = get_conv_outsize(W, KW, SW, PW)\n",
    "    \n",
    "    if to_matrix:\n",
    "        col = col.reshape(N, OH, OW, C, KH, KW).transpose(0, 3, 4, 5, 1, 2)\n",
    "        \n",
    "    xp = cuda.get_array_module(col)\n",
    "    if xp != np:\n",
    "        img = _col2im_gpu(col, SH, SW, PH, PW, H, W)\n",
    "    else:\n",
    "        img = np.zeros((N, C, H + 2 * PH + SH - 1, W + 2 * PW + SW - 1),\n",
    "                      dtype=col.dtype)\n",
    "        \n",
    "        for j in range(KH):\n",
    "            j_lim = j + SH * OH\n",
    "            for i in range(KW):\n",
    "                i_lim = i + SH * OH\n",
    "                \n",
    "                img[:, :, j:j_lim:SH, i:i_lim:SW] += col[:, :, j, i, :, :]\n",
    "                \n",
    "        return img[:, :, PH:H + PH, PW:W + PW]"
   ]
  },
  {
   "cell_type": "markdown",
   "metadata": {},
   "source": [
    "### `im2col` & `col2im` works similar\n",
    "\n",
    "1.  img shape - `(N, C, H, W)` -> `(N, C, H + 2 * PH + SH - 1, W + 2 * PW + SW - 1)`\n",
    "    - **im2col** : modify input\n",
    "    ```python\n",
    "    np.pad(img, ((0, 0), (0, 0), (PH, PH + SH - 1), (PW, PW + SW - 1)),\n",
    "                     mode='constant', constant_values=(0,))\n",
    "    ```\n",
    "    - **col2im** : make new tensor\n",
    "    ```python\n",
    "np.zeros((N, C, H + 2 * PH + SH - 1, W + 2 * PW + SW - 1),\n",
    "                       dtype=col.dtype)\n",
    "```\n",
    "2. col shape - `(N, C, KH, KW, OH, OW)`\n",
    "    - **im2col** : make new tensor\n",
    "    ```python\n",
    "np.ndarray((N, C, KH, KW, OH, OW), dtype=img.dtype)\n",
    "```\n",
    "    - **col2im** : modify input\n",
    "\n",
    "3. Transfer the value\n",
    "    - **common**\n",
    "    ```python\n",
    "for j in range(KH):\n",
    "            j_lim = j + SH * OH\n",
    "            for i in range(KW):\n",
    "                i_lim = i + SW * OW\n",
    "```\n",
    "    - **im2col** : move value from `img` to `col`\n",
    "    ```python\n",
    "col[:, :, j, i, :, :] = img[:, :, j:j_lim:SH, i:i_lim:SW]\n",
    "```\n",
    "    - **col2im** : add value from `col` to `img`\n",
    "        ```python\n",
    "img[:, :, j:j_lim:SH, i:i_lim:SW] += col[:, :, j, i, :, :]\n",
    "```"
   ]
  },
  {
   "cell_type": "markdown",
   "metadata": {},
   "source": [
    "### 🙂 What is going here :)?"
   ]
  },
  {
   "cell_type": "code",
   "execution_count": 9,
   "metadata": {},
   "outputs": [
    {
     "data": {
      "text/plain": [
       "array([[ 0.,  0.,  0.,  1.],\n",
       "       [ 0.,  0.,  1.,  2.],\n",
       "       [ 0.,  0.,  2.,  3.],\n",
       "       [ 0.,  0.,  3.,  4.],\n",
       "       [ 0.,  0.,  4.,  0.],\n",
       "       [ 0.,  1.,  0.,  5.],\n",
       "       [ 1.,  2.,  5.,  6.],\n",
       "       [ 2.,  3.,  6.,  7.],\n",
       "       [ 3.,  4.,  7.,  8.],\n",
       "       [ 4.,  0.,  8.,  0.],\n",
       "       [ 0.,  5.,  0.,  9.],\n",
       "       [ 5.,  6.,  9., 10.],\n",
       "       [ 6.,  7., 10., 11.],\n",
       "       [ 7.,  8., 11., 12.],\n",
       "       [ 8.,  0., 12.,  0.],\n",
       "       [ 0.,  9.,  0., 13.],\n",
       "       [ 9., 10., 13., 14.],\n",
       "       [10., 11., 14., 15.],\n",
       "       [11., 12., 15., 16.],\n",
       "       [12.,  0., 16.,  0.],\n",
       "       [ 0., 13.,  0.,  0.],\n",
       "       [13., 14.,  0.,  0.],\n",
       "       [14., 15.,  0.,  0.],\n",
       "       [15., 16.,  0.,  0.],\n",
       "       [16.,  0.,  0.,  0.]])"
      ]
     },
     "execution_count": 9,
     "metadata": {},
     "output_type": "execute_result"
    }
   ],
   "source": [
    "col"
   ]
  },
  {
   "cell_type": "code",
   "execution_count": 11,
   "metadata": {},
   "outputs": [
    {
     "data": {
      "text/plain": [
       "array([[[[ 0.,  0.],\n",
       "         [ 0.,  1.]],\n",
       "\n",
       "        [[ 0.,  0.],\n",
       "         [ 1.,  2.]],\n",
       "\n",
       "        [[ 0.,  0.],\n",
       "         [ 2.,  3.]],\n",
       "\n",
       "        [[ 0.,  0.],\n",
       "         [ 3.,  4.]],\n",
       "\n",
       "        [[ 0.,  0.],\n",
       "         [ 4.,  0.]]],\n",
       "\n",
       "\n",
       "       [[[ 0.,  1.],\n",
       "         [ 0.,  5.]],\n",
       "\n",
       "        [[ 1.,  2.],\n",
       "         [ 5.,  6.]],\n",
       "\n",
       "        [[ 2.,  3.],\n",
       "         [ 6.,  7.]],\n",
       "\n",
       "        [[ 3.,  4.],\n",
       "         [ 7.,  8.]],\n",
       "\n",
       "        [[ 4.,  0.],\n",
       "         [ 8.,  0.]]],\n",
       "\n",
       "\n",
       "       [[[ 0.,  5.],\n",
       "         [ 0.,  9.]],\n",
       "\n",
       "        [[ 5.,  6.],\n",
       "         [ 9., 10.]],\n",
       "\n",
       "        [[ 6.,  7.],\n",
       "         [10., 11.]],\n",
       "\n",
       "        [[ 7.,  8.],\n",
       "         [11., 12.]],\n",
       "\n",
       "        [[ 8.,  0.],\n",
       "         [12.,  0.]]],\n",
       "\n",
       "\n",
       "       [[[ 0.,  9.],\n",
       "         [ 0., 13.]],\n",
       "\n",
       "        [[ 9., 10.],\n",
       "         [13., 14.]],\n",
       "\n",
       "        [[10., 11.],\n",
       "         [14., 15.]],\n",
       "\n",
       "        [[11., 12.],\n",
       "         [15., 16.]],\n",
       "\n",
       "        [[12.,  0.],\n",
       "         [16.,  0.]]],\n",
       "\n",
       "\n",
       "       [[[ 0., 13.],\n",
       "         [ 0.,  0.]],\n",
       "\n",
       "        [[13., 14.],\n",
       "         [ 0.,  0.]],\n",
       "\n",
       "        [[14., 15.],\n",
       "         [ 0.,  0.]],\n",
       "\n",
       "        [[15., 16.],\n",
       "         [ 0.,  0.]],\n",
       "\n",
       "        [[16.,  0.],\n",
       "         [ 0.,  0.]]]])"
      ]
     },
     "execution_count": 11,
     "metadata": {},
     "output_type": "execute_result"
    }
   ],
   "source": [
    "col = col.reshape(OH, OW, KH, KW)\n",
    "col"
   ]
  },
  {
   "cell_type": "code",
   "execution_count": 13,
   "metadata": {},
   "outputs": [
    {
     "data": {
      "text/plain": [
       "array([[[[ 0.,  0.,  0.,  0.,  0.],\n",
       "         [ 0.,  1.,  2.,  3.,  4.],\n",
       "         [ 0.,  5.,  6.,  7.,  8.],\n",
       "         [ 0.,  9., 10., 11., 12.],\n",
       "         [ 0., 13., 14., 15., 16.]],\n",
       "\n",
       "        [[ 0.,  0.,  0.,  0.,  0.],\n",
       "         [ 1.,  2.,  3.,  4.,  0.],\n",
       "         [ 5.,  6.,  7.,  8.,  0.],\n",
       "         [ 9., 10., 11., 12.,  0.],\n",
       "         [13., 14., 15., 16.,  0.]]],\n",
       "\n",
       "\n",
       "       [[[ 0.,  1.,  2.,  3.,  4.],\n",
       "         [ 0.,  5.,  6.,  7.,  8.],\n",
       "         [ 0.,  9., 10., 11., 12.],\n",
       "         [ 0., 13., 14., 15., 16.],\n",
       "         [ 0.,  0.,  0.,  0.,  0.]],\n",
       "\n",
       "        [[ 1.,  2.,  3.,  4.,  0.],\n",
       "         [ 5.,  6.,  7.,  8.,  0.],\n",
       "         [ 9., 10., 11., 12.,  0.],\n",
       "         [13., 14., 15., 16.,  0.],\n",
       "         [ 0.,  0.,  0.,  0.,  0.]]]])"
      ]
     },
     "execution_count": 13,
     "metadata": {},
     "output_type": "execute_result"
    }
   ],
   "source": [
    "col = col.transpose(2, 3, 0, 1)\n",
    "col"
   ]
  },
  {
   "cell_type": "code",
   "execution_count": 14,
   "metadata": {},
   "outputs": [
    {
     "data": {
      "text/plain": [
       "array([[0., 0., 0., 0., 0., 0.],\n",
       "       [0., 0., 0., 0., 0., 0.],\n",
       "       [0., 0., 0., 0., 0., 0.],\n",
       "       [0., 0., 0., 0., 0., 0.],\n",
       "       [0., 0., 0., 0., 0., 0.],\n",
       "       [0., 0., 0., 0., 0., 0.]])"
      ]
     },
     "execution_count": 14,
     "metadata": {},
     "output_type": "execute_result"
    }
   ],
   "source": [
    "img = np.zeros((H + 2 * PH + SH - 1, W + 2 * PW + SW - 1), dtype=col.dtype)\n",
    "img"
   ]
  },
  {
   "cell_type": "code",
   "execution_count": 16,
   "metadata": {},
   "outputs": [],
   "source": [
    "for j in range(KH):\n",
    "    j_lim = j + SH * OH\n",
    "    for i in range(KW):\n",
    "        i_lim = i + SW * OW\n",
    "        img[j:j_lim:SH, i:i_lim:SW] += col[j, i, :, :]"
   ]
  },
  {
   "cell_type": "code",
   "execution_count": 17,
   "metadata": {},
   "outputs": [
    {
     "data": {
      "text/plain": [
       "array([[ 0.,  0.,  0.,  0.,  0.,  0.],\n",
       "       [ 0.,  4.,  8., 12., 16.,  0.],\n",
       "       [ 0., 20., 24., 28., 32.,  0.],\n",
       "       [ 0., 36., 40., 44., 48.,  0.],\n",
       "       [ 0., 52., 56., 60., 64.,  0.],\n",
       "       [ 0.,  0.,  0.,  0.,  0.,  0.]])"
      ]
     },
     "execution_count": 17,
     "metadata": {},
     "output_type": "execute_result"
    }
   ],
   "source": [
    "img"
   ]
  },
  {
   "cell_type": "code",
   "execution_count": 20,
   "metadata": {},
   "outputs": [
    {
     "data": {
      "text/plain": [
       "array([[ 4.,  8., 12., 16.],\n",
       "       [20., 24., 28., 32.],\n",
       "       [36., 40., 44., 48.],\n",
       "       [52., 56., 60., 64.]])"
      ]
     },
     "execution_count": 20,
     "metadata": {},
     "output_type": "execute_result"
    }
   ],
   "source": [
    "result = img[PH:H + PH, PW:W + PW]\n",
    "result"
   ]
  },
  {
   "cell_type": "markdown",
   "metadata": {},
   "source": [
    "### `col2im` is used at **back propagation** so it accumulates the gradients!"
   ]
  },
  {
   "cell_type": "code",
   "execution_count": 21,
   "metadata": {},
   "outputs": [
    {
     "data": {
      "text/plain": [
       "array([[ 1.,  2.,  3.,  4.],\n",
       "       [ 5.,  6.,  7.,  8.],\n",
       "       [ 9., 10., 11., 12.],\n",
       "       [13., 14., 15., 16.]])"
      ]
     },
     "execution_count": 21,
     "metadata": {},
     "output_type": "execute_result"
    }
   ],
   "source": [
    "result / 4"
   ]
  },
  {
   "cell_type": "markdown",
   "metadata": {},
   "source": [
    "## `_col2im_gpu`\n",
    "\n",
    "### cupy.ElementwiseKernel\n",
    "\n",
    "- in_params (str) – Input argument list.\n",
    "- out_params (str) – Output argument list.\n",
    "- operation (str) – The body in the loop written in CUDA-C/C++.\n",
    "- name (str) – Name of the kernel function. It should be set for readability of the performance profiling."
   ]
  },
  {
   "cell_type": "code",
   "execution_count": 48,
   "metadata": {},
   "outputs": [],
   "source": [
    "def _col2im_gpu(col, sy, sx, ph, pw, h, w):\n",
    "    \"\"\"col2im function for GPU.\n",
    "    This code is ported from Chainer:\n",
    "    https://github.com/chainer/chainer/blob/v6.4.0/chainer/utils/conv.py\n",
    "    \"\"\"\n",
    "    n, c, kh, kw, out_h, out_w = col.shape\n",
    "    dx, dy = 1, 1\n",
    "    img = cuda.cupy.empty((n, c, h, w), dtype=col.dtype)\n",
    "    \n",
    "    cuda.cupy.ElementwiseKernel(\n",
    "        'raw T col, int32 h, int32 w, int32 out_h, int32 out_w, '\n",
    "        'int32 kh, int32 kw, int32 sy, int32 sx, int32 ph, int32 pw,'\n",
    "        'int32 dx, int32 dy',\n",
    "        'T img',\n",
    "        '''\n",
    "            int c0 = i / (h * w);\n",
    "            int y = i / w % h;\n",
    "            int x = i % w;\n",
    "            \n",
    "            T val = 0;\n",
    "            \n",
    "            for (int ky = 0; ky < kh; ++ky){\n",
    "                int out_y = (y + ph - ky * dy);\n",
    "                if (0 > out_y || out_y >= out_h * sy) continue;\n",
    "                if (out_y % sy != 0) continue;\n",
    "                out_y /= sy;\n",
    "                \n",
    "                for (int kx = 0; kx < kw; ++kx){\n",
    "                    int out_x = (x + pw - kx * dx)\n",
    "                    if (0 > out_x || out_x >= out_w * sx) continue;\n",
    "                    if (out_x % sx != 0) continue;\n",
    "                    out_x /= sx;\n",
    "                    \n",
    "                    int k = out_y + out_h * (kx + kw * (ky + kh * c0));\n",
    "                    val = val + col[out_x + out_w * k];\n",
    "                }\n",
    "            }\n",
    "            img = val;\n",
    "          \n",
    "        ''',\n",
    "        'col2im')(col.reduced_view(),\n",
    "                  h, w, out_h, out_w, kh, kw, sy, sx, ph, pw, dx, dy, img)\n",
    "\n",
    "    return img"
   ]
  },
  {
   "cell_type": "markdown",
   "metadata": {},
   "source": [
    "\n",
    "**img loop** is movie through the following step\n",
    "1. w\n",
    "2. h\n",
    "\n",
    "---\n",
    "\n",
    "and further\n",
    "\n",
    "3. c\n",
    "4. n"
   ]
  },
  {
   "cell_type": "markdown",
   "metadata": {},
   "source": [
    "**`img tensor flatten i` to `img tensor index` mapping**\n",
    "\n",
    "- i -> `(n, c, h, w)`"
   ]
  },
  {
   "cell_type": "code",
   "execution_count": 36,
   "metadata": {},
   "outputs": [],
   "source": [
    "i = 19"
   ]
  },
  {
   "cell_type": "code",
   "execution_count": 37,
   "metadata": {
    "scrolled": true
   },
   "outputs": [
    {
     "data": {
      "text/plain": [
       "0"
      ]
     },
     "execution_count": 37,
     "metadata": {},
     "output_type": "execute_result"
    }
   ],
   "source": [
    "# N, channel index\n",
    "# for example R : 0 G : 1 B : 2 \n",
    "c0 = i // (h * w)\n",
    "c0"
   ]
  },
  {
   "cell_type": "code",
   "execution_count": 38,
   "metadata": {},
   "outputs": [
    {
     "data": {
      "text/plain": [
       "3"
      ]
     },
     "execution_count": 38,
     "metadata": {},
     "output_type": "execute_result"
    }
   ],
   "source": [
    "# image height index\n",
    "y = i // w % h\n",
    "y"
   ]
  },
  {
   "cell_type": "code",
   "execution_count": 39,
   "metadata": {},
   "outputs": [
    {
     "data": {
      "text/plain": [
       "1"
      ]
     },
     "execution_count": 39,
     "metadata": {},
     "output_type": "execute_result"
    }
   ],
   "source": [
    "# image width index\n",
    "x = i % w\n",
    "x"
   ]
  },
  {
   "cell_type": "markdown",
   "metadata": {},
   "source": [
    "We can know that if `i = 19` the **img tensor index is** - (n, 0, 3, 1)"
   ]
  },
  {
   "cell_type": "markdown",
   "metadata": {},
   "source": [
    "**Find which `col tensor index` is affected by `img tensor index`**\n",
    "\n",
    "---\n",
    "- If we assume **img tensor index** is `y = 3, x = 1`\n",
    "    - Current `Img tensor index` doesn't consider **padding**\n",
    "    - Input tensor is considered as padded so we add the `pad`\n",
    "    - **padded_y = 3 + `ph`, padded_x = 1 + `pw`**\n",
    "\n",
    "---\n",
    "\n",
    "- Iterate through **Kernel height & width** `kh, kw`\n",
    "    - Check could this **kernel index** `ky, kx` could reach the `padded_y, padded_x` while **convolution process** at Input tensor?\n",
    "        1. substract `padded_y, padded_x` with `ky, kx` to get the relative distance\n",
    "            - **relative_y = padded_y - ky = y + ph - ky**\n",
    "            - **relative_x = padded_x - kx = x + pw - kx** \n",
    "        2. Check is relative value out of **col tensor block index**\n",
    "            - Normally we should divide relative value by stride and compare\n",
    "            - For **computational efficiency** we multiply the stride to kernel index and compare\n",
    "        3. Check is relative value is multiple of stride\n",
    "            - If not (**relative_y % sy != 0**), then current kernel index is not valid\n",
    "\n",
    "```python\n",
    "for ky in range(kh):\n",
    "    out_y = (y + ph - ky * dy)\n",
    "    \n",
    "    if (0 > out_y) or (out_y >= out_h * sy):\n",
    "        continue\n",
    "    if (out_y % sy != 0):\n",
    "        continue\n",
    "\n",
    "    out_y //= sy\n",
    "    \n",
    "    for kx in range(kw):\n",
    "        out_x = (x + pw - kx * dx)\n",
    "\n",
    "        if (0 > out_x) or (out_x >= out_w * sx):\n",
    "            continue\n",
    "        if (out_x % sx != 0):\n",
    "            continue\n",
    "\n",
    "        out_x //= sx\n",
    "```\n",
    "\n",
    "---\n",
    "- Get `col tensor value` at **available index** while iterating above\n",
    "    - Information from above calculation\n",
    "        - **c0** : represents (n, c)\n",
    "        - **ky, kx, out_x, out_y**\n",
    "    - Get the value from `col tensor`\n",
    "\n",
    "\n",
    "```python\n",
    "col[out_x +\n",
    "      out_w * out_y +\n",
    "      out_h * out_w * kx +\n",
    "      kw * out_h * out_w * ky +\n",
    "      kh * kw * out_h * out_w * c0]\n",
    "\n",
    "- \"out_w index\" : out_x\n",
    "- \"out_h index\" : out_w * out_y\n",
    "    \n",
    "- \"kw index\" : out_h * out_w * kx\n",
    "- \"kh index\" : kw * out_h * out_w * ky\n",
    "    \n",
    "- \"n, c index\" : kh * kw * out_h * out_w * c0\n",
    "    \n",
    "-> col[out_x + out_w * (out_y + out_h * kx + kw * out_h * ky + kh * kw * out_h * c0)]\n",
    "-> col[out_x + out_w * (out_y + out_h * (kx + kw * ky + kh * kw * c0))]\n",
    "-> col[out_x + out_w * (out_y + out_h * (kx + kw * (ky + kh * c0)))]\n",
    "\n",
    "\"If k = out_y + out_h * (kx + kw * (ky + kh * c0))\"\n",
    "\n",
    "-> col[out_x + out_w * k]\n",
    "\n",
    "```"
   ]
  },
  {
   "cell_type": "markdown",
   "metadata": {},
   "source": [
    "---\n",
    "- Collect the values to `val` variable\n",
    "\n",
    "```python\n",
    "    int k = out_y + out_h * (kx + kw * (ky + kh * c0))\n",
    "    val = val + col[out_x + out_w * k]\n",
    "```\n",
    "\n",
    "---\n",
    "- Assing the collected `val` value to **img tensor index** \n",
    "\n",
    "```python\n",
    "    img[i] = val\n",
    "```"
   ]
  },
  {
   "cell_type": "code",
   "execution_count": 57,
   "metadata": {
    "scrolled": false
   },
   "outputs": [
    {
     "data": {
      "text/plain": [
       "array([[ 0.,  0.,  0.,  1.],\n",
       "       [ 0.,  0.,  1.,  2.],\n",
       "       [ 0.,  0.,  2.,  3.],\n",
       "       [ 0.,  0.,  3.,  4.],\n",
       "       [ 0.,  0.,  4.,  0.],\n",
       "       [ 0.,  1.,  0.,  5.],\n",
       "       [ 1.,  2.,  5.,  6.],\n",
       "       [ 2.,  3.,  6.,  7.],\n",
       "       [ 3.,  4.,  7.,  8.],\n",
       "       [ 4.,  0.,  8.,  0.],\n",
       "       [ 0.,  5.,  0.,  9.],\n",
       "       [ 5.,  6.,  9., 10.],\n",
       "       [ 6.,  7., 10., 11.],\n",
       "       [ 7.,  8., 11., 12.],\n",
       "       [ 8.,  0., 12.,  0.],\n",
       "       [ 0.,  9.,  0., 13.],\n",
       "       [ 9., 10., 13., 14.],\n",
       "       [10., 11., 14., 15.],\n",
       "       [11., 12., 15., 16.],\n",
       "       [12.,  0., 16.,  0.],\n",
       "       [ 0., 13.,  0.,  0.],\n",
       "       [13., 14.,  0.,  0.],\n",
       "       [14., 15.,  0.,  0.],\n",
       "       [15., 16.,  0.,  0.],\n",
       "       [16.,  0.,  0.,  0.]])"
      ]
     },
     "execution_count": 57,
     "metadata": {},
     "output_type": "execute_result"
    }
   ],
   "source": [
    "import cupy as cp\n",
    "\n",
    "kernel_size = 2\n",
    "stride = 1\n",
    "pad = 1\n",
    "\n",
    "h, w = 4, 4\n",
    "kh, kw = pair(kernel_size)\n",
    "sy, sx = pair(stride)\n",
    "ph, pw = pair(pad)\n",
    "\n",
    "out_h = get_conv_outsize(h, kh, sy, ph)\n",
    "out_w = get_conv_outsize(w, kw, sx, pw)\n",
    "\n",
    "dy, dx = 1, 1\n",
    "img = cuda.cupy.empty((h,w), dtype=img.dtype)\n",
    "\n",
    "col"
   ]
  },
  {
   "cell_type": "code",
   "execution_count": 58,
   "metadata": {
    "scrolled": false
   },
   "outputs": [
    {
     "data": {
      "text/plain": [
       "array([[[[ 0.,  0.],\n",
       "         [ 0.,  1.]],\n",
       "\n",
       "        [[ 0.,  0.],\n",
       "         [ 1.,  2.]],\n",
       "\n",
       "        [[ 0.,  0.],\n",
       "         [ 2.,  3.]],\n",
       "\n",
       "        [[ 0.,  0.],\n",
       "         [ 3.,  4.]],\n",
       "\n",
       "        [[ 0.,  0.],\n",
       "         [ 4.,  0.]]],\n",
       "\n",
       "\n",
       "       [[[ 0.,  1.],\n",
       "         [ 0.,  5.]],\n",
       "\n",
       "        [[ 1.,  2.],\n",
       "         [ 5.,  6.]],\n",
       "\n",
       "        [[ 2.,  3.],\n",
       "         [ 6.,  7.]],\n",
       "\n",
       "        [[ 3.,  4.],\n",
       "         [ 7.,  8.]],\n",
       "\n",
       "        [[ 4.,  0.],\n",
       "         [ 8.,  0.]]],\n",
       "\n",
       "\n",
       "       [[[ 0.,  5.],\n",
       "         [ 0.,  9.]],\n",
       "\n",
       "        [[ 5.,  6.],\n",
       "         [ 9., 10.]],\n",
       "\n",
       "        [[ 6.,  7.],\n",
       "         [10., 11.]],\n",
       "\n",
       "        [[ 7.,  8.],\n",
       "         [11., 12.]],\n",
       "\n",
       "        [[ 8.,  0.],\n",
       "         [12.,  0.]]],\n",
       "\n",
       "\n",
       "       [[[ 0.,  9.],\n",
       "         [ 0., 13.]],\n",
       "\n",
       "        [[ 9., 10.],\n",
       "         [13., 14.]],\n",
       "\n",
       "        [[10., 11.],\n",
       "         [14., 15.]],\n",
       "\n",
       "        [[11., 12.],\n",
       "         [15., 16.]],\n",
       "\n",
       "        [[12.,  0.],\n",
       "         [16.,  0.]]],\n",
       "\n",
       "\n",
       "       [[[ 0., 13.],\n",
       "         [ 0.,  0.]],\n",
       "\n",
       "        [[13., 14.],\n",
       "         [ 0.,  0.]],\n",
       "\n",
       "        [[14., 15.],\n",
       "         [ 0.,  0.]],\n",
       "\n",
       "        [[15., 16.],\n",
       "         [ 0.,  0.]],\n",
       "\n",
       "        [[16.,  0.],\n",
       "         [ 0.,  0.]]]])"
      ]
     },
     "execution_count": 58,
     "metadata": {},
     "output_type": "execute_result"
    }
   ],
   "source": [
    "col = col.reshape(out_h, out_w, kh, kw)\n",
    "col"
   ]
  },
  {
   "cell_type": "code",
   "execution_count": 60,
   "metadata": {
    "scrolled": false
   },
   "outputs": [
    {
     "data": {
      "text/plain": [
       "array([[[[ 0.,  0.,  0.,  0.,  0.],\n",
       "         [ 0.,  1.,  2.,  3.,  4.],\n",
       "         [ 0.,  5.,  6.,  7.,  8.],\n",
       "         [ 0.,  9., 10., 11., 12.],\n",
       "         [ 0., 13., 14., 15., 16.]],\n",
       "\n",
       "        [[ 0.,  0.,  0.,  0.,  0.],\n",
       "         [ 1.,  2.,  3.,  4.,  0.],\n",
       "         [ 5.,  6.,  7.,  8.,  0.],\n",
       "         [ 9., 10., 11., 12.,  0.],\n",
       "         [13., 14., 15., 16.,  0.]]],\n",
       "\n",
       "\n",
       "       [[[ 0.,  1.,  2.,  3.,  4.],\n",
       "         [ 0.,  5.,  6.,  7.,  8.],\n",
       "         [ 0.,  9., 10., 11., 12.],\n",
       "         [ 0., 13., 14., 15., 16.],\n",
       "         [ 0.,  0.,  0.,  0.,  0.]],\n",
       "\n",
       "        [[ 1.,  2.,  3.,  4.,  0.],\n",
       "         [ 5.,  6.,  7.,  8.,  0.],\n",
       "         [ 9., 10., 11., 12.,  0.],\n",
       "         [13., 14., 15., 16.,  0.],\n",
       "         [ 0.,  0.,  0.,  0.,  0.]]]])"
      ]
     },
     "execution_count": 60,
     "metadata": {},
     "output_type": "execute_result"
    }
   ],
   "source": [
    "col = col.transpose(2, 3, 0, 1)\n",
    "col"
   ]
  },
  {
   "cell_type": "code",
   "execution_count": 66,
   "metadata": {},
   "outputs": [
    {
     "data": {
      "text/plain": [
       "array([ 0.,  0.,  0.,  0.,  0.,  0.,  1.,  2.,  3.,  4.,  0.,  5.,  6.,\n",
       "        7.,  8.,  0.,  9., 10., 11., 12.,  0., 13., 14., 15., 16.,  0.,\n",
       "        0.,  0.,  0.,  0.,  1.,  2.,  3.,  4.,  0.,  5.,  6.,  7.,  8.,\n",
       "        0.,  9., 10., 11., 12.,  0., 13., 14., 15., 16.,  0.,  0.,  1.,\n",
       "        2.,  3.,  4.,  0.,  5.,  6.,  7.,  8.,  0.,  9., 10., 11., 12.,\n",
       "        0., 13., 14., 15., 16.,  0.,  0.,  0.,  0.,  0.,  1.,  2.,  3.,\n",
       "        4.,  0.,  5.,  6.,  7.,  8.,  0.,  9., 10., 11., 12.,  0., 13.,\n",
       "       14., 15., 16.,  0.,  0.,  0.,  0.,  0.,  0.])"
      ]
     },
     "execution_count": 66,
     "metadata": {},
     "output_type": "execute_result"
    }
   ],
   "source": [
    "reduced_col = col.reshape(-1)\n",
    "reduced_col"
   ]
  },
  {
   "cell_type": "code",
   "execution_count": 61,
   "metadata": {},
   "outputs": [
    {
     "data": {
      "text/plain": [
       "(2, 2, 5, 5)"
      ]
     },
     "execution_count": 61,
     "metadata": {},
     "output_type": "execute_result"
    }
   ],
   "source": [
    "kh, kw, out_h, out_w = col.shape\n",
    "kh, kw, out_h, out_w"
   ]
  },
  {
   "cell_type": "code",
   "execution_count": 62,
   "metadata": {},
   "outputs": [
    {
     "data": {
      "text/plain": [
       "array([[0, 0, 0, 0],\n",
       "       [0, 0, 0, 0],\n",
       "       [0, 0, 0, 0],\n",
       "       [0, 0, 0, 0]])"
      ]
     },
     "execution_count": 62,
     "metadata": {},
     "output_type": "execute_result"
    }
   ],
   "source": [
    "img"
   ]
  },
  {
   "cell_type": "code",
   "execution_count": 64,
   "metadata": {},
   "outputs": [
    {
     "data": {
      "text/plain": [
       "array([0, 0, 0, 0, 0, 0, 0, 0, 0, 0, 0, 0, 0, 0, 0, 0])"
      ]
     },
     "execution_count": 64,
     "metadata": {},
     "output_type": "execute_result"
    }
   ],
   "source": [
    "reduced_img = img.reshape(-1)\n",
    "reduced_img"
   ]
  },
  {
   "cell_type": "code",
   "execution_count": 79,
   "metadata": {},
   "outputs": [
    {
     "data": {
      "text/plain": [
       "(2, 2, 1, 1, 1, 1, 4, 4)"
      ]
     },
     "execution_count": 79,
     "metadata": {},
     "output_type": "execute_result"
    }
   ],
   "source": [
    "kh, kw, sy, sx, ph, pw, h, w"
   ]
  },
  {
   "cell_type": "code",
   "execution_count": 88,
   "metadata": {},
   "outputs": [],
   "source": [
    "for i in range(len(reduced_img)):\n",
    "    c0 = i // (h * w)\n",
    "    y = (i // w) % h\n",
    "    x = i % w\n",
    "\n",
    "    val = 0\n",
    "    for ky in range(kh):\n",
    "        out_y = (y + ph - ky * dy)\n",
    "\n",
    "        if (0 > out_y) or (out_y >= out_h * sy):\n",
    "            continue\n",
    "        if (out_y % sy != 0):\n",
    "            continue\n",
    "\n",
    "        out_y //= sy\n",
    "\n",
    "        for kx in range(kw):\n",
    "            out_x = (x + pw - kx * dx)\n",
    "\n",
    "            if (0 > out_x) or (out_x >= out_w * sx):\n",
    "                continue\n",
    "            if (out_x % sx != 0):\n",
    "                continue\n",
    "\n",
    "            out_x //= sx\n",
    "            \n",
    "            k = out_y + out_h * (kx + kw * (ky + kh * c0))\n",
    "            val = val + reduced_col[out_x + out_w * k]\n",
    "            \n",
    "            reduced_img[i] = val"
   ]
  },
  {
   "cell_type": "code",
   "execution_count": 89,
   "metadata": {},
   "outputs": [
    {
     "data": {
      "text/plain": [
       "array([ 4,  8, 12, 16, 20, 24, 28, 32, 36, 40, 44, 48, 52, 56, 60, 64])"
      ]
     },
     "execution_count": 89,
     "metadata": {},
     "output_type": "execute_result"
    }
   ],
   "source": [
    "reduced_img"
   ]
  },
  {
   "cell_type": "code",
   "execution_count": 90,
   "metadata": {},
   "outputs": [
    {
     "data": {
      "text/plain": [
       "array([[ 4,  8, 12, 16],\n",
       "       [20, 24, 28, 32],\n",
       "       [36, 40, 44, 48],\n",
       "       [52, 56, 60, 64]])"
      ]
     },
     "execution_count": 90,
     "metadata": {},
     "output_type": "execute_result"
    }
   ],
   "source": [
    "img = reduced_img.reshape(h, w)\n",
    "img"
   ]
  },
  {
   "cell_type": "code",
   "execution_count": 91,
   "metadata": {
    "scrolled": true
   },
   "outputs": [
    {
     "data": {
      "text/plain": [
       "array([[ 1.,  2.,  3.,  4.],\n",
       "       [ 5.,  6.,  7.,  8.],\n",
       "       [ 9., 10., 11., 12.],\n",
       "       [13., 14., 15., 16.]])"
      ]
     },
     "execution_count": 91,
     "metadata": {},
     "output_type": "execute_result"
    }
   ],
   "source": [
    "img / 4"
   ]
  },
  {
   "cell_type": "markdown",
   "metadata": {},
   "source": [
    "### working perfect :D!"
   ]
  }
 ],
 "metadata": {
  "kernelspec": {
   "display_name": "Python 3",
   "language": "python",
   "name": "python3"
  },
  "language_info": {
   "codemirror_mode": {
    "name": "ipython",
    "version": 3
   },
   "file_extension": ".py",
   "mimetype": "text/x-python",
   "name": "python",
   "nbconvert_exporter": "python",
   "pygments_lexer": "ipython3",
   "version": "3.7.7"
  }
 },
 "nbformat": 4,
 "nbformat_minor": 4
}
