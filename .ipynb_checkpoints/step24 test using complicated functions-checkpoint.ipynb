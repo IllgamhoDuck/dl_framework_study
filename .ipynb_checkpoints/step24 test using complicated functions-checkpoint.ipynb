{
 "cells": [
  {
   "cell_type": "markdown",
   "metadata": {},
   "source": [
    "# sphere\n",
    "## $z = x^{2} + y^{2}$"
   ]
  },
  {
   "cell_type": "code",
   "execution_count": 3,
   "metadata": {},
   "outputs": [
    {
     "name": "stdout",
     "output_type": "stream",
     "text": [
      "2.0\n",
      "2.0\n"
     ]
    }
   ],
   "source": [
    "import numpy as np\n",
    "from dezero import Variable\n",
    "\n",
    "def sphere(x, y):\n",
    "    z = x ** 2 + y ** 2\n",
    "    return z\n",
    "\n",
    "x = Variable(np.array(1.0))\n",
    "y = Variable(np.array(1.0))\n",
    "z = sphere(x, y)\n",
    "\n",
    "z.backward()\n",
    "\n",
    "print(x.grad)\n",
    "print(y.grad)"
   ]
  },
  {
   "cell_type": "markdown",
   "metadata": {},
   "source": [
    "# matyas\n",
    "## $z = 0.26(x^{2} + y^{2}) - 0.48xy$"
   ]
  },
  {
   "cell_type": "code",
   "execution_count": 4,
   "metadata": {},
   "outputs": [
    {
     "name": "stdout",
     "output_type": "stream",
     "text": [
      "0.040000000000000036\n",
      "0.040000000000000036\n"
     ]
    }
   ],
   "source": [
    "def matyas(x, y):\n",
    "    z = 0.26 * (x ** 2 + y ** 2) - 0.48 * x * y\n",
    "    return z\n",
    "\n",
    "x = Variable(np.array(1.0))\n",
    "y = Variable(np.array(1.0))\n",
    "z = matyas(x, y)\n",
    "\n",
    "z.backward()\n",
    "\n",
    "print(x.grad)\n",
    "print(y.grad)"
   ]
  },
  {
   "cell_type": "markdown",
   "metadata": {},
   "source": [
    "If we cannot use operator's like `+`, `-` etc we had to write like following"
   ]
  },
  {
   "cell_type": "code",
   "execution_count": 9,
   "metadata": {
    "scrolled": true
   },
   "outputs": [
    {
     "name": "stdout",
     "output_type": "stream",
     "text": [
      "0.040000000000000036\n",
      "0.040000000000000036\n"
     ]
    }
   ],
   "source": [
    "from dezero.core_simple import sub, mul, pow\n",
    "\n",
    "def matyas(x, y):\n",
    "    z = sub(mul(pow(x, 2) + pow(y, 2), 0.26), mul(mul(x, y), 0.48))\n",
    "    return z\n",
    "\n",
    "x = Variable(np.array(1.0))\n",
    "y = Variable(np.array(1.0))\n",
    "z = matyas(x, y)\n",
    "\n",
    "z.backward()\n",
    "\n",
    "print(x.grad)\n",
    "print(y.grad)"
   ]
  },
  {
   "cell_type": "markdown",
   "metadata": {},
   "source": [
    "# Goldstein-Price\n",
    "## $f(x, y) = [1 + (x + y + 1)^{2}(10 - 14x + 3x^{2} - 14y + 6xy + 3y^{2}] * [30 + (2x - 3y)^{2}(18 - 32x + 12x^{2} + 48y - 36xy + 27y^{2}]$\n"
   ]
  },
  {
   "cell_type": "code",
   "execution_count": 10,
   "metadata": {},
   "outputs": [
    {
     "name": "stdout",
     "output_type": "stream",
     "text": [
      "-5376.0\n",
      "8064.0\n"
     ]
    }
   ],
   "source": [
    "def goldstein(x, y):\n",
    "    z = (1 + (x + y + 1)**2 * (19 - 14*x + 3*x**2 - 14*y + 6*x*y + 3*y**2)) * \\\n",
    "        (30 + (2*x - 3*y)**2 * (18 - 32*x + 12*x**2 + 48*y - 36*x*y + 27*y**2))\n",
    "    return z\n",
    "\n",
    "x = Variable(np.array(1.0))\n",
    "y = Variable(np.array(1.0))\n",
    "z = goldstein(x, y)\n",
    "\n",
    "z.backward()\n",
    "\n",
    "print(x.grad)\n",
    "print(y.grad)"
   ]
  }
 ],
 "metadata": {
  "kernelspec": {
   "display_name": "Python 3",
   "language": "python",
   "name": "python3"
  },
  "language_info": {
   "codemirror_mode": {
    "name": "ipython",
    "version": 3
   },
   "file_extension": ".py",
   "mimetype": "text/x-python",
   "name": "python",
   "nbconvert_exporter": "python",
   "pygments_lexer": "ipython3",
   "version": "3.7.7"
  }
 },
 "nbformat": 4,
 "nbformat_minor": 4
}
