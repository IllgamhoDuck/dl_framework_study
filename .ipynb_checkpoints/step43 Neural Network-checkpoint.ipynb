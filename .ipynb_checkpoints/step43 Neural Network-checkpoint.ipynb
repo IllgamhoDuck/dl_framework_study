{
 "cells": [
  {
   "cell_type": "markdown",
   "metadata": {},
   "source": [
    "## `Dezero`'s `linear` function\n",
    "\n",
    "```python\n",
    "y = F.matmul(x, W) + b\n",
    "```\n",
    "\n",
    "This is called `linear transformation` or `affine transformation`"
   ]
  },
  {
   "cell_type": "markdown",
   "metadata": {},
   "source": [
    "```python\n",
    "def linear_simple(x, W, b=None):\n",
    "    t = matmul(x, W)\n",
    "    if b in None:\n",
    "        return t\n",
    "    \n",
    "    y = t + b\n",
    "    \n",
    "    # t is only used for back propagation\n",
    "    # The value inside doesn't matter so we can remove it\n",
    "    # to save memory\n",
    "    t.data = None\n",
    "    return y\n",
    "```"
   ]
  },
  {
   "cell_type": "markdown",
   "metadata": {},
   "source": [
    "The most usage of memory comes from `ndarray`.<br>\n",
    "So removing unncessary `ndarray` could save huge memory!<br>\n",
    "At `chainer` this is automatically done by **`Aggressive Buffer Release`**"
   ]
  },
  {
   "cell_type": "markdown",
   "metadata": {},
   "source": [
    "## Implement `Linear` function"
   ]
  },
  {
   "cell_type": "markdown",
   "metadata": {},
   "source": [
    "### $y = xW + b$\n",
    "---\n",
    "## $\\frac{\\partial{y}}{\\partial{x}} = W^{\\scriptsize{T}}$\n",
    "## $\\frac{\\partial{y}}{\\partial{W}} = x^{\\scriptsize{T}}$\n",
    "---\n",
    "## $\\frac{\\partial L}{\\partial x} = \\frac{\\partial L}{\\partial y} \\cdot \\frac{\\partial{y}}{\\partial{x}} = \\frac{\\partial L}{\\partial {y}} \\cdot W^{T}$\n",
    "- $(N \\times D) = (N \\times H)(H \\times D)$\n",
    "\n",
    "## $\\frac{\\partial L}{\\partial W} = \\frac{\\partial{y}}{\\partial{W}} \\cdot \\frac{\\partial L}{\\partial y} = x^{\\scriptsize{T}} \\cdot \\frac{\\partial L}{\\partial y}$\n",
    "- $(D \\times H) = (D \\times N)(N \\times H)$"
   ]
  },
  {
   "cell_type": "code",
   "execution_count": 3,
   "metadata": {},
   "outputs": [],
   "source": [
    "from dezero import Function\n",
    "from dezero.functions import sum_to\n",
    "from dezero.functions import matmul\n",
    "\n",
    "class Linear(Function):\n",
    "    def forward(self, x, W, b):\n",
    "        y = x.dot(W)\n",
    "        if b is not None:\n",
    "            y += b\n",
    "        return y\n",
    "    \n",
    "    def backward(self, gy):\n",
    "        x, W, b = self.inputs\n",
    "        gb = None if b.data is None else sum_to(gy, b.shape)\n",
    "        gx = matmul(gy, W.T)\n",
    "        gW = matmul(x.T, gy)\n",
    "        return gx, gW, gb\n",
    "\n",
    "def linear(x, W, b=None):\n",
    "    return Linear()(x, W, b)"
   ]
  },
  {
   "cell_type": "markdown",
   "metadata": {},
   "source": [
    "## Nonlinear dataset"
   ]
  },
  {
   "cell_type": "code",
   "execution_count": 4,
   "metadata": {},
   "outputs": [],
   "source": [
    "import numpy as np\n",
    "\n",
    "np.random.seed(0)\n",
    "x = np.random.rand(100, 1)\n",
    "y = np.sin(2 * np.pi * x) + np.random.rand(100, 1)"
   ]
  },
  {
   "cell_type": "code",
   "execution_count": 5,
   "metadata": {},
   "outputs": [
    {
     "data": {
      "image/png": "[encoded data removed]",
      "text/plain": [
       "<Figure size 432x288 with 1 Axes>"
      ]
     },
     "metadata": {
      "needs_background": "light"
     },
     "output_type": "display_data"
    }
   ],
   "source": [
    "import matplotlib.pyplot as plt\n",
    "\n",
    "plt.scatter(x, y);"
   ]
  },
  {
   "cell_type": "markdown",
   "metadata": {},
   "source": [
    "This kind of `nonlinear` data could not be solved by `linear regression`."
   ]
  },
  {
   "cell_type": "markdown",
   "metadata": {},
   "source": [
    "## `Neural Network`\n",
    "\n",
    "- `Linear` : linear transformation\n",
    "- `Neural Network` : nonlinear transformation\n",
    "\n",
    "For `nonlinear transformation` we need **`activation function`**<br>\n",
    "One example is `sigmoid` function"
   ]
  },
  {
   "cell_type": "code",
   "execution_count": 7,
   "metadata": {},
   "outputs": [],
   "source": [
    "def sigmoid(x):\n",
    "    return 1 / (1 + np.exp(-x))"
   ]
  },
  {
   "cell_type": "code",
   "execution_count": 11,
   "metadata": {},
   "outputs": [
    {
     "data": {
      "image/png": "[encoded data removed]",
      "text/plain": [
       "<Figure size 432x288 with 1 Axes>"
      ]
     },
     "metadata": {
      "needs_background": "light"
     },
     "output_type": "display_data"
    }
   ],
   "source": [
    "x = np.linspace(-4, 4, 100)\n",
    "y = sigmoid(x)\n",
    "\n",
    "plt.plot(x, y);"
   ]
  },
  {
   "cell_type": "markdown",
   "metadata": {},
   "source": [
    "Another way to implement `sigmoid` using `tanh`"
   ]
  },
  {
   "cell_type": "code",
   "execution_count": 10,
   "metadata": {},
   "outputs": [],
   "source": [
    "def tanh(x):\n",
    "    return np.tanh(x)"
   ]
  },
  {
   "cell_type": "code",
   "execution_count": 12,
   "metadata": {},
   "outputs": [
    {
     "data": {
      "image/png": "[encoded data removed]",
      "text/plain": [
       "<Figure size 432x288 with 1 Axes>"
      ]
     },
     "metadata": {
      "needs_background": "light"
     },
     "output_type": "display_data"
    }
   ],
   "source": [
    "x = np.linspace(-4, 4, 100)\n",
    "y = tanh(x)\n",
    "\n",
    "plt.plot(x, y);"
   ]
  },
  {
   "cell_type": "markdown",
   "metadata": {},
   "source": [
    "To make `sigmoid` with `tanh`\n",
    "- stretch x axis 2 times\n",
    "- reduce y axis 2 times\n",
    "- move the y value 0.5 upper"
   ]
  },
  {
   "cell_type": "code",
   "execution_count": 13,
   "metadata": {},
   "outputs": [],
   "source": [
    "def sigmoid_using_tanh(x):\n",
    "    return tanh(0.5 * x) * 0.5 + 0.5 "
   ]
  },
  {
   "cell_type": "code",
   "execution_count": 15,
   "metadata": {},
   "outputs": [
    {
     "data": {
      "image/png": "[encoded data removed]",
      "text/plain": [
       "<Figure size 432x288 with 1 Axes>"
      ]
     },
     "metadata": {
      "needs_background": "light"
     },
     "output_type": "display_data"
    }
   ],
   "source": [
    "x = np.linspace(-4, 4, 100)\n",
    "tanh_y = tanh(x)\n",
    "sigmoid_y = sigmoid_using_tanh(x)\n",
    "\n",
    "plt.plot(x, tanh_y, label='tanh')\n",
    "plt.plot(x, sigmoid_y, label='sigmoid')\n",
    "plt.legend();"
   ]
  },
  {
   "cell_type": "markdown",
   "metadata": {},
   "source": [
    "## Implement `Neural Network`\n",
    "\n",
    "1. Dataset\n",
    "2. Weight Initialization\n",
    "3. Model\n",
    "4. Train\n",
    "5. Predict"
   ]
  },
  {
   "cell_type": "markdown",
   "metadata": {},
   "source": [
    "### 1. Dataset"
   ]
  },
  {
   "cell_type": "code",
   "execution_count": 86,
   "metadata": {},
   "outputs": [],
   "source": [
    "import numpy as np\n",
    "from dezero import Variable\n",
    "import dezero.functions as F\n",
    "\n",
    "np.random.seed(0)\n",
    "x = np.random.rand(100, 1)\n",
    "y = np.sin(2 * np.pi * x) + np.random.rand(100, 1)"
   ]
  },
  {
   "cell_type": "code",
   "execution_count": 87,
   "metadata": {},
   "outputs": [
    {
     "data": {
      "image/png": "[encoded data removed]",
      "text/plain": [
       "<Figure size 432x288 with 1 Axes>"
      ]
     },
     "metadata": {
      "needs_background": "light"
     },
     "output_type": "display_data"
    }
   ],
   "source": [
    "import matplotlib.pyplot as plt\n",
    "\n",
    "plt.scatter(x, y);"
   ]
  },
  {
   "cell_type": "markdown",
   "metadata": {},
   "source": [
    "### 2. Weight Initialization"
   ]
  },
  {
   "cell_type": "code",
   "execution_count": 107,
   "metadata": {},
   "outputs": [],
   "source": [
    "# I: input\n",
    "# H: hidden\n",
    "# O: output\n",
    "\n",
    "I, H, O = 1, 10, 1\n",
    "W1 = Variable(0.01 * np.random.randn(I, H))\n",
    "b1 = Variable(np.zeros(H))\n",
    "W2 = Variable(0.01 * np.random.randn(H, O))\n",
    "b2 = Variable(np.zeros(O))"
   ]
  },
  {
   "cell_type": "markdown",
   "metadata": {},
   "source": [
    "We use `np.zeros` to easily make `ndarray` that doesn't break at **len(Variable)**\n",
    "- `len(Variable(np.array(1))` -> ERROR\n",
    "- `len(Variable(np.zeros(1))` -> GOOD :) !"
   ]
  },
  {
   "cell_type": "code",
   "execution_count": 108,
   "metadata": {},
   "outputs": [
    {
     "data": {
      "text/plain": [
       "array([0.])"
      ]
     },
     "execution_count": 108,
     "metadata": {},
     "output_type": "execute_result"
    }
   ],
   "source": [
    "np.zeros(1)"
   ]
  },
  {
   "cell_type": "code",
   "execution_count": 109,
   "metadata": {},
   "outputs": [
    {
     "data": {
      "text/plain": [
       "(Variable([[ 0.00771791  0.00823504  0.02163236  0.01336528 -0.00369182 -0.00239379\n",
       "             0.0109966   0.00655264  0.00640132 -0.01616956]]),\n",
       " Variable([0. 0. 0. 0. 0. 0. 0. 0. 0. 0.]))"
      ]
     },
     "execution_count": 109,
     "metadata": {},
     "output_type": "execute_result"
    }
   ],
   "source": [
    "W1, b1"
   ]
  },
  {
   "cell_type": "code",
   "execution_count": 110,
   "metadata": {},
   "outputs": [
    {
     "data": {
      "text/plain": [
       "(Variable([[-0.00024326]\n",
       "           [-0.00738031]\n",
       "           [ 0.00279925]\n",
       "           [-0.0009815 ]\n",
       "           [ 0.00910179]\n",
       "           [ 0.00317218]\n",
       "           [ 0.00786328]\n",
       "           [-0.00466419]\n",
       "           [-0.00944446]\n",
       "           [-0.0041005 ]]),\n",
       " Variable([0.]))"
      ]
     },
     "execution_count": 110,
     "metadata": {},
     "output_type": "execute_result"
    }
   ],
   "source": [
    "W2, b2"
   ]
  },
  {
   "cell_type": "markdown",
   "metadata": {},
   "source": [
    "### 3. Model"
   ]
  },
  {
   "cell_type": "code",
   "execution_count": 111,
   "metadata": {},
   "outputs": [],
   "source": [
    "import dezero.functions as F\n",
    "\n",
    "def neural_network(x):\n",
    "    y = F.linear(x, W1, b1)\n",
    "    y = F.sigmoid(y)\n",
    "    y = F.linear(y, W2, b2)\n",
    "    return y"
   ]
  },
  {
   "cell_type": "markdown",
   "metadata": {},
   "source": [
    "### 4. Train"
   ]
  },
  {
   "cell_type": "code",
   "execution_count": 112,
   "metadata": {},
   "outputs": [
    {
     "name": "stdout",
     "output_type": "stream",
     "text": [
      "Variable(0.8497718314877383)\n",
      "Variable(0.2511875064699414)\n",
      "Variable(0.24788481609580215)\n",
      "Variable(0.24350143977748862)\n",
      "Variable(0.2353066098027341)\n",
      "Variable(0.21660193370946593)\n",
      "Variable(0.15967767407669428)\n",
      "Variable(0.0879725578779695)\n",
      "Variable(0.0775101347097287)\n",
      "Variable(0.07692128879681835)\n"
     ]
    }
   ],
   "source": [
    "lr = 0.2\n",
    "iters = 10000\n",
    "\n",
    "for i in range(iters):\n",
    "    y_pred = neural_network(x)\n",
    "    loss = F.mean_squared_error(y, y_pred)\n",
    "    \n",
    "    W1.cleargrad()\n",
    "    b1.cleargrad()\n",
    "    W2.cleargrad()\n",
    "    b2.cleargrad()\n",
    "    \n",
    "    loss.backward()\n",
    "    \n",
    "    W1.data -= lr * W1.grad.data\n",
    "    b1.data -= lr * b1.grad.data\n",
    "    W2.data -= lr * W2.grad.data\n",
    "    b2.data -= lr * b2.grad.data\n",
    "    \n",
    "    if i % 1000 == 0:\n",
    "        print(loss)"
   ]
  },
  {
   "cell_type": "code",
   "execution_count": 113,
   "metadata": {},
   "outputs": [
    {
     "data": {
      "text/plain": [
       "(Variable([[-1.65650047 -1.78969349 -1.83441896 -1.77407933 -9.46293569 -0.52748808\n",
       "            -1.41026415 -1.73287142 -1.79274399 -3.0533807 ]]),\n",
       " Variable([0.04463853 0.03844748 0.05334619 0.03548747 4.68026034 0.92249975\n",
       "           0.10312187 0.03554807 0.03921101 1.8448195 ]))"
      ]
     },
     "execution_count": 113,
     "metadata": {},
     "output_type": "execute_result"
    }
   ],
   "source": [
    "W1, b1"
   ]
  },
  {
   "cell_type": "code",
   "execution_count": 114,
   "metadata": {},
   "outputs": [
    {
     "data": {
      "text/plain": [
       "(Variable([[-1.34631601]\n",
       "           [-1.56840201]\n",
       "           [-1.64118894]\n",
       "           [-1.54201639]\n",
       "           [ 5.25098304]\n",
       "           [ 0.25740884]\n",
       "           [-0.97163366]\n",
       "           [-1.47099274]\n",
       "           [-1.57345349]\n",
       "           [-1.78531075]]),\n",
       " Variable([1.97469391]))"
      ]
     },
     "execution_count": 114,
     "metadata": {},
     "output_type": "execute_result"
    }
   ],
   "source": [
    "W2, b2"
   ]
  },
  {
   "cell_type": "markdown",
   "metadata": {},
   "source": [
    "### 5. Predict"
   ]
  },
  {
   "cell_type": "code",
   "execution_count": 140,
   "metadata": {},
   "outputs": [
    {
     "data": {
      "image/png": "[encoded data removed]",
      "text/plain": [
       "<Figure size 432x288 with 1 Axes>"
      ]
     },
     "metadata": {
      "needs_background": "light"
     },
     "output_type": "display_data"
    }
   ],
   "source": [
    "import matplotlib.pyplot as plt\n",
    "\n",
    "plt.scatter(x, y)\n",
    "\n",
    "test_x = Variable(np.linspace(0, 1, 100).reshape(100, 1))\n",
    "test_y = neural_network(test_x)\n",
    "\n",
    "plt.plot(test_x.data, test_y.data, c='r');"
   ]
  }
 ],
 "metadata": {
  "kernelspec": {
   "display_name": "Python 3",
   "language": "python",
   "name": "python3"
  },
  "language_info": {
   "codemirror_mode": {
    "name": "ipython",
    "version": 3
   },
   "file_extension": ".py",
   "mimetype": "text/x-python",
   "name": "python",
   "nbconvert_exporter": "python",
   "pygments_lexer": "ipython3",
   "version": "3.7.7"
  }
 },
 "nbformat": 4,
 "nbformat_minor": 4
}
