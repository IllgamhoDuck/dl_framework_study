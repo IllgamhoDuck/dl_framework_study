{
 "cells": [
  {
   "cell_type": "markdown",
   "metadata": {},
   "source": [
    "## Generate Toy dataset"
   ]
  },
  {
   "cell_type": "code",
   "execution_count": 11,
   "metadata": {},
   "outputs": [],
   "source": [
    "import numpy as np\n",
    "\n",
    "np.random.seed(0)\n",
    "x = np.random.rand(100, 1)\n",
    "\n",
    "# last rand is disturbance(noise)\n",
    "y = 5 + 2*x + np.random.rand(100, 1)"
   ]
  },
  {
   "cell_type": "code",
   "execution_count": 12,
   "metadata": {},
   "outputs": [
    {
     "data": {
      "image/png": "[encoded data removed]",
      "text/plain": [
       "<Figure size 432x288 with 1 Axes>"
      ]
     },
     "metadata": {
      "needs_background": "light"
     },
     "output_type": "display_data"
    }
   ],
   "source": [
    "import matplotlib.pyplot as plt\n",
    "\n",
    "plt.scatter(x, y);"
   ]
  },
  {
   "cell_type": "markdown",
   "metadata": {},
   "source": [
    "## Implement `Linear Regression`"
   ]
  },
  {
   "cell_type": "code",
   "execution_count": 13,
   "metadata": {},
   "outputs": [],
   "source": [
    "import numpy as np\n",
    "from dezero import Variable\n",
    "import dezero.functions as F\n",
    "\n",
    "x, y = Variable(x), Variable(y)\n",
    "\n",
    "W = Variable(np.zeros((1, 1)))\n",
    "b = Variable(np.zeros(1))"
   ]
  },
  {
   "cell_type": "code",
   "execution_count": 14,
   "metadata": {},
   "outputs": [],
   "source": [
    "def linear_regression(x):\n",
    "    y = F.matmul(x, W) + b\n",
    "    return y\n",
    "\n",
    "def mean_squared_error(x0, x1):\n",
    "    diff = x0 - x1\n",
    "    return F.sum(diff ** 2) / len(diff)"
   ]
  },
  {
   "cell_type": "code",
   "execution_count": 17,
   "metadata": {},
   "outputs": [
    {
     "name": "stdout",
     "output_type": "stream",
     "text": [
      "Variable([[1.12672345]]) Variable([2.26959351]) Variable(23.97380754378544)\n",
      "Variable([[1.48734571]]) Variable([3.00386712]) Variable(13.609686745040522)\n",
      "Variable([[1.75641886]]) Variable([3.557186]) Variable(7.747049961219976)\n",
      "Variable([[1.95666851]]) Variable([3.97439789]) Variable(4.43057410592155)\n",
      "Variable([[2.10518573]]) Variable([4.28923203]) Variable(2.5542803813535926)\n",
      "Variable([[2.21482401]]) Variable([4.52705574]) Variable(1.4925998690471942)\n",
      "Variable([[2.29524981]]) Variable([4.70694745]) Variable(0.8916952181756932)\n",
      "Variable([[2.35373273]]) Variable([4.84325585]) Variable(0.5514270962227453)\n",
      "Variable([[2.39573972]]) Variable([4.9467725]) Variable(0.35859153083192785)\n",
      "Variable([[2.425382]]) Variable([5.02561369]) Variable(0.2491573197756112)\n",
      "Variable([[2.44575118]]) Variable([5.08588371]) Variable(0.18690658765397886)\n",
      "Variable([[2.45917205]]) Variable([5.13217364]) Variable(0.15135336296314875)\n",
      "Variable([[2.4673927]]) Variable([5.16793652]) Variable(0.13091003006317078)\n",
      "Variable([[2.47172747]]) Variable([5.19576949]) Variable(0.11902210735018462)\n",
      "Variable([[2.47316455]]) Variable([5.21762597]) Variable(0.11198198322254362)\n",
      "Variable([[2.47244676]]) Variable([5.23497527]) Variable(0.10769231158094322)\n",
      "Variable([[2.47013247]]) Variable([5.24892259]) Variable(0.10496655795675108)\n",
      "Variable([[2.46664127]]) Variable([5.26029927]) Variable(0.10313337115761934)\n",
      "Variable([[2.46228843]]) Variable([5.26973075]) Variable(0.10181280604960247)\n",
      "Variable([[2.45731071]]) Variable([5.27768752]) Variable(0.10078974954301653)\n",
      "Variable([[2.4518859]]) Variable([5.28452363]) Variable(0.09994232708821608)\n",
      "Variable([[2.44614738]]) Variable([5.29050548]) Variable(0.09920140749444824)\n",
      "Variable([[2.44019517]]) Variable([5.29583359]) Variable(0.09852769772358987)\n",
      "Variable([[2.4341042]]) Variable([5.30065891]) Variable(0.09789878700703991)\n",
      "Variable([[2.4279305]]) Variable([5.30509512]) Variable(0.09730181854646197)\n",
      "Variable([[2.42171596]]) Variable([5.30922787]) Variable(0.0967293443169877)\n",
      "Variable([[2.41549177]]) Variable([5.3131217]) Variable(0.09617698031441604)\n",
      "Variable([[2.40928112]]) Variable([5.31682532]) Variable(0.09564208018092028)\n",
      "Variable([[2.40310116]]) Variable([5.32037549]) Variable(0.09512298485383605)\n",
      "Variable([[2.39696452]]) Variable([5.3238]) Variable(0.09461859803040694)\n",
      "Variable([[2.39088043]]) Variable([5.32711987]) Variable(0.09412814592514404)\n",
      "Variable([[2.38485555]]) Variable([5.33035108]) Variable(0.09365104127065577)\n",
      "Variable([[2.37889464]]) Variable([5.33350575]) Variable(0.09318680628411545)\n",
      "Variable([[2.37300101]]) Variable([5.33659314]) Variable(0.09273502898904006)\n",
      "Variable([[2.3671769]]) Variable([5.33962035]) Variable(0.09229533840647547)\n",
      "Variable([[2.36142374]]) Variable([5.34259283]) Variable(0.09186739042193233)\n",
      "Variable([[2.35574235]]) Variable([5.34551483]) Variable(0.09145085969346782)\n",
      "Variable([[2.35013309]]) Variable([5.34838966]) Variable(0.09104543497939387)\n",
      "Variable([[2.34459602]]) Variable([5.35121993]) Variable(0.09065081640275062)\n",
      "Variable([[2.33913091]]) Variable([5.35400772]) Variable(0.0902667138137311)\n",
      "Variable([[2.33373736]]) Variable([5.35675472]) Variable(0.08989284577554084)\n",
      "Variable([[2.32841486]]) Variable([5.35946234]) Variable(0.0895289389052284)\n",
      "Variable([[2.32316275]]) Variable([5.36213172]) Variable(0.08917472741757472)\n",
      "Variable([[2.31798034]]) Variable([5.36476385]) Variable(0.08882995278605695)\n",
      "Variable([[2.31286689]]) Variable([5.3673596]) Variable(0.08849436347219049)\n",
      "Variable([[2.30782159]]) Variable([5.36991973]) Variable(0.08816771469564999)\n",
      "Variable([[2.30284363]]) Variable([5.3724449]) Variable(0.08784976822950144)\n",
      "Variable([[2.29793221]]) Variable([5.37493575]) Variable(0.08754029221162851)\n",
      "Variable([[2.29308646]]) Variable([5.37739285]) Variable(0.08723906096725743)\n",
      "Variable([[2.28830557]]) Variable([5.37981674]) Variable(0.08694585483964615)\n",
      "Variable([[2.2835887]]) Variable([5.38220792]) Variable(0.0866604600272269)\n",
      "Variable([[2.278935]]) Variable([5.38456689]) Variable(0.08638266842618712)\n",
      "Variable([[2.27434366]]) Variable([5.38689411]) Variable(0.0861122774778659)\n",
      "Variable([[2.26981384]]) Variable([5.38919004]) Variable(0.08584909002056745)\n",
      "Variable([[2.26534474]]) Variable([5.39145512]) Variable(0.08559291414552149)\n",
      "Variable([[2.26093555]]) Variable([5.39368978]) Variable(0.08534356305679344)\n",
      "Variable([[2.25658547]]) Variable([5.39589443]) Variable(0.08510085493499035)\n",
      "Variable([[2.25229371]]) Variable([5.39806949]) Variable(0.08486461280463413)\n",
      "Variable([[2.2480595]]) Variable([5.40021536]) Variable(0.08463466440508784)\n",
      "Variable([[2.24388206]]) Variable([5.40233244]) Variable(0.08441084206493275)\n",
      "Variable([[2.23976064]]) Variable([5.40442111]) Variable(0.08419298257969864)\n",
      "Variable([[2.23569448]]) Variable([5.40648177]) Variable(0.08398092709285435)\n",
      "Variable([[2.23168285]]) Variable([5.40851479]) Variable(0.08377452097997208)\n",
      "Variable([[2.22772501]]) Variable([5.41052054]) Variable(0.08357361373597812)\n",
      "Variable([[2.22382025]]) Variable([5.41249938]) Variable(0.08337805886540826)\n",
      "Variable([[2.21996785]]) Variable([5.41445169]) Variable(0.08318771377558704)\n",
      "Variable([[2.21616712]]) Variable([5.41637782]) Variable(0.08300243967265336)\n",
      "Variable([[2.21241735]]) Variable([5.41827811]) Variable(0.08282210146035615)\n",
      "Variable([[2.20871786]]) Variable([5.42015291]) Variable(0.08264656764154595)\n",
      "Variable([[2.20506799]]) Variable([5.42200258]) Variable(0.08247571022229121)\n",
      "Variable([[2.20146706]]) Variable([5.42382744]) Variable(0.08230940461854906)\n",
      "Variable([[2.19791443]]) Variable([5.42562782]) Variable(0.08214752956532231)\n",
      "Variable([[2.19440943]]) Variable([5.42740407]) Variable(0.08198996702823673)\n",
      "Variable([[2.19095144]]) Variable([5.42915649]) Variable(0.08183660211747391)\n",
      "Variable([[2.18753983]]) Variable([5.43088541]) Variable(0.08168732300399718)\n",
      "Variable([[2.18417396]]) Variable([5.43259114]) Variable(0.08154202083800904)\n",
      "Variable([[2.18085323]]) Variable([5.434274]) Variable(0.08140058966958151)\n",
      "Variable([[2.17757703]]) Variable([5.4359343]) Variable(0.08126292637140048)\n",
      "Variable([[2.17434477]]) Variable([5.43757232]) Variable(0.0811289305635685)\n",
      "Variable([[2.17115586]]) Variable([5.43918838]) Variable(0.08099850454041051)\n",
      "Variable([[2.16800971]]) Variable([5.44078277]) Variable(0.0808715531992303)\n",
      "Variable([[2.16490575]]) Variable([5.44235578]) Variable(0.08074798397096412)\n",
      "Variable([[2.16184341]]) Variable([5.44390769]) Variable(0.08062770675268231)\n",
      "Variable([[2.15882214]]) Variable([5.44543879]) Variable(0.08051063384188899)\n",
      "Variable([[2.15584139]]) Variable([5.44694936]) Variable(0.08039667987257197)\n",
      "Variable([[2.15290062]]) Variable([5.44843967]) Variable(0.08028576175295649)\n",
      "Variable([[2.14999928]]) Variable([5.44990999]) Variable(0.08017779860491725)\n",
      "Variable([[2.14713684]]) Variable([5.4513606]) Variable(0.08007271170500452)\n",
      "Variable([[2.1443128]]) Variable([5.45279175]) Variable(0.07997042442704135)\n",
      "Variable([[2.14152662]]) Variable([5.45420371]) Variable(0.07987086218625004)\n",
      "Variable([[2.13877781]]) Variable([5.45559674]) Variable(0.07977395238486742)\n",
      "Variable([[2.13606587]]) Variable([5.45697108]) Variable(0.07967962435920853)\n",
      "Variable([[2.13339029]]) Variable([5.458327]) Variable(0.07958780932814088)\n",
      "Variable([[2.13075059]]) Variable([5.45966473]) Variable(0.07949844034293135)\n",
      "Variable([[2.12814629]]) Variable([5.46098452]) Variable(0.07941145223842926)\n",
      "Variable([[2.12557692]]) Variable([5.46228661]) Variable(0.07932678158554966)\n",
      "Variable([[2.123042]]) Variable([5.46357124]) Variable(0.07924436664502324)\n",
      "Variable([[2.12054108]]) Variable([5.46483864]) Variable(0.07916414732237737)\n",
      "Variable([[2.11807369]]) Variable([5.46608905]) Variable(0.07908606512411756)\n",
      "Variable([[2.11563939]]) Variable([5.46732269]) Variable(0.07901006311507543)\n"
     ]
    }
   ],
   "source": [
    "lr = 0.1\n",
    "iters = 100\n",
    "\n",
    "for i in range(100):\n",
    "    y_pred = linear_regression(x)\n",
    "    loss = mean_squared_error(y, y_pred)\n",
    "    \n",
    "    W.cleargrad()\n",
    "    b.cleargrad()\n",
    "    loss.backward()\n",
    "    \n",
    "    W.data -= lr * W.grad.data\n",
    "    b.data -= lr * b.grad.data\n",
    "    \n",
    "    print(W, b, loss)"
   ]
  },
  {
   "cell_type": "code",
   "execution_count": 35,
   "metadata": {},
   "outputs": [
    {
     "data": {
      "image/png": "[encoded data removed]",
      "text/plain": [
       "<Figure size 432x288 with 1 Axes>"
      ]
     },
     "metadata": {
      "needs_background": "light"
     },
     "output_type": "display_data"
    }
   ],
   "source": [
    "import matplotlib.pyplot as plt\n",
    "\n",
    "np.random.seed(0)\n",
    "x = np.random.rand(100, 1)\n",
    "\n",
    "# last rand is disturbance(noise)\n",
    "y = 5 + 2*x + np.random.rand(100, 1)\n",
    "\n",
    "plt.scatter(x, y)\n",
    "\n",
    "x0, y0 = 0, linear_regression(np.array(0)).data[0][0]\n",
    "x1, y1 = 1, linear_regression(np.array(1)).data[0][0]\n",
    "\n",
    "plt.plot((x0, x1), (y0, y1), c='r');"
   ]
  },
  {
   "cell_type": "markdown",
   "metadata": {},
   "source": [
    "###  We can see it's well fitted :)!"
   ]
  },
  {
   "cell_type": "markdown",
   "metadata": {},
   "source": [
    "## Implement `mean_squared_error` function\n",
    "\n",
    "We used above like following..."
   ]
  },
  {
   "cell_type": "code",
   "execution_count": 48,
   "metadata": {},
   "outputs": [],
   "source": [
    "def mean_squared_error(x0, x1):\n",
    "    diff = x0 - x1\n",
    "    return F.sum(diff ** 2) / len(diff)"
   ]
  },
  {
   "cell_type": "code",
   "execution_count": 49,
   "metadata": {},
   "outputs": [
    {
     "ename": "TypeError",
     "evalue": "len() of unsized object",
     "output_type": "error",
     "traceback": [
      "\u001b[1;31m---------------------------------------------------------------------------\u001b[0m",
      "\u001b[1;31mTypeError\u001b[0m                                 Traceback (most recent call last)",
      "\u001b[1;32m<ipython-input-49-8bedd911f033>\u001b[0m in \u001b[0;36m<module>\u001b[1;34m\u001b[0m\n\u001b[0;32m      1\u001b[0m \u001b[1;31m# len doesn't work at scalar\u001b[0m\u001b[1;33m\u001b[0m\u001b[1;33m\u001b[0m\u001b[1;33m\u001b[0m\u001b[0m\n\u001b[1;32m----> 2\u001b[1;33m \u001b[0mlen\u001b[0m\u001b[1;33m(\u001b[0m\u001b[0mnp\u001b[0m\u001b[1;33m.\u001b[0m\u001b[0marray\u001b[0m\u001b[1;33m(\u001b[0m\u001b[1;36m1.\u001b[0m\u001b[1;33m)\u001b[0m\u001b[1;33m)\u001b[0m\u001b[1;33m\u001b[0m\u001b[1;33m\u001b[0m\u001b[0m\n\u001b[0m",
      "\u001b[1;31mTypeError\u001b[0m: len() of unsized object"
     ]
    }
   ],
   "source": [
    "# len doesn't work at scalar\n",
    "len(np.array(1.))"
   ]
  },
  {
   "cell_type": "code",
   "execution_count": 50,
   "metadata": {},
   "outputs": [
    {
     "name": "stdout",
     "output_type": "stream",
     "text": [
      "Variable(4.0)\n",
      "Variable([4.]) Variable([-4.])\n"
     ]
    }
   ],
   "source": [
    "x0 = Variable(np.array([7.0]))\n",
    "x1 = Variable(np.array([5.0]))\n",
    "\n",
    "y = mean_squared_error(x0, x1)\n",
    "y.backward()\n",
    "\n",
    "print(y)\n",
    "print(x0.grad, x1.grad)"
   ]
  },
  {
   "cell_type": "code",
   "execution_count": 51,
   "metadata": {},
   "outputs": [
    {
     "data": {
      "image/svg+xml": [
       "<?xml version=\"1.0\" encoding=\"UTF-8\" standalone=\"no\"?>\r\n",
       "<!DOCTYPE svg PUBLIC \"-//W3C//DTD SVG 1.1//EN\"\r\n",
       " \"http://www.w3.org/Graphics/SVG/1.1/DTD/svg11.dtd\">\r\n",
       "<!-- Generated by graphviz version 2.38.0 (20140413.2041)\r\n",
       " -->\r\n",
       "<!-- Title: g Pages: 1 -->\r\n",
       "<svg width=\"253pt\" height=\"620pt\"\r\n",
       " viewBox=\"0.00 0.00 253.09 620.00\" xmlns=\"http://www.w3.org/2000/svg\" xmlns:xlink=\"http://www.w3.org/1999/xlink\">\r\n",
       "<g id=\"graph0\" class=\"graph\" transform=\"scale(1 1) rotate(0) translate(4 616)\">\r\n",
       "<title>g</title>\r\n",
       "<polygon fill=\"white\" stroke=\"none\" points=\"-4,4 -4,-616 249.092,-616 249.092,4 -4,4\"/>\r\n",
       "<!-- 2427774747400 -->\r\n",
       "<g id=\"node1\" class=\"node\"><title>2427774747400</title>\r\n",
       "<ellipse fill=\"orange\" stroke=\"orange\" cx=\"158.696\" cy=\"-18\" rx=\"44.393\" ry=\"18\"/>\r\n",
       "<text text-anchor=\"middle\" x=\"158.696\" y=\"-14.3\" font-family=\"Times New Roman,serif\" font-size=\"14.00\">() float64</text>\r\n",
       "</g>\r\n",
       "<!-- 2427774746760 -->\r\n",
       "<g id=\"node2\" class=\"node\"><title>2427774746760</title>\r\n",
       "<polygon fill=\"lightblue\" stroke=\"lightblue\" points=\"185.696,-108 131.696,-108 131.696,-72 185.696,-72 185.696,-108\"/>\r\n",
       "<text text-anchor=\"middle\" x=\"158.696\" y=\"-86.3\" font-family=\"Times New Roman,serif\" font-size=\"14.00\">Div</text>\r\n",
       "</g>\r\n",
       "<!-- 2427774746760&#45;&gt;2427774747400 -->\r\n",
       "<g id=\"edge3\" class=\"edge\"><title>2427774746760&#45;&gt;2427774747400</title>\r\n",
       "<path fill=\"none\" stroke=\"black\" d=\"M158.696,-71.6966C158.696,-63.9827 158.696,-54.7125 158.696,-46.1124\"/>\r\n",
       "<polygon fill=\"black\" stroke=\"black\" points=\"162.196,-46.1043 158.696,-36.1043 155.196,-46.1044 162.196,-46.1043\"/>\r\n",
       "</g>\r\n",
       "<!-- 2427774746952 -->\r\n",
       "<g id=\"node3\" class=\"node\"><title>2427774746952</title>\r\n",
       "<ellipse fill=\"orange\" stroke=\"orange\" cx=\"109.696\" cy=\"-162\" rx=\"44.393\" ry=\"18\"/>\r\n",
       "<text text-anchor=\"middle\" x=\"109.696\" y=\"-158.3\" font-family=\"Times New Roman,serif\" font-size=\"14.00\">() float64</text>\r\n",
       "</g>\r\n",
       "<!-- 2427774746952&#45;&gt;2427774746760 -->\r\n",
       "<g id=\"edge1\" class=\"edge\"><title>2427774746952&#45;&gt;2427774746760</title>\r\n",
       "<path fill=\"none\" stroke=\"black\" d=\"M121.308,-144.411C127.056,-136.2 134.126,-126.099 140.566,-116.9\"/>\r\n",
       "<polygon fill=\"black\" stroke=\"black\" points=\"143.615,-118.646 146.483,-108.447 137.881,-114.632 143.615,-118.646\"/>\r\n",
       "</g>\r\n",
       "<!-- 2427774747144 -->\r\n",
       "<g id=\"node4\" class=\"node\"><title>2427774747144</title>\r\n",
       "<ellipse fill=\"orange\" stroke=\"orange\" cx=\"208.696\" cy=\"-162\" rx=\"36.2938\" ry=\"18\"/>\r\n",
       "<text text-anchor=\"middle\" x=\"208.696\" y=\"-158.3\" font-family=\"Times New Roman,serif\" font-size=\"14.00\">() int32</text>\r\n",
       "</g>\r\n",
       "<!-- 2427774747144&#45;&gt;2427774746760 -->\r\n",
       "<g id=\"edge2\" class=\"edge\"><title>2427774747144&#45;&gt;2427774746760</title>\r\n",
       "<path fill=\"none\" stroke=\"black\" d=\"M197.099,-144.765C191.091,-136.354 183.617,-125.89 176.864,-116.436\"/>\r\n",
       "<polygon fill=\"black\" stroke=\"black\" points=\"179.587,-114.227 170.927,-108.124 173.891,-118.296 179.587,-114.227\"/>\r\n",
       "</g>\r\n",
       "<!-- 2427774733768 -->\r\n",
       "<g id=\"node5\" class=\"node\"><title>2427774733768</title>\r\n",
       "<polygon fill=\"lightblue\" stroke=\"lightblue\" points=\"136.696,-252 82.6955,-252 82.6955,-216 136.696,-216 136.696,-252\"/>\r\n",
       "<text text-anchor=\"middle\" x=\"109.696\" y=\"-230.3\" font-family=\"Times New Roman,serif\" font-size=\"14.00\">Sum</text>\r\n",
       "</g>\r\n",
       "<!-- 2427774733768&#45;&gt;2427774746952 -->\r\n",
       "<g id=\"edge5\" class=\"edge\"><title>2427774733768&#45;&gt;2427774746952</title>\r\n",
       "<path fill=\"none\" stroke=\"black\" d=\"M109.696,-215.697C109.696,-207.983 109.696,-198.712 109.696,-190.112\"/>\r\n",
       "<polygon fill=\"black\" stroke=\"black\" points=\"113.196,-190.104 109.696,-180.104 106.196,-190.104 113.196,-190.104\"/>\r\n",
       "</g>\r\n",
       "<!-- 2427774734088 -->\r\n",
       "<g id=\"node6\" class=\"node\"><title>2427774734088</title>\r\n",
       "<ellipse fill=\"orange\" stroke=\"orange\" cx=\"109.696\" cy=\"-306\" rx=\"50.8918\" ry=\"18\"/>\r\n",
       "<text text-anchor=\"middle\" x=\"109.696\" y=\"-302.3\" font-family=\"Times New Roman,serif\" font-size=\"14.00\">(1,) float64</text>\r\n",
       "</g>\r\n",
       "<!-- 2427774734088&#45;&gt;2427774733768 -->\r\n",
       "<g id=\"edge4\" class=\"edge\"><title>2427774734088&#45;&gt;2427774733768</title>\r\n",
       "<path fill=\"none\" stroke=\"black\" d=\"M109.696,-287.697C109.696,-279.983 109.696,-270.712 109.696,-262.112\"/>\r\n",
       "<polygon fill=\"black\" stroke=\"black\" points=\"113.196,-262.104 109.696,-252.104 106.196,-262.104 113.196,-262.104\"/>\r\n",
       "</g>\r\n",
       "<!-- 2427774733896 -->\r\n",
       "<g id=\"node7\" class=\"node\"><title>2427774733896</title>\r\n",
       "<polygon fill=\"lightblue\" stroke=\"lightblue\" points=\"136.696,-396 82.6955,-396 82.6955,-360 136.696,-360 136.696,-396\"/>\r\n",
       "<text text-anchor=\"middle\" x=\"109.696\" y=\"-374.3\" font-family=\"Times New Roman,serif\" font-size=\"14.00\">Pow</text>\r\n",
       "</g>\r\n",
       "<!-- 2427774733896&#45;&gt;2427774734088 -->\r\n",
       "<g id=\"edge7\" class=\"edge\"><title>2427774733896&#45;&gt;2427774734088</title>\r\n",
       "<path fill=\"none\" stroke=\"black\" d=\"M109.696,-359.697C109.696,-351.983 109.696,-342.712 109.696,-334.112\"/>\r\n",
       "<polygon fill=\"black\" stroke=\"black\" points=\"113.196,-334.104 109.696,-324.104 106.196,-334.104 113.196,-334.104\"/>\r\n",
       "</g>\r\n",
       "<!-- 2427774733576 -->\r\n",
       "<g id=\"node8\" class=\"node\"><title>2427774733576</title>\r\n",
       "<ellipse fill=\"orange\" stroke=\"orange\" cx=\"109.696\" cy=\"-450\" rx=\"50.8918\" ry=\"18\"/>\r\n",
       "<text text-anchor=\"middle\" x=\"109.696\" y=\"-446.3\" font-family=\"Times New Roman,serif\" font-size=\"14.00\">(1,) float64</text>\r\n",
       "</g>\r\n",
       "<!-- 2427774733576&#45;&gt;2427774733896 -->\r\n",
       "<g id=\"edge6\" class=\"edge\"><title>2427774733576&#45;&gt;2427774733896</title>\r\n",
       "<path fill=\"none\" stroke=\"black\" d=\"M109.696,-431.697C109.696,-423.983 109.696,-414.712 109.696,-406.112\"/>\r\n",
       "<polygon fill=\"black\" stroke=\"black\" points=\"113.196,-406.104 109.696,-396.104 106.196,-406.104 113.196,-406.104\"/>\r\n",
       "</g>\r\n",
       "<!-- 2427774733256 -->\r\n",
       "<g id=\"node9\" class=\"node\"><title>2427774733256</title>\r\n",
       "<polygon fill=\"lightblue\" stroke=\"lightblue\" points=\"136.696,-540 82.6955,-540 82.6955,-504 136.696,-504 136.696,-540\"/>\r\n",
       "<text text-anchor=\"middle\" x=\"109.696\" y=\"-518.3\" font-family=\"Times New Roman,serif\" font-size=\"14.00\">Sub</text>\r\n",
       "</g>\r\n",
       "<!-- 2427774733256&#45;&gt;2427774733576 -->\r\n",
       "<g id=\"edge10\" class=\"edge\"><title>2427774733256&#45;&gt;2427774733576</title>\r\n",
       "<path fill=\"none\" stroke=\"black\" d=\"M109.696,-503.697C109.696,-495.983 109.696,-486.712 109.696,-478.112\"/>\r\n",
       "<polygon fill=\"black\" stroke=\"black\" points=\"113.196,-478.104 109.696,-468.104 106.196,-478.104 113.196,-478.104\"/>\r\n",
       "</g>\r\n",
       "<!-- 2427774733192 -->\r\n",
       "<g id=\"node10\" class=\"node\"><title>2427774733192</title>\r\n",
       "<ellipse fill=\"orange\" stroke=\"orange\" cx=\"50.6955\" cy=\"-594\" rx=\"50.8918\" ry=\"18\"/>\r\n",
       "<text text-anchor=\"middle\" x=\"50.6955\" y=\"-590.3\" font-family=\"Times New Roman,serif\" font-size=\"14.00\">(1,) float64</text>\r\n",
       "</g>\r\n",
       "<!-- 2427774733192&#45;&gt;2427774733256 -->\r\n",
       "<g id=\"edge8\" class=\"edge\"><title>2427774733192&#45;&gt;2427774733256</title>\r\n",
       "<path fill=\"none\" stroke=\"black\" d=\"M64.6777,-576.411C71.7411,-568.031 80.4637,-557.682 88.3445,-548.332\"/>\r\n",
       "<polygon fill=\"black\" stroke=\"black\" points=\"91.2218,-550.349 94.9904,-540.447 85.8694,-545.837 91.2218,-550.349\"/>\r\n",
       "</g>\r\n",
       "<!-- 2427774733128 -->\r\n",
       "<g id=\"node11\" class=\"node\"><title>2427774733128</title>\r\n",
       "<ellipse fill=\"orange\" stroke=\"orange\" cx=\"169.696\" cy=\"-594\" rx=\"50.8918\" ry=\"18\"/>\r\n",
       "<text text-anchor=\"middle\" x=\"169.696\" y=\"-590.3\" font-family=\"Times New Roman,serif\" font-size=\"14.00\">(1,) float64</text>\r\n",
       "</g>\r\n",
       "<!-- 2427774733128&#45;&gt;2427774733256 -->\r\n",
       "<g id=\"edge9\" class=\"edge\"><title>2427774733128&#45;&gt;2427774733256</title>\r\n",
       "<path fill=\"none\" stroke=\"black\" d=\"M155.476,-576.411C148.221,-567.946 139.243,-557.472 131.166,-548.049\"/>\r\n",
       "<polygon fill=\"black\" stroke=\"black\" points=\"133.815,-545.762 124.65,-540.447 128.5,-550.317 133.815,-545.762\"/>\r\n",
       "</g>\r\n",
       "</g>\r\n",
       "</svg>\r\n"
      ],
      "text/plain": [
       "<graphviz.files.Source at 0x23542a70b48>"
      ]
     },
     "execution_count": 51,
     "metadata": {},
     "output_type": "execute_result"
    }
   ],
   "source": [
    "from dezero.utils import visualize_graph\n",
    "\n",
    "visualize_graph(y)"
   ]
  },
  {
   "cell_type": "markdown",
   "metadata": {},
   "source": [
    "**We can see this makes unnecessary Variables while calculating `mean squared error` . Let's make this as a `function`**"
   ]
  },
  {
   "cell_type": "markdown",
   "metadata": {},
   "source": [
    "- forward\n",
    "### $L = \\frac{1}{N}\\sum\\limits^{N}_{i=1}(f(x_{i}) - y_{i})^{2}$\n",
    "- backward\n",
    "### $\\frac{\\partial{L}}{\\partial{y}} = \\frac{2}{N}\\sum\\limits^{N}_{i=1}(f(x_{i}) - y_{i})$\n",
    "### $\\frac{\\partial{L}}{\\partial{y_i}} = -\\frac{2}{N}\\sum\\limits^{N}_{i=1}(f(x_{i}) - y_{i})$"
   ]
  },
  {
   "cell_type": "code",
   "execution_count": 7,
   "metadata": {},
   "outputs": [],
   "source": [
    "from dezero import Function\n",
    "\n",
    "class MeanSquaredError(Function):\n",
    "    def forward(self, x0, x1):\n",
    "        diff = x0 - x1\n",
    "        y = (diff ** 2).sum() / len(diff)\n",
    "        return y\n",
    "    \n",
    "    def backward(self, gy):\n",
    "        x0, x1 = self.inputs\n",
    "        diff = x0 - x1\n",
    "        gx0 = gy * diff * (2. / len(diff))\n",
    "        gx1 = -gx0\n",
    "        return gx0, gx1\n",
    "    \n",
    "def mean_squared_error(x0, x1):\n",
    "    return MeanSquaredError()(x0, x1)\n"
   ]
  },
  {
   "cell_type": "code",
   "execution_count": 1,
   "metadata": {},
   "outputs": [
    {
     "name": "stdout",
     "output_type": "stream",
     "text": [
      "Variable(4.0)\n",
      "Variable([4.]) Variable([-4.])\n"
     ]
    }
   ],
   "source": [
    "from dezero import Variable\n",
    "from dezero.functions import mean_squared_error\n",
    "\n",
    "x0 = Variable(np.array([7.0]))\n",
    "x1 = Variable(np.array([5.0]))\n",
    "\n",
    "y = mean_squared_error(x0, x1)\n",
    "y.backward()\n",
    "\n",
    "print(y)\n",
    "print(x0.grad, x1.grad)"
   ]
  },
  {
   "cell_type": "code",
   "execution_count": 2,
   "metadata": {},
   "outputs": [
    {
     "data": {
      "image/svg+xml": [
       "<?xml version=\"1.0\" encoding=\"UTF-8\" standalone=\"no\"?>\r\n",
       "<!DOCTYPE svg PUBLIC \"-//W3C//DTD SVG 1.1//EN\"\r\n",
       " \"http://www.w3.org/Graphics/SVG/1.1/DTD/svg11.dtd\">\r\n",
       "<!-- Generated by graphviz version 2.38.0 (20140413.2041)\r\n",
       " -->\r\n",
       "<!-- Title: g Pages: 1 -->\r\n",
       "<svg width=\"228pt\" height=\"188pt\"\r\n",
       " viewBox=\"0.00 0.00 228.39 188.00\" xmlns=\"http://www.w3.org/2000/svg\" xmlns:xlink=\"http://www.w3.org/1999/xlink\">\r\n",
       "<g id=\"graph0\" class=\"graph\" transform=\"scale(1 1) rotate(0) translate(4 184)\">\r\n",
       "<title>g</title>\r\n",
       "<polygon fill=\"white\" stroke=\"none\" points=\"-4,4 -4,-184 224.391,-184 224.391,4 -4,4\"/>\r\n",
       "<!-- 2161132114504 -->\r\n",
       "<g id=\"node1\" class=\"node\"><title>2161132114504</title>\r\n",
       "<ellipse fill=\"orange\" stroke=\"orange\" cx=\"109.696\" cy=\"-18\" rx=\"44.393\" ry=\"18\"/>\r\n",
       "<text text-anchor=\"middle\" x=\"109.696\" y=\"-14.3\" font-family=\"Times New Roman,serif\" font-size=\"14.00\">() float64</text>\r\n",
       "</g>\r\n",
       "<!-- 2161132097160 -->\r\n",
       "<g id=\"node2\" class=\"node\"><title>2161132097160</title>\r\n",
       "<polygon fill=\"lightblue\" stroke=\"lightblue\" points=\"171.196,-108 48.1955,-108 48.1955,-72 171.196,-72 171.196,-108\"/>\r\n",
       "<text text-anchor=\"middle\" x=\"109.696\" y=\"-86.3\" font-family=\"Times New Roman,serif\" font-size=\"14.00\">MeanSquaredError</text>\r\n",
       "</g>\r\n",
       "<!-- 2161132097160&#45;&gt;2161132114504 -->\r\n",
       "<g id=\"edge3\" class=\"edge\"><title>2161132097160&#45;&gt;2161132114504</title>\r\n",
       "<path fill=\"none\" stroke=\"black\" d=\"M109.696,-71.6966C109.696,-63.9827 109.696,-54.7125 109.696,-46.1124\"/>\r\n",
       "<polygon fill=\"black\" stroke=\"black\" points=\"113.196,-46.1043 109.696,-36.1043 106.196,-46.1044 113.196,-46.1043\"/>\r\n",
       "</g>\r\n",
       "<!-- 2161132096520 -->\r\n",
       "<g id=\"node3\" class=\"node\"><title>2161132096520</title>\r\n",
       "<ellipse fill=\"orange\" stroke=\"orange\" cx=\"50.6955\" cy=\"-162\" rx=\"50.8918\" ry=\"18\"/>\r\n",
       "<text text-anchor=\"middle\" x=\"50.6955\" y=\"-158.3\" font-family=\"Times New Roman,serif\" font-size=\"14.00\">(1,) float64</text>\r\n",
       "</g>\r\n",
       "<!-- 2161132096520&#45;&gt;2161132097160 -->\r\n",
       "<g id=\"edge1\" class=\"edge\"><title>2161132096520&#45;&gt;2161132097160</title>\r\n",
       "<path fill=\"none\" stroke=\"black\" d=\"M64.6777,-144.411C71.7411,-136.031 80.4637,-125.682 88.3445,-116.332\"/>\r\n",
       "<polygon fill=\"black\" stroke=\"black\" points=\"91.2218,-118.349 94.9904,-108.447 85.8694,-113.837 91.2218,-118.349\"/>\r\n",
       "</g>\r\n",
       "<!-- 2161132096456 -->\r\n",
       "<g id=\"node4\" class=\"node\"><title>2161132096456</title>\r\n",
       "<ellipse fill=\"orange\" stroke=\"orange\" cx=\"169.696\" cy=\"-162\" rx=\"50.8918\" ry=\"18\"/>\r\n",
       "<text text-anchor=\"middle\" x=\"169.696\" y=\"-158.3\" font-family=\"Times New Roman,serif\" font-size=\"14.00\">(1,) float64</text>\r\n",
       "</g>\r\n",
       "<!-- 2161132096456&#45;&gt;2161132097160 -->\r\n",
       "<g id=\"edge2\" class=\"edge\"><title>2161132096456&#45;&gt;2161132097160</title>\r\n",
       "<path fill=\"none\" stroke=\"black\" d=\"M155.476,-144.411C148.221,-135.946 139.243,-125.472 131.166,-116.049\"/>\r\n",
       "<polygon fill=\"black\" stroke=\"black\" points=\"133.815,-113.762 124.65,-108.447 128.5,-118.317 133.815,-113.762\"/>\r\n",
       "</g>\r\n",
       "</g>\r\n",
       "</svg>\r\n"
      ],
      "text/plain": [
       "<graphviz.files.Source at 0x1f72d6114c8>"
      ]
     },
     "execution_count": 2,
     "metadata": {},
     "output_type": "execute_result"
    }
   ],
   "source": [
    "from dezero.utils import visualize_graph\n",
    "\n",
    "visualize_graph(y)"
   ]
  },
  {
   "cell_type": "markdown",
   "metadata": {},
   "source": [
    "### We can see the computational graph got a lot simple :)! We use less memory!"
   ]
  }
 ],
 "metadata": {
  "kernelspec": {
   "display_name": "Python 3",
   "language": "python",
   "name": "python3"
  },
  "language_info": {
   "codemirror_mode": {
    "name": "ipython",
    "version": 3
   },
   "file_extension": ".py",
   "mimetype": "text/x-python",
   "name": "python",
   "nbconvert_exporter": "python",
   "pygments_lexer": "ipython3",
   "version": "3.7.7"
  }
 },
 "nbformat": 4,
 "nbformat_minor": 4
}
