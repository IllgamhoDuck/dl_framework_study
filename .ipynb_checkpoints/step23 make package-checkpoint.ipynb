{
 "cells": [
  {
   "cell_type": "code",
   "execution_count": 1,
   "metadata": {},
   "outputs": [],
   "source": [
    "import numpy as np\n",
    "from dezero.core_simple import Variable"
   ]
  },
  {
   "cell_type": "code",
   "execution_count": 3,
   "metadata": {},
   "outputs": [
    {
     "name": "stdout",
     "output_type": "stream",
     "text": [
      "Variable(1.0)\n"
     ]
    }
   ],
   "source": [
    "x = Variable(np.array(1.0))\n",
    "print(x)"
   ]
  },
  {
   "cell_type": "markdown",
   "metadata": {},
   "source": [
    "We used `dezero.core_simple` to import `Variable` but we will change this to use just `dezero`"
   ]
  },
  {
   "cell_type": "markdown",
   "metadata": {},
   "source": [
    "when we import the module `dezero/__init__.py` run first so we will put the following code at here!\n",
    "\n",
    "```python\n",
    "from dezero.core_simple import Variable\n",
    "from dezero.core_simple import Function\n",
    "from dezero.core_simple import using_config\n",
    "from dezero.core_simple import no_grad\n",
    "from dezero.core_simple import as_array\n",
    "from dezero.core_simple import as_variable\n",
    "from dezero.core_simple import setup_variable\n",
    "\n",
    "setup_variable()\n",
    "```\n",
    "\n",
    "and now we can use the `Variable` without clear "
   ]
  },
  {
   "cell_type": "code",
   "execution_count": 1,
   "metadata": {},
   "outputs": [],
   "source": [
    "# from dezero.core_simple import Variable\n",
    "from dezero import Variable"
   ]
  },
  {
   "cell_type": "markdown",
   "metadata": {},
   "source": [
    "Later it will be replaced to `core.py` so we will distinguish the `simple_core` functions and `core` functions at `dezero/__init__.py`\n",
    "\n",
    "```python\n",
    "is_simple_core = True\n",
    "\n",
    "if is_simple_core:\n",
    "    from dezero.core_simple import Variable\n",
    "    from dezero.core_simple import Function\n",
    "    from dezero.core_simple import using_config\n",
    "    from dezero.core_simple import no_grad\n",
    "    from dezero.core_simple import as_array\n",
    "    from dezero.core_simple import as_variable\n",
    "    from dezero.core_simple import setup_variable\n",
    "else:\n",
    "    from dezero.core import Variable\n",
    "    from dezero.core import Function\n",
    "    \n",
    "setup_variable()\n",
    "```"
   ]
  },
  {
   "cell_type": "code",
   "execution_count": 5,
   "metadata": {},
   "outputs": [
    {
     "name": "stdout",
     "output_type": "stream",
     "text": [
      "Variable(16.0)\n",
      "8.0\n"
     ]
    }
   ],
   "source": [
    "# the __file__ is only used when we run this code at *.py file\n",
    "# so we check the globals() in case this code might run in jupyter notebook or colab\n",
    "if '__file__' in globals():\n",
    "    import os, sys\n",
    "    sys.path.append(os.path.join(os.path.dirname(__file__), '..'))\n",
    "    \n",
    "import numpy as np\n",
    "from dezero import Variable\n",
    "\n",
    "x = Variable(np.array(1.0))\n",
    "y = (x + 3) ** 2\n",
    "y.backward()\n",
    "\n",
    "print(y)\n",
    "print(x.grad)"
   ]
  }
 ],
 "metadata": {
  "kernelspec": {
   "display_name": "Python 3",
   "language": "python",
   "name": "python3"
  },
  "language_info": {
   "codemirror_mode": {
    "name": "ipython",
    "version": 3
   },
   "file_extension": ".py",
   "mimetype": "text/x-python",
   "name": "python",
   "nbconvert_exporter": "python",
   "pygments_lexer": "ipython3",
   "version": "3.7.7"
  }
 },
 "nbformat": 4,
 "nbformat_minor": 4
}
