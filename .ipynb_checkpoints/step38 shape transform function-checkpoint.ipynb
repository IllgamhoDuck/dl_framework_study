{
 "cells": [
  {
   "cell_type": "markdown",
   "metadata": {},
   "source": [
    "# Function transform shape consist with 2 types\n",
    "\n",
    "- Reshape\n",
    "- Transpose"
   ]
  },
  {
   "cell_type": "markdown",
   "metadata": {},
   "source": [
    "## Reshape\n",
    "\n",
    "changes the shape and does nothing more"
   ]
  },
  {
   "cell_type": "code",
   "execution_count": 1,
   "metadata": {},
   "outputs": [
    {
     "name": "stdout",
     "output_type": "stream",
     "text": [
      "[1 2 3 4 5 6]\n"
     ]
    }
   ],
   "source": [
    "import numpy as np\n",
    "\n",
    "x = np.array([[1, 2, 3],\n",
    "              [4, 5, 6]])\n",
    "y = np.reshape(x, (6,))\n",
    "\n",
    "print(y)"
   ]
  },
  {
   "cell_type": "code",
   "execution_count": 6,
   "metadata": {},
   "outputs": [],
   "source": [
    "from dezero import Function\n",
    "\n",
    "class Reshape(Function):\n",
    "    def __init__(self, shape):\n",
    "        self.shape = shape\n",
    "        \n",
    "    def forward(self, x):\n",
    "        self.x_shape = x.shape\n",
    "        y = x.reshape(self.shape)\n",
    "        return y\n",
    "    \n",
    "    def backward(self, gy):\n",
    "        return reshape(gy, self.x_shape)"
   ]
  },
  {
   "cell_type": "markdown",
   "metadata": {},
   "source": [
    "`Dezero` function should always get input as `Variable` or `ndarray` and output `Variable`"
   ]
  },
  {
   "cell_type": "code",
   "execution_count": 3,
   "metadata": {},
   "outputs": [],
   "source": [
    "from dezero.core import as_variable\n",
    "\n",
    "def reshape(x, shape):\n",
    "    if x.shape == shape:\n",
    "        return as_variable(x)\n",
    "    \n",
    "    return Reshape(shape)(x)"
   ]
  },
  {
   "cell_type": "markdown",
   "metadata": {},
   "source": [
    "Let's use the reshape function we made"
   ]
  },
  {
   "cell_type": "code",
   "execution_count": 1,
   "metadata": {},
   "outputs": [
    {
     "name": "stdout",
     "output_type": "stream",
     "text": [
      "Variable([[1 1 1]\n",
      "          [1 1 1]])\n"
     ]
    }
   ],
   "source": [
    "import numpy as np\n",
    "from dezero import Variable\n",
    "import dezero.functions as F\n",
    "\n",
    "x = Variable(np.array([[1, 2, 3],\n",
    "                      [4, 5, 6]]))\n",
    "y = F.reshape(x, (6,))\n",
    "y.backward(retain_grad=True)\n",
    "\n",
    "print(x.grad)"
   ]
  },
  {
   "cell_type": "markdown",
   "metadata": {},
   "source": [
    "### Let's make this more comfortable like we use at numpy!"
   ]
  },
  {
   "cell_type": "code",
   "execution_count": 2,
   "metadata": {},
   "outputs": [
    {
     "data": {
      "text/plain": [
       "array([[0.87522553, 0.34402703, 0.50711913],\n",
       "       [0.48789558, 0.83732238, 0.04576443]])"
      ]
     },
     "execution_count": 2,
     "metadata": {},
     "output_type": "execute_result"
    }
   ],
   "source": [
    "x = np.random.rand(1, 2, 3)\n",
    "\n",
    "# tuple\n",
    "y = x.reshape((2, 3))\n",
    "y"
   ]
  },
  {
   "cell_type": "code",
   "execution_count": 3,
   "metadata": {},
   "outputs": [
    {
     "data": {
      "text/plain": [
       "array([[0.87522553, 0.34402703, 0.50711913],\n",
       "       [0.48789558, 0.83732238, 0.04576443]])"
      ]
     },
     "execution_count": 3,
     "metadata": {},
     "output_type": "execute_result"
    }
   ],
   "source": [
    "# list\n",
    "y = x.reshape([2, 3])\n",
    "y"
   ]
  },
  {
   "cell_type": "code",
   "execution_count": 4,
   "metadata": {},
   "outputs": [
    {
     "data": {
      "text/plain": [
       "array([[0.87522553, 0.34402703, 0.50711913],\n",
       "       [0.48789558, 0.83732238, 0.04576443]])"
      ]
     },
     "execution_count": 4,
     "metadata": {},
     "output_type": "execute_result"
    }
   ],
   "source": [
    "# variable length input\n",
    "y = x.reshape(2, 3)\n",
    "y"
   ]
  },
  {
   "cell_type": "markdown",
   "metadata": {},
   "source": [
    "we will apply this to `dezero`\n",
    "\n",
    "```python\n",
    "import dezero\n",
    "\n",
    "class Variable:\n",
    "    ...\n",
    "    \n",
    "    def reshape(self, *shape):\n",
    "        if len(shape) == 1 and isinstance(shape[0], (tuple, list)):\n",
    "            shape = shape[0]\n",
    "            \n",
    "        # avoid circulur import\n",
    "        return dezero.functions.reshape(self, shape)\n",
    "    \n",
    "    \n",
    "# Modify __init__.py too\n",
    "if is_simple_core:\n",
    "    ...\n",
    "else:\n",
    "    from dezero.core import Variable\n",
    "    ...\n",
    "    from dezero.core import setup_variable\n",
    "\n",
    "    # add this to be able to use functions pointer from dezero \n",
    "    import dezero.functions\n",
    "\n",
    "```"
   ]
  },
  {
   "cell_type": "markdown",
   "metadata": {},
   "source": [
    "### Why we use `dezero.functions.reshape` rather `F.reshape`?\n",
    "\n",
    "When we use `F.reshape` then the following happens.\n",
    "\n",
    "```python\n",
    "\n",
    "import dezero.functions as F\n",
    "-> all the functions and class will be imported at function module\n",
    "-> so when we already imported F then the whole F will be reimported again\n",
    "\n",
    "...\n",
    "\n",
    "we can do like\n",
    "from dezero.functions import reshape\n",
    "\n",
    "...\n",
    "\n",
    "but for further usage\n",
    "import dezero\n",
    "-> dezero.functions.reshape could be a good option :)\n",
    "\n",
    "```"
   ]
  },
  {
   "cell_type": "code",
   "execution_count": 1,
   "metadata": {
    "scrolled": true
   },
   "outputs": [
    {
     "data": {
      "text/plain": [
       "Variable([[0.91682509 0.72797209 0.39677874]\n",
       "          [0.1607524  0.7098694  0.31384189]])"
      ]
     },
     "execution_count": 1,
     "metadata": {},
     "output_type": "execute_result"
    }
   ],
   "source": [
    "from dezero import Variable\n",
    "\n",
    "x = Variable(np.random.rand(1, 2, 3))\n",
    "\n",
    "# tuple\n",
    "y = x.reshape((2, 3))\n",
    "y"
   ]
  },
  {
   "cell_type": "code",
   "execution_count": 2,
   "metadata": {},
   "outputs": [
    {
     "data": {
      "text/plain": [
       "Variable([[0.37393817 0.24085274 0.9684098 ]\n",
       "          [0.84604389 0.86379028 0.38923653]])"
      ]
     },
     "execution_count": 2,
     "metadata": {},
     "output_type": "execute_result"
    }
   ],
   "source": [
    "from dezero import Variable\n",
    "\n",
    "x = Variable(np.random.rand(1, 2, 3))\n",
    "\n",
    "# variable length input\n",
    "y = x.reshape(2, 3)\n",
    "y"
   ]
  },
  {
   "cell_type": "markdown",
   "metadata": {},
   "source": [
    "## Transpose\n",
    "\n",
    "Transpose the matrix"
   ]
  },
  {
   "cell_type": "code",
   "execution_count": 3,
   "metadata": {},
   "outputs": [
    {
     "name": "stdout",
     "output_type": "stream",
     "text": [
      "[[1 4]\n",
      " [2 5]\n",
      " [3 6]]\n"
     ]
    }
   ],
   "source": [
    "x = np.array([[1, 2, 3],\n",
    "              [4, 5, 6]])\n",
    "y = np.transpose(x)\n",
    "\n",
    "print(y)"
   ]
  },
  {
   "cell_type": "code",
   "execution_count": 6,
   "metadata": {},
   "outputs": [],
   "source": [
    "class Transpose(Function):\n",
    "    def forward(self, x):\n",
    "        y = np.transpose(x)\n",
    "        return y\n",
    "    \n",
    "    def backward(self, gy):\n",
    "        gx = transpose(gy)\n",
    "        return gx\n",
    "    \n",
    "def transpose(x):\n",
    "    return Transpose()(x)"
   ]
  },
  {
   "cell_type": "code",
   "execution_count": 1,
   "metadata": {},
   "outputs": [
    {
     "name": "stdout",
     "output_type": "stream",
     "text": [
      "Variable([[1 1 1]\n",
      "          [1 1 1]])\n"
     ]
    }
   ],
   "source": [
    "from dezero import Variable\n",
    "import dezero.functions as F\n",
    "\n",
    "x = Variable(np.array([[1, 2, 3],\n",
    "                       [4, 5, 6]]))\n",
    "y = F.transpose(x)\n",
    "y.backward()\n",
    "\n",
    "print(x.grad)"
   ]
  },
  {
   "cell_type": "markdown",
   "metadata": {},
   "source": [
    "we will apply this to `dezero` too like `reshape`\n",
    "\n",
    "```python\n",
    "import dezero\n",
    "\n",
    "class Variable:\n",
    "    ...\n",
    "    \n",
    "    def transpose(self):\n",
    "        return dezero.functions.transpose(self)\n",
    "\n",
    "    @property\n",
    "    def T(self):\n",
    "        return dezero.functions.transpose(self)\n",
    "    \n",
    "    -> @property makes T be able to use like\n",
    "    -> x.T rather then x.T()\n",
    "    \n",
    "```"
   ]
  },
  {
   "cell_type": "code",
   "execution_count": 1,
   "metadata": {},
   "outputs": [
    {
     "name": "stdout",
     "output_type": "stream",
     "text": [
      "Variable([[1 4]\n",
      "          [2 5]\n",
      "          [3 6]])\n",
      "Variable([[1 1 1]\n",
      "          [1 1 1]])\n"
     ]
    }
   ],
   "source": [
    "from dezero import Variable\n",
    "\n",
    "x = Variable(np.array([[1, 2, 3],\n",
    "                       [4, 5, 6]]))\n",
    "y = x.transpose()\n",
    "y.backward()\n",
    "\n",
    "print(y)\n",
    "print(x.grad)"
   ]
  },
  {
   "cell_type": "code",
   "execution_count": 2,
   "metadata": {},
   "outputs": [
    {
     "name": "stdout",
     "output_type": "stream",
     "text": [
      "Variable([[1 4]\n",
      "          [2 5]\n",
      "          [3 6]])\n",
      "Variable([[1 1 1]\n",
      "          [1 1 1]])\n"
     ]
    }
   ],
   "source": [
    "x = Variable(np.array([[1, 2, 3],\n",
    "                       [4, 5, 6]]))\n",
    "y = x.T\n",
    "y.backward()\n",
    "\n",
    "print(y)\n",
    "print(x.grad)"
   ]
  },
  {
   "cell_type": "markdown",
   "metadata": {},
   "source": [
    "### `transpose` by `axes`"
   ]
  },
  {
   "cell_type": "code",
   "execution_count": 46,
   "metadata": {},
   "outputs": [
    {
     "name": "stdout",
     "output_type": "stream",
     "text": [
      "(5, 4, 3, 7)\n",
      "(4, 7, 5, 3)\n"
     ]
    }
   ],
   "source": [
    "A, B, C, D = 5, 4, 3, 7\n",
    "x = np.random.rand(A, B, C, D)\n",
    "\n",
    "print(x.shape)\n",
    "y = x.transpose(1, 3, 0, 2)\n",
    "\n",
    "print(y.shape)"
   ]
  },
  {
   "cell_type": "markdown",
   "metadata": {},
   "source": [
    "reverse!"
   ]
  },
  {
   "cell_type": "code",
   "execution_count": 42,
   "metadata": {},
   "outputs": [
    {
     "name": "stdout",
     "output_type": "stream",
     "text": [
      "[0, 1, 2, 3]\n",
      "[0, 1, 2, 3]\n",
      "[0, 1, 2, 3]\n"
     ]
    }
   ],
   "source": [
    "axes = [0, 1, 2, 3]\n",
    "\n",
    "axes_len = len(axes)\n",
    "\n",
    "print(axes)\n",
    "print([ax % axes_len for ax in axes])\n",
    "print(list(np.argsort([ax % axes_len for ax in axes])))"
   ]
  },
  {
   "cell_type": "code",
   "execution_count": 47,
   "metadata": {},
   "outputs": [],
   "source": [
    "axes = list([1, 3, 0, 2])\n",
    "axes_len = len(axes)"
   ]
  },
  {
   "cell_type": "code",
   "execution_count": 48,
   "metadata": {},
   "outputs": [
    {
     "name": "stdout",
     "output_type": "stream",
     "text": [
      "[1, 3, 0, 2]\n",
      "[1, 3, 0, 2]\n",
      "[2, 0, 3, 1]\n"
     ]
    }
   ],
   "source": [
    "print(axes)\n",
    "print([ax % axes_len for ax in axes])\n",
    "print(list(np.argsort([ax % axes_len for ax in axes])))"
   ]
  },
  {
   "cell_type": "code",
   "execution_count": 49,
   "metadata": {},
   "outputs": [],
   "source": [
    "z = y.transpose(2, 0, 3, 1)"
   ]
  },
  {
   "cell_type": "code",
   "execution_count": 50,
   "metadata": {},
   "outputs": [
    {
     "data": {
      "text/plain": [
       "(5, 4, 3, 7)"
      ]
     },
     "execution_count": 50,
     "metadata": {},
     "output_type": "execute_result"
    }
   ],
   "source": [
    "z.shape"
   ]
  },
  {
   "cell_type": "code",
   "execution_count": 1,
   "metadata": {},
   "outputs": [],
   "source": [
    "from dezero import Function\n",
    "\n",
    "class Transpose(Function):\n",
    "    def __init__(self, axes=None):\n",
    "        self.axes = axes\n",
    "    \n",
    "    def forward(self, x):\n",
    "        y = np.transpose(x, axes=self.axes)\n",
    "        return y\n",
    "    \n",
    "    def backward(self, gy):\n",
    "        if self.axes is None:\n",
    "            gx = transpose(gy)\n",
    "        else:\n",
    "            axes_len = len(self.axes)\n",
    "            inv_axes = tuple(np.argsort([ax % axes_len for ax in self.axes]))\n",
    "            gx = transpose(gy, inv_axes)\n",
    "        return gx\n",
    "    \n",
    "def transpose(x, axes=None):\n",
    "    return Transpose(axes)(x)"
   ]
  },
  {
   "cell_type": "code",
   "execution_count": 1,
   "metadata": {},
   "outputs": [
    {
     "name": "stdout",
     "output_type": "stream",
     "text": [
      "Variable([[1 4]\n",
      "          [2 5]\n",
      "          [3 6]])\n",
      "Variable([[1 1 1]\n",
      "          [1 1 1]])\n"
     ]
    }
   ],
   "source": [
    "from dezero import Variable\n",
    "\n",
    "x = Variable(np.array([[1, 2, 3],\n",
    "                       [4, 5, 6]]))\n",
    "y = x.transpose()\n",
    "y.backward()\n",
    "\n",
    "print(y)\n",
    "print(x.grad)"
   ]
  },
  {
   "cell_type": "code",
   "execution_count": 8,
   "metadata": {},
   "outputs": [
    {
     "name": "stdout",
     "output_type": "stream",
     "text": [
      "(2, 7, 5)\n",
      "(7, 2, 5)\n"
     ]
    }
   ],
   "source": [
    "x = Variable(np.random.rand(7, 2, 5))\n",
    "y = x.transpose(1, 0, 2)\n",
    "y.backward()\n",
    "\n",
    "print(y.shape)\n",
    "print(x.grad.shape)"
   ]
  },
  {
   "cell_type": "code",
   "execution_count": 2,
   "metadata": {},
   "outputs": [
    {
     "name": "stdout",
     "output_type": "stream",
     "text": [
      "Variable([[1 4]\n",
      "          [2 5]\n",
      "          [3 6]])\n",
      "Variable([[1 1 1]\n",
      "          [1 1 1]])\n"
     ]
    }
   ],
   "source": [
    "x = Variable(np.array([[1, 2, 3],\n",
    "                       [4, 5, 6]]))\n",
    "y = x.T\n",
    "y.backward()\n",
    "\n",
    "print(y)\n",
    "print(x.grad)"
   ]
  }
 ],
 "metadata": {
  "kernelspec": {
   "display_name": "Python 3",
   "language": "python",
   "name": "python3"
  },
  "language_info": {
   "codemirror_mode": {
    "name": "ipython",
    "version": 3
   },
   "file_extension": ".py",
   "mimetype": "text/x-python",
   "name": "python",
   "nbconvert_exporter": "python",
   "pygments_lexer": "ipython3",
   "version": "3.7.7"
  }
 },
 "nbformat": 4,
 "nbformat_minor": 4
}
