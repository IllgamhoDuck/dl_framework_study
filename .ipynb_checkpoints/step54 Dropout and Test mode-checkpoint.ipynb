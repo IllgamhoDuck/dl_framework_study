{
 "cells": [
  {
   "cell_type": "markdown",
   "metadata": {},
   "source": [
    "## Overfitting\n",
    "\n",
    "- Too less training data\n",
    "    - Data augmentation\n",
    "- Representation ability of the model is too high\n",
    "    - Weight decay\n",
    "    - Dropout\n",
    "    - Batch Normalization"
   ]
  },
  {
   "cell_type": "markdown",
   "metadata": {},
   "source": [
    "## Dropout\n",
    "\n",
    "Remove the neurons randomly"
   ]
  },
  {
   "cell_type": "code",
   "execution_count": 7,
   "metadata": {},
   "outputs": [
    {
     "name": "stdout",
     "output_type": "stream",
     "text": [
      "[1. 0. 1. 1. 1. 1. 0. 0. 1. 0.]\n"
     ]
    }
   ],
   "source": [
    "import numpy as np\n",
    "\n",
    "dropout_ratio = 0.6\n",
    "x = np.ones(10)\n",
    "\n",
    "mask = np.random.rand(10) > dropout_ratio\n",
    "y = x * mask\n",
    "print(y)"
   ]
  },
  {
   "cell_type": "markdown",
   "metadata": {},
   "source": [
    "Dropout is considered similar as Ensemble.<br>\n",
    "Because dropout remove random neurons while traning and we could consider this as training several different models.\n",
    "\n",
    "---\n",
    "\n",
    "Dropout works different at `Train` and `Test` each."
   ]
  },
  {
   "cell_type": "markdown",
   "metadata": {},
   "source": [
    "### Train"
   ]
  },
  {
   "cell_type": "code",
   "execution_count": 8,
   "metadata": {},
   "outputs": [
    {
     "name": "stdout",
     "output_type": "stream",
     "text": [
      "[0. 0. 0. 0. 0. 0. 0. 1. 1. 0.]\n"
     ]
    }
   ],
   "source": [
    "mask = np.random.rand(10) > dropout_ratio\n",
    "y = x * mask\n",
    "print(y)"
   ]
  },
  {
   "cell_type": "markdown",
   "metadata": {},
   "source": [
    "### Test\n",
    "\n",
    "Only 40% of neurons survived at `Train`. So we scale down!"
   ]
  },
  {
   "cell_type": "code",
   "execution_count": 9,
   "metadata": {},
   "outputs": [
    {
     "name": "stdout",
     "output_type": "stream",
     "text": [
      "[0.4 0.4 0.4 0.4 0.4 0.4 0.4 0.4 0.4 0.4]\n"
     ]
    }
   ],
   "source": [
    "scale = 1 - dropout_ratio\n",
    "y = x * scale\n",
    "print(y)"
   ]
  },
  {
   "cell_type": "markdown",
   "metadata": {},
   "source": [
    "## Inverse Dropout\n",
    "\n",
    "Dropout serves `scaling` at **`Training`** rather than `Test`"
   ]
  },
  {
   "cell_type": "markdown",
   "metadata": {},
   "source": [
    "### Train"
   ]
  },
  {
   "cell_type": "code",
   "execution_count": 14,
   "metadata": {},
   "outputs": [
    {
     "name": "stdout",
     "output_type": "stream",
     "text": [
      "[2.5 0.  2.5 0.  2.5 0.  0.  0.  0.  0. ]\n"
     ]
    }
   ],
   "source": [
    "scale = 1 - dropout_ratio\n",
    "mask = np.random.rand(*x.shape) > dropout_ratio\n",
    "y = x * mask / scale\n",
    "print(y)"
   ]
  },
  {
   "cell_type": "markdown",
   "metadata": {},
   "source": [
    "### Test\n",
    "\n",
    "No need of **scaling** anymore!"
   ]
  },
  {
   "cell_type": "code",
   "execution_count": 15,
   "metadata": {},
   "outputs": [
    {
     "name": "stdout",
     "output_type": "stream",
     "text": [
      "[1. 1. 1. 1. 1. 1. 1. 1. 1. 1.]\n"
     ]
    }
   ],
   "source": [
    "y = x\n",
    "print(y)"
   ]
  },
  {
   "cell_type": "markdown",
   "metadata": {},
   "source": [
    "`Inverse Dropout` works as same as `Dropout`. But has **pros**!<br>\n",
    "\n",
    "- Doesn't do any more further process(scaling) while `Test`\n",
    "- We can change **dropout ratio** dynamically while training\n",
    "    - At `Dropout` we cannot change **dropout ratio** because if we change it won't work well at `Test`"
   ]
  },
  {
   "cell_type": "markdown",
   "metadata": {},
   "source": [
    "## Test mode\n",
    "\n",
    "All files could reference `Config` class by `dezero.Config` so we use this class to set train or not.\n",
    "\n",
    "```python\n",
    "class Config:\n",
    "    enable_backprop = True\n",
    "    train = True\n",
    "    \n",
    "@contextlib.contextmanager\n",
    "def using_config(name, value):\n",
    "    old_value = getattr(Config, name)\n",
    "    setattr(Config, name, value)\n",
    "    try:\n",
    "        yield\n",
    "    finally:\n",
    "        setattr(Config, name, old_value)\n",
    "        \n",
    "def test_mode():\n",
    "    return using_config('train', False)\n",
    "```"
   ]
  },
  {
   "cell_type": "markdown",
   "metadata": {},
   "source": [
    "## Implement `Dropout`"
   ]
  },
  {
   "cell_type": "markdown",
   "metadata": {},
   "source": [
    "### simple version"
   ]
  },
  {
   "cell_type": "code",
   "execution_count": 17,
   "metadata": {},
   "outputs": [],
   "source": [
    "def dropout_simple(x, dropout_ratio=0.5):\n",
    "    x = as_variable(x)\n",
    "    \n",
    "    if dezero.Config.train:\n",
    "        xp = cuda.get_array_module(x)\n",
    "        \n",
    "        mask = xp.random.rand(*x.shape) > dropout_ratio\n",
    "        scale = xp.array(1.0 - dropout_ratio).astype(x.dtype)\n",
    "        y = x * mask / scale\n",
    "        return y\n",
    "    else:\n",
    "        return x"
   ]
  },
  {
   "cell_type": "code",
   "execution_count": 10,
   "metadata": {},
   "outputs": [
    {
     "name": "stdout",
     "output_type": "stream",
     "text": [
      "[1. 1. 1. 1. 1.]\n",
      "Variable([0. 0. 2. 2. 0.])\n",
      "Variable([1. 1. 1. 1. 1.])\n"
     ]
    }
   ],
   "source": [
    "import numpy as np\n",
    "from dezero import test_mode\n",
    "import dezero.functions as F\n",
    "\n",
    "x = np.ones(5)\n",
    "print(x)\n",
    "\n",
    "# Train\n",
    "y = F.dropout_simple(x)\n",
    "print(y)\n",
    "\n",
    "# Test\n",
    "with test_mode():\n",
    "    y = F.dropout_simple(x)\n",
    "    print(y)"
   ]
  },
  {
   "cell_type": "markdown",
   "metadata": {},
   "source": [
    "### `Function` version"
   ]
  },
  {
   "cell_type": "code",
   "execution_count": 17,
   "metadata": {},
   "outputs": [],
   "source": [
    "class Dropout(Function):\n",
    "    def __init__(self, p=0.5):\n",
    "        self.p = p\n",
    "        \n",
    "    def forward(self, x):\n",
    "        if dezero.Config.train:\n",
    "            xp = cuda.get_array_module(x)\n",
    "\n",
    "            mask = xp.random.rand(*x.shape) > self.p\n",
    "            scale = xp.array(1.0 - self.p).astype(x.dtype)\n",
    "            \n",
    "            self.mask = mask\n",
    "            self.scale = scale\n",
    "            \n",
    "            y = x * mask / scale\n",
    "        else:\n",
    "            y = x\n",
    "\n",
    "        return y\n",
    "        \n",
    "    def backward(self, gy):\n",
    "        if dezero.Config.train:\n",
    "            gx = (gy / self.scale) * self.mask\n",
    "        else:\n",
    "            gx = gy\n",
    "\n",
    "        return gx\n",
    "        \n",
    "def dropout(x, p=0.5):\n",
    "    return Dropout(p=p)(x)\n",
    "    "
   ]
  },
  {
   "cell_type": "code",
   "execution_count": 1,
   "metadata": {},
   "outputs": [
    {
     "name": "stdout",
     "output_type": "stream",
     "text": [
      "[1. 1. 1. 1. 1.]\n",
      "Variable([0. 0. 0. 2. 0.])\n",
      "Variable([1. 1. 1. 1. 1.])\n"
     ]
    }
   ],
   "source": [
    "import numpy as np\n",
    "from dezero import test_mode\n",
    "import dezero.functions as F\n",
    "\n",
    "x = np.ones(5)\n",
    "print(x)\n",
    "\n",
    "# Train\n",
    "y = F.dropout(x)\n",
    "print(y)\n",
    "\n",
    "# Test\n",
    "with test_mode():\n",
    "    y = F.dropout(x)\n",
    "    print(y)"
   ]
  },
  {
   "cell_type": "markdown",
   "metadata": {},
   "source": [
    "### Does `Dropout` has **2nd** derivative?\n",
    "\n",
    "- **Nope**\n",
    "    - `gx` doens't connected to `x`"
   ]
  },
  {
   "cell_type": "code",
   "execution_count": 54,
   "metadata": {},
   "outputs": [
    {
     "name": "stdout",
     "output_type": "stream",
     "text": [
      "Variable([1. 1. 1. 1. 1.])\n",
      "Variable([2. 0. 0. 2. 2.])\n"
     ]
    },
    {
     "data": {
      "text/plain": [
       "array([2., 0., 0., 2., 2.])"
      ]
     },
     "execution_count": 54,
     "metadata": {},
     "output_type": "execute_result"
    }
   ],
   "source": [
    "from dezero import Variable\n",
    "\n",
    "x = Variable(np.ones(5))\n",
    "print(x)\n",
    "\n",
    "# Train\n",
    "y = F.dropout(x)\n",
    "print(y)\n",
    "\n",
    "y.backward(create_graph=True)\n",
    "x.grad.data"
   ]
  },
  {
   "cell_type": "code",
   "execution_count": 52,
   "metadata": {},
   "outputs": [
    {
     "data": {
      "text/plain": [
       "Variable([0. 0. 2. 0. 0.])"
      ]
     },
     "execution_count": 52,
     "metadata": {},
     "output_type": "execute_result"
    }
   ],
   "source": [
    "gx = x.grad\n",
    "x.cleargrad()\n",
    "gx"
   ]
  },
  {
   "cell_type": "code",
   "execution_count": 53,
   "metadata": {},
   "outputs": [],
   "source": [
    "gx.backward(create_graph=True)\n",
    "\n",
    "x.name = 'x'\n",
    "gx.name = 'gx'\n",
    "x.grad"
   ]
  },
  {
   "cell_type": "code",
   "execution_count": 45,
   "metadata": {},
   "outputs": [
    {
     "data": {
      "image/svg+xml": [
       "<?xml version=\"1.0\" encoding=\"UTF-8\" standalone=\"no\"?>\r\n",
       "<!DOCTYPE svg PUBLIC \"-//W3C//DTD SVG 1.1//EN\"\r\n",
       " \"http://www.w3.org/Graphics/SVG/1.1/DTD/svg11.dtd\">\r\n",
       "<!-- Generated by graphviz version 2.38.0 (20140413.2041)\r\n",
       " -->\r\n",
       "<!-- Title: g Pages: 1 -->\r\n",
       "<svg width=\"268pt\" height=\"332pt\"\r\n",
       " viewBox=\"0.00 0.00 267.94 332.00\" xmlns=\"http://www.w3.org/2000/svg\" xmlns:xlink=\"http://www.w3.org/1999/xlink\">\r\n",
       "<g id=\"graph0\" class=\"graph\" transform=\"scale(1 1) rotate(0) translate(4 328)\">\r\n",
       "<title>g</title>\r\n",
       "<polygon fill=\"white\" stroke=\"none\" points=\"-4,4 -4,-328 263.942,-328 263.942,4 -4,4\"/>\r\n",
       "<!-- 2178408857864 -->\r\n",
       "<g id=\"node1\" class=\"node\"><title>2178408857864</title>\r\n",
       "<ellipse fill=\"orange\" stroke=\"orange\" cx=\"161.696\" cy=\"-18\" rx=\"63.8893\" ry=\"18\"/>\r\n",
       "<text text-anchor=\"middle\" x=\"161.696\" y=\"-14.3\" font-family=\"Times New Roman,serif\" font-size=\"14.00\">gx: (5,) float64</text>\r\n",
       "</g>\r\n",
       "<!-- 2178408857416 -->\r\n",
       "<g id=\"node2\" class=\"node\"><title>2178408857416</title>\r\n",
       "<polygon fill=\"lightblue\" stroke=\"lightblue\" points=\"188.696,-108 134.696,-108 134.696,-72 188.696,-72 188.696,-108\"/>\r\n",
       "<text text-anchor=\"middle\" x=\"161.696\" y=\"-86.3\" font-family=\"Times New Roman,serif\" font-size=\"14.00\">Mul</text>\r\n",
       "</g>\r\n",
       "<!-- 2178408857416&#45;&gt;2178408857864 -->\r\n",
       "<g id=\"edge3\" class=\"edge\"><title>2178408857416&#45;&gt;2178408857864</title>\r\n",
       "<path fill=\"none\" stroke=\"black\" d=\"M161.696,-71.6966C161.696,-63.9827 161.696,-54.7125 161.696,-46.1124\"/>\r\n",
       "<polygon fill=\"black\" stroke=\"black\" points=\"165.196,-46.1043 161.696,-36.1043 158.196,-46.1044 165.196,-46.1043\"/>\r\n",
       "</g>\r\n",
       "<!-- 2178408857736 -->\r\n",
       "<g id=\"node3\" class=\"node\"><title>2178408857736</title>\r\n",
       "<ellipse fill=\"orange\" stroke=\"orange\" cx=\"106.696\" cy=\"-162\" rx=\"50.8918\" ry=\"18\"/>\r\n",
       "<text text-anchor=\"middle\" x=\"106.696\" y=\"-158.3\" font-family=\"Times New Roman,serif\" font-size=\"14.00\">(5,) float64</text>\r\n",
       "</g>\r\n",
       "<!-- 2178408857736&#45;&gt;2178408857416 -->\r\n",
       "<g id=\"edge1\" class=\"edge\"><title>2178408857736&#45;&gt;2178408857416</title>\r\n",
       "<path fill=\"none\" stroke=\"black\" d=\"M119.73,-144.411C126.314,-136.031 134.446,-125.682 141.792,-116.332\"/>\r\n",
       "<polygon fill=\"black\" stroke=\"black\" points=\"144.561,-118.472 147.987,-108.447 139.057,-114.148 144.561,-118.472\"/>\r\n",
       "</g>\r\n",
       "<!-- 2178408857800 -->\r\n",
       "<g id=\"node4\" class=\"node\"><title>2178408857800</title>\r\n",
       "<ellipse fill=\"orange\" stroke=\"orange\" cx=\"217.696\" cy=\"-162\" rx=\"42.4939\" ry=\"18\"/>\r\n",
       "<text text-anchor=\"middle\" x=\"217.696\" y=\"-158.3\" font-family=\"Times New Roman,serif\" font-size=\"14.00\">(5,) bool</text>\r\n",
       "</g>\r\n",
       "<!-- 2178408857800&#45;&gt;2178408857416 -->\r\n",
       "<g id=\"edge2\" class=\"edge\"><title>2178408857800&#45;&gt;2178408857416</title>\r\n",
       "<path fill=\"none\" stroke=\"black\" d=\"M204.707,-144.765C197.91,-136.268 189.437,-125.677 181.813,-116.146\"/>\r\n",
       "<polygon fill=\"black\" stroke=\"black\" points=\"184.375,-113.746 175.395,-108.124 178.909,-118.119 184.375,-113.746\"/>\r\n",
       "</g>\r\n",
       "<!-- 2178408857224 -->\r\n",
       "<g id=\"node5\" class=\"node\"><title>2178408857224</title>\r\n",
       "<polygon fill=\"lightblue\" stroke=\"lightblue\" points=\"133.696,-252 79.6955,-252 79.6955,-216 133.696,-216 133.696,-252\"/>\r\n",
       "<text text-anchor=\"middle\" x=\"106.696\" y=\"-230.3\" font-family=\"Times New Roman,serif\" font-size=\"14.00\">Div</text>\r\n",
       "</g>\r\n",
       "<!-- 2178408857224&#45;&gt;2178408857736 -->\r\n",
       "<g id=\"edge6\" class=\"edge\"><title>2178408857224&#45;&gt;2178408857736</title>\r\n",
       "<path fill=\"none\" stroke=\"black\" d=\"M106.696,-215.697C106.696,-207.983 106.696,-198.712 106.696,-190.112\"/>\r\n",
       "<polygon fill=\"black\" stroke=\"black\" points=\"110.196,-190.104 106.696,-180.104 103.196,-190.104 110.196,-190.104\"/>\r\n",
       "</g>\r\n",
       "<!-- 2178408697032 -->\r\n",
       "<g id=\"node6\" class=\"node\"><title>2178408697032</title>\r\n",
       "<ellipse fill=\"orange\" stroke=\"orange\" cx=\"50.6955\" cy=\"-306\" rx=\"50.8918\" ry=\"18\"/>\r\n",
       "<text text-anchor=\"middle\" x=\"50.6955\" y=\"-302.3\" font-family=\"Times New Roman,serif\" font-size=\"14.00\">(5,) float64</text>\r\n",
       "</g>\r\n",
       "<!-- 2178408697032&#45;&gt;2178408857224 -->\r\n",
       "<g id=\"edge4\" class=\"edge\"><title>2178408697032&#45;&gt;2178408857224</title>\r\n",
       "<path fill=\"none\" stroke=\"black\" d=\"M63.9667,-288.411C70.671,-280.031 78.9501,-269.682 86.4301,-260.332\"/>\r\n",
       "<polygon fill=\"black\" stroke=\"black\" points=\"89.2241,-262.442 92.7381,-252.447 83.758,-258.069 89.2241,-262.442\"/>\r\n",
       "</g>\r\n",
       "<!-- 2178408857544 -->\r\n",
       "<g id=\"node7\" class=\"node\"><title>2178408857544</title>\r\n",
       "<ellipse fill=\"orange\" stroke=\"orange\" cx=\"163.696\" cy=\"-306\" rx=\"44.393\" ry=\"18\"/>\r\n",
       "<text text-anchor=\"middle\" x=\"163.696\" y=\"-302.3\" font-family=\"Times New Roman,serif\" font-size=\"14.00\">() float64</text>\r\n",
       "</g>\r\n",
       "<!-- 2178408857544&#45;&gt;2178408857224 -->\r\n",
       "<g id=\"edge5\" class=\"edge\"><title>2178408857544&#45;&gt;2178408857224</title>\r\n",
       "<path fill=\"none\" stroke=\"black\" d=\"M150.475,-288.765C143.557,-280.268 134.932,-269.677 127.172,-260.146\"/>\r\n",
       "<polygon fill=\"black\" stroke=\"black\" points=\"129.668,-257.668 120.639,-252.124 124.24,-262.088 129.668,-257.668\"/>\r\n",
       "</g>\r\n",
       "</g>\r\n",
       "</svg>\r\n"
      ],
      "text/plain": [
       "<graphviz.files.Source at 0x1fb3349aec8>"
      ]
     },
     "execution_count": 45,
     "metadata": {},
     "output_type": "execute_result"
    }
   ],
   "source": [
    "from dezero.utils import visualize_graph\n",
    "\n",
    "visualize_graph(gx)"
   ]
  },
  {
   "cell_type": "markdown",
   "metadata": {},
   "source": [
    "## `Dropout` with `MNIST`"
   ]
  },
  {
   "cell_type": "code",
   "execution_count": 67,
   "metadata": {},
   "outputs": [],
   "source": [
    "import time\n",
    "import math\n",
    "import numpy as np\n",
    "\n",
    "import dezero\n",
    "\n",
    "from dezero import Model\n",
    "from dezero import optimizers\n",
    "from dezero import DataLoader\n",
    "\n",
    "import dezero.functions as F\n",
    "from dezero.models import MLP\n",
    "from dezero.datasets import MNIST"
   ]
  },
  {
   "cell_type": "markdown",
   "metadata": {},
   "source": [
    "### No Dropout 2 layers MLP"
   ]
  },
  {
   "cell_type": "code",
   "execution_count": 117,
   "metadata": {},
   "outputs": [],
   "source": [
    "class NoDropoutMLP(Model):\n",
    "    def __init__(self):\n",
    "        super().__init__()\n",
    "        self.model1 = MLP((hidden_size, 32))\n",
    "        self.model2 = MLP((32, 10))\n",
    "        \n",
    "    def forward(self, x):\n",
    "        return self.model2(self.model1(x))"
   ]
  },
  {
   "cell_type": "code",
   "execution_count": 139,
   "metadata": {},
   "outputs": [],
   "source": [
    "max_epoch = 20\n",
    "batch_size = 100\n",
    "hidden_size = 1000\n",
    "\n",
    "train_set = MNIST(train=True)\n",
    "test_set = MNIST(train=False)\n",
    "train_loader = DataLoader(train_set, batch_size)\n",
    "test_loader = DataLoader(test_set, batch_size, shuffle=False)\n",
    "\n",
    "model = NoDropoutMLP()\n",
    "optimizer = optimizers.SGD(lr=0.1).setup(model)"
   ]
  },
  {
   "cell_type": "code",
   "execution_count": 140,
   "metadata": {
    "scrolled": true
   },
   "outputs": [
    {
     "name": "stdout",
     "output_type": "stream",
     "text": [
      "epoch : 1\n",
      "train loss: 1.5026, accuracy: 0.5295, time: 5.3909[sec]\n",
      "test loss: 0.7362, accuracy: 0.8059\n",
      "epoch : 2\n",
      "train loss: 0.5806, accuracy: 0.8374, time: 5.3555[sec]\n",
      "test loss: 0.4225, accuracy: 0.8858\n",
      "epoch : 3\n",
      "train loss: 0.4053, accuracy: 0.8847, time: 5.4230[sec]\n",
      "test loss: 0.3516, accuracy: 0.9011\n",
      "epoch : 4\n",
      "train loss: 0.3471, accuracy: 0.8994, time: 5.3997[sec]\n",
      "test loss: 0.3191, accuracy: 0.9045\n",
      "epoch : 5\n",
      "train loss: 0.3152, accuracy: 0.9075, time: 5.4412[sec]\n",
      "test loss: 0.2926, accuracy: 0.9180\n",
      "epoch : 6\n",
      "train loss: 0.2942, accuracy: 0.9138, time: 5.4014[sec]\n",
      "test loss: 0.2923, accuracy: 0.9124\n",
      "epoch : 7\n",
      "train loss: 0.2790, accuracy: 0.9179, time: 5.4055[sec]\n",
      "test loss: 0.2635, accuracy: 0.9213\n",
      "epoch : 8\n",
      "train loss: 0.2653, accuracy: 0.9217, time: 5.7135[sec]\n",
      "test loss: 0.2548, accuracy: 0.9242\n",
      "epoch : 9\n",
      "train loss: 0.2545, accuracy: 0.9249, time: 5.5134[sec]\n",
      "test loss: 0.2456, accuracy: 0.9265\n",
      "epoch : 10\n",
      "train loss: 0.2460, accuracy: 0.9271, time: 5.5715[sec]\n",
      "test loss: 0.2373, accuracy: 0.9315\n",
      "epoch : 11\n",
      "train loss: 0.2372, accuracy: 0.9300, time: 5.6457[sec]\n",
      "test loss: 0.2437, accuracy: 0.9293\n",
      "epoch : 12\n",
      "train loss: 0.2304, accuracy: 0.9330, time: 5.5248[sec]\n",
      "test loss: 0.2324, accuracy: 0.9300\n",
      "epoch : 13\n",
      "train loss: 0.2237, accuracy: 0.9344, time: 5.6011[sec]\n",
      "test loss: 0.2227, accuracy: 0.9340\n",
      "epoch : 14\n",
      "train loss: 0.2168, accuracy: 0.9357, time: 5.4394[sec]\n",
      "test loss: 0.2170, accuracy: 0.9353\n",
      "epoch : 15\n",
      "train loss: 0.2103, accuracy: 0.9380, time: 5.4358[sec]\n",
      "test loss: 0.2130, accuracy: 0.9357\n",
      "epoch : 16\n",
      "train loss: 0.2051, accuracy: 0.9392, time: 5.4142[sec]\n",
      "test loss: 0.2156, accuracy: 0.9337\n",
      "epoch : 17\n",
      "train loss: 0.1997, accuracy: 0.9404, time: 5.4694[sec]\n",
      "test loss: 0.2116, accuracy: 0.9371\n",
      "epoch : 18\n",
      "train loss: 0.1944, accuracy: 0.9424, time: 5.4504[sec]\n",
      "test loss: 0.2017, accuracy: 0.9394\n",
      "epoch : 19\n",
      "train loss: 0.1898, accuracy: 0.9438, time: 5.4564[sec]\n",
      "test loss: 0.2103, accuracy: 0.9358\n",
      "epoch : 20\n",
      "train loss: 0.1846, accuracy: 0.9454, time: 5.5334[sec]\n",
      "test loss: 0.1917, accuracy: 0.9428\n"
     ]
    }
   ],
   "source": [
    "import os\n",
    "\n",
    "if dezero.cuda.gpu_enable:\n",
    "    train_loader.to_gpu()\n",
    "    test_loader.to_gpu()\n",
    "    model.to_gpu()\n",
    "\n",
    "epoch_list = []\n",
    "\n",
    "train_loss_list = []\n",
    "test_loss_list = []\n",
    "\n",
    "train_acc_list = []\n",
    "test_acc_list = []\n",
    "\n",
    "for epoch in range(max_epoch):\n",
    "    start = time.time()\n",
    "    sum_loss, sum_acc = 0, 0\n",
    "    \n",
    "    for x, y in train_loader:\n",
    "        \n",
    "        y_pred = model(x)\n",
    "        \n",
    "        loss = F.softmax_cross_entropy(y_pred, y)\n",
    "        acc = F.accuracy(y_pred, y)\n",
    "        \n",
    "        model.cleargrads()\n",
    "        loss.backward()\n",
    "        optimizer.update()\n",
    "        \n",
    "        sum_loss += float(loss.data) * len(y)\n",
    "        sum_acc += float(acc.data) * len(y)\n",
    "    \n",
    "    avg_loss = sum_loss / len(train_set)\n",
    "    avg_acc = sum_acc / len(train_set)\n",
    "    elasped_time = time.time() - start\n",
    "    \n",
    "    train_loss_list.append(avg_loss)\n",
    "    train_acc_list.append(avg_acc)\n",
    "    \n",
    "    print('epoch : {}'.format(epoch + 1))\n",
    "    print('train loss: {:.4f}, accuracy: {:.4f}, time: {:.4f}[sec]'.format(avg_loss, avg_acc, elasped_time))\n",
    "    \n",
    "    sum_loss, sum_acc = 0, 0\n",
    "    \n",
    "    with dezero.no_grad():\n",
    "        with dezero.test_mode():\n",
    "            for x, y in test_loader:\n",
    "                y_pred = model(x)\n",
    "\n",
    "                loss = F.softmax_cross_entropy(y_pred, y)\n",
    "                acc = F.accuracy(y_pred, y)\n",
    "\n",
    "                sum_loss += float(loss.data) * len(y)\n",
    "                sum_acc += float(acc.data) * len(y)\n",
    "            \n",
    "    avg_loss = sum_loss / len(test_set)\n",
    "    avg_acc = sum_acc / len(test_set)            \n",
    "    \n",
    "    test_loss_list.append(avg_loss)\n",
    "    test_acc_list.append(avg_acc)\n",
    "\n",
    "    print('test loss: {:.4f}, accuracy: {:.4f}'.format(avg_loss, avg_acc))\n",
    "\n",
    "    epoch_list.append(epoch + 1)    "
   ]
  },
  {
   "cell_type": "markdown",
   "metadata": {},
   "source": [
    "### Dropout 2 layers MLP"
   ]
  },
  {
   "cell_type": "code",
   "execution_count": 120,
   "metadata": {},
   "outputs": [],
   "source": [
    "class DropoutMLP(Model):\n",
    "    def __init__(self):\n",
    "        super().__init__()\n",
    "        self.model1 = MLP((hidden_size, 32))\n",
    "        self.model2 = MLP((32, 10))\n",
    "        \n",
    "    def forward(self, x):\n",
    "        return self.model2(F.dropout(self.model1(x)))"
   ]
  },
  {
   "cell_type": "code",
   "execution_count": 121,
   "metadata": {},
   "outputs": [],
   "source": [
    "max_epoch = 20\n",
    "batch_size = 100\n",
    "hidden_size = 1000\n",
    "\n",
    "train_set = MNIST(train=True)\n",
    "test_set = MNIST(train=False)\n",
    "train_loader = DataLoader(train_set, batch_size)\n",
    "test_loader = DataLoader(test_set, batch_size, shuffle=False)\n",
    "\n",
    "model = DropoutMLP()\n",
    "optimizer = optimizers.SGD(lr=0.1).setup(model)"
   ]
  },
  {
   "cell_type": "code",
   "execution_count": 122,
   "metadata": {
    "scrolled": true
   },
   "outputs": [
    {
     "name": "stdout",
     "output_type": "stream",
     "text": [
      "epoch : 1\n",
      "train loss: 1.6479, accuracy: 0.4629, time: 5.7674[sec]\n",
      "test loss: 0.8551, accuracy: 0.7407\n",
      "epoch : 2\n",
      "train loss: 0.8155, accuracy: 0.7420, time: 5.7969[sec]\n",
      "test loss: 0.5076, accuracy: 0.8596\n",
      "epoch : 3\n",
      "train loss: 0.6071, accuracy: 0.8128, time: 5.5646[sec]\n",
      "test loss: 0.4237, accuracy: 0.8740\n",
      "epoch : 4\n",
      "train loss: 0.5327, accuracy: 0.8368, time: 5.5545[sec]\n",
      "test loss: 0.3877, accuracy: 0.8824\n",
      "epoch : 5\n",
      "train loss: 0.4915, accuracy: 0.8498, time: 5.5380[sec]\n",
      "test loss: 0.3612, accuracy: 0.8948\n",
      "epoch : 6\n",
      "train loss: 0.4591, accuracy: 0.8631, time: 5.5266[sec]\n",
      "test loss: 0.3324, accuracy: 0.9004\n",
      "epoch : 7\n",
      "train loss: 0.4374, accuracy: 0.8698, time: 5.5555[sec]\n",
      "test loss: 0.3176, accuracy: 0.9060\n",
      "epoch : 8\n",
      "train loss: 0.4203, accuracy: 0.8745, time: 5.6877[sec]\n",
      "test loss: 0.3061, accuracy: 0.9091\n",
      "epoch : 9\n",
      "train loss: 0.4009, accuracy: 0.8819, time: 5.6344[sec]\n",
      "test loss: 0.2975, accuracy: 0.9111\n",
      "epoch : 10\n",
      "train loss: 0.3878, accuracy: 0.8847, time: 5.6767[sec]\n",
      "test loss: 0.2773, accuracy: 0.9177\n",
      "epoch : 11\n",
      "train loss: 0.3756, accuracy: 0.8893, time: 5.8665[sec]\n",
      "test loss: 0.2660, accuracy: 0.9213\n",
      "epoch : 12\n",
      "train loss: 0.3634, accuracy: 0.8936, time: 5.8636[sec]\n",
      "test loss: 0.2685, accuracy: 0.9228\n",
      "epoch : 13\n",
      "train loss: 0.3529, accuracy: 0.8959, time: 5.5695[sec]\n",
      "test loss: 0.2578, accuracy: 0.9231\n",
      "epoch : 14\n",
      "train loss: 0.3413, accuracy: 0.8997, time: 5.5710[sec]\n",
      "test loss: 0.2498, accuracy: 0.9287\n",
      "epoch : 15\n",
      "train loss: 0.3320, accuracy: 0.9021, time: 5.5948[sec]\n",
      "test loss: 0.2442, accuracy: 0.9286\n",
      "epoch : 16\n",
      "train loss: 0.3207, accuracy: 0.9056, time: 5.6781[sec]\n",
      "test loss: 0.2329, accuracy: 0.9323\n",
      "epoch : 17\n",
      "train loss: 0.3083, accuracy: 0.9088, time: 5.5872[sec]\n",
      "test loss: 0.2304, accuracy: 0.9323\n",
      "epoch : 18\n",
      "train loss: 0.3017, accuracy: 0.9113, time: 5.5697[sec]\n",
      "test loss: 0.2213, accuracy: 0.9368\n",
      "epoch : 19\n",
      "train loss: 0.2912, accuracy: 0.9154, time: 5.7842[sec]\n",
      "test loss: 0.2173, accuracy: 0.9337\n",
      "epoch : 20\n",
      "train loss: 0.2794, accuracy: 0.9181, time: 5.8041[sec]\n",
      "test loss: 0.2037, accuracy: 0.9405\n"
     ]
    }
   ],
   "source": [
    "import os\n",
    "\n",
    "if dezero.cuda.gpu_enable:\n",
    "    train_loader.to_gpu()\n",
    "    test_loader.to_gpu()\n",
    "    model.to_gpu()\n",
    "\n",
    "epoch_list = []\n",
    "\n",
    "train_loss_list_dropout = []\n",
    "test_loss_list_dropout = []\n",
    "\n",
    "train_acc_list_dropout = []\n",
    "test_acc_list_dropout = []\n",
    "\n",
    "for epoch in range(max_epoch):\n",
    "    start = time.time()\n",
    "    sum_loss, sum_acc = 0, 0\n",
    "    \n",
    "    for x, y in train_loader:\n",
    "        \n",
    "        y_pred = model(x)\n",
    "        \n",
    "        loss = F.softmax_cross_entropy(y_pred, y)\n",
    "        acc = F.accuracy(y_pred, y)\n",
    "        \n",
    "        model.cleargrads()\n",
    "        loss.backward()\n",
    "        optimizer.update()\n",
    "        \n",
    "        sum_loss += float(loss.data) * len(y)\n",
    "        sum_acc += float(acc.data) * len(y)\n",
    "    \n",
    "    avg_loss = sum_loss / len(train_set)\n",
    "    avg_acc = sum_acc / len(train_set)\n",
    "    elasped_time = time.time() - start\n",
    "    \n",
    "    train_loss_list_dropout.append(avg_loss)\n",
    "    train_acc_list_dropout.append(avg_acc)\n",
    "    \n",
    "    print('epoch : {}'.format(epoch + 1))\n",
    "    print('train loss: {:.4f}, accuracy: {:.4f}, time: {:.4f}[sec]'.format(avg_loss, avg_acc, elasped_time))\n",
    "    \n",
    "    sum_loss, sum_acc = 0, 0\n",
    "    \n",
    "    with dezero.no_grad():\n",
    "        with dezero.test_mode():\n",
    "            for x, y in test_loader:\n",
    "                y_pred = model(x)\n",
    "\n",
    "                loss = F.softmax_cross_entropy(y_pred, y)\n",
    "                acc = F.accuracy(y_pred, y)\n",
    "\n",
    "                sum_loss += float(loss.data) * len(y)\n",
    "                sum_acc += float(acc.data) * len(y)\n",
    "            \n",
    "    avg_loss = sum_loss / len(test_set)\n",
    "    avg_acc = sum_acc / len(test_set)            \n",
    "    \n",
    "    test_loss_list_dropout.append(avg_loss)\n",
    "    test_acc_list_dropout.append(avg_acc)\n",
    "\n",
    "    print('test loss: {:.4f}, accuracy: {:.4f}'.format(avg_loss, avg_acc))\n",
    "\n",
    "    epoch_list.append(epoch + 1)    "
   ]
  },
  {
   "cell_type": "markdown",
   "metadata": {},
   "source": [
    "### Result"
   ]
  },
  {
   "cell_type": "code",
   "execution_count": 137,
   "metadata": {},
   "outputs": [
    {
     "data": {
      "text/plain": [
       "[]"
      ]
     },
     "execution_count": 137,
     "metadata": {},
     "output_type": "execute_result"
    }
   ],
   "source": [
    "epoch_list"
   ]
  },
  {
   "cell_type": "code",
   "execution_count": 154,
   "metadata": {},
   "outputs": [],
   "source": [
    "import matplotlib.pyplot as plt\n",
    "\n",
    "def plot_loss_acc():\n",
    "    plt.figure(figsize=(12, 5))\n",
    "    \n",
    "    plt.subplot(1, 2, 1)\n",
    "    \n",
    "    plt.plot(epoch_list, train_loss_list, label='train - MLP', c='b')\n",
    "    plt.plot(epoch_list, test_loss_list, label='test - MLP', c='b', ls='--')\n",
    "    \n",
    "    plt.plot(epoch_list, train_loss_list_dropout, label='train - MLP + dropout', c='r')\n",
    "    plt.plot(epoch_list, test_loss_list_dropout, label='test - MLP + dropout', c='r', ls='--')\n",
    "\n",
    "    plt.xlabel('epoch')\n",
    "    plt.ylabel('loss')\n",
    "    \n",
    "    plt.legend()\n",
    "\n",
    "    plt.subplot(1, 2, 2)\n",
    "\n",
    "    plt.plot(epoch_list, train_acc_list, label='train - MLP', c='b')\n",
    "    plt.plot(epoch_list, test_acc_list, label='test - MLP', c='b', ls='--')\n",
    "    \n",
    "    plt.plot(epoch_list, train_acc_list_dropout, label='train - MLP + dropout', c='r')\n",
    "    plt.plot(epoch_list, test_acc_list_dropout, label='test - MLP + dropout', c='r', ls='--')\n",
    "\n",
    "    plt.xlabel('epoch')\n",
    "    plt.ylabel('accuracy')\n",
    "\n",
    "    plt.suptitle('MNIST loss & accuracy compare [ dropout vs no dropout ]', fontsize=15)\n",
    "    plt.legend()\n",
    "    plt.show()"
   ]
  },
  {
   "cell_type": "markdown",
   "metadata": {},
   "source": [
    "Experiment was held with `Dropout` - **0.5**\n",
    "\n",
    "---\n",
    "\n",
    "`No dropout` works better till 20 epochs.<br>\n",
    "Seems `Dropout` will be efficient after more epochs"
   ]
  },
  {
   "cell_type": "code",
   "execution_count": 155,
   "metadata": {},
   "outputs": [
    {
     "data": {
      "image/png": "[encoded data removed]",
      "text/plain": [
       "<Figure size 864x360 with 2 Axes>"
      ]
     },
     "metadata": {
      "needs_background": "light"
     },
     "output_type": "display_data"
    }
   ],
   "source": [
    "plot_loss_acc()"
   ]
  }
 ],
 "metadata": {
  "kernelspec": {
   "display_name": "Python 3",
   "language": "python",
   "name": "python3"
  },
  "language_info": {
   "codemirror_mode": {
    "name": "ipython",
    "version": 3
   },
   "file_extension": ".py",
   "mimetype": "text/x-python",
   "name": "python",
   "nbconvert_exporter": "python",
   "pygments_lexer": "ipython3",
   "version": "3.7.7"
  }
 },
 "nbformat": 4,
 "nbformat_minor": 4
}
