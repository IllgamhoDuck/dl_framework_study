{
 "cells": [
  {
   "cell_type": "markdown",
   "metadata": {},
   "source": [
    "## `Dataset` Class"
   ]
  },
  {
   "cell_type": "code",
   "execution_count": 1,
   "metadata": {},
   "outputs": [],
   "source": [
    "import numpy as np\n",
    "\n",
    "class Dataset:\n",
    "    def __init__(self, train=True):\n",
    "        self.train = train\n",
    "        self.data = None\n",
    "        self.label = None\n",
    "        self.prepare()\n",
    "        \n",
    "    def __getitem__(self, index):\n",
    "        assert np.isscalar(index)\n",
    "        if self.label is None:\n",
    "            return self.data[index], None\n",
    "        else:\n",
    "            return self.data[index], self.label[index]\n",
    "        \n",
    "    def __len__(self):\n",
    "        return len(self.data)\n",
    "    \n",
    "    def prepare(self):\n",
    "        pass"
   ]
  },
  {
   "cell_type": "markdown",
   "metadata": {},
   "source": [
    "Let's make `Spiral` class using it!"
   ]
  },
  {
   "cell_type": "code",
   "execution_count": 2,
   "metadata": {},
   "outputs": [],
   "source": [
    "class Spiral(Dataset):\n",
    "    def prepare(self):\n",
    "        self.data, self.label = get_spiral(self.train)"
   ]
  },
  {
   "cell_type": "code",
   "execution_count": 2,
   "metadata": {},
   "outputs": [
    {
     "name": "stdout",
     "output_type": "stream",
     "text": [
      "(array([-0.13981389, -0.00721657], dtype=float32), 1)\n",
      "300\n"
     ]
    }
   ],
   "source": [
    "import dezero\n",
    "\n",
    "train_set = dezero.datasets.Spiral(train=True)\n",
    "\n",
    "print(train_set[0])\n",
    "print(len(train_set))"
   ]
  },
  {
   "cell_type": "markdown",
   "metadata": {},
   "source": [
    "## Case of `Big data`\n",
    "\n",
    "we cannot maintain the big data at once at Dataset class.<br>\n",
    "So we have to load everytime when we use it!"
   ]
  },
  {
   "cell_type": "markdown",
   "metadata": {},
   "source": [
    "```python\n",
    "class BigData(Dataset):\n",
    "    def __getitem__(self, index):\n",
    "        x = np.load(\"data/{}.npy\".format(index))\n",
    "        y = np.load(\"data/{}.npy\".format(index))\n",
    "        \n",
    "        return x, y\n",
    "    \n",
    "    def __len__():\n",
    "        return 1000000\n",
    "```"
   ]
  },
  {
   "cell_type": "markdown",
   "metadata": {},
   "source": [
    "## Attach along the `datas`\n",
    "\n",
    "`Dataset` give you one data by one.<br>\n",
    "Let's attach this data all together"
   ]
  },
  {
   "cell_type": "code",
   "execution_count": 3,
   "metadata": {},
   "outputs": [
    {
     "data": {
      "text/plain": [
       "[(array([-0.13981389, -0.00721657], dtype=float32), 1),\n",
       " (array([0.37049392, 0.5820947 ], dtype=float32), 1),\n",
       " (array([ 0.1374263 , -0.17179643], dtype=float32), 2)]"
      ]
     },
     "execution_count": 3,
     "metadata": {},
     "output_type": "execute_result"
    }
   ],
   "source": [
    "import dezero\n",
    "\n",
    "train_set = dezero.datasets.Spiral(train=True)\n",
    "\n",
    "batch_index = [0, 1, 2]\n",
    "batch = [train_set[i] for i in batch_index]\n",
    "batch"
   ]
  },
  {
   "cell_type": "markdown",
   "metadata": {},
   "source": [
    "Let's make `x, y` data"
   ]
  },
  {
   "cell_type": "code",
   "execution_count": 4,
   "metadata": {},
   "outputs": [
    {
     "name": "stdout",
     "output_type": "stream",
     "text": [
      "[[-0.13981389 -0.00721657]\n",
      " [ 0.37049392  0.5820947 ]\n",
      " [ 0.1374263  -0.17179643]] (3, 2)\n",
      "[1 1 2] (3,)\n"
     ]
    }
   ],
   "source": [
    "x = np.array([example[0] for example in batch])\n",
    "y = np.array([example[1] for example in batch])\n",
    "\n",
    "print(x, x.shape)\n",
    "print(y, y.shape)"
   ]
  },
  {
   "cell_type": "markdown",
   "metadata": {},
   "source": [
    "## Train"
   ]
  },
  {
   "cell_type": "code",
   "execution_count": 6,
   "metadata": {},
   "outputs": [],
   "source": [
    "import math\n",
    "import numpy as np\n",
    "import dezero\n",
    "from dezero import optimizers\n",
    "import dezero.functions as F\n",
    "from dezero.models import MLP\n",
    "\n",
    "max_epoch = 300\n",
    "batch_size = 30\n",
    "hidden_size = 10\n",
    "lr = 1.0\n",
    "\n",
    "train_set = dezero.datasets.Spiral()\n",
    "model = MLP((hidden_size, 3))\n",
    "optimizer = optimizers.SGD(lr).setup(model)\n",
    "\n",
    "data_size = len(train_set)\n",
    "max_iter = math.ceil(data_size / batch_size)"
   ]
  },
  {
   "cell_type": "code",
   "execution_count": 7,
   "metadata": {},
   "outputs": [
    {
     "name": "stdout",
     "output_type": "stream",
     "text": [
      "epoch 1, loss 1.13\n",
      "epoch 2, loss 1.05\n",
      "epoch 3, loss 0.95\n",
      "epoch 4, loss 0.92\n",
      "epoch 5, loss 0.87\n",
      "epoch 6, loss 0.89\n",
      "epoch 7, loss 0.84\n",
      "epoch 8, loss 0.78\n",
      "epoch 9, loss 0.80\n",
      "epoch 10, loss 0.79\n",
      "epoch 11, loss 0.78\n",
      "epoch 12, loss 0.76\n",
      "epoch 13, loss 0.77\n",
      "epoch 14, loss 0.76\n",
      "epoch 15, loss 0.76\n",
      "epoch 16, loss 0.77\n",
      "epoch 17, loss 0.78\n",
      "epoch 18, loss 0.74\n",
      "epoch 19, loss 0.74\n",
      "epoch 20, loss 0.72\n",
      "epoch 21, loss 0.73\n",
      "epoch 22, loss 0.74\n",
      "epoch 23, loss 0.77\n",
      "epoch 24, loss 0.73\n",
      "epoch 25, loss 0.74\n",
      "epoch 26, loss 0.74\n",
      "epoch 27, loss 0.72\n",
      "epoch 28, loss 0.72\n",
      "epoch 29, loss 0.72\n",
      "epoch 30, loss 0.73\n",
      "epoch 31, loss 0.71\n",
      "epoch 32, loss 0.72\n",
      "epoch 33, loss 0.72\n",
      "epoch 34, loss 0.71\n",
      "epoch 35, loss 0.72\n",
      "epoch 36, loss 0.71\n",
      "epoch 37, loss 0.71\n",
      "epoch 38, loss 0.70\n",
      "epoch 39, loss 0.71\n",
      "epoch 40, loss 0.70\n",
      "epoch 41, loss 0.71\n",
      "epoch 42, loss 0.70\n",
      "epoch 43, loss 0.70\n",
      "epoch 44, loss 0.70\n",
      "epoch 45, loss 0.69\n",
      "epoch 46, loss 0.69\n",
      "epoch 47, loss 0.71\n",
      "epoch 48, loss 0.70\n",
      "epoch 49, loss 0.69\n",
      "epoch 50, loss 0.69\n",
      "epoch 51, loss 0.68\n",
      "epoch 52, loss 0.67\n",
      "epoch 53, loss 0.68\n",
      "epoch 54, loss 0.70\n",
      "epoch 55, loss 0.68\n",
      "epoch 56, loss 0.66\n",
      "epoch 57, loss 0.67\n",
      "epoch 58, loss 0.66\n",
      "epoch 59, loss 0.64\n",
      "epoch 60, loss 0.64\n",
      "epoch 61, loss 0.64\n",
      "epoch 62, loss 0.63\n",
      "epoch 63, loss 0.63\n",
      "epoch 64, loss 0.61\n",
      "epoch 65, loss 0.61\n",
      "epoch 66, loss 0.60\n",
      "epoch 67, loss 0.62\n",
      "epoch 68, loss 0.59\n",
      "epoch 69, loss 0.60\n",
      "epoch 70, loss 0.57\n",
      "epoch 71, loss 0.58\n",
      "epoch 72, loss 0.57\n",
      "epoch 73, loss 0.56\n",
      "epoch 74, loss 0.56\n",
      "epoch 75, loss 0.55\n",
      "epoch 76, loss 0.55\n",
      "epoch 77, loss 0.55\n",
      "epoch 78, loss 0.54\n",
      "epoch 79, loss 0.53\n",
      "epoch 80, loss 0.53\n",
      "epoch 81, loss 0.52\n",
      "epoch 82, loss 0.53\n",
      "epoch 83, loss 0.52\n",
      "epoch 84, loss 0.49\n",
      "epoch 85, loss 0.50\n",
      "epoch 86, loss 0.49\n",
      "epoch 87, loss 0.49\n",
      "epoch 88, loss 0.48\n",
      "epoch 89, loss 0.47\n",
      "epoch 90, loss 0.47\n",
      "epoch 91, loss 0.46\n",
      "epoch 92, loss 0.46\n",
      "epoch 93, loss 0.45\n",
      "epoch 94, loss 0.44\n",
      "epoch 95, loss 0.45\n",
      "epoch 96, loss 0.44\n",
      "epoch 97, loss 0.43\n",
      "epoch 98, loss 0.43\n",
      "epoch 99, loss 0.42\n",
      "epoch 100, loss 0.43\n",
      "epoch 101, loss 0.42\n",
      "epoch 102, loss 0.41\n",
      "epoch 103, loss 0.42\n",
      "epoch 104, loss 0.41\n",
      "epoch 105, loss 0.40\n",
      "epoch 106, loss 0.40\n",
      "epoch 107, loss 0.40\n",
      "epoch 108, loss 0.39\n",
      "epoch 109, loss 0.38\n",
      "epoch 110, loss 0.39\n",
      "epoch 111, loss 0.38\n",
      "epoch 112, loss 0.38\n",
      "epoch 113, loss 0.38\n",
      "epoch 114, loss 0.36\n",
      "epoch 115, loss 0.36\n",
      "epoch 116, loss 0.36\n",
      "epoch 117, loss 0.36\n",
      "epoch 118, loss 0.36\n",
      "epoch 119, loss 0.35\n",
      "epoch 120, loss 0.35\n",
      "epoch 121, loss 0.36\n",
      "epoch 122, loss 0.34\n",
      "epoch 123, loss 0.35\n",
      "epoch 124, loss 0.33\n",
      "epoch 125, loss 0.33\n",
      "epoch 126, loss 0.32\n",
      "epoch 127, loss 0.34\n",
      "epoch 128, loss 0.32\n",
      "epoch 129, loss 0.33\n",
      "epoch 130, loss 0.31\n",
      "epoch 131, loss 0.30\n",
      "epoch 132, loss 0.31\n",
      "epoch 133, loss 0.31\n",
      "epoch 134, loss 0.30\n",
      "epoch 135, loss 0.29\n",
      "epoch 136, loss 0.29\n",
      "epoch 137, loss 0.29\n",
      "epoch 138, loss 0.28\n",
      "epoch 139, loss 0.29\n",
      "epoch 140, loss 0.28\n",
      "epoch 141, loss 0.27\n",
      "epoch 142, loss 0.27\n",
      "epoch 143, loss 0.28\n",
      "epoch 144, loss 0.27\n",
      "epoch 145, loss 0.27\n",
      "epoch 146, loss 0.26\n",
      "epoch 147, loss 0.26\n",
      "epoch 148, loss 0.26\n",
      "epoch 149, loss 0.26\n",
      "epoch 150, loss 0.25\n",
      "epoch 151, loss 0.25\n",
      "epoch 152, loss 0.25\n",
      "epoch 153, loss 0.24\n",
      "epoch 154, loss 0.24\n",
      "epoch 155, loss 0.24\n",
      "epoch 156, loss 0.24\n",
      "epoch 157, loss 0.24\n",
      "epoch 158, loss 0.24\n",
      "epoch 159, loss 0.23\n",
      "epoch 160, loss 0.23\n",
      "epoch 161, loss 0.23\n",
      "epoch 162, loss 0.23\n",
      "epoch 163, loss 0.23\n",
      "epoch 164, loss 0.22\n",
      "epoch 165, loss 0.22\n",
      "epoch 166, loss 0.22\n",
      "epoch 167, loss 0.21\n",
      "epoch 168, loss 0.22\n",
      "epoch 169, loss 0.22\n",
      "epoch 170, loss 0.21\n",
      "epoch 171, loss 0.21\n",
      "epoch 172, loss 0.22\n",
      "epoch 173, loss 0.22\n",
      "epoch 174, loss 0.21\n",
      "epoch 175, loss 0.21\n",
      "epoch 176, loss 0.20\n",
      "epoch 177, loss 0.21\n",
      "epoch 178, loss 0.20\n",
      "epoch 179, loss 0.20\n",
      "epoch 180, loss 0.20\n",
      "epoch 181, loss 0.20\n",
      "epoch 182, loss 0.19\n",
      "epoch 183, loss 0.20\n",
      "epoch 184, loss 0.19\n",
      "epoch 185, loss 0.19\n",
      "epoch 186, loss 0.19\n",
      "epoch 187, loss 0.19\n",
      "epoch 188, loss 0.19\n",
      "epoch 189, loss 0.19\n",
      "epoch 190, loss 0.19\n",
      "epoch 191, loss 0.19\n",
      "epoch 192, loss 0.19\n",
      "epoch 193, loss 0.18\n",
      "epoch 194, loss 0.19\n",
      "epoch 195, loss 0.18\n",
      "epoch 196, loss 0.18\n",
      "epoch 197, loss 0.18\n",
      "epoch 198, loss 0.18\n",
      "epoch 199, loss 0.19\n",
      "epoch 200, loss 0.18\n",
      "epoch 201, loss 0.17\n",
      "epoch 202, loss 0.18\n",
      "epoch 203, loss 0.18\n",
      "epoch 204, loss 0.17\n",
      "epoch 205, loss 0.18\n",
      "epoch 206, loss 0.17\n",
      "epoch 207, loss 0.17\n",
      "epoch 208, loss 0.17\n",
      "epoch 209, loss 0.17\n",
      "epoch 210, loss 0.17\n",
      "epoch 211, loss 0.17\n",
      "epoch 212, loss 0.17\n",
      "epoch 213, loss 0.18\n",
      "epoch 214, loss 0.17\n",
      "epoch 215, loss 0.17\n",
      "epoch 216, loss 0.17\n",
      "epoch 217, loss 0.17\n",
      "epoch 218, loss 0.17\n",
      "epoch 219, loss 0.16\n",
      "epoch 220, loss 0.17\n",
      "epoch 221, loss 0.16\n",
      "epoch 222, loss 0.16\n",
      "epoch 223, loss 0.16\n",
      "epoch 224, loss 0.16\n",
      "epoch 225, loss 0.16\n",
      "epoch 226, loss 0.16\n",
      "epoch 227, loss 0.17\n",
      "epoch 228, loss 0.18\n",
      "epoch 229, loss 0.16\n",
      "epoch 230, loss 0.16\n",
      "epoch 231, loss 0.15\n",
      "epoch 232, loss 0.16\n",
      "epoch 233, loss 0.17\n",
      "epoch 234, loss 0.16\n",
      "epoch 235, loss 0.16\n",
      "epoch 236, loss 0.15\n",
      "epoch 237, loss 0.16\n",
      "epoch 238, loss 0.16\n",
      "epoch 239, loss 0.16\n",
      "epoch 240, loss 0.16\n",
      "epoch 241, loss 0.15\n",
      "epoch 242, loss 0.15\n",
      "epoch 243, loss 0.15\n",
      "epoch 244, loss 0.15\n",
      "epoch 245, loss 0.15\n",
      "epoch 246, loss 0.15\n",
      "epoch 247, loss 0.15\n",
      "epoch 248, loss 0.15\n",
      "epoch 249, loss 0.15\n",
      "epoch 250, loss 0.15\n",
      "epoch 251, loss 0.15\n",
      "epoch 252, loss 0.15\n",
      "epoch 253, loss 0.15\n",
      "epoch 254, loss 0.15\n",
      "epoch 255, loss 0.15\n",
      "epoch 256, loss 0.15\n",
      "epoch 257, loss 0.14\n",
      "epoch 258, loss 0.15\n",
      "epoch 259, loss 0.14\n",
      "epoch 260, loss 0.15\n",
      "epoch 261, loss 0.15\n",
      "epoch 262, loss 0.15\n",
      "epoch 263, loss 0.14\n",
      "epoch 264, loss 0.14\n",
      "epoch 265, loss 0.14\n",
      "epoch 266, loss 0.14\n",
      "epoch 267, loss 0.14\n",
      "epoch 268, loss 0.14\n",
      "epoch 269, loss 0.14\n",
      "epoch 270, loss 0.14\n",
      "epoch 271, loss 0.14\n",
      "epoch 272, loss 0.14\n",
      "epoch 273, loss 0.14\n",
      "epoch 274, loss 0.14\n",
      "epoch 275, loss 0.14\n",
      "epoch 276, loss 0.14\n",
      "epoch 277, loss 0.14\n",
      "epoch 278, loss 0.14\n",
      "epoch 279, loss 0.14\n",
      "epoch 280, loss 0.13\n",
      "epoch 281, loss 0.13\n",
      "epoch 282, loss 0.14\n",
      "epoch 283, loss 0.13\n",
      "epoch 284, loss 0.13\n",
      "epoch 285, loss 0.13\n",
      "epoch 286, loss 0.13\n",
      "epoch 287, loss 0.14\n",
      "epoch 288, loss 0.13\n",
      "epoch 289, loss 0.13\n",
      "epoch 290, loss 0.13\n",
      "epoch 291, loss 0.13\n",
      "epoch 292, loss 0.13\n",
      "epoch 293, loss 0.14\n",
      "epoch 294, loss 0.13\n",
      "epoch 295, loss 0.13\n",
      "epoch 296, loss 0.13\n",
      "epoch 297, loss 0.13\n",
      "epoch 298, loss 0.12\n",
      "epoch 299, loss 0.13\n",
      "epoch 300, loss 0.13\n"
     ]
    }
   ],
   "source": [
    "epoch_list = []\n",
    "loss_list = []\n",
    "\n",
    "for epoch in range(max_epoch):\n",
    "    index = np.random.permutation(data_size)\n",
    "    sum_loss = 0\n",
    "    \n",
    "    for i in range(max_iter):\n",
    "        # mini batch\n",
    "        batch_index = index[i*batch_size:(i + 1)*batch_size]\n",
    "        batch = [train_set[i] for i in batch_index]\n",
    "        \n",
    "        batch_x = np.array([example[0] for example in batch])\n",
    "        batch_y = np.array([example[1] for example in batch])\n",
    "\n",
    "        # model train\n",
    "        y_pred = model(batch_x)\n",
    "        loss = F.softmax_cross_entropy(y_pred, batch_y)\n",
    "        \n",
    "        model.cleargrads()\n",
    "        loss.backward()\n",
    "        optimizer.update()\n",
    "        \n",
    "        sum_loss += float(loss.data) * len(batch_y)\n",
    "        \n",
    "    avg_loss = sum_loss / data_size\n",
    "    print('epoch %d, loss %.2f' % (epoch + 1, avg_loss))\n",
    "    \n",
    "    epoch_list.append(epoch + 1)\n",
    "    loss_list.append(avg_loss)"
   ]
  },
  {
   "cell_type": "markdown",
   "metadata": {},
   "source": [
    "### Loss graph"
   ]
  },
  {
   "cell_type": "code",
   "execution_count": 8,
   "metadata": {},
   "outputs": [
    {
     "data": {
      "image/png": "[encoded data removed]",
      "text/plain": [
       "<Figure size 432x288 with 1 Axes>"
      ]
     },
     "metadata": {
      "needs_background": "light"
     },
     "output_type": "display_data"
    }
   ],
   "source": [
    "import matplotlib.pyplot as plt\n",
    "\n",
    "plt.plot(epoch_list, loss_list)\n",
    "plt.xlabel('epoch')\n",
    "plt.ylabel('loss')\n",
    "plt.show()"
   ]
  },
  {
   "cell_type": "markdown",
   "metadata": {},
   "source": [
    "### Decision boundary"
   ]
  },
  {
   "cell_type": "code",
   "execution_count": 14,
   "metadata": {},
   "outputs": [],
   "source": [
    "x0s = []\n",
    "x1s = []\n",
    "ys = []\n",
    "for i in range(len(train_set)):\n",
    "    x_i, y_i = train_set[i]\n",
    "    x0s.append(x_i[0])\n",
    "    x1s.append(x_i[1])\n",
    "    ys.append(y_i)\n",
    "    \n",
    "x0s, x1s, ys = np.array(x0s), np.array(x1s), np.array(ys)"
   ]
  },
  {
   "cell_type": "code",
   "execution_count": 15,
   "metadata": {
    "scrolled": false
   },
   "outputs": [
    {
     "data": {
      "image/png": "[encoded data removed]",
      "text/plain": [
       "<Figure size 720x504 with 1 Axes>"
      ]
     },
     "metadata": {
      "needs_background": "light"
     },
     "output_type": "display_data"
    }
   ],
   "source": [
    "x0_min, x0_max = -1, 1\n",
    "x1_min, x1_max = -1, 1\n",
    "\n",
    "XX0, XX1 = np.meshgrid(np.arange(x0_min, x0_max, (x0_max - x0_min)/1000),\n",
    "                       np.arange(x0_min, x0_max, (x0_max - x0_min)/1000))\n",
    "XS = np.array([XX0.ravel(), XX1.ravel()]).T\n",
    "\n",
    "predict_y = model(XS)\n",
    "YY = np.reshape(np.argmax(predict_y.data, axis=1), XX0.shape)\n",
    "\n",
    "plt.figure(figsize=(10, 7))\n",
    "plt.contourf(XX0, XX1, YY)\n",
    "\n",
    "colormap = plt.cm.get_cmap('rainbow', 3)\n",
    "colors = ['orange', 'white', 'purple']\n",
    "markers = [\"s\", \"+\", \"^\"]\n",
    "for i in range(3):\n",
    "    index = ys == i\n",
    "    marker = markers[i]\n",
    "    color = colors[i]\n",
    "    plt.scatter(x0s[index], x1s[index], c=color, cmap=colormap, marker=marker, label=f\"class {i + 1}\")\n",
    "    \n",
    "plt.xlim(x0_min, x0_max)\n",
    "plt.ylim(x1_min, x1_max)\n",
    "\n",
    "plt.xlabel(\"$x_0$\")\n",
    "plt.ylabel(\"$x_1$\")\n",
    "\n",
    "plt.title('Multi class classification with MLP and cross entropy')\n",
    "plt.legend()\n",
    "plt.show()"
   ]
  },
  {
   "cell_type": "markdown",
   "metadata": {},
   "source": [
    "## `Dataset` class preprocessing function\n",
    "\n",
    "`Preprocessing` is often done at data preprocessing!<br>\n",
    "Often called **`Data Augmentation`**!"
   ]
  },
  {
   "cell_type": "code",
   "execution_count": 16,
   "metadata": {},
   "outputs": [],
   "source": [
    "import numpy as np\n",
    "\n",
    "class Dataset:\n",
    "    def __init__(self, train=True, transform=None, target_transform=None):\n",
    "        self.train = train\n",
    "        \n",
    "        # Transformation\n",
    "        self.transform = transform\n",
    "        self.target_transform  = target_transform\n",
    "        if self.transform is None:\n",
    "            self.transform = lambda x: x\n",
    "        if self.target_transform is None:\n",
    "            self.target_transform = lambda x: x\n",
    "            \n",
    "        self.data = None\n",
    "        self.label = None\n",
    "        self.prepare()\n",
    "        \n",
    "    def __getitem__(self, index):\n",
    "        assert np.isscalar(index)\n",
    "        if self.label is None:\n",
    "            return self.transform(self.data[index]), None\n",
    "        else:\n",
    "            return self.transform(self.data[index]), \\\n",
    "                   self.target_transform(self.label[index])\n",
    "        \n",
    "    def __len__(self):\n",
    "        return len(self.data)\n",
    "    \n",
    "    def prepare(self):\n",
    "        pass"
   ]
  },
  {
   "cell_type": "markdown",
   "metadata": {},
   "source": [
    "### Data preprocessing - `Scaling`"
   ]
  },
  {
   "cell_type": "code",
   "execution_count": 3,
   "metadata": {},
   "outputs": [],
   "source": [
    "import dezero\n",
    "\n",
    "def f(x):\n",
    "    y = x / 2.0\n",
    "    return y\n",
    "\n",
    "train_set_scaling = dezero.datasets.Spiral(transform=f)\n",
    "train_set = dezero.datasets.Spiral()"
   ]
  },
  {
   "cell_type": "code",
   "execution_count": 4,
   "metadata": {},
   "outputs": [
    {
     "data": {
      "text/plain": [
       "((array([-0.13981389, -0.00721657], dtype=float32), 1),\n",
       " (array([-0.06990694, -0.00360829], dtype=float32), 1))"
      ]
     },
     "execution_count": 4,
     "metadata": {},
     "output_type": "execute_result"
    }
   ],
   "source": [
    "train_set[0], train_set_scaling[0]"
   ]
  },
  {
   "cell_type": "markdown",
   "metadata": {},
   "source": [
    "We can see the data set it well scaled! :)"
   ]
  },
  {
   "cell_type": "markdown",
   "metadata": {},
   "source": [
    "## More `Data Augmentation!`\n",
    "- `PIL Image` Transformation\n",
    "    - Convert\n",
    "    - Resize\n",
    "    - CentorCrop\n",
    "    - ToArray\n",
    "    - ToPIL\n",
    "    - etc\n",
    "    \n",
    "- `NumPy ndarray` Transformation\n",
    "    - Normalize\n",
    "    - Flatten\n",
    "    - AsType\n",
    "    - ToInt\n",
    "    - etc\n",
    "    "
   ]
  },
  {
   "cell_type": "code",
   "execution_count": null,
   "metadata": {},
   "outputs": [],
   "source": [
    "import numpy as np\n",
    "try:\n",
    "    import Image\n",
    "except ImportError:\n",
    "    from PIL import Image\n",
    "from dezero.utils import pair"
   ]
  },
  {
   "cell_type": "code",
   "execution_count": 5,
   "metadata": {},
   "outputs": [],
   "source": [
    "def pair(x):\n",
    "    if isinstance(x, int):\n",
    "        return (x, x)\n",
    "    elif isinstance(x, tuple):\n",
    "        assert len(x) == 2\n",
    "        return x\n",
    "    else:\n",
    "        raise ValueError"
   ]
  },
  {
   "cell_type": "markdown",
   "metadata": {},
   "source": [
    "### `PIL Image` Transformation - `Convert`"
   ]
  },
  {
   "cell_type": "code",
   "execution_count": 6,
   "metadata": {},
   "outputs": [],
   "source": [
    "class Convert:\n",
    "    def __init__(self, mode='RGB'):\n",
    "        self.mode = mode\n",
    "        \n",
    "    def __call__(self, img):\n",
    "        if self.mode == 'BGR':\n",
    "            img = img.convert('RGB')\n",
    "            r, g, b = img.split()\n",
    "            img = Image.merge('RGB', (b, g, r))\n",
    "            return mg\n",
    "        else:\n",
    "            return img.convert(self.mode)"
   ]
  },
  {
   "cell_type": "code",
   "execution_count": 7,
   "metadata": {},
   "outputs": [],
   "source": [
    "from PIL import Image"
   ]
  },
  {
   "cell_type": "code",
   "execution_count": 26,
   "metadata": {},
   "outputs": [
    {
     "name": "stdout",
     "output_type": "stream",
     "text": [
      "<PIL.PngImagePlugin.PngImageFile image mode=RGBA size=242x443 at 0x1D02E9318C8>\n"
     ]
    },
    {
     "data": {
      "image/png": "[encoded data removed]",
      "text/plain": [
       "<PIL.PngImagePlugin.PngImageFile image mode=RGBA size=242x443 at 0x1D02E9318C8>"
      ]
     },
     "execution_count": 26,
     "metadata": {},
     "output_type": "execute_result"
    }
   ],
   "source": [
    "img = Image.open('images/sum.png')\n",
    "print(img)\n",
    "img"
   ]
  },
  {
   "cell_type": "markdown",
   "metadata": {},
   "source": [
    "We can check that the format changes from `RGBA` -> `RGB`"
   ]
  },
  {
   "cell_type": "code",
   "execution_count": 17,
   "metadata": {},
   "outputs": [
    {
     "name": "stdout",
     "output_type": "stream",
     "text": [
      "<PIL.Image.Image image mode=RGB size=242x443 at 0x1D02E4DC688>\n"
     ]
    }
   ],
   "source": [
    "img = img.convert('RGB')\n",
    "print(img)"
   ]
  },
  {
   "cell_type": "code",
   "execution_count": 19,
   "metadata": {},
   "outputs": [
    {
     "data": {
      "text/plain": [
       "(<PIL.Image.Image image mode=L size=242x443 at 0x1D02E4C0748>,\n",
       " <PIL.Image.Image image mode=L size=242x443 at 0x1D02E4C0DC8>,\n",
       " <PIL.Image.Image image mode=L size=242x443 at 0x1D02E4C0E88>)"
      ]
     },
     "execution_count": 19,
     "metadata": {},
     "output_type": "execute_result"
    }
   ],
   "source": [
    "r, g, b = img.split()\n",
    "r, g, b"
   ]
  },
  {
   "cell_type": "markdown",
   "metadata": {},
   "source": [
    "Exchange the `R` and `B`!"
   ]
  },
  {
   "cell_type": "code",
   "execution_count": 23,
   "metadata": {},
   "outputs": [
    {
     "name": "stdout",
     "output_type": "stream",
     "text": [
      "<PIL.Image.Image image mode=RGB size=242x443 at 0x1D02E49AC88>\n"
     ]
    },
    {
     "data": {
      "image/png": "[encoded data removed]",
      "text/plain": [
       "<PIL.Image.Image image mode=RGB size=242x443 at 0x1D02E49AC88>"
      ]
     },
     "execution_count": 23,
     "metadata": {},
     "output_type": "execute_result"
    }
   ],
   "source": [
    "merged_img = Image.merge('RGB', (b, g, r))\n",
    "print(merged_img)\n",
    "merged_img"
   ]
  },
  {
   "cell_type": "markdown",
   "metadata": {},
   "source": [
    "So why we used this way?<br>\n",
    "-> Because Image doesn't support `BGR` model :)"
   ]
  },
  {
   "cell_type": "code",
   "execution_count": 24,
   "metadata": {
    "scrolled": false
   },
   "outputs": [
    {
     "ename": "ValueError",
     "evalue": "conversion from RGB to BGR not supported",
     "output_type": "error",
     "traceback": [
      "\u001b[1;31m---------------------------------------------------------------------------\u001b[0m",
      "\u001b[1;31mValueError\u001b[0m                                Traceback (most recent call last)",
      "\u001b[1;32m~\\anaconda3\\lib\\site-packages\\PIL\\Image.py\u001b[0m in \u001b[0;36mconvert\u001b[1;34m(self, mode, matrix, dither, palette, colors)\u001b[0m\n\u001b[0;32m   1014\u001b[0m         \u001b[1;32mtry\u001b[0m\u001b[1;33m:\u001b[0m\u001b[1;33m\u001b[0m\u001b[1;33m\u001b[0m\u001b[0m\n\u001b[1;32m-> 1015\u001b[1;33m             \u001b[0mim\u001b[0m \u001b[1;33m=\u001b[0m \u001b[0mself\u001b[0m\u001b[1;33m.\u001b[0m\u001b[0mim\u001b[0m\u001b[1;33m.\u001b[0m\u001b[0mconvert\u001b[0m\u001b[1;33m(\u001b[0m\u001b[0mmode\u001b[0m\u001b[1;33m,\u001b[0m \u001b[0mdither\u001b[0m\u001b[1;33m)\u001b[0m\u001b[1;33m\u001b[0m\u001b[1;33m\u001b[0m\u001b[0m\n\u001b[0m\u001b[0;32m   1016\u001b[0m         \u001b[1;32mexcept\u001b[0m \u001b[0mValueError\u001b[0m\u001b[1;33m:\u001b[0m\u001b[1;33m\u001b[0m\u001b[1;33m\u001b[0m\u001b[0m\n",
      "\u001b[1;31mValueError\u001b[0m: conversion from RGB to BGR not supported",
      "\nDuring handling of the above exception, another exception occurred:\n",
      "\u001b[1;31mValueError\u001b[0m                                Traceback (most recent call last)",
      "\u001b[1;32m<ipython-input-24-c94bf41f142b>\u001b[0m in \u001b[0;36m<module>\u001b[1;34m\u001b[0m\n\u001b[1;32m----> 1\u001b[1;33m \u001b[0mimg\u001b[0m \u001b[1;33m=\u001b[0m \u001b[0mimg\u001b[0m\u001b[1;33m.\u001b[0m\u001b[0mconvert\u001b[0m\u001b[1;33m(\u001b[0m\u001b[1;34m'BGR'\u001b[0m\u001b[1;33m)\u001b[0m\u001b[1;33m\u001b[0m\u001b[1;33m\u001b[0m\u001b[0m\n\u001b[0m\u001b[0;32m      2\u001b[0m \u001b[0mprint\u001b[0m\u001b[1;33m(\u001b[0m\u001b[0mimg\u001b[0m\u001b[1;33m)\u001b[0m\u001b[1;33m\u001b[0m\u001b[1;33m\u001b[0m\u001b[0m\n",
      "\u001b[1;32m~\\anaconda3\\lib\\site-packages\\PIL\\Image.py\u001b[0m in \u001b[0;36mconvert\u001b[1;34m(self, mode, matrix, dither, palette, colors)\u001b[0m\n\u001b[0;32m   1018\u001b[0m                 \u001b[1;31m# normalize source image and try again\u001b[0m\u001b[1;33m\u001b[0m\u001b[1;33m\u001b[0m\u001b[1;33m\u001b[0m\u001b[0m\n\u001b[0;32m   1019\u001b[0m                 \u001b[0mim\u001b[0m \u001b[1;33m=\u001b[0m \u001b[0mself\u001b[0m\u001b[1;33m.\u001b[0m\u001b[0mim\u001b[0m\u001b[1;33m.\u001b[0m\u001b[0mconvert\u001b[0m\u001b[1;33m(\u001b[0m\u001b[0mgetmodebase\u001b[0m\u001b[1;33m(\u001b[0m\u001b[0mself\u001b[0m\u001b[1;33m.\u001b[0m\u001b[0mmode\u001b[0m\u001b[1;33m)\u001b[0m\u001b[1;33m)\u001b[0m\u001b[1;33m\u001b[0m\u001b[1;33m\u001b[0m\u001b[0m\n\u001b[1;32m-> 1020\u001b[1;33m                 \u001b[0mim\u001b[0m \u001b[1;33m=\u001b[0m \u001b[0mim\u001b[0m\u001b[1;33m.\u001b[0m\u001b[0mconvert\u001b[0m\u001b[1;33m(\u001b[0m\u001b[0mmode\u001b[0m\u001b[1;33m,\u001b[0m \u001b[0mdither\u001b[0m\u001b[1;33m)\u001b[0m\u001b[1;33m\u001b[0m\u001b[1;33m\u001b[0m\u001b[0m\n\u001b[0m\u001b[0;32m   1021\u001b[0m             \u001b[1;32mexcept\u001b[0m \u001b[0mKeyError\u001b[0m \u001b[1;32mas\u001b[0m \u001b[0me\u001b[0m\u001b[1;33m:\u001b[0m\u001b[1;33m\u001b[0m\u001b[1;33m\u001b[0m\u001b[0m\n\u001b[0;32m   1022\u001b[0m                 \u001b[1;32mraise\u001b[0m \u001b[0mValueError\u001b[0m\u001b[1;33m(\u001b[0m\u001b[1;34m\"illegal conversion\"\u001b[0m\u001b[1;33m)\u001b[0m \u001b[1;32mfrom\u001b[0m \u001b[0me\u001b[0m\u001b[1;33m\u001b[0m\u001b[1;33m\u001b[0m\u001b[0m\n",
      "\u001b[1;31mValueError\u001b[0m: conversion from RGB to BGR not supported"
     ]
    }
   ],
   "source": [
    "img = img.convert('BGR')\n",
    "print(img)"
   ]
  },
  {
   "cell_type": "markdown",
   "metadata": {},
   "source": [
    "### `PIL Image` Transformation - `Resize`"
   ]
  },
  {
   "cell_type": "code",
   "execution_count": null,
   "metadata": {},
   "outputs": [],
   "source": [
    "class Resize:\n",
    "    \"\"\"Resize the input PIL image to the given size.\n",
    "    \n",
    "    Args:\n",
    "        size (int or (int, int)): Desired output size\n",
    "        mode (int): Desired interpolation\n",
    "    \"\"\"\n",
    "    def __init__(self, size, mode=Image.BILINEAR):\n",
    "        self.size = pair(size)\n",
    "        self.mode = mode\n",
    "        \n",
    "    def __call__(self, img):\n",
    "        return img.resize(self.size, self.mode)"
   ]
  },
  {
   "cell_type": "code",
   "execution_count": 33,
   "metadata": {},
   "outputs": [
    {
     "data": {
      "image/png": "[encoded data removed]",
      "text/plain": [
       "<PIL.Image.Image image mode=RGBA size=120x150 at 0x1D02F1482C8>"
      ]
     },
     "execution_count": 33,
     "metadata": {},
     "output_type": "execute_result"
    }
   ],
   "source": [
    "img.resize((120, 150))"
   ]
  },
  {
   "cell_type": "markdown",
   "metadata": {},
   "source": [
    "Look's cute :)"
   ]
  },
  {
   "cell_type": "markdown",
   "metadata": {},
   "source": [
    "### `PIL Image` Transformation - `CenterCrop`"
   ]
  },
  {
   "cell_type": "code",
   "execution_count": 34,
   "metadata": {},
   "outputs": [],
   "source": [
    "class CenterCrop:\n",
    "    \"\"\"Resize the input PIL image to the given size.\n",
    "    \n",
    "    Args:\n",
    "        size (int or (int, int)): Desired output size.\n",
    "        mode (int): Desired interpolation\n",
    "    \"\"\"\n",
    "    def __init__(self, size):\n",
    "        self.size = pair(size)\n",
    "        \n",
    "    def __call__(self, img):\n",
    "        W, H = img.size\n",
    "        OW, OH = self.size\n",
    "        \n",
    "        left = (W - OW) // 2\n",
    "        right = W - ((W - OW) // 2 + (W - OW) % 2)\n",
    "        \n",
    "        up = (H - OH) // 2\n",
    "        bottom = H - ((H - OH) // 2 + (H - OH) % 2)\n",
    "        \n",
    "        return img.crop((left, up, right, bottom))"
   ]
  },
  {
   "cell_type": "code",
   "execution_count": 38,
   "metadata": {},
   "outputs": [
    {
     "data": {
      "text/plain": [
       "(242, 443)"
      ]
     },
     "execution_count": 38,
     "metadata": {},
     "output_type": "execute_result"
    }
   ],
   "source": [
    "W, H = img.size\n",
    "W, H"
   ]
  },
  {
   "cell_type": "code",
   "execution_count": 42,
   "metadata": {},
   "outputs": [
    {
     "data": {
      "text/plain": [
       "(100, 200)"
      ]
     },
     "execution_count": 42,
     "metadata": {},
     "output_type": "execute_result"
    }
   ],
   "source": [
    "OW, OH = 100, 200\n",
    "OW, OH"
   ]
  },
  {
   "cell_type": "code",
   "execution_count": 43,
   "metadata": {},
   "outputs": [
    {
     "name": "stdout",
     "output_type": "stream",
     "text": [
      "left : 71, right : 171\n",
      "up : 121, bottom : 321\n"
     ]
    }
   ],
   "source": [
    "left = (W - OW) // 2\n",
    "right = W - ((W - OW) // 2 + (W - OW) % 2)\n",
    "\n",
    "print(f'left : {left}, right : {right}')\n",
    "\n",
    "up = (H - OH) // 2\n",
    "bottom = H - ((H - OH) // 2 + (H - OH) % 2)\n",
    "\n",
    "print(f'up : {up}, bottom : {bottom}')"
   ]
  },
  {
   "cell_type": "code",
   "execution_count": 44,
   "metadata": {},
   "outputs": [
    {
     "data": {
      "image/png": "[encoded data removed]",
      "text/plain": [
       "<PIL.Image.Image image mode=RGBA size=100x200 at 0x1D02F0BDAC8>"
      ]
     },
     "execution_count": 44,
     "metadata": {},
     "output_type": "execute_result"
    }
   ],
   "source": [
    "img.crop((left, up, right, bottom))"
   ]
  },
  {
   "cell_type": "markdown",
   "metadata": {},
   "source": [
    "### `PIL Image` Transformation - `ToArray`"
   ]
  },
  {
   "cell_type": "code",
   "execution_count": 45,
   "metadata": {},
   "outputs": [],
   "source": [
    "class ToArray:\n",
    "    \"\"\"Convert PIL Image to NumPy array.\"\"\"\n",
    "    def __init__(self, dtype=np.float32):\n",
    "        self.dtype = dtype\n",
    "        \n",
    "    def __call__(self, img):\n",
    "        if isinstance(img, np.ndarray):\n",
    "            return img\n",
    "        if isinstance(img, Image.Image):\n",
    "            img = np.asarray(img)\n",
    "            img = img.transpose(2, 0, 1)\n",
    "            img = img.astype(self.dtype)\n",
    "            return img\n",
    "        else:\n",
    "            raise TypeError"
   ]
  },
  {
   "cell_type": "code",
   "execution_count": 48,
   "metadata": {},
   "outputs": [
    {
     "data": {
      "text/plain": [
       "(443, 242, 4)"
      ]
     },
     "execution_count": 48,
     "metadata": {},
     "output_type": "execute_result"
    }
   ],
   "source": [
    "img = np.asarray(img)\n",
    "img.shape"
   ]
  },
  {
   "cell_type": "markdown",
   "metadata": {},
   "source": [
    "The shape is made as `H, W, C`.<br>\n",
    "We should turn this to `C, H, W`"
   ]
  },
  {
   "cell_type": "code",
   "execution_count": 56,
   "metadata": {},
   "outputs": [
    {
     "data": {
      "text/plain": [
       "(4, 443, 242)"
      ]
     },
     "execution_count": 56,
     "metadata": {},
     "output_type": "execute_result"
    }
   ],
   "source": [
    "numpy_img = img.transpose(2, 0, 1)\n",
    "numpy_img.shape"
   ]
  },
  {
   "cell_type": "code",
   "execution_count": 54,
   "metadata": {},
   "outputs": [
    {
     "data": {
      "text/plain": [
       "(dtype('uint8'), dtype('float32'))"
      ]
     },
     "execution_count": 54,
     "metadata": {},
     "output_type": "execute_result"
    }
   ],
   "source": [
    "img.dtype, img.astype(np.float32).dtype"
   ]
  },
  {
   "cell_type": "markdown",
   "metadata": {},
   "source": [
    "### `PIL Image` Transformation - `ToPIL`"
   ]
  },
  {
   "cell_type": "code",
   "execution_count": 55,
   "metadata": {},
   "outputs": [],
   "source": [
    "class ToPIL:\n",
    "    \"\"\"Convert NumPy Image to PIL array.\"\"\"\n",
    "    def __call__(self, array):\n",
    "        data = array.transpose(1, 2, 0)\n",
    "        return Image.fromarray(data)"
   ]
  },
  {
   "cell_type": "code",
   "execution_count": 58,
   "metadata": {},
   "outputs": [
    {
     "data": {
      "text/plain": [
       "(4, 443, 242)"
      ]
     },
     "execution_count": 58,
     "metadata": {},
     "output_type": "execute_result"
    }
   ],
   "source": [
    "numpy_img.shape"
   ]
  },
  {
   "cell_type": "code",
   "execution_count": 60,
   "metadata": {},
   "outputs": [
    {
     "data": {
      "text/plain": [
       "(443, 242, 4)"
      ]
     },
     "execution_count": 60,
     "metadata": {},
     "output_type": "execute_result"
    }
   ],
   "source": [
    "tranposed_numpy_img = numpy_img.transpose(1, 2, 0)\n",
    "tranposed_numpy_img.shape"
   ]
  },
  {
   "cell_type": "code",
   "execution_count": 61,
   "metadata": {},
   "outputs": [
    {
     "data": {
      "image/png": "[encoded data removed]",
      "text/plain": [
       "<PIL.Image.Image image mode=RGBA size=242x443 at 0x1D02F148B48>"
      ]
     },
     "execution_count": 61,
     "metadata": {},
     "output_type": "execute_result"
    }
   ],
   "source": [
    "Image.fromarray(tranposed_numpy_img)"
   ]
  },
  {
   "cell_type": "markdown",
   "metadata": {},
   "source": [
    "Well done :)!"
   ]
  },
  {
   "cell_type": "markdown",
   "metadata": {},
   "source": [
    "### `NumPy ndarray` Transformation - `Normalize`"
   ]
  },
  {
   "cell_type": "code",
   "execution_count": 72,
   "metadata": {},
   "outputs": [],
   "source": [
    "class Normalize:\n",
    "    \"\"\"Normalize a NumPy array with mean and standard deviation\n",
    "    \n",
    "    Args:\n",
    "        mean (float or sequence): mean for all values or\n",
    "                                  sequence of means for each channel\n",
    "        std (float or sequence): standard deviation for all values or\n",
    "                                 sequence of standard deviation for each channel\n",
    "    \"\"\"\n",
    "    def __init__(self, mean=0, std=1):\n",
    "        self.mean = mean\n",
    "        self.std = std\n",
    "        \n",
    "    def __call__(self, array):\n",
    "        mean, std = self.mean, self.std\n",
    "        \n",
    "        if not np.isscalar(mean):\n",
    "            mshape = [1] * array.ndim\n",
    "            mshape[0] = len(array) if len(self.mean) == 1 else len(self.mean)\n",
    "            mean = np.array(self.mean, dtype=array.dtype).reshape(*mshape)\n",
    "            \n",
    "        if not np.isscalar(std):\n",
    "            rshape = [1] * array.ndim\n",
    "            rshape[0] = len(array) if len(self.std) == 1 else len(self.std)\n",
    "            std = np.array(self.std, dtype=array.dtype).reshape(*rshape)\n",
    "            \n",
    "        return (array - mean) / std"
   ]
  },
  {
   "cell_type": "code",
   "execution_count": 66,
   "metadata": {},
   "outputs": [
    {
     "data": {
      "text/plain": [
       "((4, 443, 242), 3)"
      ]
     },
     "execution_count": 66,
     "metadata": {},
     "output_type": "execute_result"
    }
   ],
   "source": [
    "numpy_img.shape, numpy_img.ndim"
   ]
  },
  {
   "cell_type": "code",
   "execution_count": 63,
   "metadata": {},
   "outputs": [
    {
     "data": {
      "text/plain": [
       "[1, 1, 1]"
      ]
     },
     "execution_count": 63,
     "metadata": {},
     "output_type": "execute_result"
    }
   ],
   "source": [
    "[1] * numpy_img.ndim"
   ]
  },
  {
   "cell_type": "code",
   "execution_count": 68,
   "metadata": {},
   "outputs": [
    {
     "data": {
      "text/plain": [
       "4"
      ]
     },
     "execution_count": 68,
     "metadata": {},
     "output_type": "execute_result"
    }
   ],
   "source": [
    "len(numpy_img)"
   ]
  },
  {
   "cell_type": "code",
   "execution_count": 77,
   "metadata": {},
   "outputs": [
    {
     "data": {
      "text/plain": [
       "array([[[   1]],\n",
       "\n",
       "       [[  10]],\n",
       "\n",
       "       [[ 100]],\n",
       "\n",
       "       [[1000]]])"
      ]
     },
     "execution_count": 77,
     "metadata": {},
     "output_type": "execute_result"
    }
   ],
   "source": [
    "mean = np.array([1, 10, 100, 1000]).reshape(4, 1, 1)\n",
    "mean"
   ]
  },
  {
   "cell_type": "code",
   "execution_count": 78,
   "metadata": {},
   "outputs": [
    {
     "data": {
      "text/plain": [
       "array([[[ 254,  254,  254, ...,  254,  254,  254],\n",
       "        [ 254,  254,  254, ...,  254,  254,  254],\n",
       "        [ 254,  254,  254, ...,  254,  254,  254],\n",
       "        ...,\n",
       "        [ 254,  254,  254, ...,  254,  254,  254],\n",
       "        [ 254,  254,  254, ...,  254,  254,  254],\n",
       "        [ 254,  254,  254, ...,  254,  254,  254]],\n",
       "\n",
       "       [[ 245,  245,  245, ...,  245,  245,  245],\n",
       "        [ 245,  245,  245, ...,  245,  245,  245],\n",
       "        [ 245,  245,  245, ...,  245,  245,  245],\n",
       "        ...,\n",
       "        [ 245,  245,  245, ...,  245,  245,  245],\n",
       "        [ 245,  245,  245, ...,  245,  245,  245],\n",
       "        [ 245,  245,  245, ...,  245,  245,  245]],\n",
       "\n",
       "       [[ 155,  155,  155, ...,  155,  155,  155],\n",
       "        [ 155,  155,  155, ...,  155,  155,  155],\n",
       "        [ 155,  155,  155, ...,  155,  155,  155],\n",
       "        ...,\n",
       "        [ 155,  155,  155, ...,  155,  155,  155],\n",
       "        [ 155,  155,  155, ...,  155,  155,  155],\n",
       "        [ 155,  155,  155, ...,  155,  155,  155]],\n",
       "\n",
       "       [[-745, -745, -745, ..., -745, -745, -745],\n",
       "        [-745, -745, -745, ..., -745, -745, -745],\n",
       "        [-745, -745, -745, ..., -745, -745, -745],\n",
       "        ...,\n",
       "        [-745, -745, -745, ..., -745, -745, -745],\n",
       "        [-745, -745, -745, ..., -745, -745, -745],\n",
       "        [-887, -887, -887, ..., -887, -887, -887]]])"
      ]
     },
     "execution_count": 78,
     "metadata": {},
     "output_type": "execute_result"
    }
   ],
   "source": [
    "numpy_img - mean"
   ]
  },
  {
   "cell_type": "markdown",
   "metadata": {},
   "source": [
    "### `NumPy ndarray` Transformation - `Flatten`"
   ]
  },
  {
   "cell_type": "code",
   "execution_count": 79,
   "metadata": {},
   "outputs": [],
   "source": [
    "class Flatten:\n",
    "    \"\"\"Flatten a NumPy array\"\"\"\n",
    "    def __call__(self, array):\n",
    "        return array.flatten()"
   ]
  },
  {
   "cell_type": "code",
   "execution_count": 81,
   "metadata": {},
   "outputs": [
    {
     "data": {
      "text/plain": [
       "(array([255, 255, 255, ..., 113, 113, 113], dtype=uint8), (428824,))"
      ]
     },
     "execution_count": 81,
     "metadata": {},
     "output_type": "execute_result"
    }
   ],
   "source": [
    "numpy_img.flatten(), numpy_img.flatten().shape"
   ]
  },
  {
   "cell_type": "markdown",
   "metadata": {},
   "source": [
    "### `NumPy ndarray` Transformation - `AsType`"
   ]
  },
  {
   "cell_type": "code",
   "execution_count": 82,
   "metadata": {},
   "outputs": [],
   "source": [
    "class AsType:\n",
    "    def __init__(self, dtype=np.float32):\n",
    "        self.dtype = dtype\n",
    "        \n",
    "    def __call__(self, array):\n",
    "        return array.astype(self.dtype)"
   ]
  },
  {
   "cell_type": "code",
   "execution_count": 83,
   "metadata": {},
   "outputs": [
    {
     "data": {
      "text/plain": [
       "array([[[255.+0.j, 255.+0.j, 255.+0.j, ..., 255.+0.j, 255.+0.j,\n",
       "         255.+0.j],\n",
       "        [255.+0.j, 255.+0.j, 255.+0.j, ..., 255.+0.j, 255.+0.j,\n",
       "         255.+0.j],\n",
       "        [255.+0.j, 255.+0.j, 255.+0.j, ..., 255.+0.j, 255.+0.j,\n",
       "         255.+0.j],\n",
       "        ...,\n",
       "        [255.+0.j, 255.+0.j, 255.+0.j, ..., 255.+0.j, 255.+0.j,\n",
       "         255.+0.j],\n",
       "        [255.+0.j, 255.+0.j, 255.+0.j, ..., 255.+0.j, 255.+0.j,\n",
       "         255.+0.j],\n",
       "        [255.+0.j, 255.+0.j, 255.+0.j, ..., 255.+0.j, 255.+0.j,\n",
       "         255.+0.j]],\n",
       "\n",
       "       [[255.+0.j, 255.+0.j, 255.+0.j, ..., 255.+0.j, 255.+0.j,\n",
       "         255.+0.j],\n",
       "        [255.+0.j, 255.+0.j, 255.+0.j, ..., 255.+0.j, 255.+0.j,\n",
       "         255.+0.j],\n",
       "        [255.+0.j, 255.+0.j, 255.+0.j, ..., 255.+0.j, 255.+0.j,\n",
       "         255.+0.j],\n",
       "        ...,\n",
       "        [255.+0.j, 255.+0.j, 255.+0.j, ..., 255.+0.j, 255.+0.j,\n",
       "         255.+0.j],\n",
       "        [255.+0.j, 255.+0.j, 255.+0.j, ..., 255.+0.j, 255.+0.j,\n",
       "         255.+0.j],\n",
       "        [255.+0.j, 255.+0.j, 255.+0.j, ..., 255.+0.j, 255.+0.j,\n",
       "         255.+0.j]],\n",
       "\n",
       "       [[255.+0.j, 255.+0.j, 255.+0.j, ..., 255.+0.j, 255.+0.j,\n",
       "         255.+0.j],\n",
       "        [255.+0.j, 255.+0.j, 255.+0.j, ..., 255.+0.j, 255.+0.j,\n",
       "         255.+0.j],\n",
       "        [255.+0.j, 255.+0.j, 255.+0.j, ..., 255.+0.j, 255.+0.j,\n",
       "         255.+0.j],\n",
       "        ...,\n",
       "        [255.+0.j, 255.+0.j, 255.+0.j, ..., 255.+0.j, 255.+0.j,\n",
       "         255.+0.j],\n",
       "        [255.+0.j, 255.+0.j, 255.+0.j, ..., 255.+0.j, 255.+0.j,\n",
       "         255.+0.j],\n",
       "        [255.+0.j, 255.+0.j, 255.+0.j, ..., 255.+0.j, 255.+0.j,\n",
       "         255.+0.j]],\n",
       "\n",
       "       [[255.+0.j, 255.+0.j, 255.+0.j, ..., 255.+0.j, 255.+0.j,\n",
       "         255.+0.j],\n",
       "        [255.+0.j, 255.+0.j, 255.+0.j, ..., 255.+0.j, 255.+0.j,\n",
       "         255.+0.j],\n",
       "        [255.+0.j, 255.+0.j, 255.+0.j, ..., 255.+0.j, 255.+0.j,\n",
       "         255.+0.j],\n",
       "        ...,\n",
       "        [255.+0.j, 255.+0.j, 255.+0.j, ..., 255.+0.j, 255.+0.j,\n",
       "         255.+0.j],\n",
       "        [255.+0.j, 255.+0.j, 255.+0.j, ..., 255.+0.j, 255.+0.j,\n",
       "         255.+0.j],\n",
       "        [113.+0.j, 113.+0.j, 113.+0.j, ..., 113.+0.j, 113.+0.j,\n",
       "         113.+0.j]]])"
      ]
     },
     "execution_count": 83,
     "metadata": {},
     "output_type": "execute_result"
    }
   ],
   "source": [
    "numpy_img.astype(np.complex128)"
   ]
  },
  {
   "cell_type": "code",
   "execution_count": null,
   "metadata": {},
   "outputs": [],
   "source": [
    "ToFloat = AsType"
   ]
  },
  {
   "cell_type": "markdown",
   "metadata": {},
   "source": [
    "### `NumPy ndarray` Transformation - `ToInt`"
   ]
  },
  {
   "cell_type": "code",
   "execution_count": 84,
   "metadata": {},
   "outputs": [],
   "source": [
    "class ToInt(AsType):\n",
    "    def __init__(self, dtype=np.int):\n",
    "        self.dtype = dtype"
   ]
  },
  {
   "cell_type": "markdown",
   "metadata": {},
   "source": [
    "## Collection of transforms - `Compose`"
   ]
  },
  {
   "cell_type": "code",
   "execution_count": 85,
   "metadata": {},
   "outputs": [],
   "source": [
    "class Compose:\n",
    "    \"\"\"Compose several transforms.\n",
    "    \n",
    "    Args:\n",
    "        transforms (list): list of transforms\n",
    "    \"\"\"\n",
    "    def __init__(self, transforms=[]):\n",
    "        self.transforms = transforms\n",
    "        \n",
    "    def __call__(self, img):\n",
    "        if not self.transforms:\n",
    "            return img\n",
    "        \n",
    "        for transform in self.transforms:\n",
    "            img = transform(img)\n",
    "            \n",
    "        return img"
   ]
  },
  {
   "cell_type": "markdown",
   "metadata": {},
   "source": [
    "## Test!"
   ]
  },
  {
   "cell_type": "code",
   "execution_count": 5,
   "metadata": {},
   "outputs": [
    {
     "data": {
      "text/plain": [
       "((array([-0.13981389, -0.00721657], dtype=float32), 1),\n",
       " (array([-0.06990694, -0.00360829], dtype=float32), 1))"
      ]
     },
     "execution_count": 5,
     "metadata": {},
     "output_type": "execute_result"
    }
   ],
   "source": [
    "import dezero\n",
    "from dezero import transforms\n",
    "\n",
    "f = transforms.Normalize(mean=0.0, std=2.0)\n",
    "\n",
    "train_set_transform = dezero.datasets.Spiral(transform=f)\n",
    "train_set = dezero.datasets.Spiral()\n",
    "\n",
    "train_set[0], train_set_transform[0]"
   ]
  },
  {
   "cell_type": "code",
   "execution_count": 7,
   "metadata": {},
   "outputs": [
    {
     "data": {
      "text/plain": [
       "((array([-0.13981389, -0.00721657], dtype=float32), 1),\n",
       " (array([-0.06990694+0.j, -0.00360829+0.j], dtype=complex64), 1))"
      ]
     },
     "execution_count": 7,
     "metadata": {},
     "output_type": "execute_result"
    }
   ],
   "source": [
    "f = transforms.Compose([transforms.Normalize(mean=0.0, std=2.0),\n",
    "                        transforms.AsType(np.complex64)])\n",
    "\n",
    "\n",
    "train_set_transform = dezero.datasets.Spiral(transform=f)\n",
    "train_set = dezero.datasets.Spiral()\n",
    "\n",
    "train_set[0], train_set_transform[0]"
   ]
  }
 ],
 "metadata": {
  "kernelspec": {
   "display_name": "Python 3",
   "language": "python",
   "name": "python3"
  },
  "language_info": {
   "codemirror_mode": {
    "name": "ipython",
    "version": 3
   },
   "file_extension": ".py",
   "mimetype": "text/x-python",
   "name": "python",
   "nbconvert_exporter": "python",
   "pygments_lexer": "ipython3",
   "version": "3.7.7"
  }
 },
 "nbformat": 4,
 "nbformat_minor": 4
}
