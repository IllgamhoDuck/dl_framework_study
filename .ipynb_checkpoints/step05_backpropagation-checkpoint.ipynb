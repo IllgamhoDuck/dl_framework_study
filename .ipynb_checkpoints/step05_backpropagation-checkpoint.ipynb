{
 "cells": [
  {
   "cell_type": "code",
   "execution_count": 5,
   "metadata": {},
   "outputs": [],
   "source": [
    "class Variable:\n",
    "    def __init__(self, data):\n",
    "        self.data = data\n",
    "        \n",
    "        # Add gradient\n",
    "        self.grad = None\n",
    "\n",
    "        \n",
    "class Function:\n",
    "    def __call__(self, input):\n",
    "        # save the input variable\n",
    "        self.input = input\n",
    "        \n",
    "        x = input.data\n",
    "        \n",
    "        # exact calculation is held at forward function\n",
    "        y = self.forward(x)\n",
    "        \n",
    "        output = Variable(y)\n",
    "        return output\n",
    "    \n",
    "    def forward(self, x):\n",
    "        raise NotImplementedError()\n",
    "        \n",
    "    def backward(self, gy):\n",
    "        raise NotImplementedError()\n",
    "\n",
    "        \n",
    "def numerical_diff(f, x, eps=1e-4):\n",
    "    x0 = Variable(x.data - eps)\n",
    "    x1 = Variable(x.data + eps)\n",
    "    y0 = f(x0)\n",
    "    y1 = f(x1)\n",
    "    return (y1.data - y0.data) / (2 * eps)"
   ]
  },
  {
   "cell_type": "code",
   "execution_count": 3,
   "metadata": {},
   "outputs": [],
   "source": [
    "class Square(Function):\n",
    "    def forward(self, x):\n",
    "        return x ** 2\n",
    "    \n",
    "    def backward(self, gy):\n",
    "        x = self.input.data\n",
    "        gx = 2 * x * gy\n",
    "        return gx"
   ]
  },
  {
   "cell_type": "code",
   "execution_count": 8,
   "metadata": {},
   "outputs": [],
   "source": [
    "class Exp(Function):\n",
    "    def forward(self, x):\n",
    "        return np.exp(x)\n",
    "    \n",
    "    def backward(self, gy):\n",
    "        x = self.input.data\n",
    "        gx = np.exp(x) * gy\n",
    "        return gx        "
   ]
  },
  {
   "cell_type": "code",
   "execution_count": 9,
   "metadata": {},
   "outputs": [],
   "source": [
    "A = Square()\n",
    "B = Exp()\n",
    "C = Square()\n",
    "\n",
    "x = Variable(np.array(0.5))\n",
    "a = A(x)\n",
    "b = B(a)\n",
    "y = C(b)"
   ]
  },
  {
   "cell_type": "code",
   "execution_count": 10,
   "metadata": {},
   "outputs": [
    {
     "name": "stdout",
     "output_type": "stream",
     "text": [
      "3.297442541400256\n"
     ]
    }
   ],
   "source": [
    "y.grad = np.array(1.0)\n",
    "b.grad = C.backward(y.grad)\n",
    "a.grad = B.backward(b.grad)\n",
    "x.grad = A.backward(a.grad)\n",
    "\n",
    "print(x.grad)"
   ]
  },
  {
   "cell_type": "code",
   "execution_count": 7,
   "metadata": {},
   "outputs": [
    {
     "name": "stdout",
     "output_type": "stream",
     "text": [
      "3.2974426293330694\n"
     ]
    }
   ],
   "source": [
    "x = Variable(np.array(0.5))\n",
    "dy = numerical_diff(f, x)\n",
    "print(dy)"
   ]
  },
  {
   "cell_type": "markdown",
   "metadata": {},
   "source": [
    "The y value will change 3.29 when we move x a little bit"
   ]
  }
 ],
 "metadata": {
  "kernelspec": {
   "display_name": "Python 3",
   "language": "python",
   "name": "python3"
  },
  "language_info": {
   "codemirror_mode": {
    "name": "ipython",
    "version": 3
   },
   "file_extension": ".py",
   "mimetype": "text/x-python",
   "name": "python",
   "nbconvert_exporter": "python",
   "pygments_lexer": "ipython3",
   "version": "3.7.7"
  }
 },
 "nbformat": 4,
 "nbformat_minor": 4
}
