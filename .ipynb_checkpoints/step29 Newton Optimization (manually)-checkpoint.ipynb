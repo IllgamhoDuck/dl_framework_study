{
 "cells": [
  {
   "cell_type": "markdown",
   "metadata": {},
   "source": [
    "## Let's Optimize the function\n",
    "### $y = x^{4} - 2x^{2}$\n",
    "### $\\frac{\\partial{y}}{\\partial{x}} = 4x^{3} - 4x$\n",
    "### $\\frac{\\partial^{2}{y}}{\\partial{x}^{2}} = 12x^{2} - 4$"
   ]
  },
  {
   "cell_type": "code",
   "execution_count": 1,
   "metadata": {},
   "outputs": [],
   "source": [
    "import numpy as np\n",
    "\n",
    "from dezero import Variable\n",
    "from dezero import Function\n",
    "\n",
    "def f(x):\n",
    "    y = x**4 - 2*x**2\n",
    "    return y\n",
    "\n",
    "def gx2(x):\n",
    "    return 12*x**2 - 4"
   ]
  },
  {
   "cell_type": "markdown",
   "metadata": {},
   "source": [
    "## Newton Method\n",
    "### $x\\leftarrow x-\\frac{f'(x)}{f''(x)}$\n",
    "\n",
    "Compared to $x\\leftarrow x-\\alpha f'(x)$ normally $\\alpha$ is chosen manually by human but at here $\\alpha$ is chosen as $\\alpha = \\frac{1}{f''(x)}$"
   ]
  },
  {
   "cell_type": "code",
   "execution_count": 36,
   "metadata": {},
   "outputs": [
    {
     "name": "stdout",
     "output_type": "stream",
     "text": [
      "0 Variable(2.0)\n",
      "1 Variable(1.4545454545454546)\n",
      "2 Variable(1.1510467893775467)\n",
      "3 Variable(1.0253259289766978)\n",
      "4 Variable(1.0009084519430513)\n",
      "5 Variable(1.0000012353089454)\n",
      "6 Variable(1.000000000002289)\n",
      "7 Variable(1.0)\n",
      "8 Variable(1.0)\n",
      "9 Variable(1.0)\n"
     ]
    }
   ],
   "source": [
    "x = Variable(np.array(2.0))\n",
    "iters = 10\n",
    "\n",
    "xs = []\n",
    "ys = []\n",
    "\n",
    "\n",
    "for i in range(iters):\n",
    "    print(i, x)\n",
    "    \n",
    "    y = f(x)\n",
    "    xs.append(x.data)\n",
    "    ys.append(y.data)    \n",
    "    \n",
    "    x.cleargrad()\n",
    "    y.backward()\n",
    "    \n",
    "    x.data = x.data - x.grad / gx2(x.data)"
   ]
  },
  {
   "cell_type": "code",
   "execution_count": 37,
   "metadata": {},
   "outputs": [
    {
     "data": {
      "image/png": "[encoded data removed]",
      "text/plain": [
       "<Figure size 432x288 with 1 Axes>"
      ]
     },
     "metadata": {
      "needs_background": "light"
     },
     "output_type": "display_data"
    }
   ],
   "source": [
    "import matplotlib.pyplot as plt\n",
    "\n",
    "x = np.arange(-2.2, 2.2, 0.01)\n",
    "y = f(x)\n",
    "\n",
    "plt.plot(x, y)\n",
    "plt.plot(xs, ys, c='orange', zorder=10)\n",
    "plt.scatter(xs, ys, c='orange', zorder=10)\n",
    "plt.show()"
   ]
  },
  {
   "cell_type": "markdown",
   "metadata": {},
   "source": [
    "## Gradient descent Method\n",
    "### $x\\leftarrow x-\\alpha f'(x)$"
   ]
  },
  {
   "cell_type": "code",
   "execution_count": 38,
   "metadata": {},
   "outputs": [
    {
     "name": "stdout",
     "output_type": "stream",
     "text": [
      "0 Variable(2.0)\n",
      "1 Variable(1.76)\n",
      "2 Variable(1.61232896)\n",
      "3 Variable(1.5091654023014192)\n",
      "4 Variable(1.4320422081467723)\n",
      "5 Variable(1.3718537670818505)\n",
      "6 Variable(1.3234557123052246)\n",
      "7 Variable(1.2836707795677516)\n",
      "8 Variable(1.2504077544406735)\n",
      "9 Variable(1.22222258571841)\n"
     ]
    }
   ],
   "source": [
    "x = Variable(np.array(2.0))\n",
    "iters = 10\n",
    "\n",
    "xs = []\n",
    "ys = []\n",
    "\n",
    "\n",
    "for i in range(iters):\n",
    "    print(i, x)\n",
    "    \n",
    "    y = f(x)\n",
    "    xs.append(x.data)\n",
    "    ys.append(y.data)    \n",
    "    \n",
    "    x.cleargrad()\n",
    "    y.backward()\n",
    "    \n",
    "    x.data = x.data - 0.01*x.grad"
   ]
  },
  {
   "cell_type": "code",
   "execution_count": 39,
   "metadata": {},
   "outputs": [
    {
     "data": {
      "image/png": "[encoded data removed]",
      "text/plain": [
       "<Figure size 432x288 with 1 Axes>"
      ]
     },
     "metadata": {
      "needs_background": "light"
     },
     "output_type": "display_data"
    }
   ],
   "source": [
    "import matplotlib.pyplot as plt\n",
    "\n",
    "x = np.arange(-2.2, 2.2, 0.01)\n",
    "y = f(x)\n",
    "\n",
    "plt.plot(x, y)\n",
    "plt.plot(xs, ys, c='orange', zorder=10)\n",
    "plt.scatter(xs, ys, c='orange', zorder=10)\n",
    "plt.show()"
   ]
  }
 ],
 "metadata": {
  "kernelspec": {
   "display_name": "Python 3",
   "language": "python",
   "name": "python3"
  },
  "language_info": {
   "codemirror_mode": {
    "name": "ipython",
    "version": 3
   },
   "file_extension": ".py",
   "mimetype": "text/x-python",
   "name": "python",
   "nbconvert_exporter": "python",
   "pygments_lexer": "ipython3",
   "version": "3.7.7"
  }
 },
 "nbformat": 4,
 "nbformat_minor": 4
}
