{
 "cells": [
  {
   "cell_type": "markdown",
   "metadata": {},
   "source": [
    "## `Optimizer`"
   ]
  },
  {
   "cell_type": "code",
   "execution_count": 6,
   "metadata": {},
   "outputs": [],
   "source": [
    "class Optimizer:\n",
    "    \"\"\"Update the Parameters\n",
    "    \n",
    "    Args:\n",
    "        target Union[Model, Layer]: The class which has parameter\n",
    "        hooks Iterable[function]: Preprocessing the parameter\n",
    "                                  Used to implement like Weight Decay or Gradient Clipping\n",
    "    \"\"\"\n",
    "    def __init__(self):\n",
    "        self.target = None\n",
    "        self.hooks = []\n",
    "        \n",
    "    def setup(self, target):\n",
    "        self.target = target\n",
    "        return self\n",
    "    \n",
    "    def update(self):\n",
    "        params = [p for p in self.target.params() if p.grad is not None]\n",
    "        for f in self.hooks:\n",
    "            f(params)\n",
    "            \n",
    "        for param in params:\n",
    "            self.update_one(param)\n",
    "            \n",
    "    def update_one(self, param):\n",
    "        raise NotImplementedError()\n",
    "        \n",
    "    def add_hook(self, f):\n",
    "        self.hooks.append(f)"
   ]
  },
  {
   "cell_type": "markdown",
   "metadata": {},
   "source": [
    "## `hook` example!\n",
    "### `Weight Decay` : If W is 1 and rate is 0.1 then it decay to `1 -> 0.9` before gradient descent!"
   ]
  },
  {
   "cell_type": "code",
   "execution_count": 1,
   "metadata": {},
   "outputs": [],
   "source": [
    "class WeightDecay:\n",
    "    def __init__(self, rate):\n",
    "        self.rate = rate\n",
    "        \n",
    "    def __call__(self, params):\n",
    "        for param in params:\n",
    "            param.grad.data += self.rate * param.data"
   ]
  },
  {
   "cell_type": "markdown",
   "metadata": {},
   "source": [
    "### `Gradient Clipping` : Limit the total gradient size.\n",
    "    - If total gradient size is above chosen gradient size\n",
    "    - Multiply every gradient at param with..\n",
    "    \n",
    "## $rate = \\frac{chosen\\ gradient\\ size}{total\\ gradient\\ size}$"
   ]
  },
  {
   "cell_type": "code",
   "execution_count": 3,
   "metadata": {},
   "outputs": [],
   "source": [
    "import math\n",
    "\n",
    "class ClipGrad:\n",
    "    def __init__(self, max_norm):\n",
    "        self.max_norm = max_norm\n",
    "        \n",
    "    def __call__(self, params):\n",
    "        # norm is a size\n",
    "        total_norm = 0\n",
    "        for param in params:\n",
    "            total_norm += (param.grad.data ** 2).sum()\n",
    "        total_norm = math.sqrt(float(total_norm))\n",
    "        \n",
    "        rate = self.max_norm / (total_norm + 1e-6)\n",
    "        if rate < 1:\n",
    "            for param in params:\n",
    "                param.grad.data *= rate"
   ]
  },
  {
   "cell_type": "markdown",
   "metadata": {},
   "source": [
    "### `Freeze Parameter` : Literally freeze the parameter!"
   ]
  },
  {
   "cell_type": "code",
   "execution_count": null,
   "metadata": {},
   "outputs": [],
   "source": [
    "class FreezeParam:\n",
    "    def __init__(self, *layers):\n",
    "        self.freeze_params = []\n",
    "        for l in layers:\n",
    "            if isinstance(l, Parameter):\n",
    "                self.freeze_params.append(l)\n",
    "            else:\n",
    "                for p in l.params():\n",
    "                    self.freeze_params.append(p)\n",
    "        \n",
    "    def __call__(self, params):\n",
    "        for p in self.freeze_params:\n",
    "            p.grad = None"
   ]
  },
  {
   "cell_type": "markdown",
   "metadata": {},
   "source": [
    "In case of pytorch it uses `param.requires_grad = False`"
   ]
  },
  {
   "cell_type": "code",
   "execution_count": 4,
   "metadata": {},
   "outputs": [],
   "source": [
    "class FreezePytorch:\n",
    "    def __call__(self, params):\n",
    "        for param in params:\n",
    "            if param.requires_grad == False:\n",
    "                param.grad = None"
   ]
  },
  {
   "cell_type": "markdown",
   "metadata": {},
   "source": [
    "## Implement `SGD` Class "
   ]
  },
  {
   "cell_type": "code",
   "execution_count": 7,
   "metadata": {},
   "outputs": [],
   "source": [
    "class SGD(Optimizer):\n",
    "    def __init__(self, lr=0.01):\n",
    "        super().__init__()\n",
    "        self.lr = lr\n",
    "        \n",
    "    def update_one(self, param):\n",
    "        param.data -= self.lr * param.grad.data"
   ]
  },
  {
   "cell_type": "markdown",
   "metadata": {},
   "source": [
    "## Use `SGD` for `Neural Network`"
   ]
  },
  {
   "cell_type": "code",
   "execution_count": 6,
   "metadata": {},
   "outputs": [],
   "source": [
    "import numpy as np\n",
    "\n",
    "from dezero import optimizers\n",
    "from dezero import Variable\n",
    "\n",
    "import dezero.functions as F\n",
    "from dezero.models import MLP"
   ]
  },
  {
   "cell_type": "markdown",
   "metadata": {},
   "source": [
    "### 1. dataset"
   ]
  },
  {
   "cell_type": "code",
   "execution_count": 2,
   "metadata": {},
   "outputs": [],
   "source": [
    "np.random.seed(0)\n",
    "x = np.random.rand(100, 1)\n",
    "y = np.sin(2 * np.pi * x) + np.random.rand(100, 1)"
   ]
  },
  {
   "cell_type": "code",
   "execution_count": 3,
   "metadata": {},
   "outputs": [
    {
     "data": {
      "image/png": "[encoded data removed]",
      "text/plain": [
       "<Figure size 432x288 with 1 Axes>"
      ]
     },
     "metadata": {
      "needs_background": "light"
     },
     "output_type": "display_data"
    }
   ],
   "source": [
    "import matplotlib.pyplot as plt\n",
    "\n",
    "plt.scatter(x, y);"
   ]
  },
  {
   "cell_type": "markdown",
   "metadata": {},
   "source": [
    "### 2. Model"
   ]
  },
  {
   "cell_type": "code",
   "execution_count": 9,
   "metadata": {},
   "outputs": [],
   "source": [
    "lr = 0.2\n",
    "hidden_size = 10\n",
    "\n",
    "model = MLP((hidden_size, 1))\n",
    "optimizer = optimizers.SGD(lr).setup(model)"
   ]
  },
  {
   "cell_type": "markdown",
   "metadata": {},
   "source": [
    "### 3. Train\n",
    "\n",
    "You can see the `Parameter` administration is held by `Layer`!"
   ]
  },
  {
   "cell_type": "code",
   "execution_count": 10,
   "metadata": {},
   "outputs": [
    {
     "name": "stdout",
     "output_type": "stream",
     "text": [
      "Variable(0.8165178492839196)\n",
      "Variable(0.24990280802148895)\n",
      "Variable(0.24609876581126014)\n",
      "Variable(0.23721590814318072)\n",
      "Variable(0.20793216413350174)\n",
      "Variable(0.12311905720649353)\n",
      "Variable(0.07888166506355153)\n",
      "Variable(0.07655073683421634)\n",
      "Variable(0.07637803086238225)\n",
      "Variable(0.07618764131185568)\n"
     ]
    }
   ],
   "source": [
    "iters = 10000\n",
    "\n",
    "for i in range(iters):\n",
    "    y_pred = model(x)\n",
    "    loss = F.mean_squared_error(y, y_pred)\n",
    "    \n",
    "    model.cleargrads()\n",
    "    loss.backward()\n",
    "    optimizer.update()\n",
    "    \n",
    "    if i % 1000 == 0:\n",
    "        print(loss)"
   ]
  },
  {
   "cell_type": "code",
   "execution_count": 11,
   "metadata": {},
   "outputs": [
    {
     "data": {
      "image/png": "[encoded data removed]",
      "text/plain": [
       "<Figure size 432x288 with 1 Axes>"
      ]
     },
     "metadata": {
      "needs_background": "light"
     },
     "output_type": "display_data"
    }
   ],
   "source": [
    "x_test = np.linspace(0, 1, 100).reshape(100, 1)\n",
    "y_test = model(x_test)\n",
    "plt.scatter(x, y, s=20)\n",
    "plt.plot(x_test.data, y_test.data, color='red');"
   ]
  },
  {
   "cell_type": "markdown",
   "metadata": {},
   "source": [
    "## Implement `SGD Momentum` Class "
   ]
  },
  {
   "cell_type": "code",
   "execution_count": 7,
   "metadata": {},
   "outputs": [],
   "source": [
    "class MomentumSGD(Optimizer):\n",
    "    def __init__(self, lr=0.01, momentum=0.9):\n",
    "        super().__init__()\n",
    "        self.lr = lr\n",
    "        self.momentum = momentum\n",
    "        self.vs = {}\n",
    "        \n",
    "    def update_one(self, param):\n",
    "        v_key = id(param)\n",
    "        if v_key not in self.vs:\n",
    "            self.vs[v_key] = np.zeros_like(param.data)\n",
    "            \n",
    "        v = self.vs[v_key]\n",
    "        v *= self.momentum\n",
    "        v -= self.lr * param.grad.data\n",
    "            \n",
    "        param.data += v"
   ]
  },
  {
   "cell_type": "code",
   "execution_count": 2,
   "metadata": {
    "scrolled": false
   },
   "outputs": [
    {
     "name": "stdout",
     "output_type": "stream",
     "text": [
      "Variable(0.8165178492839196)\n",
      "Variable(0.07743134827996007)\n",
      "Variable(0.07544895146731473)\n",
      "Variable(0.07463260305858643)\n",
      "Variable(0.07420983776361517)\n",
      "Variable(0.07397000396385316)\n",
      "Variable(0.07383179319278564)\n",
      "Variable(0.0737519831627685)\n",
      "Variable(0.07370578149495671)\n",
      "Variable(0.0736788753834185)\n"
     ]
    },
    {
     "data": {
      "image/png": "[encoded data removed]",
      "text/plain": [
       "<Figure size 432x288 with 1 Axes>"
      ]
     },
     "metadata": {
      "needs_background": "light"
     },
     "output_type": "display_data"
    }
   ],
   "source": [
    "import numpy as np\n",
    "import matplotlib.pyplot as plt\n",
    "\n",
    "from dezero import optimizers\n",
    "from dezero import Variable\n",
    "\n",
    "import dezero.functions as F\n",
    "from dezero.models import MLP\n",
    "\n",
    "np.random.seed(0)\n",
    "x = np.random.rand(100, 1)\n",
    "y = np.sin(2 * np.pi * x) + np.random.rand(100, 1)\n",
    "\n",
    "lr = 0.2\n",
    "hidden_size = 10\n",
    "\n",
    "model = MLP((hidden_size, 1))\n",
    "optimizer = optimizers.MomentumSGD(lr).setup(model)\n",
    "\n",
    "iters = 10000\n",
    "\n",
    "for i in range(iters):\n",
    "    y_pred = model(x)\n",
    "    loss = F.mean_squared_error(y, y_pred)\n",
    "    \n",
    "    model.cleargrads()\n",
    "    loss.backward()\n",
    "    optimizer.update()\n",
    "    \n",
    "    if i % 1000 == 0:\n",
    "        print(loss)\n",
    "        \n",
    "x_test = np.linspace(0, 1, 100).reshape(100, 1)\n",
    "y_test = model(x_test)\n",
    "plt.scatter(x, y, s=20)\n",
    "plt.plot(x_test.data, y_test.data, color='red');"
   ]
  },
  {
   "cell_type": "markdown",
   "metadata": {},
   "source": [
    "## Implement `AdaGrad` Class "
   ]
  },
  {
   "cell_type": "code",
   "execution_count": null,
   "metadata": {},
   "outputs": [],
   "source": [
    "class AdaGrad(Optimizer):\n",
    "    def __init__(self, lr=0.001, eps=1e-8):\n",
    "        super().__init__()\n",
    "        self.lr = lr\n",
    "        self.eps = eps\n",
    "        self.hs = {}\n",
    "        \n",
    "    def update_one(self, param):\n",
    "        h_key = id(param)\n",
    "        if h_key not in self.hs:\n",
    "            self.hs[h_key] = np.zeros_like(param.data)\n",
    "        \n",
    "        h = self.hs[h_key]\n",
    "        grad = param.grad.data\n",
    "        \n",
    "        h += grad * grad\n",
    "        param.data -= self.lr * grad / (np.sqrt(h) + self.eps)"
   ]
  },
  {
   "cell_type": "code",
   "execution_count": 3,
   "metadata": {
    "scrolled": false
   },
   "outputs": [
    {
     "name": "stdout",
     "output_type": "stream",
     "text": [
      "Variable(0.8165178492839196)\n",
      "Variable(0.11840018025339007)\n",
      "Variable(0.0815218022182982)\n",
      "Variable(0.07905731786447272)\n",
      "Variable(0.07755462646457001)\n",
      "Variable(0.07654778400113071)\n",
      "Variable(0.07587629422537626)\n",
      "Variable(0.07540668517351849)\n",
      "Variable(0.07505508258184954)\n",
      "Variable(0.07477445307154701)\n"
     ]
    },
    {
     "data": {
      "image/png": "[encoded data removed]",
      "text/plain": [
       "<Figure size 432x288 with 1 Axes>"
      ]
     },
     "metadata": {
      "needs_background": "light"
     },
     "output_type": "display_data"
    }
   ],
   "source": [
    "import numpy as np\n",
    "import matplotlib.pyplot as plt\n",
    "\n",
    "from dezero import optimizers\n",
    "from dezero import Variable\n",
    "\n",
    "import dezero.functions as F\n",
    "from dezero.models import MLP\n",
    "\n",
    "np.random.seed(0)\n",
    "x = np.random.rand(100, 1)\n",
    "y = np.sin(2 * np.pi * x) + np.random.rand(100, 1)\n",
    "\n",
    "lr = 0.2\n",
    "hidden_size = 10\n",
    "\n",
    "model = MLP((hidden_size, 1))\n",
    "optimizer = optimizers.AdaGrad(lr).setup(model)\n",
    "\n",
    "iters = 10000\n",
    "\n",
    "for i in range(iters):\n",
    "    y_pred = model(x)\n",
    "    loss = F.mean_squared_error(y, y_pred)\n",
    "    \n",
    "    model.cleargrads()\n",
    "    loss.backward()\n",
    "    optimizer.update()\n",
    "    \n",
    "    if i % 1000 == 0:\n",
    "        print(loss)\n",
    "        \n",
    "x_test = np.linspace(0, 1, 100).reshape(100, 1)\n",
    "y_test = model(x_test)\n",
    "plt.scatter(x, y, s=20)\n",
    "plt.plot(x_test.data, y_test.data, color='red');"
   ]
  },
  {
   "cell_type": "markdown",
   "metadata": {},
   "source": [
    "## Implement `RMSProp` Class "
   ]
  },
  {
   "cell_type": "code",
   "execution_count": null,
   "metadata": {},
   "outputs": [],
   "source": [
    "class RMSProp(Optimizer):\n",
    "    def __init__(self, lr=0.001, rho=0.95, eps=1e-8):\n",
    "        super().__init__()\n",
    "        self.lr = lr\n",
    "        self.rho = rho\n",
    "        self.eps = eps\n",
    "        self.msg = {}\n",
    "        \n",
    "    def update_one(self, param):\n",
    "        key = id(param)\n",
    "        if key not in self.msg:\n",
    "            self.msg[key] = np.zeros_like(param.data)\n",
    "        \n",
    "        msg = self.msg[key]\n",
    "        grad = param.grad.data\n",
    "        \n",
    "        msg *= self.rho\n",
    "        msg += (1 - self.rho) * grad * grad\n",
    "        param.data -= self.lr * grad / (np.sqrt(msg) + self.eps)"
   ]
  },
  {
   "cell_type": "code",
   "execution_count": 2,
   "metadata": {
    "scrolled": false
   },
   "outputs": [
    {
     "name": "stdout",
     "output_type": "stream",
     "text": [
      "Variable(0.8165178492839196)\n",
      "Variable(0.17008398447067452)\n",
      "Variable(0.08945788657572809)\n",
      "Variable(0.08068977387869214)\n",
      "Variable(0.07856448706651403)\n",
      "Variable(0.07784918983222852)\n",
      "Variable(0.07746166040374156)\n",
      "Variable(0.07715987473711815)\n",
      "Variable(0.0768898692013273)\n",
      "Variable(0.07665196383477998)\n"
     ]
    },
    {
     "data": {
      "image/png": "[encoded data removed]",
      "text/plain": [
       "<Figure size 432x288 with 1 Axes>"
      ]
     },
     "metadata": {
      "needs_background": "light"
     },
     "output_type": "display_data"
    }
   ],
   "source": [
    "import numpy as np\n",
    "import matplotlib.pyplot as plt\n",
    "\n",
    "from dezero import optimizers\n",
    "from dezero import Variable\n",
    "\n",
    "import dezero.functions as F\n",
    "from dezero.models import MLP\n",
    "\n",
    "np.random.seed(0)\n",
    "x = np.random.rand(100, 1)\n",
    "y = np.sin(2 * np.pi * x) + np.random.rand(100, 1)\n",
    "\n",
    "lr = 0.01\n",
    "hidden_size = 10\n",
    "\n",
    "model = MLP((hidden_size, 1))\n",
    "optimizer = optimizers.RMSProp(lr).setup(model)\n",
    "\n",
    "iters = 10000\n",
    "\n",
    "for i in range(iters):\n",
    "    y_pred = model(x)\n",
    "    loss = F.mean_squared_error(y, y_pred)\n",
    "    \n",
    "    model.cleargrads()\n",
    "    loss.backward()\n",
    "    optimizer.update()\n",
    "    \n",
    "    if i % 1000 == 0:\n",
    "        print(loss)\n",
    "        \n",
    "x_test = np.linspace(0, 1, 100).reshape(100, 1)\n",
    "y_test = model(x_test)\n",
    "plt.scatter(x, y, s=20)\n",
    "plt.plot(x_test.data, y_test.data, color='red');"
   ]
  },
  {
   "cell_type": "markdown",
   "metadata": {},
   "source": [
    "## Implement `AdaDelta` Class "
   ]
  },
  {
   "cell_type": "code",
   "execution_count": null,
   "metadata": {},
   "outputs": [],
   "source": [
    "class AdaDelta(Optimizer):\n",
    "    def __init__(self, lr=0.001, rho=0.95, eps=1e-6):\n",
    "        super().__init__()\n",
    "        self.lr = lr\n",
    "        self.rho = rho\n",
    "        self.eps = eps\n",
    "        self.msg = {}\n",
    "        self.msdx = {}\n",
    "        \n",
    "    def update_one(self, param):\n",
    "        key = id(param)\n",
    "        if key not in self.msg:\n",
    "            self.msg[key] = np.zeros_like(param.data)\n",
    "            self.msdx[key] = np.zeros_like(param.data)\n",
    "            self.msdx[key] += self.lr\n",
    "        \n",
    "        msg, msdx = self.msg[key], self.msdx[key]\n",
    "        grad = param.grad.data\n",
    "        \n",
    "        msg *= self.rho\n",
    "        msg += (1 - self.rho) * grad * grad\n",
    "        \n",
    "        dx = np.sqrt((msdx + self.eps) / (msg + self.eps)) * grad\n",
    "        msdx *= self.rho\n",
    "        msdx += (1 - self.rho) * dx * dx\n",
    "        \n",
    "        param.data -= dx"
   ]
  },
  {
   "cell_type": "code",
   "execution_count": 1,
   "metadata": {
    "scrolled": false
   },
   "outputs": [
    {
     "name": "stdout",
     "output_type": "stream",
     "text": [
      "Variable(0.8165178492839196)\n",
      "Variable(0.10125725407787706)\n",
      "Variable(0.09942894478138081)\n",
      "Variable(0.09734914309612254)\n",
      "Variable(0.09517772405112437)\n",
      "Variable(0.09312099244983484)\n",
      "Variable(0.0911071809685496)\n",
      "Variable(0.08916478266010923)\n",
      "Variable(0.08736154315330898)\n",
      "Variable(0.08575396133156271)\n"
     ]
    },
    {
     "data": {
      "image/png": "[encoded data removed]",
      "text/plain": [
       "<Figure size 432x288 with 1 Axes>"
      ]
     },
     "metadata": {
      "needs_background": "light"
     },
     "output_type": "display_data"
    }
   ],
   "source": [
    "import numpy as np\n",
    "import matplotlib.pyplot as plt\n",
    "\n",
    "from dezero import optimizers\n",
    "from dezero import Variable\n",
    "\n",
    "import dezero.functions as F\n",
    "from dezero.models import MLP\n",
    "\n",
    "np.random.seed(0)\n",
    "x = np.random.rand(100, 1)\n",
    "y = np.sin(2 * np.pi * x) + np.random.rand(100, 1)\n",
    "\n",
    "lr = 0.01\n",
    "hidden_size = 10\n",
    "\n",
    "model = MLP((hidden_size, 1))\n",
    "optimizer = optimizers.AdaDelta(lr).setup(model)\n",
    "\n",
    "iters = 10000\n",
    "\n",
    "for i in range(iters):\n",
    "    y_pred = model(x)\n",
    "    loss = F.mean_squared_error(y, y_pred)\n",
    "    \n",
    "    model.cleargrads()\n",
    "    loss.backward()\n",
    "    optimizer.update()\n",
    "    \n",
    "    if i % 1000 == 0:\n",
    "        print(loss)\n",
    "        \n",
    "x_test = np.linspace(0, 1, 100).reshape(100, 1)\n",
    "y_test = model(x_test)\n",
    "plt.scatter(x, y, s=20)\n",
    "plt.plot(x_test.data, y_test.data, color='red');"
   ]
  },
  {
   "cell_type": "markdown",
   "metadata": {},
   "source": [
    "## Implement `Adam` Class "
   ]
  },
  {
   "cell_type": "code",
   "execution_count": null,
   "metadata": {},
   "outputs": [],
   "source": [
    "class Adam(Optimizer):\n",
    "    def __init__(self, lr=0.001, beta1=0.9, beta2=0.999, eps=1e-8):\n",
    "        super().__init__()\n",
    "        self.t = 0\n",
    "        self.alpha = lr\n",
    "        self.beta1 = beta1\n",
    "        self.beta2 = beta2\n",
    "        self.eps = eps\n",
    "        self.ms = {}\n",
    "        self.vs = {}\n",
    "        \n",
    "    def update(self, *args, **kwargs):\n",
    "        self.t += 1\n",
    "        super().update(*args, **kwargs)\n",
    "        \n",
    "    @property\n",
    "    def lr(self):\n",
    "        fix1 = 1. - math.pow(self.beta1, self.t)\n",
    "        fix2 = 1. - math.pow(self.beta2, self.t)\n",
    "        return self.alpha * math.sqrt(fix2) / fix1\n",
    "        \n",
    "    def update_one(self, param):\n",
    "        key = id(param)\n",
    "        if key not in self.ms:\n",
    "            self.ms[key] = np.zeros_like(param.data)\n",
    "            self.vs[key] = np.zeros_like(param.data)\n",
    "        \n",
    "        m, v = self.ms[key], self.vs[key]\n",
    "        beta1, beta2, eps = self.beta1, self.beta2, self.eps\n",
    "        grad = param.grad.data\n",
    "        \n",
    "        m *= beta1\n",
    "        m += (1 - beta1) * grad\n",
    "        \n",
    "        v *= beta2\n",
    "        v += (1 - beta2) * grad * grad\n",
    "        \n",
    "        m_hat = m / (1 - beta1)\n",
    "        v_hat = v / (1 - beta2)\n",
    "        \n",
    "        param.data -= self.lr * m_hat / (np.sqrt(v_hat) + eps)"
   ]
  },
  {
   "cell_type": "markdown",
   "metadata": {},
   "source": [
    "### `lr` might be tricky! let's check the value of it! "
   ]
  },
  {
   "cell_type": "code",
   "execution_count": 18,
   "metadata": {},
   "outputs": [
    {
     "name": "stdout",
     "output_type": "stream",
     "text": [
      "Correction value of learning rate(alpha) at  1  time :  0.3162277660168381\n",
      "Correction value of learning rate(alpha) at  1  time :  0.3162277660168381\n",
      "Correction value of learning rate(alpha) at  2  time :  0.23531672532745276\n",
      "Correction value of learning rate(alpha) at  2  time :  0.23531672532745276\n",
      "Correction value of learning rate(alpha) at  3  time :  0.2020105974389679\n",
      "Correction value of learning rate(alpha) at  4  time :  0.18376892374498519\n",
      "Correction value of learning rate(alpha) at  6  time :  0.16510815268402332\n",
      "Correction value of learning rate(alpha) at  8  time :  0.15677125516997972\n",
      "Correction value of learning rate(alpha) at  10  time :  0.1531890739511824\n",
      "Correction value of learning rate(alpha) at  14  time :  0.15292149570034197\n",
      "Correction value of learning rate(alpha) at  18  time :  0.1571889208164824\n",
      "Correction value of learning rate(alpha) at  24  time :  0.16738414558161668\n",
      "Correction value of learning rate(alpha) at  32  time :  0.1838193067048081\n",
      "Correction value of learning rate(alpha) at  42  time :  0.20531365794582987\n",
      "Correction value of learning rate(alpha) at  55  time :  0.23209538557797388\n",
      "Correction value of learning rate(alpha) at  72  time :  0.26376737470272654\n",
      "Correction value of learning rate(alpha) at  94  time :  0.2996147887964791\n",
      "Correction value of learning rate(alpha) at  123  time :  0.3402812064082665\n",
      "Correction value of learning rate(alpha) at  162  time :  0.386817445227052\n",
      "Correction value of learning rate(alpha) at  212  time :  0.43717399902863113\n",
      "Correction value of learning rate(alpha) at  278  time :  0.4927560305541705\n",
      "Correction value of learning rate(alpha) at  364  time :  0.5524810841176677\n",
      "Correction value of learning rate(alpha) at  477  time :  0.6160402381598994\n",
      "Correction value of learning rate(alpha) at  625  time :  0.6818401030343929\n",
      "Correction value of learning rate(alpha) at  819  time :  0.7478691825439376\n",
      "Correction value of learning rate(alpha) at  1074  time :  0.8115074303934253\n",
      "Correction value of learning rate(alpha) at  1406  time :  0.8689364550552973\n",
      "Correction value of learning rate(alpha) at  1842  time :  0.9174126116541561\n",
      "Correction value of learning rate(alpha) at  2414  time :  0.954280477717561\n",
      "Correction value of learning rate(alpha) at  3162  time :  0.9786347420710562\n"
     ]
    }
   ],
   "source": [
    "import math\n",
    "import numpy as np\n",
    "\n",
    "beta1 = 0.9\n",
    "beta2 = 0.999\n",
    "\n",
    "for t in np.logspace(0.1, 3.5, 30):\n",
    "    t = math.floor(t)\n",
    "    fix1 = 1. - math.pow(beta1, t)\n",
    "    fix2 = 1. - math.pow(beta2, t)\n",
    "    print('Correction value of learning rate(alpha) at ', t, ' time : ', math.sqrt(fix2) / fix1)"
   ]
  },
  {
   "cell_type": "code",
   "execution_count": 1,
   "metadata": {
    "scrolled": false
   },
   "outputs": [
    {
     "name": "stdout",
     "output_type": "stream",
     "text": [
      "Variable(0.8165178492839196)\n",
      "Variable(0.2442930060459918)\n",
      "Variable(0.22366191990640907)\n",
      "Variable(0.09956874087956519)\n",
      "Variable(0.07559762941297682)\n",
      "Variable(0.07459680980530814)\n",
      "Variable(0.07414770660919734)\n",
      "Variable(0.07395210406895047)\n",
      "Variable(0.07383193179795274)\n",
      "Variable(0.07375649532896796)\n"
     ]
    },
    {
     "data": {
      "image/png": "[encoded data removed]",
      "text/plain": [
       "<Figure size 432x288 with 1 Axes>"
      ]
     },
     "metadata": {
      "needs_background": "light"
     },
     "output_type": "display_data"
    }
   ],
   "source": [
    "import numpy as np\n",
    "import matplotlib.pyplot as plt\n",
    "\n",
    "from dezero import optimizers\n",
    "from dezero import Variable\n",
    "\n",
    "import dezero.functions as F\n",
    "from dezero.models import MLP\n",
    "\n",
    "np.random.seed(0)\n",
    "x = np.random.rand(100, 1)\n",
    "y = np.sin(2 * np.pi * x) + np.random.rand(100, 1)\n",
    "\n",
    "lr = 0.01\n",
    "hidden_size = 10\n",
    "\n",
    "model = MLP((hidden_size, 1))\n",
    "optimizer = optimizers.Adam(lr).setup(model)\n",
    "\n",
    "iters = 10000\n",
    "\n",
    "for i in range(iters):\n",
    "    y_pred = model(x)\n",
    "    loss = F.mean_squared_error(y, y_pred)\n",
    "    \n",
    "    model.cleargrads()\n",
    "    loss.backward()\n",
    "    optimizer.update()\n",
    "    \n",
    "    if i % 1000 == 0:\n",
    "        print(loss)\n",
    "        \n",
    "x_test = np.linspace(0, 1, 100).reshape(100, 1)\n",
    "y_test = model(x_test)\n",
    "plt.scatter(x, y, s=20)\n",
    "plt.plot(x_test.data, y_test.data, color='red');"
   ]
  }
 ],
 "metadata": {
  "kernelspec": {
   "display_name": "Python 3",
   "language": "python",
   "name": "python3"
  },
  "language_info": {
   "codemirror_mode": {
    "name": "ipython",
    "version": 3
   },
   "file_extension": ".py",
   "mimetype": "text/x-python",
   "name": "python",
   "nbconvert_exporter": "python",
   "pygments_lexer": "ipython3",
   "version": "3.7.7"
  }
 },
 "nbformat": 4,
 "nbformat_minor": 4
}
