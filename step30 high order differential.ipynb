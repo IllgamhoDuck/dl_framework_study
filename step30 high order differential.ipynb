{
 "cells": [
  {
   "cell_type": "markdown",
   "metadata": {},
   "source": [
    "Current `Dezero` could automatically differentiate but limited to 1st-order. Now let's expand this to more higher order"
   ]
  },
  {
   "cell_type": "markdown",
   "metadata": {},
   "source": [
    "### Before start let's just have a time to look through `Variable` & `Function` class\n",
    "\n",
    ">**Check the code at `dezero` package**"
   ]
  },
  {
   "cell_type": "code",
   "execution_count": 3,
   "metadata": {},
   "outputs": [],
   "source": [
    "from dezero import Variable\n",
    "from dezero import Function\n",
    "\n",
    "class Sin(Function):\n",
    "    def forward(self, x):\n",
    "        y = np.sin(x)\n",
    "        return y\n",
    "    \n",
    "    def backward(self, gy):\n",
    "        x = self.inputs[0].data\n",
    "        gx = gy * np.cos(x)\n",
    "        return gx\n",
    "\n",
    "def sin(x):\n",
    "    return Sin()(x)"
   ]
  },
  {
   "cell_type": "code",
   "execution_count": 4,
   "metadata": {},
   "outputs": [
    {
     "data": {
      "text/plain": [
       "Variable(0.8414709848078965)"
      ]
     },
     "execution_count": 4,
     "metadata": {},
     "output_type": "execute_result"
    }
   ],
   "source": [
    "x = Variable(np.array(1.0))\n",
    "y = sin(x)\n",
    "y"
   ]
  },
  {
   "cell_type": "code",
   "execution_count": 5,
   "metadata": {
    "scrolled": true
   },
   "outputs": [
    {
     "data": {
      "text/plain": [
       "Variable(0.5403023058681398)"
      ]
     },
     "execution_count": 5,
     "metadata": {},
     "output_type": "execute_result"
    }
   ],
   "source": [
    "y.backward(retain_grad=True)\n",
    "x.grad"
   ]
  },
  {
   "cell_type": "code",
   "execution_count": 7,
   "metadata": {},
   "outputs": [
    {
     "data": {
      "image/png": "[encoded data removed]",
      "text/plain": [
       "<IPython.core.display.Image object>"
      ]
     },
     "execution_count": 7,
     "metadata": {},
     "output_type": "execute_result"
    }
   ],
   "source": [
    "from dezero.utils import visualize_graph\n",
    "from dezero.utils import plot_dot_graph\n",
    "\n",
    "x.name = 'x'\n",
    "y.name = 'y'\n",
    "\n",
    "plot_dot_graph(y, verbose=False)"
   ]
  },
  {
   "cell_type": "markdown",
   "metadata": {},
   "source": [
    "## Copy codes from `core_simple.py` to `core.py` and modify `core.py`\n",
    "\n",
    "> We are going to make a new `dezero`"
   ]
  },
  {
   "cell_type": "markdown",
   "metadata": {},
   "source": [
    "### Make `back propagation` as `computational graph` like in `forward`"
   ]
  },
  {
   "cell_type": "markdown",
   "metadata": {},
   "source": [
    "Make the `grad` as `Variable`\n",
    "\n",
    "```python\n",
    "class Variable:\n",
    "\n",
    "    def backward(self, retain_grad=False):\n",
    "        if self.grad is None:\n",
    "            # self.grad = np.ones_like(self.data)\n",
    "            self.grad = Variable(np.ones_like(self.data))\n",
    "\n",
    "```"
   ]
  },
  {
   "cell_type": "markdown",
   "metadata": {},
   "source": [
    "**Inputs** at backward calculation of `Mul, Div, Pow` are changed to use the `Variable` rather `numpy`\n",
    "\n",
    "```python\n",
    "class Mul(Function):\n",
    "\n",
    "    def backward(self, gy):\n",
    "        x0, x1 = self.inputs\n",
    "        return gy * x1, gy * x0\n",
    "\n",
    "```"
   ]
  },
  {
   "cell_type": "markdown",
   "metadata": {},
   "source": [
    "### `create_graph` option\n",
    "> when we use 1st order differential we don't need to create graph further"
   ]
  },
  {
   "cell_type": "markdown",
   "metadata": {},
   "source": [
    "`Function` makes connnection between nodes when `enable_backprop` is on.\n",
    "\n",
    "```python\n",
    "class Function:\n",
    "\n",
    "    def __call__(self, *inputs):\n",
    "    \n",
    "        if Config.enable_backprop:\n",
    "            self.generation = max([x.generation for x in inputs])\n",
    "\n",
    "            for output in outputs:\n",
    "                output.set_creator(self)\n",
    "\n",
    "            self.inputs = inputs\n",
    "            self.outputs = [weakref.ref(output) for output in outputs]\n",
    "\n",
    "```"
   ]
  },
  {
   "cell_type": "markdown",
   "metadata": {},
   "source": [
    "We changed back propagation to generate `computational graph`.<br>\n",
    "To disable this because we are using 1st order we add options `create_graph`.<br>\n",
    "when `create_graph` is **False** we don't create graph at back propagtion.\n",
    "\n",
    "\n",
    "```python\n",
    "    def backward(self, retain_grad=False, create_graph=False):\n",
    "        \n",
    "        ...\n",
    "        \n",
    "            ##### disable graph generating when only using 1st-order!\n",
    "            with using_config('enable_backprop', create_graph):\n",
    "           \n",
    "                gxs = f.backward(*gys)\n",
    "                if not isinstance(gxs, tuple):\n",
    "                    gxs = (gxs,)\n",
    "\n",
    "                for x, gx in zip(f.inputs, gxs):\n",
    "                    if x.grad is None:\n",
    "                        x.grad = gx\n",
    "                    else:\n",
    "                        # if we use += it will be overwrite and it could cause a problem\n",
    "                        # so we use = + to copy\n",
    "                        x.grad = x.grad + gx\n",
    "\n",
    "                    if x.creator is not None:\n",
    "                        add_func(x.creator)\n",
    "\n",
    "        ...\n",
    "```"
   ]
  },
  {
   "cell_type": "markdown",
   "metadata": {},
   "source": [
    "### Change `__init__.py`\n",
    "\n",
    "\n",
    "```python\n",
    "is_simple_core = False\n",
    "\n",
    "if is_simple_core:\n",
    "    from dezero.core_simple import Variable\n",
    "    from dezero.core_simple import Function\n",
    "    from dezero.core_simple import using_config\n",
    "    from dezero.core_simple import no_grad\n",
    "    from dezero.core_simple import as_array\n",
    "    from dezero.core_simple import as_variable\n",
    "    from dezero.core_simple import setup_variable\n",
    "else:\n",
    "    from dezero.core import Variable\n",
    "    from dezero.core import Function\n",
    "    from dezero.core import using_config\n",
    "    from dezero.core import no_grad\n",
    "    from dezero.core import as_array\n",
    "    from dezero.core import as_variable\n",
    "    from dezero.core import setup_variable\n",
    "\n",
    "setup_variable()\n",
    "\n",
    "```"
   ]
  },
  {
   "cell_type": "markdown",
   "metadata": {},
   "source": [
    "## Now let's check what we got"
   ]
  },
  {
   "cell_type": "code",
   "execution_count": 1,
   "metadata": {},
   "outputs": [],
   "source": [
    "from dezero import Variable\n",
    "from dezero import Function\n",
    "\n",
    "class Sin(Function):\n",
    "    def forward(self, x):\n",
    "        y = np.sin(x)\n",
    "        return y\n",
    "    \n",
    "    def backward(self, gy):\n",
    "        x = self.inputs[0]\n",
    "        gx = gy * cos(x)\n",
    "        return gx\n",
    "    \n",
    "class Cos(Function):\n",
    "    def forward(self, x):\n",
    "        y = np.cos(x)\n",
    "        return y\n",
    "    \n",
    "    def backward(self, gy):\n",
    "        x = self.inputs[0]\n",
    "        gx = gy * -sin(x)\n",
    "        return gx\n",
    "    \n",
    "\n",
    "def sin(x):\n",
    "    return Sin()(x)\n",
    "\n",
    "def cos(x):\n",
    "    return Cos()(x)"
   ]
  },
  {
   "cell_type": "code",
   "execution_count": 14,
   "metadata": {},
   "outputs": [
    {
     "data": {
      "text/plain": [
       "Variable(0.8414709848078965)"
      ]
     },
     "execution_count": 14,
     "metadata": {},
     "output_type": "execute_result"
    }
   ],
   "source": [
    "x = Variable(np.array(1.0))\n",
    "y = sin(x)\n",
    "y"
   ]
  },
  {
   "cell_type": "markdown",
   "metadata": {},
   "source": [
    "### we can see the `x.grad` is now `Variable`"
   ]
  },
  {
   "cell_type": "code",
   "execution_count": 15,
   "metadata": {
    "scrolled": true
   },
   "outputs": [
    {
     "data": {
      "text/plain": [
       "Variable(0.5403023058681398)"
      ]
     },
     "execution_count": 15,
     "metadata": {},
     "output_type": "execute_result"
    }
   ],
   "source": [
    "y.backward(retain_grad=True, create_graph=True)\n",
    "x.grad"
   ]
  },
  {
   "cell_type": "markdown",
   "metadata": {},
   "source": [
    "### `back propagation` is now connected on `computational graph`"
   ]
  },
  {
   "cell_type": "code",
   "execution_count": 16,
   "metadata": {
    "scrolled": false
   },
   "outputs": [
    {
     "data": {
      "image/png": "[encoded data removed]",
      "text/plain": [
       "<IPython.core.display.Image object>"
      ]
     },
     "execution_count": 16,
     "metadata": {},
     "output_type": "execute_result"
    }
   ],
   "source": [
    "from dezero.utils import visualize_graph\n",
    "from dezero.utils import plot_dot_graph\n",
    "\n",
    "x.name = 'x'\n",
    "y.name = 'y'\n",
    "x.grad.name = 'dx'\n",
    "y.grad.name = 'dy'\n",
    "\n",
    "plot_dot_graph(x.grad, verbose=False)"
   ]
  },
  {
   "cell_type": "markdown",
   "metadata": {},
   "source": [
    "## 2nd order without `cleargard`\n",
    "\n",
    "In this case we will see that `1st order` and `2nd order` gradient is accumulated. This should not happen!\n",
    "\n",
    "### $f(x) = sin(x)$\n",
    "### $f'(x) = cos(x)$\n",
    "### $f''(x) = -sin(x)$\n",
    "\n",
    "### `x.grad` should be $f''(1)$ but become $f'(1) + f''(1)$"
   ]
  },
  {
   "cell_type": "code",
   "execution_count": 5,
   "metadata": {
    "scrolled": true
   },
   "outputs": [
    {
     "data": {
      "text/plain": [
       "Variable(-0.30116867893975674)"
      ]
     },
     "execution_count": 5,
     "metadata": {},
     "output_type": "execute_result"
    }
   ],
   "source": [
    "dx = x.grad\n",
    "dx.backward(retain_grad=True, create_graph=True)\n",
    "x.grad"
   ]
  },
  {
   "cell_type": "code",
   "execution_count": 6,
   "metadata": {},
   "outputs": [
    {
     "data": {
      "image/png": "[encoded data removed]",
      "text/plain": [
       "<IPython.core.display.Image object>"
      ]
     },
     "execution_count": 6,
     "metadata": {},
     "output_type": "execute_result"
    }
   ],
   "source": [
    "from dezero.utils import visualize_graph\n",
    "from dezero.utils import plot_dot_graph\n",
    "\n",
    "x.grad.name = 'ddx'\n",
    "\n",
    "plot_dot_graph(x.grad, verbose=False)"
   ]
  },
  {
   "cell_type": "markdown",
   "metadata": {},
   "source": [
    "## 2nd order with `cleargrad`"
   ]
  },
  {
   "cell_type": "code",
   "execution_count": 18,
   "metadata": {
    "scrolled": true
   },
   "outputs": [
    {
     "data": {
      "text/plain": [
       "Variable(-0.8414709848078965)"
      ]
     },
     "execution_count": 18,
     "metadata": {},
     "output_type": "execute_result"
    }
   ],
   "source": [
    "dx = x.grad\n",
    "\n",
    "# prevent gradient added\n",
    "x.cleargrad()\n",
    "\n",
    "dx.backward(retain_grad=True, create_graph=True)\n",
    "x.grad"
   ]
  },
  {
   "cell_type": "code",
   "execution_count": 19,
   "metadata": {},
   "outputs": [
    {
     "data": {
      "image/png": "[encoded data removed]",
      "text/plain": [
       "<IPython.core.display.Image object>"
      ]
     },
     "execution_count": 19,
     "metadata": {},
     "output_type": "execute_result"
    }
   ],
   "source": [
    "from dezero.utils import visualize_graph\n",
    "from dezero.utils import plot_dot_graph\n",
    "\n",
    "dx.grad.name = 'dx'\n",
    "x.grad.name = 'ddx'\n",
    "\n",
    "plot_dot_graph(x.grad, verbose=False)"
   ]
  }
 ],
 "metadata": {
  "kernelspec": {
   "display_name": "Python 3",
   "language": "python",
   "name": "python3"
  },
  "language_info": {
   "codemirror_mode": {
    "name": "ipython",
    "version": 3
   },
   "file_extension": ".py",
   "mimetype": "text/x-python",
   "name": "python",
   "nbconvert_exporter": "python",
   "pygments_lexer": "ipython3",
   "version": "3.7.7"
  }
 },
 "nbformat": 4,
 "nbformat_minor": 4
}
