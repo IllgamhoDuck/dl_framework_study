{
 "cells": [
  {
   "cell_type": "markdown",
   "metadata": {},
   "source": [
    "## Iterator"
   ]
  },
  {
   "cell_type": "code",
   "execution_count": 5,
   "metadata": {},
   "outputs": [
    {
     "data": {
      "text/plain": [
       "1"
      ]
     },
     "execution_count": 5,
     "metadata": {},
     "output_type": "execute_result"
    }
   ],
   "source": [
    "x_list = [1, 2, 3]\n",
    "x_iterator = iter(x_list)\n",
    "\n",
    "next(x_iterator)"
   ]
  },
  {
   "cell_type": "code",
   "execution_count": 6,
   "metadata": {},
   "outputs": [
    {
     "data": {
      "text/plain": [
       "2"
      ]
     },
     "execution_count": 6,
     "metadata": {},
     "output_type": "execute_result"
    }
   ],
   "source": [
    "next(x_iterator)"
   ]
  },
  {
   "cell_type": "code",
   "execution_count": 7,
   "metadata": {},
   "outputs": [
    {
     "data": {
      "text/plain": [
       "3"
      ]
     },
     "execution_count": 7,
     "metadata": {},
     "output_type": "execute_result"
    }
   ],
   "source": [
    "next(x_iterator)"
   ]
  },
  {
   "cell_type": "code",
   "execution_count": 8,
   "metadata": {},
   "outputs": [
    {
     "ename": "StopIteration",
     "evalue": "",
     "output_type": "error",
     "traceback": [
      "\u001b[1;31m---------------------------------------------------------------------------\u001b[0m",
      "\u001b[1;31mStopIteration\u001b[0m                             Traceback (most recent call last)",
      "\u001b[1;32m<ipython-input-8-5667adac8753>\u001b[0m in \u001b[0;36m<module>\u001b[1;34m\u001b[0m\n\u001b[1;32m----> 1\u001b[1;33m \u001b[0mnext\u001b[0m\u001b[1;33m(\u001b[0m\u001b[0mx_iterator\u001b[0m\u001b[1;33m)\u001b[0m\u001b[1;33m\u001b[0m\u001b[1;33m\u001b[0m\u001b[0m\n\u001b[0m",
      "\u001b[1;31mStopIteration\u001b[0m: "
     ]
    }
   ],
   "source": [
    "next(x_iterator)"
   ]
  },
  {
   "cell_type": "markdown",
   "metadata": {},
   "source": [
    "## side talk - simple `iterator` class"
   ]
  },
  {
   "cell_type": "code",
   "execution_count": 14,
   "metadata": {},
   "outputs": [],
   "source": [
    "class MyIterator:\n",
    "    def __init__(self, max_cnt):\n",
    "        self.max_cnt = max_cnt\n",
    "        self.cnt = 0\n",
    "        \n",
    "    def __iter__(self):\n",
    "        return self\n",
    "    \n",
    "    def __next__(self):\n",
    "        if self.cnt == self.max_cnt:\n",
    "            raise StopIteration()\n",
    "            \n",
    "        self.cnt += 1\n",
    "        return self.cnt"
   ]
  },
  {
   "cell_type": "markdown",
   "metadata": {},
   "source": [
    "### When `for` loop comes!\n",
    "\n",
    "```python\n",
    "1. iterator = iter([iterable]) -> calls __iter__\n",
    "2. element = next([iterator]) -> calls __next__\n",
    "```"
   ]
  },
  {
   "cell_type": "code",
   "execution_count": 20,
   "metadata": {},
   "outputs": [
    {
     "data": {
      "text/plain": [
       "<list_iterator at 0x1e3d7d8a448>"
      ]
     },
     "execution_count": 20,
     "metadata": {},
     "output_type": "execute_result"
    }
   ],
   "source": [
    "a = [1, 2, 3]\n",
    "a.__iter__()"
   ]
  },
  {
   "cell_type": "code",
   "execution_count": 21,
   "metadata": {},
   "outputs": [
    {
     "data": {
      "text/plain": [
       "1"
      ]
     },
     "execution_count": 21,
     "metadata": {},
     "output_type": "execute_result"
    }
   ],
   "source": [
    "a.__iter__().__next__()"
   ]
  },
  {
   "cell_type": "markdown",
   "metadata": {},
   "source": [
    "At our `iterator` we call itself when `__iter__` is called!"
   ]
  },
  {
   "cell_type": "code",
   "execution_count": 13,
   "metadata": {},
   "outputs": [
    {
     "data": {
      "text/plain": [
       "<list_iterator at 0x1e3d6e18348>"
      ]
     },
     "execution_count": 13,
     "metadata": {},
     "output_type": "execute_result"
    }
   ],
   "source": [
    "iter(iter(x_iterator))"
   ]
  },
  {
   "cell_type": "code",
   "execution_count": 16,
   "metadata": {},
   "outputs": [
    {
     "name": "stdout",
     "output_type": "stream",
     "text": [
      "1\n",
      "2\n",
      "3\n",
      "4\n",
      "5\n"
     ]
    }
   ],
   "source": [
    "iterator = MyIterator(5)\n",
    "for x in iterator:\n",
    "    print(x)"
   ]
  },
  {
   "cell_type": "markdown",
   "metadata": {},
   "source": [
    "### `Generator` also have `__iter__` when it's called as `function`!"
   ]
  },
  {
   "cell_type": "markdown",
   "metadata": {},
   "source": [
    "- generator"
   ]
  },
  {
   "cell_type": "code",
   "execution_count": 29,
   "metadata": {},
   "outputs": [],
   "source": [
    "def generator():\n",
    "    for _ in range(5):\n",
    "        yield 1"
   ]
  },
  {
   "cell_type": "code",
   "execution_count": 38,
   "metadata": {},
   "outputs": [
    {
     "data": {
      "text/plain": [
       "<generator object generator at 0x000001E3D6D2E148>"
      ]
     },
     "execution_count": 38,
     "metadata": {},
     "output_type": "execute_result"
    }
   ],
   "source": [
    "generator()"
   ]
  },
  {
   "cell_type": "code",
   "execution_count": 35,
   "metadata": {},
   "outputs": [
    {
     "data": {
      "text/plain": [
       "<generator object generator at 0x000001E3D6D2E048>"
      ]
     },
     "execution_count": 35,
     "metadata": {},
     "output_type": "execute_result"
    }
   ],
   "source": [
    "generator().__iter__()"
   ]
  },
  {
   "cell_type": "code",
   "execution_count": 36,
   "metadata": {},
   "outputs": [
    {
     "name": "stdout",
     "output_type": "stream",
     "text": [
      "1\n",
      "1\n",
      "1\n",
      "1\n",
      "1\n"
     ]
    }
   ],
   "source": [
    "for i in generator():\n",
    "    print(i)"
   ]
  },
  {
   "cell_type": "markdown",
   "metadata": {},
   "source": [
    "- not generator"
   ]
  },
  {
   "cell_type": "code",
   "execution_count": 31,
   "metadata": {},
   "outputs": [],
   "source": [
    "def not_generator():\n",
    "    for _ in range(5):\n",
    "        return 1"
   ]
  },
  {
   "cell_type": "code",
   "execution_count": 37,
   "metadata": {},
   "outputs": [
    {
     "data": {
      "text/plain": [
       "1"
      ]
     },
     "execution_count": 37,
     "metadata": {},
     "output_type": "execute_result"
    }
   ],
   "source": [
    "not_generator()"
   ]
  },
  {
   "cell_type": "code",
   "execution_count": 34,
   "metadata": {},
   "outputs": [
    {
     "ename": "AttributeError",
     "evalue": "'int' object has no attribute '__iter__'",
     "output_type": "error",
     "traceback": [
      "\u001b[1;31m---------------------------------------------------------------------------\u001b[0m",
      "\u001b[1;31mAttributeError\u001b[0m                            Traceback (most recent call last)",
      "\u001b[1;32m<ipython-input-34-094b4ccf74da>\u001b[0m in \u001b[0;36m<module>\u001b[1;34m\u001b[0m\n\u001b[1;32m----> 1\u001b[1;33m \u001b[0mnot_generator\u001b[0m\u001b[1;33m(\u001b[0m\u001b[1;33m)\u001b[0m\u001b[1;33m.\u001b[0m\u001b[0m__iter__\u001b[0m\u001b[1;33m\u001b[0m\u001b[1;33m\u001b[0m\u001b[0m\n\u001b[0m",
      "\u001b[1;31mAttributeError\u001b[0m: 'int' object has no attribute '__iter__'"
     ]
    }
   ],
   "source": [
    "not_generator().__iter__"
   ]
  },
  {
   "cell_type": "code",
   "execution_count": 33,
   "metadata": {},
   "outputs": [
    {
     "ename": "TypeError",
     "evalue": "'int' object is not iterable",
     "output_type": "error",
     "traceback": [
      "\u001b[1;31m---------------------------------------------------------------------------\u001b[0m",
      "\u001b[1;31mTypeError\u001b[0m                                 Traceback (most recent call last)",
      "\u001b[1;32m<ipython-input-33-bdfe51833c58>\u001b[0m in \u001b[0;36m<module>\u001b[1;34m\u001b[0m\n\u001b[1;32m----> 1\u001b[1;33m \u001b[1;32mfor\u001b[0m \u001b[0mi\u001b[0m \u001b[1;32min\u001b[0m \u001b[0mnot_generator\u001b[0m\u001b[1;33m(\u001b[0m\u001b[1;33m)\u001b[0m\u001b[1;33m:\u001b[0m\u001b[1;33m\u001b[0m\u001b[1;33m\u001b[0m\u001b[0m\n\u001b[0m\u001b[0;32m      2\u001b[0m     \u001b[0mprint\u001b[0m\u001b[1;33m(\u001b[0m\u001b[0mi\u001b[0m\u001b[1;33m)\u001b[0m\u001b[1;33m\u001b[0m\u001b[1;33m\u001b[0m\u001b[0m\n",
      "\u001b[1;31mTypeError\u001b[0m: 'int' object is not iterable"
     ]
    }
   ],
   "source": [
    "for i in not_generator():\n",
    "    print(i)"
   ]
  },
  {
   "cell_type": "markdown",
   "metadata": {},
   "source": [
    "## `DataLoader` Class"
   ]
  },
  {
   "cell_type": "markdown",
   "metadata": {},
   "source": [
    "Add the following to the `__init__.py`\n",
    "\n",
    "```python\n",
    "from dezero.dataloaders import DataLoader\n",
    "```"
   ]
  },
  {
   "cell_type": "code",
   "execution_count": 39,
   "metadata": {},
   "outputs": [],
   "source": [
    "import math\n",
    "import random\n",
    "import numpy as np\n",
    "\n",
    "class DataLoader:\n",
    "    def __init__(self, dataset, batch_size, shuffle=True):\n",
    "        self.dataset = dataset\n",
    "        self.batch_size = batch_size\n",
    "        self.shuffle = shuffle\n",
    "        self.data_size = len(dataset)\n",
    "        self.max_iter = math.ceil(self.data_size / batch_size)\n",
    "        \n",
    "        self.reset()\n",
    "        \n",
    "    def reset(self):\n",
    "        self.iteration = 0\n",
    "        if self.shuffle:\n",
    "            self.index = np.random.permutation(len(self.dataset))\n",
    "        else:\n",
    "            self.index = np.arange(len(self.dataset))\n",
    "            \n",
    "    def __iter__(self):\n",
    "        return self\n",
    "    \n",
    "    def __next__(self):\n",
    "        if self.iteration >= self.max_iter:\n",
    "            self.reset()\n",
    "            raise StopIteration\n",
    "            \n",
    "        i, batch_size = self.iteration, self.batch_size\n",
    "        batch_index = self.index[i * batch_size:(i + 1) * batch_size]\n",
    "        batch = [self.dataset[i] for i in batch_index]\n",
    "        \n",
    "        x = np.array([example[0] for example in batch])\n",
    "        y = np.array([example[1] for example in batch])\n",
    "        \n",
    "        self.iteration += 1\n",
    "        \n",
    "        return x, y\n",
    "    \n",
    "    def next(self):\n",
    "        return self.__next__()"
   ]
  },
  {
   "cell_type": "markdown",
   "metadata": {},
   "source": [
    "## Using `DataLoader`"
   ]
  },
  {
   "cell_type": "code",
   "execution_count": 1,
   "metadata": {},
   "outputs": [],
   "source": [
    "from dezero.datasets import Spiral\n",
    "from dezero import DataLoader\n",
    "\n",
    "batch_size = 10\n",
    "max_epoch = 1\n",
    "\n",
    "train_set = Spiral(train=True)\n",
    "test_set = Spiral(train=False)\n",
    "\n",
    "train_loader = DataLoader(train_set, batch_size)\n",
    "test_loader = DataLoader(test_set, batch_size, shuffle=False)"
   ]
  },
  {
   "cell_type": "code",
   "execution_count": 2,
   "metadata": {},
   "outputs": [
    {
     "name": "stdout",
     "output_type": "stream",
     "text": [
      "(10, 2) (10,)\n",
      "(10, 2) (10,)\n"
     ]
    }
   ],
   "source": [
    "for epoch in range(max_epoch):\n",
    "    for x, y in train_loader:\n",
    "        print(x.shape, y.shape)\n",
    "        break\n",
    "        \n",
    "    for x, y in test_loader:\n",
    "        print(x.shape, y.shape)\n",
    "        break"
   ]
  },
  {
   "cell_type": "markdown",
   "metadata": {},
   "source": [
    "## `accuracy` function\n",
    "\n",
    "`accuracy` returns **Variable** but calculate inside with **numpy** so this could not operator `back propagtaion`!"
   ]
  },
  {
   "cell_type": "code",
   "execution_count": 3,
   "metadata": {},
   "outputs": [],
   "source": [
    "def accuracy(y_pred, y_true):\n",
    "    y_pred, y_true = as_variable(y_pred), as_variable(y_true)\n",
    "    \n",
    "    y_pred = y_pred.data.argmax(axis=1).reshape(y_true.shape)\n",
    "    result = (y_pred == y_true.data)\n",
    "    acc = result.mean()\n",
    "    \n",
    "    return Variable(as_array(acc))"
   ]
  },
  {
   "cell_type": "code",
   "execution_count": 1,
   "metadata": {},
   "outputs": [
    {
     "name": "stdout",
     "output_type": "stream",
     "text": [
      "Variable(0.6666666666666666)\n"
     ]
    }
   ],
   "source": [
    "import numpy as np\n",
    "import dezero.functions as F\n",
    "\n",
    "y_pred = np.array([[0.2, 0.8, 0.],\n",
    "                   [0.1, 0.9, 0.],\n",
    "                   [0.8, 0.1, 0.1]])\n",
    "y_true = np.array([1, 2, 0])\n",
    "\n",
    "acc = F.accuracy(y_pred, y_true)\n",
    "print(acc)"
   ]
  },
  {
   "cell_type": "markdown",
   "metadata": {},
   "source": [
    "## `Spiral` dataset training with `DataLoader`"
   ]
  },
  {
   "cell_type": "code",
   "execution_count": 14,
   "metadata": {},
   "outputs": [],
   "source": [
    "import math\n",
    "import numpy as np\n",
    "\n",
    "import dezero\n",
    "from dezero import optimizers\n",
    "from dezero import DataLoader\n",
    "\n",
    "import dezero.functions as F\n",
    "from dezero.models import MLP\n",
    "from dezero.datasets import Spiral\n",
    "\n",
    "\n",
    "max_epoch = 300\n",
    "batch_size = 30\n",
    "hidden_size = 10\n",
    "lr = 1.0\n",
    "\n",
    "train_set = Spiral(train=True)\n",
    "test_set = Spiral(train=False)\n",
    "\n",
    "train_loader = DataLoader(train_set, batch_size)\n",
    "test_loader = DataLoader(test_set, batch_size, shuffle=False)\n",
    "\n",
    "model = MLP((hidden_size, 3))\n",
    "optimizer = optimizers.SGD(lr).setup(model)"
   ]
  },
  {
   "cell_type": "code",
   "execution_count": 15,
   "metadata": {
    "scrolled": false
   },
   "outputs": [
    {
     "name": "stdout",
     "output_type": "stream",
     "text": [
      "epoch : 1\n",
      "train loss 1.0944, accuracy 0.4033\n",
      "test loss: 1.0468, accuracy: 0.3267\n",
      "epoch : 30\n",
      "train loss 0.7273, accuracy 0.5600\n",
      "test loss: 0.7382, accuracy: 0.5433\n",
      "epoch : 60\n",
      "train loss 0.6122, accuracy 0.6633\n",
      "test loss: 0.6169, accuracy: 0.6400\n",
      "epoch : 90\n",
      "train loss 0.3772, accuracy 0.8333\n",
      "test loss: 0.3831, accuracy: 0.8300\n",
      "epoch : 120\n",
      "train loss 0.2361, accuracy 0.9200\n",
      "test loss: 0.2573, accuracy: 0.9200\n",
      "epoch : 150\n",
      "train loss 0.1890, accuracy 0.9233\n",
      "test loss: 0.2152, accuracy: 0.9067\n",
      "epoch : 180\n",
      "train loss 0.1539, accuracy 0.9500\n",
      "test loss: 0.1814, accuracy: 0.9367\n",
      "epoch : 210\n",
      "train loss 0.1382, accuracy 0.9533\n",
      "test loss: 0.1676, accuracy: 0.9467\n",
      "epoch : 240\n",
      "train loss 0.1251, accuracy 0.9500\n",
      "test loss: 0.1583, accuracy: 0.9433\n",
      "epoch : 270\n",
      "train loss 0.1191, accuracy 0.9567\n",
      "test loss: 0.1507, accuracy: 0.9533\n",
      "epoch : 300\n",
      "train loss 0.1082, accuracy 0.9667\n",
      "test loss: 0.1458, accuracy: 0.9600\n"
     ]
    }
   ],
   "source": [
    "epoch_list = []\n",
    "\n",
    "train_loss_list = []\n",
    "test_loss_list = []\n",
    "\n",
    "train_acc_list = []\n",
    "test_acc_list = []\n",
    "\n",
    "\n",
    "for epoch in range(max_epoch):\n",
    "    \n",
    "    sum_loss, sum_acc = 0, 0\n",
    "    \n",
    "    for x, y in train_loader:\n",
    "        y_pred = model(x)\n",
    "        \n",
    "        loss = F.softmax_cross_entropy(y_pred, y)\n",
    "        acc = F.accuracy(y_pred, y)\n",
    "        \n",
    "        model.cleargrads()\n",
    "        loss.backward()\n",
    "        optimizer.update()\n",
    "        \n",
    "        sum_loss += float(loss.data) * len(y)\n",
    "        sum_acc += float(acc.data) * len(y)\n",
    "    \n",
    "    avg_loss = sum_loss / len(train_set)\n",
    "    avg_acc = sum_acc / len(train_set)\n",
    "\n",
    "    train_loss_list.append(avg_loss)\n",
    "    train_acc_list.append(avg_acc)\n",
    "    \n",
    "    if epoch + 1 == 1 or (epoch + 1) % 30 == 0:\n",
    "        print('epoch : {}'.format(epoch + 1))\n",
    "        print('train loss {:.4f}, accuracy {:.4f}'.format(avg_loss, avg_acc))\n",
    "\n",
    "    \n",
    "    sum_loss, sum_acc = 0, 0\n",
    "    \n",
    "    with dezero.no_grad():\n",
    "        for x, y in test_loader:\n",
    "            y_pred = model(x)\n",
    "            \n",
    "            loss = F.softmax_cross_entropy(y_pred, y)\n",
    "            acc = F.accuracy(y_pred, y)\n",
    "            \n",
    "            sum_loss += float(loss.data) * len(y)\n",
    "            sum_acc += float(acc.data) * len(y)\n",
    "            \n",
    "    avg_loss = sum_loss / len(test_set)\n",
    "    avg_acc = sum_acc / len(test_set)            \n",
    "    \n",
    "    test_loss_list.append(avg_loss)\n",
    "    test_acc_list.append(avg_acc)\n",
    "\n",
    "    if epoch + 1 == 1 or (epoch + 1) % 30 == 0:\n",
    "        print('test loss: {:.4f}, accuracy: {:.4f}'.format(avg_loss, avg_acc))\n",
    "    \n",
    "    epoch_list.append(epoch + 1)    "
   ]
  },
  {
   "cell_type": "markdown",
   "metadata": {},
   "source": [
    "### Loss graph"
   ]
  },
  {
   "cell_type": "code",
   "execution_count": 17,
   "metadata": {
    "scrolled": true
   },
   "outputs": [
    {
     "data": {
      "image/png": "[encoded data removed]",
      "text/plain": [
       "<Figure size 432x288 with 1 Axes>"
      ]
     },
     "metadata": {
      "needs_background": "light"
     },
     "output_type": "display_data"
    }
   ],
   "source": [
    "import matplotlib.pyplot as plt\n",
    "\n",
    "plt.plot(epoch_list, train_loss_list, label='train')\n",
    "plt.plot(epoch_list, test_loss_list, label='test')\n",
    "\n",
    "plt.xlabel('epoch')\n",
    "plt.ylabel('loss')\n",
    "\n",
    "plt.legend()\n",
    "plt.show()"
   ]
  },
  {
   "cell_type": "code",
   "execution_count": 18,
   "metadata": {
    "scrolled": true
   },
   "outputs": [
    {
     "data": {
      "image/png": "[encoded data removed]",
      "text/plain": [
       "<Figure size 432x288 with 1 Axes>"
      ]
     },
     "metadata": {
      "needs_background": "light"
     },
     "output_type": "display_data"
    }
   ],
   "source": [
    "import matplotlib.pyplot as plt\n",
    "\n",
    "plt.plot(epoch_list, train_acc_list, label='train')\n",
    "plt.plot(epoch_list, test_acc_list, label='test')\n",
    "\n",
    "plt.xlabel('epoch')\n",
    "plt.ylabel('accuracy')\n",
    "\n",
    "plt.legend()\n",
    "plt.show()"
   ]
  },
  {
   "cell_type": "markdown",
   "metadata": {},
   "source": [
    "### Decision boundary"
   ]
  },
  {
   "cell_type": "code",
   "execution_count": 14,
   "metadata": {},
   "outputs": [],
   "source": [
    "x0s = []\n",
    "x1s = []\n",
    "ys = []\n",
    "for i in range(len(train_set)):\n",
    "    x_i, y_i = train_set[i]\n",
    "    x0s.append(x_i[0])\n",
    "    x1s.append(x_i[1])\n",
    "    ys.append(y_i)\n",
    "    \n",
    "x0s, x1s, ys = np.array(x0s), np.array(x1s), np.array(ys)"
   ]
  },
  {
   "cell_type": "code",
   "execution_count": 44,
   "metadata": {},
   "outputs": [],
   "source": [
    "xs = None\n",
    "ys = None\n",
    "\n",
    "for x, y in train_loader:\n",
    "    if xs is None:\n",
    "        xs = x\n",
    "        ys = y\n",
    "    else:\n",
    "        xs = np.vstack((xs, x))\n",
    "        ys = np.hstack((ys, y))\n",
    "    \n",
    "train_x0s, train_x1s, train_ys = xs[:, 0], xs[:, 1], ys"
   ]
  },
  {
   "cell_type": "code",
   "execution_count": 45,
   "metadata": {},
   "outputs": [],
   "source": [
    "xs = None\n",
    "ys = None\n",
    "\n",
    "for x, y in test_loader:\n",
    "    if xs is None:\n",
    "        xs = x\n",
    "        ys = y\n",
    "    else:\n",
    "        xs = np.vstack((xs, x))\n",
    "        ys = np.hstack((ys, y))\n",
    "    \n",
    "test_x0s, test_x1s, test_ys = xs[:, 0], xs[:, 1], ys"
   ]
  },
  {
   "cell_type": "code",
   "execution_count": 49,
   "metadata": {
    "scrolled": false
   },
   "outputs": [
    {
     "data": {
      "image/png": "[encoded data removed]",
      "text/plain": [
       "<Figure size 720x1008 with 2 Axes>"
      ]
     },
     "metadata": {
      "needs_background": "light"
     },
     "output_type": "display_data"
    }
   ],
   "source": [
    "plt.figure(figsize=(10, 14))\n",
    "plt.subplot(2, 1, 1)\n",
    "\n",
    "x0_min, x0_max = -1, 1\n",
    "x1_min, x1_max = -1, 1\n",
    "\n",
    "XX0, XX1 = np.meshgrid(np.arange(x0_min, x0_max, (x0_max - x0_min)/1000),\n",
    "                       np.arange(x0_min, x0_max, (x0_max - x0_min)/1000))\n",
    "XS = np.array([XX0.ravel(), XX1.ravel()]).T\n",
    "\n",
    "predict_y = model(XS)\n",
    "YY = np.reshape(np.argmax(predict_y.data, axis=1), XX0.shape)\n",
    "\n",
    "\n",
    "plt.contourf(XX0, XX1, YY)\n",
    "\n",
    "colormap = plt.cm.get_cmap('rainbow', 3)\n",
    "colors = ['orange', 'white', 'purple']\n",
    "markers = [\"s\", \"+\", \"^\"]\n",
    "for i in range(3):\n",
    "    index = train_ys == i\n",
    "    marker = markers[i]\n",
    "    color = colors[i]\n",
    "    plt.scatter(train_x0s[index], train_x1s[index],\n",
    "                c=color, cmap=colormap, marker=marker, label=f\"class {i + 1}\")\n",
    "    \n",
    "plt.xlim(x0_min, x0_max)\n",
    "plt.ylim(x1_min, x1_max)\n",
    "\n",
    "plt.xlabel(\"$x_0$\")\n",
    "plt.ylabel(\"$x_1$\")\n",
    "\n",
    "plt.title('Multi class classification with MLP and cross entropy [Train]')\n",
    "plt.legend()\n",
    "\n",
    "\n",
    "plt.subplot(2, 1, 2)\n",
    "\n",
    "x0_min, x0_max = -1, 1\n",
    "x1_min, x1_max = -1, 1\n",
    "\n",
    "XX0, XX1 = np.meshgrid(np.arange(x0_min, x0_max, (x0_max - x0_min)/1000),\n",
    "                       np.arange(x0_min, x0_max, (x0_max - x0_min)/1000))\n",
    "XS = np.array([XX0.ravel(), XX1.ravel()]).T\n",
    "\n",
    "predict_y = model(XS)\n",
    "YY = np.reshape(np.argmax(predict_y.data, axis=1), XX0.shape)\n",
    "\n",
    "plt.contourf(XX0, XX1, YY)\n",
    "\n",
    "colormap = plt.cm.get_cmap('rainbow', 3)\n",
    "colors = ['orange', 'white', 'purple']\n",
    "markers = [\"s\", \"+\", \"^\"]\n",
    "for i in range(3):\n",
    "    index = test_ys == i\n",
    "    marker = markers[i]\n",
    "    color = colors[i]\n",
    "    plt.scatter(test_x0s[index], test_x1s[index],\n",
    "                c=color, cmap=colormap, marker=marker, label=f\"class {i + 1}\")\n",
    "\n",
    "plt.xlim(x0_min, x0_max)\n",
    "plt.ylim(x1_min, x1_max)\n",
    "\n",
    "plt.xlabel(\"$x_0$\")\n",
    "plt.ylabel(\"$x_1$\")\n",
    "\n",
    "plt.title('Multi class classification with MLP and cross entropy [Test]')\n",
    "plt.legend()\n",
    "\n",
    "plt.show()"
   ]
  }
 ],
 "metadata": {
  "kernelspec": {
   "display_name": "Python 3",
   "language": "python",
   "name": "python3"
  },
  "language_info": {
   "codemirror_mode": {
    "name": "ipython",
    "version": 3
   },
   "file_extension": ".py",
   "mimetype": "text/x-python",
   "name": "python",
   "nbconvert_exporter": "python",
   "pygments_lexer": "ipython3",
   "version": "3.7.7"
  }
 },
 "nbformat": 4,
 "nbformat_minor": 4
}
