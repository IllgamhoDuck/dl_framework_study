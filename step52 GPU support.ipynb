{
 "cells": [
  {
   "cell_type": "markdown",
   "metadata": {},
   "source": [
    "## Tensor Product at `GPU` is much faster then `CPU`\n",
    "\n",
    "Most deep learning calculation is held by `Matrix Multiplication`<br>\n",
    "We will make `Dezero` to use `GPU`\n",
    "\n",
    "---\n",
    "\n",
    "- install `cupy` for `GPU` usage\n",
    "    - Library for parallel calculation using GPU\n",
    "\n",
    "```python\n",
    "$ pip install cupy\n",
    "```"
   ]
  },
  {
   "cell_type": "markdown",
   "metadata": {},
   "source": [
    "## `Numpy` and `Cupy` usage is almost the same"
   ]
  },
  {
   "cell_type": "code",
   "execution_count": 1,
   "metadata": {},
   "outputs": [
    {
     "name": "stderr",
     "output_type": "stream",
     "text": [
      "C:\\Users\\hyunb\\anaconda3\\lib\\site-packages\\cupy\\_environment.py:206: UserWarning: CUDA path could not be detected. Set CUDA_PATH environment variable if CuPy fails to load.\n",
      "  'CUDA path could not be detected.'\n"
     ]
    },
    {
     "ename": "ImportError",
     "evalue": "CuPy is not correctly installed.\n\nIf you are using wheel distribution (cupy-cudaXX), make sure that the version of CuPy you installed matches with the version of CUDA on your host.\nAlso, confirm that only one CuPy package is installed:\n  $ pip freeze\n\nIf you are building CuPy from source, please check your environment, uninstall CuPy and reinstall it with:\n  $ pip install cupy --no-cache-dir -vvvv\n\nCheck the Installation Guide for details:\n  https://docs.cupy.dev/en/latest/install.html\n\noriginal error: DLL load failed: 지정된 모듈을 찾을 수 없습니다.",
     "output_type": "error",
     "traceback": [
      "\u001b[1;31m---------------------------------------------------------------------------\u001b[0m",
      "\u001b[1;31mImportError\u001b[0m                               Traceback (most recent call last)",
      "\u001b[1;32m~\\anaconda3\\lib\\site-packages\\cupy\\__init__.py\u001b[0m in \u001b[0;36m<module>\u001b[1;34m\u001b[0m\n\u001b[0;32m     19\u001b[0m             message='can\\'t resolve package from __spec__')\n\u001b[1;32m---> 20\u001b[1;33m         \u001b[1;32mfrom\u001b[0m \u001b[0mcupy\u001b[0m \u001b[1;32mimport\u001b[0m \u001b[0mcore\u001b[0m  \u001b[1;31m# NOQA\u001b[0m\u001b[1;33m\u001b[0m\u001b[1;33m\u001b[0m\u001b[0m\n\u001b[0m\u001b[0;32m     21\u001b[0m \u001b[1;32mexcept\u001b[0m \u001b[0mImportError\u001b[0m \u001b[1;32mas\u001b[0m \u001b[0me\u001b[0m\u001b[1;33m:\u001b[0m\u001b[1;33m\u001b[0m\u001b[1;33m\u001b[0m\u001b[0m\n",
      "\u001b[1;32m~\\anaconda3\\lib\\site-packages\\cupy\\core\\__init__.py\u001b[0m in \u001b[0;36m<module>\u001b[1;34m\u001b[0m\n\u001b[1;32m----> 1\u001b[1;33m \u001b[1;32mfrom\u001b[0m \u001b[0mcupy\u001b[0m\u001b[1;33m.\u001b[0m\u001b[0mcore\u001b[0m \u001b[1;32mimport\u001b[0m \u001b[0mcore\u001b[0m  \u001b[1;31m# NOQA\u001b[0m\u001b[1;33m\u001b[0m\u001b[1;33m\u001b[0m\u001b[0m\n\u001b[0m\u001b[0;32m      2\u001b[0m \u001b[1;32mfrom\u001b[0m \u001b[0mcupy\u001b[0m\u001b[1;33m.\u001b[0m\u001b[0mcore\u001b[0m \u001b[1;32mimport\u001b[0m \u001b[0minternal\u001b[0m  \u001b[1;31m# NOQA\u001b[0m\u001b[1;33m\u001b[0m\u001b[1;33m\u001b[0m\u001b[0m\n\u001b[0;32m      3\u001b[0m \u001b[1;33m\u001b[0m\u001b[0m\n",
      "\u001b[1;32mcupy\\core\\core.pyx\u001b[0m in \u001b[0;36minit cupy.core.core\u001b[1;34m()\u001b[0m\n",
      "\u001b[1;32m~\\anaconda3\\lib\\site-packages\\cupy\\cuda\\__init__.py\u001b[0m in \u001b[0;36m<module>\u001b[1;34m\u001b[0m\n\u001b[0;32m      4\u001b[0m \u001b[1;32mfrom\u001b[0m \u001b[0mcupy\u001b[0m\u001b[1;33m.\u001b[0m\u001b[0m_environment\u001b[0m \u001b[1;32mimport\u001b[0m \u001b[0mget_cuda_path\u001b[0m\u001b[1;33m,\u001b[0m \u001b[0mget_nvcc_path\u001b[0m  \u001b[1;31m# NOQA\u001b[0m\u001b[1;33m\u001b[0m\u001b[1;33m\u001b[0m\u001b[0m\n\u001b[1;32m----> 5\u001b[1;33m \u001b[1;32mfrom\u001b[0m \u001b[0mcupy\u001b[0m\u001b[1;33m.\u001b[0m\u001b[0mcuda\u001b[0m \u001b[1;32mimport\u001b[0m \u001b[0mcompiler\u001b[0m  \u001b[1;31m# NOQA\u001b[0m\u001b[1;33m\u001b[0m\u001b[1;33m\u001b[0m\u001b[0m\n\u001b[0m\u001b[0;32m      6\u001b[0m \u001b[1;32mfrom\u001b[0m \u001b[0mcupy\u001b[0m\u001b[1;33m.\u001b[0m\u001b[0mcuda\u001b[0m \u001b[1;32mimport\u001b[0m \u001b[0mdevice\u001b[0m  \u001b[1;31m# NOQA\u001b[0m\u001b[1;33m\u001b[0m\u001b[1;33m\u001b[0m\u001b[0m\n",
      "\u001b[1;32m~\\anaconda3\\lib\\site-packages\\cupy\\cuda\\compiler.py\u001b[0m in \u001b[0;36m<module>\u001b[1;34m\u001b[0m\n\u001b[0;32m     10\u001b[0m \u001b[1;33m\u001b[0m\u001b[0m\n\u001b[1;32m---> 11\u001b[1;33m \u001b[1;32mfrom\u001b[0m \u001b[0mcupy\u001b[0m\u001b[1;33m.\u001b[0m\u001b[0mcuda\u001b[0m \u001b[1;32mimport\u001b[0m \u001b[0mdevice\u001b[0m\u001b[1;33m\u001b[0m\u001b[1;33m\u001b[0m\u001b[0m\n\u001b[0m\u001b[0;32m     12\u001b[0m \u001b[1;32mfrom\u001b[0m \u001b[0mcupy\u001b[0m\u001b[1;33m.\u001b[0m\u001b[0mcuda\u001b[0m \u001b[1;32mimport\u001b[0m \u001b[0mfunction\u001b[0m\u001b[1;33m\u001b[0m\u001b[1;33m\u001b[0m\u001b[0m\n",
      "\u001b[1;32mcupy\\cuda\\device.pyx\u001b[0m in \u001b[0;36minit cupy.cuda.device\u001b[1;34m()\u001b[0m\n",
      "\u001b[1;31mImportError\u001b[0m: DLL load failed: 지정된 모듈을 찾을 수 없습니다.",
      "\nThe above exception was the direct cause of the following exception:\n",
      "\u001b[1;31mImportError\u001b[0m                               Traceback (most recent call last)",
      "\u001b[1;32m<ipython-input-1-e011b0e859cc>\u001b[0m in \u001b[0;36m<module>\u001b[1;34m\u001b[0m\n\u001b[1;32m----> 1\u001b[1;33m \u001b[1;32mimport\u001b[0m \u001b[0mcupy\u001b[0m \u001b[1;32mas\u001b[0m \u001b[0mcp\u001b[0m\u001b[1;33m\u001b[0m\u001b[1;33m\u001b[0m\u001b[0m\n\u001b[0m",
      "\u001b[1;32m~\\anaconda3\\lib\\site-packages\\cupy\\__init__.py\u001b[0m in \u001b[0;36m<module>\u001b[1;34m\u001b[0m\n\u001b[0;32m     39\u001b[0m original error: {}'''.format(_exc_info[1]))  # NOQA\n\u001b[0;32m     40\u001b[0m \u001b[1;33m\u001b[0m\u001b[0m\n\u001b[1;32m---> 41\u001b[1;33m     \u001b[1;32mraise\u001b[0m \u001b[0mImportError\u001b[0m\u001b[1;33m(\u001b[0m\u001b[0m_msg\u001b[0m\u001b[1;33m)\u001b[0m \u001b[1;32mfrom\u001b[0m \u001b[0me\u001b[0m\u001b[1;33m\u001b[0m\u001b[1;33m\u001b[0m\u001b[0m\n\u001b[0m\u001b[0;32m     42\u001b[0m \u001b[1;33m\u001b[0m\u001b[0m\n\u001b[0;32m     43\u001b[0m \u001b[1;33m\u001b[0m\u001b[0m\n",
      "\u001b[1;31mImportError\u001b[0m: CuPy is not correctly installed.\n\nIf you are using wheel distribution (cupy-cudaXX), make sure that the version of CuPy you installed matches with the version of CUDA on your host.\nAlso, confirm that only one CuPy package is installed:\n  $ pip freeze\n\nIf you are building CuPy from source, please check your environment, uninstall CuPy and reinstall it with:\n  $ pip install cupy --no-cache-dir -vvvv\n\nCheck the Installation Guide for details:\n  https://docs.cupy.dev/en/latest/install.html\n\noriginal error: DLL load failed: 지정된 모듈을 찾을 수 없습니다."
     ]
    }
   ],
   "source": [
    "import cupy as cp"
   ]
  },
  {
   "cell_type": "code",
   "execution_count": 13,
   "metadata": {},
   "outputs": [],
   "source": [
    "def show_progress(block_num, block_size, total_size):\n",
    "    bar_template = \"\\r[{}] {:.2f}%\"\n",
    "    \n",
    "    downloaded = block_num * block_size\n",
    "    \n",
    "    p = downloaded / total_size * 100\n",
    "    i = int(downloaded / total_size * 30)\n",
    "    if p >= 100.0: p = 100.0\n",
    "    if i >= 30: i=30\n",
    "    \n",
    "    bar = \"#\" * i + \".\" * (30 - i)\n",
    "    print(bar_template.format(bar, p), end='')"
   ]
  },
  {
   "cell_type": "code",
   "execution_count": 25,
   "metadata": {},
   "outputs": [
    {
     "name": "stdout",
     "output_type": "stream",
     "text": [
      "[##############################] 100.00%"
     ]
    }
   ],
   "source": [
    "for i in range(100):\n",
    "    # pause a bit\n",
    "    for _ in range(1000000):\n",
    "        _pause = 1\n",
    "    show_progress(block_num=i + 1, block_size=10, total_size=1000)"
   ]
  },
  {
   "cell_type": "markdown",
   "metadata": {},
   "source": [
    "### cache directory"
   ]
  },
  {
   "cell_type": "code",
   "execution_count": 27,
   "metadata": {},
   "outputs": [],
   "source": [
    "import os\n",
    "\n",
    "cache_dir = os.path.join(os.path.expanduser('~'), '.dezero')"
   ]
  },
  {
   "cell_type": "markdown",
   "metadata": {},
   "source": [
    "### get file"
   ]
  },
  {
   "cell_type": "code",
   "execution_count": 3,
   "metadata": {},
   "outputs": [
    {
     "data": {
      "text/plain": [
       "33"
      ]
     },
     "execution_count": 3,
     "metadata": {},
     "output_type": "execute_result"
    }
   ],
   "source": [
    "url = 'http://yann.lecun.com/exdb/mnist/train-images-idx3-ubyte.gz'\n",
    "\n",
    "url.rfind('/') + 1"
   ]
  },
  {
   "cell_type": "code",
   "execution_count": 4,
   "metadata": {},
   "outputs": [
    {
     "data": {
      "text/plain": [
       "'train-images-idx3-ubyte.gz'"
      ]
     },
     "execution_count": 4,
     "metadata": {},
     "output_type": "execute_result"
    }
   ],
   "source": [
    "url[url.rfind('/') + 1:]"
   ]
  },
  {
   "cell_type": "code",
   "execution_count": 28,
   "metadata": {},
   "outputs": [],
   "source": [
    "import urllib.request\n",
    "\n",
    "\n",
    "def get_file(url, file_name=None):\n",
    "    \"\"\"Download a file from the `url` if it is not in the cache.\n",
    "    \n",
    "    The file at the `url` is downloaded to the `~/.dezero`\n",
    "    \n",
    "    Args:\n",
    "        url (str): URL of the file.\n",
    "        file_name (str): Name of the file.\n",
    "                         If `None` is specified the original file name is used.\n",
    "                         \n",
    "    Returns:\n",
    "        str: Absolute path to the saved file\n",
    "    \"\"\"\n",
    "    if file_name is None:\n",
    "        file_name = url[url.rfind('/') + 1:]\n",
    "    \n",
    "    # Check is cache directory exist\n",
    "    if not os.path.exists(cache_dir):\n",
    "        os.mkdir(cache_dir)\n",
    "   \n",
    "    file_path = os.path.join(cache_dir, file_name)\n",
    "    \n",
    "    if os.path.exists(file_path):\n",
    "        return file_path\n",
    "    \n",
    "    print(\"Downloading: \" + file_name)\n",
    "    try:\n",
    "        urllib.request.urlretrieve(url, file_path, show_progress)\n",
    "    except (Exception, KeyboardInterrupt) as e:\n",
    "        if os.path.exists(file_path):\n",
    "            os.remove(file_path)\n",
    "        raise\n",
    "    \n",
    "    print(\" Done\")\n",
    "    \n",
    "    return file_path"
   ]
  },
  {
   "cell_type": "markdown",
   "metadata": {},
   "source": [
    "### `MNIST` Dataset"
   ]
  },
  {
   "cell_type": "markdown",
   "metadata": {},
   "source": [
    "```python\n",
    "import gzip\n",
    "import matplotlib.pyplot as plt\n",
    "\n",
    "from dezero.utils import get_file, cache_dir\n",
    "from dezero.transforms import Compose, Flatten, ToFloat, Normalize\n",
    "\n",
    "\n",
    "class MNIST(Dataset):\n",
    "    def __init__(self,\n",
    "                 train=True,\n",
    "                 transform=Compose([Flatten(),\n",
    "                                    ToFloat(),\n",
    "                                    Normalize(0., 255.)]),\n",
    "                 target_transform=None):\n",
    "        super().__init__(train, transform, target_transform)\n",
    "        \n",
    "    def prepare(self):\n",
    "        url = \"http://yann.lecun.com/exdb/mnist/\"\n",
    "        train_files = {'target': 'train-images-idx3-ubyte.gz',\n",
    "                       'label': 'train-labels-idx1-ubyte.gz'}\n",
    "        test_files = {'target': 't10k-images-idx3-ubyte.gz',\n",
    "                      'label': 't10k-labels-idx1-ubyte.gz'}\n",
    "        \n",
    "        files = train_files if self.train else test_files\n",
    "        \n",
    "        data_path = get_file(url + files['target'])\n",
    "        label_path = get_file(url + files['label'])\n",
    "        \n",
    "        self.data = self._load_data(data_path)\n",
    "        self.label = self._load_label(label_path)\n",
    "        \n",
    "    def _load_label(self, filepath):\n",
    "        with gzip.open(filepath, 'rb') as f:\n",
    "            labels = np.frombuffer(f.read(), np.uint8, offset=8)\n",
    "        return labels\n",
    "    \n",
    "    def _load_data(self, filepath):\n",
    "        with gzip.open(filepath, 'rb') as f:\n",
    "            data = np.frombuffer(f.read(), np.uint8, offset=16)\n",
    "        data = data.reshape(-1, 1, 28, 28)\n",
    "        return data\n",
    "    \n",
    "    def show(self, row=10, col=10):\n",
    "        H, W = 28, 28\n",
    "        img = np.zeros((H * row, W * col))\n",
    "        for r in range(row):\n",
    "            for c in range(col):\n",
    "                # Get random images from MNIST and place it at numpy array\n",
    "                img[r * H:(r + 1) * H, c * W:(c + 1) * W] = self.data[\n",
    "                    np.random.randint(0, len(self.data) - 1)].reshape(H, W)\n",
    "        \n",
    "        plt.imshow(img, cmap='gray', interpolation='nearest')\n",
    "        plt.axis('off')\n",
    "        plt.show()\n",
    "        \n",
    "    @staticmethod\n",
    "    def labels():\n",
    "        return {0: '0', 1: '1', 2: '2', 3: '3', 4: '4', 5: '5', 6: '6', 7: '7', 8: '8', 9: '9'}\n",
    "```"
   ]
  },
  {
   "cell_type": "markdown",
   "metadata": {},
   "source": [
    "### what is `np.frombuffer`?"
   ]
  },
  {
   "cell_type": "markdown",
   "metadata": {},
   "source": [
    "`np.frombuffer` is used when we want to `array` from `byte` data!"
   ]
  },
  {
   "cell_type": "code",
   "execution_count": 43,
   "metadata": {},
   "outputs": [
    {
     "ename": "ValueError",
     "evalue": "buffer size must be a multiple of element size",
     "output_type": "error",
     "traceback": [
      "\u001b[1;31m---------------------------------------------------------------------------\u001b[0m",
      "\u001b[1;31mValueError\u001b[0m                                Traceback (most recent call last)",
      "\u001b[1;32m<ipython-input-43-9936e5cc0780>\u001b[0m in \u001b[0;36m<module>\u001b[1;34m\u001b[0m\n\u001b[0;32m      1\u001b[0m \u001b[1;31m# should choose the size of data\u001b[0m\u001b[1;33m\u001b[0m\u001b[1;33m\u001b[0m\u001b[1;33m\u001b[0m\u001b[0m\n\u001b[1;32m----> 2\u001b[1;33m \u001b[0mnp\u001b[0m\u001b[1;33m.\u001b[0m\u001b[0mfrombuffer\u001b[0m\u001b[1;33m(\u001b[0m\u001b[1;34mb'\\x01\\x02'\u001b[0m\u001b[1;33m)\u001b[0m\u001b[1;33m\u001b[0m\u001b[1;33m\u001b[0m\u001b[0m\n\u001b[0m",
      "\u001b[1;31mValueError\u001b[0m: buffer size must be a multiple of element size"
     ]
    }
   ],
   "source": [
    "# should choose the size of data\n",
    "np.frombuffer(b'\\x01\\x02')"
   ]
  },
  {
   "cell_type": "markdown",
   "metadata": {},
   "source": [
    "### byte array is `little endian` here"
   ]
  },
  {
   "cell_type": "code",
   "execution_count": 49,
   "metadata": {},
   "outputs": [
    {
     "data": {
      "text/plain": [
       "'little'"
      ]
     },
     "execution_count": 49,
     "metadata": {},
     "output_type": "execute_result"
    }
   ],
   "source": [
    "import sys\n",
    "sys.byteorder"
   ]
  },
  {
   "cell_type": "markdown",
   "metadata": {},
   "source": [
    "So when we choose `np.uint8` it cuts by 8 and reverse the order.<br>\n",
    "\n",
    "- real memory : `1` `2`\n",
    "---\n",
    "- little endian interpret : `1` `2`"
   ]
  },
  {
   "cell_type": "code",
   "execution_count": 51,
   "metadata": {},
   "outputs": [
    {
     "data": {
      "text/plain": [
       "array([1, 2], dtype=uint8)"
      ]
     },
     "execution_count": 51,
     "metadata": {},
     "output_type": "execute_result"
    }
   ],
   "source": [
    "# 0000 0001 = 1 / 0000 0010 = 2\n",
    "np.frombuffer(b'\\x01\\x02', dtype=np.uint8)"
   ]
  },
  {
   "cell_type": "markdown",
   "metadata": {},
   "source": [
    "When we choose `np.uint16` it cuts by 16 and reverse the order.<br>\n",
    "\n",
    "- real memory : `1 2`\n",
    "---\n",
    "- little endian interpret : `2 1`"
   ]
  },
  {
   "cell_type": "code",
   "execution_count": 52,
   "metadata": {
    "scrolled": false
   },
   "outputs": [
    {
     "data": {
      "text/plain": [
       "array([513], dtype=uint16)"
      ]
     },
     "execution_count": 52,
     "metadata": {},
     "output_type": "execute_result"
    }
   ],
   "source": [
    "# 0000 0010 0000 0001 = 513\n",
    "np.frombuffer(b'\\x01\\x02', dtype=np.uint16)"
   ]
  },
  {
   "cell_type": "markdown",
   "metadata": {},
   "source": [
    "- real memory : `2 1`\n",
    "---\n",
    "- little endian interpret : `1 2`"
   ]
  },
  {
   "cell_type": "code",
   "execution_count": 53,
   "metadata": {
    "scrolled": true
   },
   "outputs": [
    {
     "data": {
      "text/plain": [
       "array([258], dtype=uint16)"
      ]
     },
     "execution_count": 53,
     "metadata": {},
     "output_type": "execute_result"
    }
   ],
   "source": [
    "# 0000 0001 0000 0010 = 258\n",
    "np.frombuffer(b'\\x02\\x01', dtype=np.uint16)"
   ]
  },
  {
   "cell_type": "markdown",
   "metadata": {},
   "source": [
    "- real memory : `1 2` `2 1`\n",
    "---\n",
    "- little endian interpret : `2 1` `1 2`"
   ]
  },
  {
   "cell_type": "code",
   "execution_count": 54,
   "metadata": {},
   "outputs": [
    {
     "data": {
      "text/plain": [
       "array([513, 258], dtype=uint16)"
      ]
     },
     "execution_count": 54,
     "metadata": {},
     "output_type": "execute_result"
    }
   ],
   "source": [
    "np.frombuffer(b'\\x01\\x02\\x02\\x01', dtype=np.uint16)"
   ]
  },
  {
   "cell_type": "markdown",
   "metadata": {},
   "source": [
    "- real memory : `1 2` `3 4`\n",
    "---\n",
    "- little endian interpret : `2 1` `4 3`"
   ]
  },
  {
   "cell_type": "code",
   "execution_count": 55,
   "metadata": {},
   "outputs": [
    {
     "data": {
      "text/plain": [
       "array([ 513, 1027], dtype=uint16)"
      ]
     },
     "execution_count": 55,
     "metadata": {},
     "output_type": "execute_result"
    }
   ],
   "source": [
    "np.frombuffer(b'\\x01\\x02\\x03\\x04', dtype=np.uint16)"
   ]
  },
  {
   "cell_type": "markdown",
   "metadata": {},
   "source": [
    "This means when we want to print in write order for example `1 2` `3 4`<br>\n",
    "The system will consider this as `little endian` so we should write it as `little endian`!\n",
    "\n",
    "- `b'\\x01\\x02\\x03\\x04'` -> `b'\\x02\\x01\\x04\\x03'`"
   ]
  },
  {
   "cell_type": "markdown",
   "metadata": {},
   "source": [
    "- real memory : `2 1` `4 3`\n",
    "---\n",
    "- little endian interpret : `1 2` `3 4`"
   ]
  },
  {
   "cell_type": "code",
   "execution_count": 56,
   "metadata": {},
   "outputs": [
    {
     "data": {
      "text/plain": [
       "array([258, 772], dtype=uint16)"
      ]
     },
     "execution_count": 56,
     "metadata": {},
     "output_type": "execute_result"
    }
   ],
   "source": [
    "np.frombuffer(b'\\x02\\x01\\x04\\x03', dtype=np.uint16)"
   ]
  },
  {
   "cell_type": "markdown",
   "metadata": {},
   "source": [
    "Look's great :)"
   ]
  },
  {
   "cell_type": "markdown",
   "metadata": {},
   "source": [
    "- real memory : `1 2` `3 4` `5 6`\n",
    "---\n",
    "- little endian interpret : `2 1` `4 3` `6 5`"
   ]
  },
  {
   "cell_type": "code",
   "execution_count": 57,
   "metadata": {},
   "outputs": [
    {
     "data": {
      "text/plain": [
       "array([ 513, 1027, 1541], dtype=uint16)"
      ]
     },
     "execution_count": 57,
     "metadata": {},
     "output_type": "execute_result"
    }
   ],
   "source": [
    "np.frombuffer(b'\\x01\\x02\\x03\\x04\\x05\\06', dtype=np.uint16, count=3)"
   ]
  },
  {
   "cell_type": "markdown",
   "metadata": {},
   "source": [
    "## Looking around with `MNIST`"
   ]
  },
  {
   "cell_type": "code",
   "execution_count": 1,
   "metadata": {},
   "outputs": [
    {
     "name": "stdout",
     "output_type": "stream",
     "text": [
      "Downloading: train-images-idx3-ubyte.gz\n",
      "[##############################] 100.00% Done\n",
      "Downloading: train-labels-idx1-ubyte.gz\n",
      "[##############################] 100.00% Done\n",
      "Downloading: t10k-images-idx3-ubyte.gz\n",
      "[##############################] 100.00% Done\n",
      "Downloading: t10k-labels-idx1-ubyte.gz\n",
      "[##############################] 100.00% Done\n",
      "60000\n",
      "10000\n"
     ]
    }
   ],
   "source": [
    "import dezero\n",
    "\n",
    "train_set = dezero.datasets.MNIST(train=True, transform=None)\n",
    "test_set = dezero.datasets.MNIST(train=False, transform=None)\n",
    "\n",
    "print(len(train_set))\n",
    "print(len(test_set))"
   ]
  },
  {
   "cell_type": "code",
   "execution_count": 2,
   "metadata": {},
   "outputs": [
    {
     "name": "stdout",
     "output_type": "stream",
     "text": [
      "<class 'numpy.ndarray'> (1, 28, 28)\n",
      "5\n"
     ]
    }
   ],
   "source": [
    "x, y = train_set[0]\n",
    "print(type(x), x.shape)\n",
    "print(y)"
   ]
  },
  {
   "cell_type": "code",
   "execution_count": 4,
   "metadata": {},
   "outputs": [
    {
     "data": {
      "image/png": "[encoded data removed]",
      "text/plain": [
       "<Figure size 432x288 with 1 Axes>"
      ]
     },
     "metadata": {
      "needs_background": "light"
     },
     "output_type": "display_data"
    },
    {
     "name": "stdout",
     "output_type": "stream",
     "text": [
      "label:  5\n"
     ]
    }
   ],
   "source": [
    "import matplotlib.pyplot as plt\n",
    "\n",
    "x, y = train_set[0]\n",
    "plt.imshow(x.reshape(28, 28), cmap='gray')\n",
    "plt.axis('off')\n",
    "plt.show()\n",
    "\n",
    "print('label: ', y)"
   ]
  },
  {
   "cell_type": "code",
   "execution_count": 9,
   "metadata": {},
   "outputs": [
    {
     "data": {
      "image/png": "[encoded data removed]",
      "text/plain": [
       "<Figure size 432x288 with 1 Axes>"
      ]
     },
     "metadata": {
      "needs_background": "light"
     },
     "output_type": "display_data"
    }
   ],
   "source": [
    "train_set.show()"
   ]
  },
  {
   "cell_type": "markdown",
   "metadata": {},
   "source": [
    "### Input preprocessing for `train`\n",
    "\n",
    "1. flatten\n",
    "2. dtype conversion to `float32`\n",
    "3. Normalize with `255`"
   ]
  },
  {
   "cell_type": "code",
   "execution_count": 10,
   "metadata": {},
   "outputs": [],
   "source": [
    "def f(x):\n",
    "    x = x.flatten()\n",
    "    x = x.astype(np.float32)\n",
    "    x /= 255.\n",
    "    return x\n",
    "\n",
    "train_set = dezero.datasets.MNIST(train=True, transform=f)\n",
    "test_set = dezero.datasets.MNIST(train=False, transform=f)"
   ]
  },
  {
   "cell_type": "code",
   "execution_count": 11,
   "metadata": {},
   "outputs": [
    {
     "data": {
      "image/png": "[encoded data removed]",
      "text/plain": [
       "<Figure size 432x288 with 1 Axes>"
      ]
     },
     "metadata": {
      "needs_background": "light"
     },
     "output_type": "display_data"
    }
   ],
   "source": [
    "train_set.show()"
   ]
  },
  {
   "cell_type": "markdown",
   "metadata": {},
   "source": [
    "## Training with `MNIST`"
   ]
  },
  {
   "cell_type": "code",
   "execution_count": 1,
   "metadata": {},
   "outputs": [],
   "source": [
    "import math\n",
    "import numpy as np\n",
    "\n",
    "import dezero\n",
    "from dezero import optimizers\n",
    "from dezero import DataLoader\n",
    "\n",
    "import dezero.functions as F\n",
    "from dezero.models import MLP\n",
    "from dezero.datasets import MNIST"
   ]
  },
  {
   "cell_type": "code",
   "execution_count": 13,
   "metadata": {},
   "outputs": [],
   "source": [
    "max_epoch = 5\n",
    "batch_size = 100\n",
    "hidden_size = 1000\n",
    "\n",
    "train_set = MNIST(train=True)\n",
    "test_set = MNIST(train=False)\n",
    "\n",
    "train_loader = DataLoader(train_set, batch_size)\n",
    "test_loader = DataLoader(test_set, batch_size, shuffle=False)\n",
    "\n",
    "model = MLP((hidden_size, 10))\n",
    "optimizer = optimizers.SGD(lr=0.1).setup(model)"
   ]
  },
  {
   "cell_type": "code",
   "execution_count": 15,
   "metadata": {
    "scrolled": false
   },
   "outputs": [
    {
     "name": "stdout",
     "output_type": "stream",
     "text": [
      "epoch : 1\n",
      "train loss 0.0892, accuracy 0.1667\n",
      "test loss: 0.4418, accuracy: 0.8756\n",
      "epoch : 2\n",
      "train loss 0.4010, accuracy 0.8834\n",
      "test loss: 0.3465, accuracy: 0.9001\n",
      "epoch : 3\n",
      "train loss 0.3511, accuracy 0.8976\n",
      "test loss: 0.3135, accuracy: 0.9094\n",
      "epoch : 4\n",
      "train loss 0.3299, accuracy 0.9032\n",
      "test loss: 0.3070, accuracy: 0.9145\n",
      "epoch : 5\n",
      "train loss 0.3161, accuracy 0.9086\n",
      "test loss: 0.2939, accuracy: 0.9149\n"
     ]
    }
   ],
   "source": [
    "epoch_list = []\n",
    "\n",
    "train_loss_list = []\n",
    "test_loss_list = []\n",
    "\n",
    "train_acc_list = []\n",
    "test_acc_list = []\n",
    "\n",
    "\n",
    "for epoch in range(max_epoch):\n",
    "    \n",
    "    sum_loss, sum_acc = 0, 0\n",
    "    \n",
    "    for x, y in train_loader:\n",
    "        y_pred = model(x)\n",
    "        \n",
    "        loss = F.softmax_cross_entropy(y_pred, y)\n",
    "        acc = F.accuracy(y_pred, y)\n",
    "        \n",
    "        model.cleargrads()\n",
    "        loss.backward()\n",
    "        optimizer.update()\n",
    "        \n",
    "        sum_loss += float(loss.data) * len(y)\n",
    "        sum_acc += float(acc.data) * len(y)\n",
    "    \n",
    "    avg_loss = sum_loss / len(train_set)\n",
    "    avg_acc = sum_acc / len(train_set)\n",
    "\n",
    "    train_loss_list.append(avg_loss)\n",
    "    train_acc_list.append(avg_acc)\n",
    "    \n",
    "    print('epoch : {}'.format(epoch + 1))\n",
    "    print('train loss {:.4f}, accuracy {:.4f}'.format(avg_loss, avg_acc))\n",
    "\n",
    "    \n",
    "    sum_loss, sum_acc = 0, 0\n",
    "    \n",
    "    with dezero.no_grad():\n",
    "        for x, y in test_loader:\n",
    "            y_pred = model(x)\n",
    "            \n",
    "            loss = F.softmax_cross_entropy(y_pred, y)\n",
    "            acc = F.accuracy(y_pred, y)\n",
    "            \n",
    "            sum_loss += float(loss.data) * len(y)\n",
    "            sum_acc += float(acc.data) * len(y)\n",
    "            \n",
    "    avg_loss = sum_loss / len(test_set)\n",
    "    avg_acc = sum_acc / len(test_set)            \n",
    "    \n",
    "    test_loss_list.append(avg_loss)\n",
    "    test_acc_list.append(avg_acc)\n",
    "\n",
    "    print('test loss: {:.4f}, accuracy: {:.4f}'.format(avg_loss, avg_acc))\n",
    "    \n",
    "    epoch_list.append(epoch + 1)    "
   ]
  },
  {
   "cell_type": "markdown",
   "metadata": {},
   "source": [
    "### Loss & acuracy graph"
   ]
  },
  {
   "cell_type": "code",
   "execution_count": 21,
   "metadata": {
    "scrolled": true
   },
   "outputs": [
    {
     "data": {
      "image/png": "[encoded data removed]",
      "text/plain": [
       "<Figure size 864x360 with 2 Axes>"
      ]
     },
     "metadata": {
      "needs_background": "light"
     },
     "output_type": "display_data"
    }
   ],
   "source": [
    "import matplotlib.pyplot as plt\n",
    "\n",
    "def plot_loss_acc():\n",
    "    plt.figure(figsize=(12, 5))\n",
    "    plt.subplot(1, 2, 1)\n",
    "    plt.plot(epoch_list, train_loss_list, label='train')\n",
    "    plt.plot(epoch_list, test_loss_list, label='test')\n",
    "\n",
    "    plt.xlabel('epoch')\n",
    "    plt.ylabel('loss')\n",
    "    \n",
    "    plt.legend()\n",
    "\n",
    "    plt.subplot(1, 2, 2)\n",
    "    plt.plot(epoch_list, train_acc_list, label='train')\n",
    "    plt.plot(epoch_list, test_acc_list, label='test')\n",
    "\n",
    "    plt.xlabel('epoch')\n",
    "    plt.ylabel('accuracy')\n",
    "\n",
    "    plt.legend()\n",
    "    plt.show()\n",
    "    \n",
    "plot_loss_acc()"
   ]
  },
  {
   "cell_type": "markdown",
   "metadata": {},
   "source": [
    "### We reached `91.49%` accuracy at test set!"
   ]
  },
  {
   "cell_type": "markdown",
   "metadata": {},
   "source": [
    "## `ReLU` - rectified linear unit"
   ]
  },
  {
   "cell_type": "code",
   "execution_count": 22,
   "metadata": {},
   "outputs": [
    {
     "data": {
      "text/plain": [
       "array([[ True,  True, False],\n",
       "       [False,  True,  True],\n",
       "       [False, False, False]])"
      ]
     },
     "execution_count": 22,
     "metadata": {},
     "output_type": "execute_result"
    }
   ],
   "source": [
    "x = np.array([[1, 2, -1],\n",
    "              [-1, 2, 1],\n",
    "              [-3, -3, -7]])\n",
    "x > 0"
   ]
  },
  {
   "cell_type": "code",
   "execution_count": 23,
   "metadata": {},
   "outputs": [
    {
     "data": {
      "text/plain": [
       "array([[1, 2, 0],\n",
       "       [0, 2, 1],\n",
       "       [0, 0, 0]])"
      ]
     },
     "execution_count": 23,
     "metadata": {},
     "output_type": "execute_result"
    }
   ],
   "source": [
    "x * (x > 0)"
   ]
  },
  {
   "cell_type": "code",
   "execution_count": null,
   "metadata": {},
   "outputs": [],
   "source": [
    "class ReLU(Function):\n",
    "    def forward(self, x):\n",
    "        y = np.maximum(x, 0.0)\n",
    "        return y\n",
    "    \n",
    "    def backward(self, gy):\n",
    "        x, = self.inputs\n",
    "        mask = x.data > 0\n",
    "        gx = gy * mask\n",
    "        return gx\n",
    "    \n",
    "def relu(x):\n",
    "    return ReLU()(x)"
   ]
  },
  {
   "cell_type": "code",
   "execution_count": 2,
   "metadata": {},
   "outputs": [],
   "source": [
    "max_epoch = 5\n",
    "batch_size = 100\n",
    "hidden_size = 1000\n",
    "\n",
    "train_set = MNIST(train=True)\n",
    "test_set = MNIST(train=False)\n",
    "\n",
    "train_loader = DataLoader(train_set, batch_size)\n",
    "test_loader = DataLoader(test_set, batch_size, shuffle=False)\n",
    "\n",
    "model = MLP((hidden_size, 10), activation=F.relu)\n",
    "optimizer = optimizers.SGD(lr=0.1).setup(model)"
   ]
  },
  {
   "cell_type": "code",
   "execution_count": 3,
   "metadata": {
    "scrolled": true
   },
   "outputs": [
    {
     "name": "stdout",
     "output_type": "stream",
     "text": [
      "epoch : 1\n",
      "train loss 0.4217, accuracy 0.8879\n",
      "test loss: 0.2491, accuracy: 0.9303\n",
      "epoch : 2\n",
      "train loss 0.2268, accuracy 0.9364\n",
      "test loss: 0.1924, accuracy: 0.9449\n",
      "epoch : 3\n",
      "train loss 0.1746, accuracy 0.9510\n",
      "test loss: 0.1553, accuracy: 0.9549\n",
      "epoch : 4\n",
      "train loss 0.1418, accuracy 0.9605\n",
      "test loss: 0.1325, accuracy: 0.9622\n",
      "epoch : 5\n",
      "train loss 0.1199, accuracy 0.9665\n",
      "test loss: 0.1202, accuracy: 0.9653\n"
     ]
    }
   ],
   "source": [
    "epoch_list = []\n",
    "\n",
    "train_loss_list = []\n",
    "test_loss_list = []\n",
    "\n",
    "train_acc_list = []\n",
    "test_acc_list = []\n",
    "\n",
    "\n",
    "for epoch in range(max_epoch):\n",
    "    \n",
    "    sum_loss, sum_acc = 0, 0\n",
    "    \n",
    "    for x, y in train_loader:\n",
    "        y_pred = model(x)\n",
    "        \n",
    "        loss = F.softmax_cross_entropy(y_pred, y)\n",
    "        acc = F.accuracy(y_pred, y)\n",
    "        \n",
    "        model.cleargrads()\n",
    "        loss.backward()\n",
    "        optimizer.update()\n",
    "        \n",
    "        sum_loss += float(loss.data) * len(y)\n",
    "        sum_acc += float(acc.data) * len(y)\n",
    "    \n",
    "    avg_loss = sum_loss / len(train_set)\n",
    "    avg_acc = sum_acc / len(train_set)\n",
    "\n",
    "    train_loss_list.append(avg_loss)\n",
    "    train_acc_list.append(avg_acc)\n",
    "    \n",
    "    print('epoch : {}'.format(epoch + 1))\n",
    "    print('train loss {:.4f}, accuracy {:.4f}'.format(avg_loss, avg_acc))\n",
    "\n",
    "    \n",
    "    sum_loss, sum_acc = 0, 0\n",
    "    \n",
    "    with dezero.no_grad():\n",
    "        for x, y in test_loader:\n",
    "            y_pred = model(x)\n",
    "            \n",
    "            loss = F.softmax_cross_entropy(y_pred, y)\n",
    "            acc = F.accuracy(y_pred, y)\n",
    "            \n",
    "            sum_loss += float(loss.data) * len(y)\n",
    "            sum_acc += float(acc.data) * len(y)\n",
    "            \n",
    "    avg_loss = sum_loss / len(test_set)\n",
    "    avg_acc = sum_acc / len(test_set)            \n",
    "    \n",
    "    test_loss_list.append(avg_loss)\n",
    "    test_acc_list.append(avg_acc)\n",
    "\n",
    "    print('test loss: {:.4f}, accuracy: {:.4f}'.format(avg_loss, avg_acc))\n",
    "    \n",
    "    epoch_list.append(epoch + 1)    "
   ]
  },
  {
   "cell_type": "code",
   "execution_count": 4,
   "metadata": {
    "scrolled": true
   },
   "outputs": [
    {
     "data": {
      "image/png": "[encoded data removed]",
      "text/plain": [
       "<Figure size 864x360 with 2 Axes>"
      ]
     },
     "metadata": {
      "needs_background": "light"
     },
     "output_type": "display_data"
    }
   ],
   "source": [
    "import matplotlib.pyplot as plt\n",
    "\n",
    "def plot_loss_acc():\n",
    "    plt.figure(figsize=(12, 5))\n",
    "    plt.subplot(1, 2, 1)\n",
    "    plt.plot(epoch_list, train_loss_list, label='train')\n",
    "    plt.plot(epoch_list, test_loss_list, label='test')\n",
    "\n",
    "    plt.xlabel('epoch')\n",
    "    plt.ylabel('loss')\n",
    "    \n",
    "    plt.legend()\n",
    "\n",
    "    plt.subplot(1, 2, 2)\n",
    "    plt.plot(epoch_list, train_acc_list, label='train')\n",
    "    plt.plot(epoch_list, test_acc_list, label='test')\n",
    "\n",
    "    plt.xlabel('epoch')\n",
    "    plt.ylabel('accuracy')\n",
    "\n",
    "    plt.legend()\n",
    "    plt.show()\n",
    "    \n",
    "plot_loss_acc()"
   ]
  },
  {
   "cell_type": "markdown",
   "metadata": {},
   "source": [
    "### `ReLU` add ->  `96.53%` accuracy at test set!"
   ]
  },
  {
   "cell_type": "markdown",
   "metadata": {},
   "source": [
    "## With `Adam`"
   ]
  },
  {
   "cell_type": "code",
   "execution_count": 25,
   "metadata": {},
   "outputs": [],
   "source": [
    "max_epoch = 5\n",
    "batch_size = 100\n",
    "hidden_size = 1000\n",
    "\n",
    "train_set = MNIST(train=True)\n",
    "test_set = MNIST(train=False)\n",
    "\n",
    "train_loader = DataLoader(train_set, batch_size)\n",
    "test_loader = DataLoader(test_set, batch_size, shuffle=False)\n",
    "\n",
    "model = MLP((hidden_size, 10), activation=F.relu)\n",
    "optimizer = optimizers.Adam(lr=0.01).setup(model)"
   ]
  },
  {
   "cell_type": "code",
   "execution_count": 26,
   "metadata": {
    "scrolled": true
   },
   "outputs": [
    {
     "name": "stdout",
     "output_type": "stream",
     "text": [
      "epoch : 1\n",
      "train loss 0.1879, accuracy 0.9430\n",
      "test loss: 0.1151, accuracy: 0.9616\n",
      "epoch : 2\n",
      "train loss 0.0791, accuracy 0.9756\n",
      "test loss: 0.0933, accuracy: 0.9712\n",
      "epoch : 3\n",
      "train loss 0.0540, accuracy 0.9826\n",
      "test loss: 0.0818, accuracy: 0.9758\n",
      "epoch : 4\n",
      "train loss 0.0409, accuracy 0.9863\n",
      "test loss: 0.0904, accuracy: 0.9745\n",
      "epoch : 5\n",
      "train loss 0.0343, accuracy 0.9889\n",
      "test loss: 0.0807, accuracy: 0.9783\n"
     ]
    }
   ],
   "source": [
    "epoch_list = []\n",
    "\n",
    "train_loss_list = []\n",
    "test_loss_list = []\n",
    "\n",
    "train_acc_list = []\n",
    "test_acc_list = []\n",
    "\n",
    "\n",
    "for epoch in range(max_epoch):\n",
    "    \n",
    "    sum_loss, sum_acc = 0, 0\n",
    "    \n",
    "    for x, y in train_loader:\n",
    "        y_pred = model(x)\n",
    "        \n",
    "        loss = F.softmax_cross_entropy(y_pred, y)\n",
    "        acc = F.accuracy(y_pred, y)\n",
    "        \n",
    "        model.cleargrads()\n",
    "        loss.backward()\n",
    "        optimizer.update()\n",
    "        \n",
    "        sum_loss += float(loss.data) * len(y)\n",
    "        sum_acc += float(acc.data) * len(y)\n",
    "    \n",
    "    avg_loss = sum_loss / len(train_set)\n",
    "    avg_acc = sum_acc / len(train_set)\n",
    "\n",
    "    train_loss_list.append(avg_loss)\n",
    "    train_acc_list.append(avg_acc)\n",
    "    \n",
    "    print('epoch : {}'.format(epoch + 1))\n",
    "    print('train loss {:.4f}, accuracy {:.4f}'.format(avg_loss, avg_acc))\n",
    "\n",
    "    \n",
    "    sum_loss, sum_acc = 0, 0\n",
    "    \n",
    "    with dezero.no_grad():\n",
    "        for x, y in test_loader:\n",
    "            y_pred = model(x)\n",
    "            \n",
    "            loss = F.softmax_cross_entropy(y_pred, y)\n",
    "            acc = F.accuracy(y_pred, y)\n",
    "            \n",
    "            sum_loss += float(loss.data) * len(y)\n",
    "            sum_acc += float(acc.data) * len(y)\n",
    "            \n",
    "    avg_loss = sum_loss / len(test_set)\n",
    "    avg_acc = sum_acc / len(test_set)            \n",
    "    \n",
    "    test_loss_list.append(avg_loss)\n",
    "    test_acc_list.append(avg_acc)\n",
    "\n",
    "    print('test loss: {:.4f}, accuracy: {:.4f}'.format(avg_loss, avg_acc))\n",
    "    \n",
    "    epoch_list.append(epoch + 1)    "
   ]
  },
  {
   "cell_type": "code",
   "execution_count": 27,
   "metadata": {
    "scrolled": true
   },
   "outputs": [
    {
     "data": {
      "image/png": "[encoded data removed]",
      "text/plain": [
       "<Figure size 864x360 with 2 Axes>"
      ]
     },
     "metadata": {
      "needs_background": "light"
     },
     "output_type": "display_data"
    }
   ],
   "source": [
    "import matplotlib.pyplot as plt\n",
    "\n",
    "def plot_loss_acc():\n",
    "    plt.figure(figsize=(12, 5))\n",
    "    plt.subplot(1, 2, 1)\n",
    "    plt.plot(epoch_list, train_loss_list, label='train')\n",
    "    plt.plot(epoch_list, test_loss_list, label='test')\n",
    "\n",
    "    plt.xlabel('epoch')\n",
    "    plt.ylabel('loss')\n",
    "    \n",
    "    plt.legend()\n",
    "\n",
    "    plt.subplot(1, 2, 2)\n",
    "    plt.plot(epoch_list, train_acc_list, label='train')\n",
    "    plt.plot(epoch_list, test_acc_list, label='test')\n",
    "\n",
    "    plt.xlabel('epoch')\n",
    "    plt.ylabel('accuracy')\n",
    "\n",
    "    plt.legend()\n",
    "    plt.show()\n",
    "    \n",
    "plot_loss_acc()"
   ]
  },
  {
   "cell_type": "markdown",
   "metadata": {},
   "source": [
    "### `ReLU` + `Adam lr=0.01` add ->  `97.83%` accuracy at test set!"
   ]
  },
  {
   "cell_type": "markdown",
   "metadata": {},
   "source": [
    "## With `3 Layer MLP`"
   ]
  },
  {
   "cell_type": "code",
   "execution_count": 22,
   "metadata": {},
   "outputs": [],
   "source": [
    "max_epoch = 5\n",
    "batch_size = 100\n",
    "hidden_size = 1000\n",
    "\n",
    "train_set = MNIST(train=True)\n",
    "test_set = MNIST(train=False)\n",
    "\n",
    "train_loader = DataLoader(train_set, batch_size)\n",
    "test_loader = DataLoader(test_set, batch_size, shuffle=False)\n",
    "\n",
    "model = MLP((hidden_size, hidden_size, 10), activation=F.relu)\n",
    "optimizer = optimizers.Adam(lr=0.001).setup(model)"
   ]
  },
  {
   "cell_type": "code",
   "execution_count": 23,
   "metadata": {
    "scrolled": true
   },
   "outputs": [
    {
     "name": "stdout",
     "output_type": "stream",
     "text": [
      "epoch : 1\n",
      "train loss 0.2561, accuracy 0.9273\n",
      "test loss: 0.1121, accuracy: 0.9668\n",
      "epoch : 2\n",
      "train loss 0.0907, accuracy 0.9728\n",
      "test loss: 0.0823, accuracy: 0.9742\n",
      "epoch : 3\n",
      "train loss 0.0553, accuracy 0.9837\n",
      "test loss: 0.0668, accuracy: 0.9784\n",
      "epoch : 4\n",
      "train loss 0.0372, accuracy 0.9879\n",
      "test loss: 0.0737, accuracy: 0.9765\n",
      "epoch : 5\n",
      "train loss 0.0259, accuracy 0.9916\n",
      "test loss: 0.0590, accuracy: 0.9813\n"
     ]
    }
   ],
   "source": [
    "epoch_list = []\n",
    "\n",
    "train_loss_list = []\n",
    "test_loss_list = []\n",
    "\n",
    "train_acc_list = []\n",
    "test_acc_list = []\n",
    "\n",
    "\n",
    "for epoch in range(max_epoch):\n",
    "    \n",
    "    sum_loss, sum_acc = 0, 0\n",
    "    \n",
    "    for x, y in train_loader:\n",
    "        y_pred = model(x)\n",
    "        \n",
    "        loss = F.softmax_cross_entropy(y_pred, y)\n",
    "        acc = F.accuracy(y_pred, y)\n",
    "        \n",
    "        model.cleargrads()\n",
    "        loss.backward()\n",
    "        optimizer.update()\n",
    "        \n",
    "        sum_loss += float(loss.data) * len(y)\n",
    "        sum_acc += float(acc.data) * len(y)\n",
    "    \n",
    "    avg_loss = sum_loss / len(train_set)\n",
    "    avg_acc = sum_acc / len(train_set)\n",
    "\n",
    "    train_loss_list.append(avg_loss)\n",
    "    train_acc_list.append(avg_acc)\n",
    "    \n",
    "    print('epoch : {}'.format(epoch + 1))\n",
    "    print('train loss {:.4f}, accuracy {:.4f}'.format(avg_loss, avg_acc))\n",
    "\n",
    "    \n",
    "    sum_loss, sum_acc = 0, 0\n",
    "    \n",
    "    with dezero.no_grad():\n",
    "        for x, y in test_loader:\n",
    "            y_pred = model(x)\n",
    "            \n",
    "            loss = F.softmax_cross_entropy(y_pred, y)\n",
    "            acc = F.accuracy(y_pred, y)\n",
    "            \n",
    "            sum_loss += float(loss.data) * len(y)\n",
    "            sum_acc += float(acc.data) * len(y)\n",
    "            \n",
    "    avg_loss = sum_loss / len(test_set)\n",
    "    avg_acc = sum_acc / len(test_set)            \n",
    "    \n",
    "    test_loss_list.append(avg_loss)\n",
    "    test_acc_list.append(avg_acc)\n",
    "\n",
    "    print('test loss: {:.4f}, accuracy: {:.4f}'.format(avg_loss, avg_acc))\n",
    "    \n",
    "    epoch_list.append(epoch + 1)    "
   ]
  },
  {
   "cell_type": "code",
   "execution_count": 24,
   "metadata": {
    "scrolled": true
   },
   "outputs": [
    {
     "data": {
      "image/png": "[encoded data removed]",
      "text/plain": [
       "<Figure size 864x360 with 2 Axes>"
      ]
     },
     "metadata": {
      "needs_background": "light"
     },
     "output_type": "display_data"
    }
   ],
   "source": [
    "import matplotlib.pyplot as plt\n",
    "\n",
    "def plot_loss_acc():\n",
    "    plt.figure(figsize=(12, 5))\n",
    "    plt.subplot(1, 2, 1)\n",
    "    plt.plot(epoch_list, train_loss_list, label='train')\n",
    "    plt.plot(epoch_list, test_loss_list, label='test')\n",
    "\n",
    "    plt.xlabel('epoch')\n",
    "    plt.ylabel('loss')\n",
    "    \n",
    "    plt.legend()\n",
    "\n",
    "    plt.subplot(1, 2, 2)\n",
    "    plt.plot(epoch_list, train_acc_list, label='train')\n",
    "    plt.plot(epoch_list, test_acc_list, label='test')\n",
    "\n",
    "    plt.xlabel('epoch')\n",
    "    plt.ylabel('accuracy')\n",
    "\n",
    "    plt.legend()\n",
    "    plt.show()\n",
    "    \n",
    "plot_loss_acc()"
   ]
  },
  {
   "cell_type": "markdown",
   "metadata": {},
   "source": [
    "### `ReLU` + `Adam lr=0.001` + `3 Layer MLP` add ->  `98.13%` accuracy at test set!"
   ]
  }
 ],
 "metadata": {
  "kernelspec": {
   "display_name": "Python 3",
   "language": "python",
   "name": "python3"
  },
  "language_info": {
   "codemirror_mode": {
    "name": "ipython",
    "version": 3
   },
   "file_extension": ".py",
   "mimetype": "text/x-python",
   "name": "python",
   "nbconvert_exporter": "python",
   "pygments_lexer": "ipython3",
   "version": "3.7.7"
  }
 },
 "nbformat": 4,
 "nbformat_minor": 4
}
