{
 "cells": [
  {
   "cell_type": "markdown",
   "metadata": {},
   "source": [
    "## Vector multiplication "
   ]
  },
  {
   "cell_type": "code",
   "execution_count": 2,
   "metadata": {},
   "outputs": [
    {
     "name": "stdout",
     "output_type": "stream",
     "text": [
      "32\n"
     ]
    }
   ],
   "source": [
    "import numpy as np\n",
    "\n",
    "a = np.array([1, 2, 3])\n",
    "b = np.array([4, 5, 6])\n",
    "c = np.dot(a, b)\n",
    "print(c)"
   ]
  },
  {
   "cell_type": "markdown",
   "metadata": {},
   "source": [
    "## Matrix multiplication "
   ]
  },
  {
   "cell_type": "code",
   "execution_count": 3,
   "metadata": {},
   "outputs": [
    {
     "name": "stdout",
     "output_type": "stream",
     "text": [
      "[[19 22]\n",
      " [43 50]]\n"
     ]
    }
   ],
   "source": [
    "import numpy as np\n",
    "\n",
    "a = np.array([[1, 2],\n",
    "              [3, 4]])\n",
    "b = np.array([[5, 6],\n",
    "              [7, 8]])\n",
    "c = np.dot(a, b)\n",
    "print(c)"
   ]
  },
  {
   "cell_type": "markdown",
   "metadata": {},
   "source": [
    "When multiplying 2 matrix we have to check the both matrix shape"
   ]
  },
  {
   "cell_type": "markdown",
   "metadata": {},
   "source": [
    "## Backpropagation of `Matrix Multplication`"
   ]
  },
  {
   "cell_type": "markdown",
   "metadata": {},
   "source": [
    "### $\\mathbf{y} = \\mathbf{xW}$\n",
    "\n",
    "- $\\mathbf{x} : 1 \\times D$\n",
    "- $\\mathbf{W} : D \\times H$\n",
    "- $\\mathbf{y} : 1 \\times H$\n",
    "\n",
    "Let's asume we do some calculation on $\\mathbf{y}$ and make it to scalar $L$!\n",
    "\n",
    "## `x`\n",
    "\n",
    "## $\\frac{\\partial L}{\\partial x_{i}} = \\sum\\limits_{\\scriptsize{j}} \\frac{\\partial L}{\\partial y_{j}} \\frac{\\partial y_{j}}{\\partial x_{i}}$\n",
    "\n",
    "when we unfold $y_{j}$\n",
    "\n",
    "### $y_{j} = x_{1}W_{1j} + x_{2}W_{2j} + \\cdot\\cdot\\cdot + x_{i}W_{ij} + \\cdot\\cdot\\cdot + x_{D}W_{Dj}$\n",
    "## $\\therefore \\frac{\\partial y_{j}}{\\partial x_{i}} = W_{ij}$\n",
    "\n",
    "We can rewrite the above formula\n",
    "\n",
    "## $\\frac{\\partial L}{\\partial x_{i}} = \\sum\\limits_{\\scriptsize{j}} \\frac{\\partial L}{\\partial y_{j}} \\frac{\\partial y_{j}}{\\partial x_{i}} = \\sum\\limits_{\\scriptsize{j}} \\frac{\\partial L}{\\partial y_{j}} W_{ij}$\n",
    "\n",
    "----\n",
    "\n",
    "### Let's summarize\n",
    "\n",
    "## $\\frac{\\partial L}{\\partial x_{i}} = \\sum\\limits_{\\scriptsize{j}} \\frac{\\partial L}{\\partial y_{j}} W_{ij} = \\frac{\\partial L}{\\partial \\mathbf{y}} \\cdot W_{i}$\n",
    "## $\\frac{\\partial L}{\\partial \\mathbf{x}} = \\frac{\\partial L}{\\partial \\mathbf{y}} \\cdot W^{T}$"
   ]
  },
  {
   "cell_type": "markdown",
   "metadata": {},
   "source": [
    "<br><br>\n",
    "\n",
    "## `W`\n",
    "\n",
    "## $\\frac{\\partial L}{\\partial W_{ij}} = \\sum\\limits_{\\scriptsize{k}} \\frac{\\partial L}{\\partial y_{k}} \\frac{\\partial y_{k}}{\\partial W_{ij}}$\n",
    "\n",
    "when we unfold $y_{k}$\n",
    "\n",
    "### $y_{k} = x_{1}W_{1k} + x_{2}W_{2k} + \\cdot\\cdot\\cdot + x_{i}W_{ik} + \\cdot\\cdot\\cdot + x_{D}W_{Dk}$\n",
    "## $\\therefore \\frac{\\partial y_{k}}{\\partial W_{ij}} = \\mathbb{I}(k = j)x_{i}$\n",
    "\n",
    "### $\\mathbb{I}$ is `identicator function`\n",
    "\n",
    "---\n",
    "\n",
    "We can rewrite the above formula\n",
    "\n",
    "## $\\frac{\\partial L}{\\partial W_{ij}} = \\sum\\limits_{\\scriptsize{k}} \\frac{\\partial L}{\\partial y_{k}} \\frac{\\partial y_{k}}{\\partial W_{ij}} = \\sum\\limits_{\\scriptsize{k}} \\frac{\\partial L}{\\partial y_{k}} \\mathbb{I}(k = j)x_{i}$\n",
    "\n",
    "----\n",
    "\n",
    "### Let's summarize\n",
    "\n",
    "## $\\frac{\\partial L}{\\partial W_{ij}} = \\sum\\limits_{\\scriptsize{k}} \\mathbb{I}(k = j) \\frac{\\partial L}{\\partial y_{k}}$\n",
    "- $(1 \\times 1) = (1 \\times 1)(1 \\times 1)$\n",
    "\n",
    "## $\\frac{\\partial L}{\\partial W_{j}} = \\mathbf{x}^{\\scriptsize{T}} \\sum\\limits_{\\scriptsize{k}} \\mathbb{I}(k = j) \\frac{\\partial L}{\\partial y_{k}}$\n",
    "- $(D \\times 1) = (D \\times 1)(1 \\times 1)$\n",
    "\n",
    "## $\\downarrow$ \n",
    "\n",
    "## $\\frac{\\partial L}{\\partial W} = \\mathbf{x}^{\\scriptsize{T}}\n",
    "\\bigg[\n",
    "\\sum\\limits_{\\scriptsize{k}} \\scriptsize{\\mathbb{I}(k = 1)} \\frac{\\partial L}{\\partial y_{k}}\n",
    "\\sum\\limits_{\\scriptsize{k}} \\mathbb{I}(k = 2) \\frac{\\partial L}{\\partial y_{k}}\n",
    "\\cdot\\cdot\\cdot\n",
    "\\sum\\limits_{\\scriptsize{k}} \\mathbb{I}(k = H) \\frac{\\partial L}{\\partial y_{k}}\n",
    "\\bigg]\n",
    "$\n",
    "- $(D \\times H) = (D \\times 1)(1 \\times H)$\n",
    "\n",
    "## $\\frac{\\partial L}{\\partial W} = \\mathbf{x}^{\\scriptsize{T}}\n",
    "\\bigg[\n",
    "\\frac{\\partial L}{\\partial y_{1}}\n",
    "\\frac{\\partial L}{\\partial y_{2}}\n",
    "\\cdot\\cdot\\cdot\n",
    "\\frac{\\partial L}{\\partial y_{H}}\n",
    "\\bigg]\n",
    "$\n",
    "- $(D \\times H) = (D \\times 1)(1 \\times H)$\n",
    "\n",
    "## $\\frac{\\partial L}{\\partial \\mathbf{W}} = \\mathbf{x}^{\\scriptsize{T}} \\cdot \\frac{\\partial L}{\\partial \\mathbf{y}}$\n",
    "- $(D \\times H) = (D \\times 1)(1 \\times H)$"
   ]
  },
  {
   "cell_type": "markdown",
   "metadata": {},
   "source": [
    "## When `x` dimension is `N` $\\times$ `D`"
   ]
  },
  {
   "cell_type": "markdown",
   "metadata": {},
   "source": [
    "### $\\mathbf{y} = \\mathbf{xW}$\n",
    "\n",
    "- $\\mathbf{x} : N \\times D$\n",
    "- $\\mathbf{W} : D \\times H$\n",
    "- $\\mathbf{y} : N \\times H$\n",
    "\n",
    "\n",
    "## $\\frac{\\partial L}{\\partial \\mathbf{x}} = \\frac{\\partial L}{\\partial \\mathbf{y}} \\cdot W^{T}$\n",
    "- $(N \\times D) = (N \\times H)(H \\times D)$\n",
    "\n",
    "## $\\frac{\\partial L}{\\partial \\mathbf{W}} = \\mathbf{x}^{\\scriptsize{T}} \\cdot \\frac{\\partial L}{\\partial \\mathbf{y}}$\n",
    "- $(D \\times H) = (D \\times N)(N \\times H)$"
   ]
  },
  {
   "cell_type": "markdown",
   "metadata": {},
   "source": [
    "## Implement `Matrix Multplication`"
   ]
  },
  {
   "cell_type": "code",
   "execution_count": 4,
   "metadata": {},
   "outputs": [],
   "source": [
    "from dezero import Function\n",
    "\n",
    "class MatMul(Function):\n",
    "    def forward(self, x, W):\n",
    "        y = x.dot(W)\n",
    "        return y\n",
    "    \n",
    "    def backward(self, gy):\n",
    "        x, W = self.inputs\n",
    "        gx = matmul(gy, W.T)\n",
    "        gW = matmul(x.T, gy)\n",
    "        return gx, gW\n",
    "    \n",
    "def matmul(x, W):\n",
    "    return MatMul()(x, W)"
   ]
  },
  {
   "cell_type": "code",
   "execution_count": 1,
   "metadata": {},
   "outputs": [
    {
     "name": "stdout",
     "output_type": "stream",
     "text": [
      "(2, 3)\n",
      "(3, 4)\n"
     ]
    }
   ],
   "source": [
    "from dezero import Variable\n",
    "import dezero.functions as F\n",
    "\n",
    "x = Variable(np.random.randn(2, 3))\n",
    "W = Variable(np.random.randn(3, 4))\n",
    "y = F.matmul(x, W)\n",
    "y.backward()\n",
    "\n",
    "print(x.grad.shape)\n",
    "print(W.grad.shape)"
   ]
  }
 ],
 "metadata": {
  "kernelspec": {
   "display_name": "Python 3",
   "language": "python",
   "name": "python3"
  },
  "language_info": {
   "codemirror_mode": {
    "name": "ipython",
    "version": 3
   },
   "file_extension": ".py",
   "mimetype": "text/x-python",
   "name": "python",
   "nbconvert_exporter": "python",
   "pygments_lexer": "ipython3",
   "version": "3.7.7"
  }
 },
 "nbformat": 4,
 "nbformat_minor": 4
}
