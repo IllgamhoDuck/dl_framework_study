{
 "cells": [
  {
   "cell_type": "markdown",
   "metadata": {},
   "source": [
    "### we can back propagate at a graph where back propagation is done.\n",
    "### This is called `double backpropagation`\n",
    "\n",
    "Where can we use this? Let's consider following case."
   ]
  },
  {
   "cell_type": "markdown",
   "metadata": {},
   "source": [
    "## differential of `z` for `x` where `x = 2.0`\n",
    "\n",
    "### $y\\ =\\ x^{2}$\n",
    "### $z\\ =\\ \\big(\\frac{\\partial y}{\\partial{x}}\\big)^{3} + y$\n",
    "\n",
    "---\n",
    "\n",
    "### $\\frac{\\partial y}{\\partial{x}} = 2x$\n",
    "### $z = 8x^{3} + y$\n",
    "### $\\frac{\\partial z}{\\partial{x}} = 24x^{2} + 2x$\n",
    "\n",
    "**The result should be `100`!**"
   ]
  },
  {
   "cell_type": "markdown",
   "metadata": {},
   "source": [
    "## Use `dezero` to solve this!"
   ]
  },
  {
   "cell_type": "code",
   "execution_count": 1,
   "metadata": {},
   "outputs": [
    {
     "name": "stdout",
     "output_type": "stream",
     "text": [
      "Variable(100.0)\n"
     ]
    }
   ],
   "source": [
    "import numpy as np\n",
    "from dezero import Variable\n",
    "\n",
    "x = Variable(np.array(2.0))\n",
    "y = x**2\n",
    "\n",
    "y.backward(create_graph=True)\n",
    "gx = x.grad\n",
    "\n",
    "x.cleargrad()\n",
    "\n",
    "z = gx**3 + y\n",
    "z.backward()\n",
    "\n",
    "print(x.grad)"
   ]
  },
  {
   "cell_type": "markdown",
   "metadata": {},
   "source": [
    "## Where do we use this `double backpropagation`?\n",
    "\n",
    "One usage is at **`WGAN-GP`** loss function!"
   ]
  },
  {
   "cell_type": "markdown",
   "metadata": {},
   "source": [
    "### $L = \\underset{\\tilde{x} \\sim \\mathbb{P}_{g}}{\\mathbb{E}}\\big[D(\\tilde{x})\\big] - \\underset{x \\sim \\mathbb{P}_{r}}{\\mathbb{E}}\\big[D(x)\\big] + \\lambda \\underset{\\hat{x} \\sim \\mathbb{P}_{\\hat{x}}}{\\mathbb{E}}\\big[\\big(\\big\\Vert \\nabla_{\\hat{x}} D(\\hat{x})\\big\\Vert_{2} - 1\\big)^{2}\\big]$ "
   ]
  },
  {
   "cell_type": "markdown",
   "metadata": {},
   "source": [
    "## $\\nabla_{\\hat{x}} D(\\hat{x}) \\leftarrow$ this could be calculated using `double backpropagation`"
   ]
  },
  {
   "cell_type": "markdown",
   "metadata": {},
   "source": [
    "other places use `double backpropagation`\n",
    "\n",
    "- MAML\n",
    "- TRPO"
   ]
  }
 ],
 "metadata": {
  "kernelspec": {
   "display_name": "Python 3",
   "language": "python",
   "name": "python3"
  },
  "language_info": {
   "codemirror_mode": {
    "name": "ipython",
    "version": 3
   },
   "file_extension": ".py",
   "mimetype": "text/x-python",
   "name": "python",
   "nbconvert_exporter": "python",
   "pygments_lexer": "ipython3",
   "version": "3.7.7"
  }
 },
 "nbformat": 4,
 "nbformat_minor": 4
}
