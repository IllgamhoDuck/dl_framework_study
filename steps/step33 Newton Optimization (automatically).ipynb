{
 "cells": [
  {
   "cell_type": "markdown",
   "metadata": {},
   "source": [
    "## Let's Optimize the function\n",
    "### $y = x^{4} - 2x^{2}$\n",
    "### $\\frac{\\partial{y}}{\\partial{x}} = 4x^{3} - 4x$\n",
    "### $\\frac{\\partial^{2}{y}}{\\partial{x}^{2}} = 12x^{2} - 4$"
   ]
  },
  {
   "cell_type": "code",
   "execution_count": 4,
   "metadata": {},
   "outputs": [
    {
     "name": "stdout",
     "output_type": "stream",
     "text": [
      "Variable(24.0)\n"
     ]
    }
   ],
   "source": [
    "import numpy as np\n",
    "\n",
    "from dezero import Variable\n",
    "from dezero import Function\n",
    "\n",
    "def f(x):\n",
    "    y = x**4 - 2*x**2\n",
    "    return y\n",
    "\n",
    "x = Variable(np.array(2.0))\n",
    "y = f(x)\n",
    "y.backward(create_graph=True)\n",
    "print(x.grad)"
   ]
  },
  {
   "cell_type": "code",
   "execution_count": 2,
   "metadata": {},
   "outputs": [
    {
     "name": "stdout",
     "output_type": "stream",
     "text": [
      "Variable(68.0)\n"
     ]
    }
   ],
   "source": [
    "gx = x.grad\n",
    "gx.backward()\n",
    "print(x.grad)"
   ]
  },
  {
   "cell_type": "markdown",
   "metadata": {},
   "source": [
    "### $\\frac{\\partial{y}}{\\partial{x}}|_{x=2} = 24$\n",
    "### $\\frac{\\partial^{2}{y}}{\\partial{x}^{2}}|_{x=2} = 44$\n",
    "\n",
    "above result is wrong. it should be **44** not **68**\n",
    "\n",
    "This happend because we didn't cleared the 1st order grad"
   ]
  },
  {
   "cell_type": "code",
   "execution_count": 5,
   "metadata": {},
   "outputs": [
    {
     "name": "stdout",
     "output_type": "stream",
     "text": [
      "Variable(44.0)\n"
     ]
    }
   ],
   "source": [
    "gx = x.grad\n",
    "\n",
    "# We need to clear the 1st order gradient!\n",
    "x.cleargrad()\n",
    "\n",
    "gx.backward()\n",
    "print(x.grad)"
   ]
  },
  {
   "cell_type": "markdown",
   "metadata": {},
   "source": [
    "## Newton Method manually!\n",
    "### $x\\leftarrow x-\\frac{f'(x)}{f''(x)}$\n",
    "\n",
    "Compared to $x\\leftarrow x-\\alpha f'(x)$ normally $\\alpha$ is chosen manually by human but at here $\\alpha$ is chosen as $\\alpha = \\frac{1}{f''(x)}$"
   ]
  },
  {
   "cell_type": "code",
   "execution_count": 8,
   "metadata": {},
   "outputs": [
    {
     "name": "stdout",
     "output_type": "stream",
     "text": [
      "0 Variable(2.0)\n",
      "1 Variable(1.4545454545454546)\n",
      "2 Variable(1.1510467893775467)\n",
      "3 Variable(1.0253259289766978)\n",
      "4 Variable(1.0009084519430513)\n",
      "5 Variable(1.0000012353089454)\n",
      "6 Variable(1.000000000002289)\n",
      "7 Variable(1.0)\n",
      "8 Variable(1.0)\n",
      "9 Variable(1.0)\n"
     ]
    }
   ],
   "source": [
    "def f(x):\n",
    "    y = x**4 - 2*x**2\n",
    "    return y\n",
    "\n",
    "def gx2(x):\n",
    "    return 12*x**2 - 4\n",
    "\n",
    "x = Variable(np.array(2.0))\n",
    "iters = 10\n",
    "\n",
    "xs = []\n",
    "ys = []\n",
    "\n",
    "\n",
    "for i in range(iters):\n",
    "    print(i, x)\n",
    "    \n",
    "    y = f(x)\n",
    "    xs.append(x.data)\n",
    "    ys.append(y.data)    \n",
    "    \n",
    "    x.cleargrad()\n",
    "    y.backward()\n",
    "    \n",
    "    x.data = (x.data - x.grad / gx2(x.data)).data"
   ]
  },
  {
   "cell_type": "markdown",
   "metadata": {},
   "source": [
    "## Newton method automatically!\n",
    "### $x\\leftarrow x-\\frac{f'(x)}{f''(x)}$\n",
    "\n",
    "we can see its same as upper!"
   ]
  },
  {
   "cell_type": "code",
   "execution_count": 10,
   "metadata": {},
   "outputs": [
    {
     "name": "stdout",
     "output_type": "stream",
     "text": [
      "0 Variable(2.0)\n",
      "1 Variable(1.4545454545454546)\n",
      "2 Variable(1.1510467893775467)\n",
      "3 Variable(1.0253259289766978)\n",
      "4 Variable(1.0009084519430513)\n",
      "5 Variable(1.0000012353089454)\n",
      "6 Variable(1.000000000002289)\n",
      "7 Variable(1.0)\n",
      "8 Variable(1.0)\n",
      "9 Variable(1.0)\n"
     ]
    }
   ],
   "source": [
    "def f(x):\n",
    "    y = x**4 - 2*x**2\n",
    "    return y\n",
    "\n",
    "x = Variable(np.array(2.0))\n",
    "iters = 10\n",
    "\n",
    "xs = []\n",
    "ys = []\n",
    "\n",
    "\n",
    "for i in range(iters):\n",
    "    print(i, x)\n",
    "    \n",
    "    y = f(x)\n",
    "    xs.append(x.data)\n",
    "    ys.append(y.data)    \n",
    "    \n",
    "    # 1st\n",
    "    x.cleargrad()\n",
    "    y.backward(create_graph=True)\n",
    "    \n",
    "    # 2nd order differential\n",
    "    gx = x.grad\n",
    "    x.cleargrad()\n",
    "    gx.backward()\n",
    "    gx2 = x.grad\n",
    "    \n",
    "    x.data -= gx.data / gx2.data"
   ]
  }
 ],
 "metadata": {
  "kernelspec": {
   "display_name": "Python 3",
   "language": "python",
   "name": "python3"
  },
  "language_info": {
   "codemirror_mode": {
    "name": "ipython",
    "version": 3
   },
   "file_extension": ".py",
   "mimetype": "text/x-python",
   "name": "python",
   "nbconvert_exporter": "python",
   "pygments_lexer": "ipython3",
   "version": "3.7.7"
  }
 },
 "nbformat": 4,
 "nbformat_minor": 4
}
