{
 "cells": [
  {
   "cell_type": "markdown",
   "metadata": {},
   "source": [
    "# Function for `sum`"
   ]
  },
  {
   "cell_type": "code",
   "execution_count": 3,
   "metadata": {},
   "outputs": [
    {
     "name": "stdout",
     "output_type": "stream",
     "text": [
      "Variable(6.0)\n"
     ]
    }
   ],
   "source": [
    "import numpy as np\n",
    "from dezero import Function\n",
    "from dezero import Variable\n",
    "\n",
    "x1 = Variable(np.array(1.0))\n",
    "x2 = Variable(np.array(2.0))\n",
    "x3 = Variable(np.array(3.0))\n",
    "\n",
    "y = x1 + x2 + x3\n",
    "y.backward(retain_grad=True)\n",
    "\n",
    "print(y)"
   ]
  },
  {
   "cell_type": "code",
   "execution_count": 6,
   "metadata": {},
   "outputs": [
    {
     "data": {
      "image/png": "[encoded data removed]",
      "text/plain": [
       "<IPython.core.display.Image object>"
      ]
     },
     "execution_count": 6,
     "metadata": {},
     "output_type": "execute_result"
    }
   ],
   "source": [
    "from dezero.utils import plot_dot_graph\n",
    "\n",
    "x1.name = \"x1\"\n",
    "x2.name = \"x2\"\n",
    "x3.name = \"x3\"\n",
    "\n",
    "y.name = \"sum of x1, x2, x3\"\n",
    "\n",
    "plot_dot_graph(y, verbose=False, to_file='sum.png')"
   ]
  },
  {
   "cell_type": "code",
   "execution_count": 7,
   "metadata": {},
   "outputs": [
    {
     "name": "stdout",
     "output_type": "stream",
     "text": [
      "Variable(1.0) Variable(1.0) Variable(1.0)\n"
     ]
    }
   ],
   "source": [
    "print(x1.grad, x2.grad, x3.grad)"
   ]
  },
  {
   "cell_type": "markdown",
   "metadata": {},
   "source": [
    "### `sum` just pass the gradient to the elements directly"
   ]
  },
  {
   "cell_type": "markdown",
   "metadata": {},
   "source": [
    "## Implement `Sum` Function\n",
    "\n",
    "We have to implement broadcast function for this and we will implement later"
   ]
  },
  {
   "cell_type": "code",
   "execution_count": 9,
   "metadata": {},
   "outputs": [],
   "source": [
    "class Sum(Function):\n",
    "    def forward(self, x):\n",
    "        self.x_shape = x.shape\n",
    "        y = x.sum()\n",
    "        return y\n",
    "    \n",
    "    def backward(self, gy):\n",
    "        # currently broadcast_to is not implemented!\n",
    "        gx = broadcast_to(gy, self.x_shape)\n",
    "        return gx\n",
    "    \n",
    "def sum(x):\n",
    "    return Sum()(x)"
   ]
  },
  {
   "cell_type": "markdown",
   "metadata": {},
   "source": [
    "So we should make the following code work later :)<br>\n",
    "Right now it doesn't work!"
   ]
  },
  {
   "cell_type": "code",
   "execution_count": null,
   "metadata": {},
   "outputs": [],
   "source": [
    "import numpy as np\n",
    "from dezero import Variable\n",
    "import dezero.functions as F\n",
    "\n",
    "x = Variable(np.array([1, 2, 3, 4, 5, 6]))\n",
    "y = F.sum(x)\n",
    "y.backward()\n",
    "\n",
    "print(y)\n",
    "print(x.grad)"
   ]
  },
  {
   "cell_type": "markdown",
   "metadata": {},
   "source": [
    "And this sum function should works well even at 2-dim array"
   ]
  },
  {
   "cell_type": "code",
   "execution_count": null,
   "metadata": {},
   "outputs": [],
   "source": [
    "import numpy as np\n",
    "from dezero import Variable\n",
    "import dezero.functions as F\n",
    "\n",
    "x = Variable(np.array([[1, 2, 3],\n",
    "                       [4, 5, 6]]))\n",
    "y = F.sum(x)\n",
    "y.backward()\n",
    "\n",
    "print(y)\n",
    "print(x.grad)"
   ]
  },
  {
   "cell_type": "markdown",
   "metadata": {},
   "source": [
    "## `axis` & `keepdims`"
   ]
  },
  {
   "cell_type": "markdown",
   "metadata": {},
   "source": [
    "Sum functions should work more delicated!"
   ]
  },
  {
   "cell_type": "code",
   "execution_count": 11,
   "metadata": {},
   "outputs": [
    {
     "name": "stdout",
     "output_type": "stream",
     "text": [
      "[5 7 9]\n",
      "(2, 3)  ->  (3,)\n"
     ]
    }
   ],
   "source": [
    "import numpy as np\n",
    "\n",
    "x = np.array([[1, 2, 3],\n",
    "              [4, 5, 6]])\n",
    "y = np.sum(x, axis=0)\n",
    "\n",
    "print(y)\n",
    "print(x.shape, ' -> ', y.shape)"
   ]
  },
  {
   "cell_type": "markdown",
   "metadata": {},
   "source": [
    "Keep dims maintain the the dim"
   ]
  },
  {
   "cell_type": "code",
   "execution_count": 12,
   "metadata": {},
   "outputs": [
    {
     "name": "stdout",
     "output_type": "stream",
     "text": [
      "[[5 7 9]]\n",
      "(2, 3)  ->  (1, 3)\n"
     ]
    }
   ],
   "source": [
    "import numpy as np\n",
    "\n",
    "x = np.array([[1, 2, 3],\n",
    "              [4, 5, 6]])\n",
    "y = np.sum(x, axis=0, keepdims=True)\n",
    "\n",
    "print(y)\n",
    "print(x.shape, ' -> ', y.shape)"
   ]
  },
  {
   "cell_type": "code",
   "execution_count": 13,
   "metadata": {},
   "outputs": [
    {
     "name": "stdout",
     "output_type": "stream",
     "text": [
      "[[21]]\n",
      "(2, 3)  ->  (1, 1)\n"
     ]
    }
   ],
   "source": [
    "import numpy as np\n",
    "\n",
    "x = np.array([[1, 2, 3],\n",
    "              [4, 5, 6]])\n",
    "y = np.sum(x, axis=(0, 1), keepdims=True)\n",
    "\n",
    "print(y)\n",
    "print(x.shape, ' -> ', y.shape)"
   ]
  },
  {
   "cell_type": "markdown",
   "metadata": {},
   "source": [
    "## Modify `Sum` Function to use `axis` and `keepdims`\n"
   ]
  },
  {
   "cell_type": "markdown",
   "metadata": {},
   "source": [
    "We need following `reshape_sum_backward` function because numpy modify the shape\n",
    "of output different from shape of input after `sum`!\n",
    "\n",
    "**If we are using `keepdims` it doens't matter**\n",
    "\n",
    "```python\n",
    "def reshape_sum_backward(gy, x_shape, axis, keepdims):\n",
    "    \"\"\"Reshape gradient appropriately for dezero.functions.sum's backward.\n",
    "    \n",
    "    Args:\n",
    "        gy (dezero.Variable): Gradient variable from the output by backprop\n",
    "        x_shape (tuple): Shape used at sum function's forward.\n",
    "        axis (None or int or tuple of ints): Axis used at sum function's forward.\n",
    "        keepdims (bool): keepdims used at function's forward.\n",
    "        \n",
    "    Returns:\n",
    "        dezero.Variable: Gradient variable which is reshaped appropriately\n",
    "    \"\"\"\n",
    "    \n",
    "    ndim = len(x_shape)\n",
    "    tupled_axis = axis\n",
    "    \n",
    "    if axis is None:\n",
    "        tupled_axis = None\n",
    "    elif not isinstance(axis, tuple):\n",
    "        tupled_axis = (axis,)\n",
    "   \n",
    "    # If we keep dim this is not necessary\n",
    "    # But if we don't keep dim and sum with axis there is a problem\n",
    "    \n",
    "    -> if x shape is (2, 3, 4, 7, 5) and we sum with axis (1, 3)\n",
    "       the result will shown out with shape (2, 4, 5) without keepdim\n",
    "       for the backpropagation broadcast we should make this to (2, 1, 4, 1, 5)\n",
    "       \n",
    "    -> so when we we say axis (1, 3) is actual axis and gy.shape is (2, 4, 5)\n",
    "       we use actual axis as index to put 1 at gy.shape\n",
    "       \n",
    "       for a in sorted(actual_axis):\n",
    "           shape.insert(a, 1)\n",
    "           \n",
    "        make (2, 4, 5) to (2, 1, 4, 1, 5)\n",
    "        \n",
    "    if not (ndim == 0 or tupled_axis is None or keepdims):\n",
    "        # if ndim is 3 and axis is -1 then actual axis is 2\n",
    "        actual_axis = [a if a >= 0 else a + ndim for a in tupled_axis]\n",
    "        \n",
    "        shape = list(gy.shape)\n",
    "        for a in sorted(actual_axis):\n",
    "            shape.insert(a, 1)\n",
    "    else:\n",
    "        shape = gy.shape\n",
    "        \n",
    "    gy = gy.reshape(shape)\n",
    "    return gy\n",
    "```"
   ]
  },
  {
   "cell_type": "code",
   "execution_count": 14,
   "metadata": {},
   "outputs": [
    {
     "data": {
      "text/plain": [
       "[1, 2, 1, 3]"
      ]
     },
     "execution_count": 14,
     "metadata": {},
     "output_type": "execute_result"
    }
   ],
   "source": [
    "s = [1, 2, 3]\n",
    "s.insert(2, 1)\n",
    "s"
   ]
  },
  {
   "cell_type": "code",
   "execution_count": 9,
   "metadata": {},
   "outputs": [],
   "source": [
    "import dezero\n",
    "\n",
    "class Sum(Function):\n",
    "    def __init__(self, axis=None, keepdims=False):\n",
    "        self.axis = axis\n",
    "        self.keepdims = keepdims\n",
    "    \n",
    "    def forward(self, x):\n",
    "        self.x_shape = x.shape\n",
    "        y = x.sum(axis=self.axis, keepdims=self.keepdims)\n",
    "        return y\n",
    "    \n",
    "    def backward(self, gy):\n",
    "        gy = dezero.utils.reshape_sum_backward(gy, self.x_shape, self.axis, self.keepdims)\n",
    "        \n",
    "        # currently broadcast_to is not implemented!\n",
    "        gx = broadcast_to(gy, self.x_shape)\n",
    "        return gx\n",
    "    \n",
    "def sum(x, axis=None, keepdims=False):\n",
    "    return Sum(axis, keepdims)(x)"
   ]
  },
  {
   "cell_type": "markdown",
   "metadata": {},
   "source": [
    "We will make to use `sum` function at variable directly!\n",
    "\n",
    "```python\n",
    "class Variable:\n",
    "    ...\n",
    "    \n",
    "    def sum(self, axis=None, keepdims=False):\n",
    "        return dezero.functions.sum(self, axis, keepdims)\n",
    "\n",
    "```"
   ]
  },
  {
   "cell_type": "markdown",
   "metadata": {},
   "source": [
    "## `Broadcast` function\n",
    "\n",
    "Now it's time to implement `broadcast` :)!\n",
    "\n",
    "- broadcast_to\n",
    "- sum_to"
   ]
  },
  {
   "cell_type": "markdown",
   "metadata": {},
   "source": [
    "### broadcast_to\n",
    "\n",
    "Copy the value at x and make it to the defined shape!"
   ]
  },
  {
   "cell_type": "code",
   "execution_count": 15,
   "metadata": {},
   "outputs": [
    {
     "name": "stdout",
     "output_type": "stream",
     "text": [
      "[[1 2 3]\n",
      " [1 2 3]]\n"
     ]
    }
   ],
   "source": [
    "import numpy as np\n",
    "\n",
    "x = np.array([1, 2, 3])\n",
    "y = np.broadcast_to(x, (2, 3))\n",
    "print(y)"
   ]
  },
  {
   "cell_type": "markdown",
   "metadata": {},
   "source": [
    "**What will happen at backprop when we copy the values?**\n",
    "\n",
    "-> `x + x = y` in this case we will give x twice the gradient!<br>\n",
    "-> When we copy the value of x `n times` then gradient will flow to x `n times`\n",
    "\n",
    "### We need `sum_to` function also to implement `broadcast_to` due to back propgation!"
   ]
  },
  {
   "cell_type": "code",
   "execution_count": 17,
   "metadata": {},
   "outputs": [],
   "source": [
    "class BroadcastTo(Function):\n",
    "    def __init__(self, shape):\n",
    "        self.shape = shape\n",
    "        \n",
    "    def forward(self, x):\n",
    "        self.x_shape = x.shape\n",
    "        y = np.broadcast_to(x, self.shape)\n",
    "        return y\n",
    "    \n",
    "    def backward(self, gy):\n",
    "        gx = sum_to(gy, self.x_shape)\n",
    "        return gx\n",
    "\n",
    "def broadcast_to(x, shape):\n",
    "    if x.shape == shape:\n",
    "        return as_variable(x)\n",
    "    return BroadcastTo(shape)(x)"
   ]
  },
  {
   "cell_type": "markdown",
   "metadata": {},
   "source": [
    "```python\n",
    "def sum_to(x, shape):\n",
    "    \"\"\"Sum elements along axes to output an array of a given shape.\n",
    "    \n",
    "    Args:\n",
    "        x (ndarray): Input array.\n",
    "        shape: shape for the output array\n",
    "        \n",
    "    Returns:\n",
    "        ndarray: Output array of the shape\n",
    "    \"\"\"\n",
    "    ndim = len(shape)\n",
    "    lead = x.ndim - ndim\n",
    "    lead_axis = tuple(range(lead))\n",
    "    \n",
    "    ### what is going on here :)?\n",
    "    -> if x shape is (1, 1, 5, 2, 7) and shape is (5, 2, 1)\n",
    "        ndim = 3\n",
    "        lead = 2\n",
    "        lead_axis = (0, 1)\n",
    "\n",
    "        axis = (4,)\n",
    "        lead_axis + axis = (0, 1, 4)\n",
    "        y = x.sum((0, 1, 4), keepdims=True)\n",
    "\n",
    "        so the y shape is (5, 2, 1)\n",
    "    \n",
    "    axis = tuple([i + lead for i, sx in enumerate(shape) if sx == 1])\n",
    "    y = x.sum(lead_axis + axis, keepdims=True)\n",
    "    if lead > 0:\n",
    "        y = y.squeeze(lead_axis)\n",
    "    return y    \n",
    "```"
   ]
  },
  {
   "cell_type": "markdown",
   "metadata": {},
   "source": [
    "what is the value of `lead_axis + axis`?"
   ]
  },
  {
   "cell_type": "code",
   "execution_count": 28,
   "metadata": {},
   "outputs": [
    {
     "data": {
      "text/plain": [
       "(0, 1, 2)"
      ]
     },
     "execution_count": 28,
     "metadata": {},
     "output_type": "execute_result"
    }
   ],
   "source": [
    "tuple(range(3))"
   ]
  },
  {
   "cell_type": "code",
   "execution_count": 6,
   "metadata": {},
   "outputs": [
    {
     "data": {
      "text/plain": [
       "(0, 1, 2)"
      ]
     },
     "execution_count": 6,
     "metadata": {},
     "output_type": "execute_result"
    }
   ],
   "source": [
    "(0, 1, 2) + tuple([i + 3 for i, sx in enumerate((3, 5)) if sx == 1])"
   ]
  },
  {
   "cell_type": "code",
   "execution_count": 10,
   "metadata": {},
   "outputs": [
    {
     "data": {
      "text/plain": [
       "(0, 1, 4)"
      ]
     },
     "execution_count": 10,
     "metadata": {},
     "output_type": "execute_result"
    }
   ],
   "source": [
    "(0, 1) + tuple([i + 2 for i, sx in enumerate((3, 5, 1)) if sx == 1])"
   ]
  },
  {
   "cell_type": "code",
   "execution_count": 1,
   "metadata": {},
   "outputs": [
    {
     "name": "stdout",
     "output_type": "stream",
     "text": [
      "[[5 7 9]]\n",
      "[[ 6]\n",
      " [15]]\n"
     ]
    }
   ],
   "source": [
    "import numpy as np\n",
    "from dezero.utils import sum_to\n",
    "\n",
    "x = np.array([[1, 2, 3],\n",
    "              [4, 5, 6]])\n",
    "y = sum_to(x, (1, 3))\n",
    "print(y)\n",
    "\n",
    "y = sum_to(x, (2, 1))\n",
    "print(y)"
   ]
  },
  {
   "cell_type": "markdown",
   "metadata": {},
   "source": [
    "The `lead axis` seems to indicte the following!"
   ]
  },
  {
   "cell_type": "code",
   "execution_count": 4,
   "metadata": {},
   "outputs": [
    {
     "name": "stdout",
     "output_type": "stream",
     "text": [
      "[[5 7 9]]\n",
      "[[ 6]\n",
      " [15]]\n"
     ]
    }
   ],
   "source": [
    "x = np.array([[[[[[[[[1, 2, 3],\n",
    "                     [4, 5, 6]]]]]]]]])\n",
    "y = sum_to(x, (1, 3))\n",
    "print(y)\n",
    "\n",
    "y = sum_to(x, (2, 1))\n",
    "print(y)"
   ]
  },
  {
   "cell_type": "markdown",
   "metadata": {},
   "source": [
    "`sum_to` function usage is quite tricky.\n",
    "\n",
    "- leading could only followed by case of [[[1, 2, 3]]] so `[1, 2, 3] the data` and `[[]] is leading`\n",
    "- to sum we should indicate where to sum directly!\n",
    "    - when there is (2, 3, 5)\n",
    "    - we should input shape as (2, 3, 1) to sum the last axis which have shape 5!"
   ]
  },
  {
   "cell_type": "code",
   "execution_count": 1,
   "metadata": {},
   "outputs": [],
   "source": [
    "import numpy as np\n",
    "\n",
    "import dezero\n",
    "from dezero import Variable\n",
    "from dezero import Function\n",
    "import dezero.functions as F\n",
    "\n",
    "class SumTo(Function):\n",
    "    def __init__(self, shape):\n",
    "        self.shape = shape\n",
    "        \n",
    "    def forward(self, x):\n",
    "        self.x_shape = x.shape\n",
    "        y = dezero.utils.sum_to(x, self.shape)\n",
    "        return y\n",
    "    \n",
    "    def backward(self, gy):\n",
    "        gx = broadcast_to(gy, self.x_shape)\n",
    "        return gx\n",
    "    \n",
    "def sum_to(x, shape):\n",
    "    if x.shape == shape:\n",
    "        return as_variable(x)\n",
    "    return SumTo(shape)(x)"
   ]
  },
  {
   "cell_type": "markdown",
   "metadata": {},
   "source": [
    "### `braodcast_to` and `sum_to` functions are interdependent"
   ]
  },
  {
   "cell_type": "markdown",
   "metadata": {},
   "source": [
    "## Broadcast of different shapes"
   ]
  },
  {
   "cell_type": "code",
   "execution_count": 14,
   "metadata": {},
   "outputs": [
    {
     "name": "stdout",
     "output_type": "stream",
     "text": [
      "[11 12 13]\n"
     ]
    }
   ],
   "source": [
    "x0 = np.array([1, 2, 3])\n",
    "x1 = np.array([10])\n",
    "\n",
    "y = x0 + x1\n",
    "print(y)"
   ]
  },
  {
   "cell_type": "markdown",
   "metadata": {},
   "source": [
    "```python\n",
    "class Add(Function):\n",
    "    def forward(self, x0, x1):\n",
    "        y = x0 + x1\n",
    "        return y\n",
    "\n",
    "    def backward(self, gy):\n",
    "        return gy, gy\n",
    "```\n",
    "\n",
    "Our `Add` Function is not ready for broadcast!\n",
    "\n",
    "\n",
    "```python\n",
    "class Add(Function):\n",
    "    def forward(self, x0, x1):\n",
    "        self.x0_shape, self.x1_shape = x0.shape, x1.shape\n",
    "        y = x0 + x1\n",
    "        return y\n",
    "\n",
    "    def backward(self, gy):\n",
    "        gx0, gx1 = gy, gy\n",
    "        if self.x0_shape != self.x1_shape:\n",
    "            gx0 = dezero.functions.sum_to(gx0, self.x0_shape)\n",
    "            gx1 = dezero.functions.sum_to(gx1, self.x1_shape)\n",
    "        return gx0, gx1\n",
    "```"
   ]
  },
  {
   "cell_type": "code",
   "execution_count": 1,
   "metadata": {},
   "outputs": [
    {
     "name": "stdout",
     "output_type": "stream",
     "text": [
      "Variable([11 12 13])\n",
      "Variable([1 1 1])\n",
      "Variable([3])\n"
     ]
    }
   ],
   "source": [
    "import numpy as np\n",
    "from dezero import Variable\n",
    "\n",
    "x0 = Variable(np.array([1, 2, 3]))\n",
    "x1 = Variable(np.array([10]))\n",
    "y = x0 + x1\n",
    "\n",
    "print(y)\n",
    "\n",
    "y.backward()\n",
    "print(x0.grad)\n",
    "print(x1.grad)"
   ]
  },
  {
   "cell_type": "markdown",
   "metadata": {},
   "source": [
    "### We have to apply this to `Mul`, `Sub`, and `Div` also!\n",
    "\n",
    "Same as `Add` function"
   ]
  },
  {
   "cell_type": "markdown",
   "metadata": {},
   "source": [
    "```python\n",
    "class Sub(Function):\n",
    "    def forward(self, x0, x1):\n",
    "        self.x0_shape, self.x1_shape = x0.shape, x1.shape\n",
    "        return x0 - x1\n",
    "\n",
    "    def backward(self, gy):\n",
    "        gx0, gx1 = gy, -gy\n",
    "\n",
    "        if self.x0_shape != self.x1_shape:\n",
    "            gx0 = dezero.functions.sum_to(gx0, self.x0_shape)\n",
    "            gx1 = dezero.functions.sum_to(gx1, self.x1_shape)\n",
    "        return gx0, gx1\n",
    "\n",
    "class Mul(Function):\n",
    "    def forward(self, x0, x1):\n",
    "        self.x0_shape, self.x1_shape = x0.shape, x1.shape\n",
    "        y = x0 * x1\n",
    "        return y\n",
    "\n",
    "    def backward(self, gy):\n",
    "        x0, x1 = self.inputs\n",
    "        gx0 = gy * x1\n",
    "        gx1 = gy * x0\n",
    "\n",
    "        if self.x0_shape != self.x1_shape:\n",
    "            gx0 = dezero.functions.sum_to(gx0, self.x0_shape)\n",
    "            gx1 = dezero.functions.sum_to(gx1, self.x1_shape)\n",
    "        return gx0, gx1\n",
    "\n",
    "class Div(Function):\n",
    "    def forward(self, x0, x1):\n",
    "        self.x0_shape, self.x1_shape = x0.shape, x1.shape\n",
    "        y = x0 / x1\n",
    "        return y\n",
    "\n",
    "    def backward(self, gy):\n",
    "        x0, x1 = self.inputs\n",
    "        gx0 = gy / x1\n",
    "        gx1 = gy * (-x0 / x1**2)\n",
    "\n",
    "        if self.x0_shape != self.x1_shape:\n",
    "            gx0 = dezero.functions.sum_to(gx0, self.x0_shape)\n",
    "            gx1 = dezero.functions.sum_to(gx1, self.x1_shape)\n",
    "        return gx0, gx1\n",
    "    \n",
    "```"
   ]
  },
  {
   "cell_type": "code",
   "execution_count": 2,
   "metadata": {},
   "outputs": [
    {
     "name": "stdout",
     "output_type": "stream",
     "text": [
      "Variable([-9 -8 -7])\n",
      "Variable([1 1 1])\n",
      "Variable([-3])\n"
     ]
    }
   ],
   "source": [
    "x0 = Variable(np.array([1, 2, 3]))\n",
    "x1 = Variable(np.array([10]))\n",
    "y = x0 - x1\n",
    "\n",
    "print(y)\n",
    "\n",
    "y.backward()\n",
    "print(x0.grad)\n",
    "print(x1.grad)"
   ]
  },
  {
   "cell_type": "code",
   "execution_count": 5,
   "metadata": {},
   "outputs": [
    {
     "name": "stdout",
     "output_type": "stream",
     "text": [
      "Variable([9 8 7])\n",
      "Variable([-1 -1 -1])\n",
      "Variable([3])\n"
     ]
    }
   ],
   "source": [
    "x0 = Variable(np.array([1, 2, 3]))\n",
    "x1 = Variable(np.array([10]))\n",
    "y = x1 - x0\n",
    "\n",
    "print(y)\n",
    "\n",
    "y.backward()\n",
    "print(x0.grad)\n",
    "print(x1.grad)"
   ]
  },
  {
   "cell_type": "code",
   "execution_count": 3,
   "metadata": {},
   "outputs": [
    {
     "name": "stdout",
     "output_type": "stream",
     "text": [
      "Variable([10 20 30])\n",
      "Variable([10 10 10])\n",
      "Variable([6])\n"
     ]
    }
   ],
   "source": [
    "x0 = Variable(np.array([1, 2, 3]))\n",
    "x1 = Variable(np.array([10]))\n",
    "y = x0 * x1\n",
    "\n",
    "print(y)\n",
    "\n",
    "y.backward()\n",
    "print(x0.grad)\n",
    "print(x1.grad)"
   ]
  },
  {
   "cell_type": "code",
   "execution_count": 4,
   "metadata": {},
   "outputs": [
    {
     "name": "stdout",
     "output_type": "stream",
     "text": [
      "Variable([0.1 0.2 0.3])\n",
      "Variable([0.1 0.1 0.1])\n",
      "Variable([-0.06])\n"
     ]
    }
   ],
   "source": [
    "x0 = Variable(np.array([1, 2, 3]))\n",
    "x1 = Variable(np.array([10]))\n",
    "y = x0 / x1\n",
    "\n",
    "print(y)\n",
    "\n",
    "y.backward()\n",
    "print(x0.grad)\n",
    "print(x1.grad)"
   ]
  },
  {
   "cell_type": "markdown",
   "metadata": {},
   "source": [
    "## Test of `Sum` Function!"
   ]
  },
  {
   "cell_type": "code",
   "execution_count": 3,
   "metadata": {},
   "outputs": [
    {
     "name": "stdout",
     "output_type": "stream",
     "text": [
      "Variable(21)\n",
      "Variable([1 1 1 1 1 1])\n"
     ]
    }
   ],
   "source": [
    "import numpy as np\n",
    "from dezero import Variable\n",
    "import dezero.functions as F\n",
    "\n",
    "x = Variable(np.array([1, 2, 3, 4, 5, 6]))\n",
    "y = F.sum(x)\n",
    "y.backward()\n",
    "\n",
    "print(y)\n",
    "print(x.grad)"
   ]
  },
  {
   "cell_type": "code",
   "execution_count": 4,
   "metadata": {},
   "outputs": [
    {
     "name": "stdout",
     "output_type": "stream",
     "text": [
      "Variable(21)\n",
      "Variable([[1 1 1]\n",
      "          [1 1 1]])\n"
     ]
    }
   ],
   "source": [
    "import numpy as np\n",
    "from dezero import Variable\n",
    "import dezero.functions as F\n",
    "\n",
    "x = Variable(np.array([[1, 2, 3],\n",
    "                       [4, 5, 6]]))\n",
    "y = F.sum(x)\n",
    "y.backward()\n",
    "\n",
    "print(y)\n",
    "print(x.grad)"
   ]
  },
  {
   "cell_type": "code",
   "execution_count": 2,
   "metadata": {},
   "outputs": [
    {
     "name": "stdout",
     "output_type": "stream",
     "text": [
      "Variable([5 7 9])\n",
      "Variable([[1 1 1]\n",
      "          [1 1 1]])\n",
      "(1, 1, 1, 1)\n"
     ]
    }
   ],
   "source": [
    "x = Variable(np.array([[1, 2, 3],\n",
    "                       [4, 5, 6]]))\n",
    "y = F.sum(x, axis=0)\n",
    "y.backward()\n",
    "\n",
    "print(y)\n",
    "print(x.grad)\n",
    "\n",
    "x = Variable(np.random.randn(2, 3, 4, 5))\n",
    "y = x.sum(keepdims=True)\n",
    "print(y.shape)"
   ]
  }
 ],
 "metadata": {
  "kernelspec": {
   "display_name": "Python 3",
   "language": "python",
   "name": "python3"
  },
  "language_info": {
   "codemirror_mode": {
    "name": "ipython",
    "version": 3
   },
   "file_extension": ".py",
   "mimetype": "text/x-python",
   "name": "python",
   "nbconvert_exporter": "python",
   "pygments_lexer": "ipython3",
   "version": "3.7.7"
  }
 },
 "nbformat": 4,
 "nbformat_minor": 4
}
