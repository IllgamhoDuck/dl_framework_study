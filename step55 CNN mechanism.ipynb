{
 "cells": [
  {
   "cell_type": "markdown",
   "metadata": {},
   "source": [
    "# Structure of CNN\n",
    "\n",
    "- Convolution Layer\n",
    "    - padding\n",
    "    - stride\n",
    "- Pooling Layer"
   ]
  },
  {
   "cell_type": "markdown",
   "metadata": {},
   "source": [
    "## `Convolution Layer`"
   ]
  },
  {
   "cell_type": "markdown",
   "metadata": {},
   "source": [
    "### Caculating the output"
   ]
  },
  {
   "cell_type": "code",
   "execution_count": 1,
   "metadata": {},
   "outputs": [],
   "source": [
    "def get_conv_outsize(input_size, kernel_size, stride, pad):\n",
    "    return (input_size + pad*2 - kernel_size) // stride + 1"
   ]
  },
  {
   "cell_type": "code",
   "execution_count": 2,
   "metadata": {},
   "outputs": [
    {
     "name": "stdout",
     "output_type": "stream",
     "text": [
      "4 4\n"
     ]
    }
   ],
   "source": [
    "H, W = 4, 4 # input\n",
    "KH, KW = 3, 3 # kernel\n",
    "SH, SW = 1, 1 # stride\n",
    "PH, PW = 1, 1 # padding\n",
    "\n",
    "OH = get_conv_outsize(H, KH, SH, PH)\n",
    "OW = get_conv_outsize(W, KW, SW, PW)\n",
    "\n",
    "print(OH, OW)"
   ]
  },
  {
   "cell_type": "markdown",
   "metadata": {},
   "source": [
    "### 3D Tensor calculation\n",
    "\n",
    "> Even we calculate 3D Tensor if we use 3D Kernel it's still **2D Convolution**!\n",
    "\n",
    "- `3D Tensor block` - $Channel \\times H \\times W$\n",
    "- `Kernel block` - $Channel \\times KH \\times KW$\n",
    "\n",
    "$(C \\times H \\times W) \\otimes (C \\times KH \\times KW) \\rightarrow  (1 \\times OH \\times OW)$\n",
    "\n",
    "---\n",
    "When we want to make more channels at output we have to increase `Kernel number`\n",
    "\n",
    "- `3D Tensor block` - $Channel \\times H \\times W$\n",
    "- `Kernel block` - $OC \\times Channel \\times KH \\times KW$\n",
    "\n",
    "$(C \\times H \\times W) \\otimes (OC \\times C \\times KH \\times KW) \\rightarrow (OC \\times OH \\times OW)$"
   ]
  },
  {
   "cell_type": "markdown",
   "metadata": {},
   "source": [
    "#### Kernel filter shape - `(output channel, input_channel, height, width)`"
   ]
  },
  {
   "cell_type": "markdown",
   "metadata": {},
   "source": [
    "### Bias of Convolution"
   ]
  },
  {
   "cell_type": "markdown",
   "metadata": {},
   "source": [
    "- `3D Tensor block` - $C \\times H \\times W$\n",
    "- `Kernel block` - $OC \\times C \\times KH \\times KW$\n",
    "- `Bias` - $OC \\times 1 \\times 1$\n",
    "\n",
    "---\n",
    "\n",
    "- $(C \\times H \\times W) \\otimes (OC \\times C \\times KH \\times KW) \\rightarrow (OC \\times OH \\times OW)$\n",
    "- `Bias` - $(OC \\times OH \\times OW) + (OC \\times 1 \\times 1) \\rightarrow (OC \\times OH \\times OW)$ "
   ]
  },
  {
   "cell_type": "markdown",
   "metadata": {},
   "source": [
    "### Mini-batch of Convolution"
   ]
  },
  {
   "cell_type": "markdown",
   "metadata": {},
   "source": [
    "- `3D Tensor block` - $N(Batch size) \\times C \\times H \\times W$\n",
    "- `Kernel block` - $OC \\times C \\times KH \\times KW$\n",
    "- `Bias` - $OC \\times 1 \\times 1$\n",
    "\n",
    "---\n",
    "\n",
    "- $(N \\times C \\times H \\times W) \\otimes (OC \\times C \\times KH \\times KW) \\rightarrow (N \\times OC \\times OH \\times OW)$\n",
    "- `Bias` - $(N \\times OC \\times OH \\times OW) + (OC \\times 1 \\times 1) \\rightarrow (N \\times OC \\times OH \\times OW)$ "
   ]
  },
  {
   "cell_type": "markdown",
   "metadata": {},
   "source": [
    "## `Pooling Layer`\n",
    "- Max Pooling\n",
    "- Average Pooling\n",
    "- etc\n",
    "\n",
    "---\n",
    "\n",
    "1. No need of `Parameter`\n",
    "    - Because we just need to calculate **Max** or **Average** from inputs\n",
    "2. `Channel` number doesn't change\n",
    "    - The calculation of pooling held to each channel independently\n",
    "3. `Robust` to small changes\n",
    "    - If the input data changes are not small pooling result doesn't change at all.\n",
    "    - So we say pooling layer is robust to small changes"
   ]
  },
  {
   "cell_type": "code",
   "execution_count": 7,
   "metadata": {},
   "outputs": [
    {
     "data": {
      "text/plain": [
       "(array([[1, 2, 3, 4],\n",
       "        [5, 6, 0, 1]]),\n",
       " array([[2, 1, 3, 4],\n",
       "        [6, 5, 2, 1]]))"
      ]
     },
     "execution_count": 7,
     "metadata": {},
     "output_type": "execute_result"
    }
   ],
   "source": [
    "###### import numpy as np\n",
    "\n",
    "original = np.array([[1, 2, 3, 4],\n",
    "                     [5, 6, 0, 1]])\n",
    "small_change = np.array([[2, 1, 3, 4],\n",
    "                         [6, 5, 2, 1]])\n",
    "original, small_change"
   ]
  },
  {
   "cell_type": "markdown",
   "metadata": {},
   "source": [
    "**We can see that 2 tensor has difference!**"
   ]
  },
  {
   "cell_type": "code",
   "execution_count": 10,
   "metadata": {},
   "outputs": [
    {
     "data": {
      "text/plain": [
       "array([[-1,  1,  0,  0],\n",
       "       [-1,  1, -2,  0]])"
      ]
     },
     "execution_count": 10,
     "metadata": {},
     "output_type": "execute_result"
    }
   ],
   "source": [
    "original - small_change"
   ]
  },
  {
   "cell_type": "markdown",
   "metadata": {},
   "source": [
    "**But Max pooling gives the same result! We say this is `robust`**"
   ]
  },
  {
   "cell_type": "code",
   "execution_count": 8,
   "metadata": {},
   "outputs": [
    {
     "data": {
      "text/plain": [
       "(6, 4)"
      ]
     },
     "execution_count": 8,
     "metadata": {},
     "output_type": "execute_result"
    }
   ],
   "source": [
    "np.max(original[:, :2]), np.max(original[:, 2:])"
   ]
  },
  {
   "cell_type": "code",
   "execution_count": 9,
   "metadata": {},
   "outputs": [
    {
     "data": {
      "text/plain": [
       "(6, 4)"
      ]
     },
     "execution_count": 9,
     "metadata": {},
     "output_type": "execute_result"
    }
   ],
   "source": [
    "np.max(small_change[:, :2]), np.max(small_change[:, 2:])"
   ]
  }
 ],
 "metadata": {
  "kernelspec": {
   "display_name": "Python 3",
   "language": "python",
   "name": "python3"
  },
  "language_info": {
   "codemirror_mode": {
    "name": "ipython",
    "version": 3
   },
   "file_extension": ".py",
   "mimetype": "text/x-python",
   "name": "python",
   "nbconvert_exporter": "python",
   "pygments_lexer": "ipython3",
   "version": "3.7.7"
  }
 },
 "nbformat": 4,
 "nbformat_minor": 4
}
